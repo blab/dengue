{
 "cells": [
  {
   "cell_type": "code",
   "execution_count": 1,
   "metadata": {
    "collapsed": true
   },
   "outputs": [],
   "source": [
    "import pandas as pd\n",
    "import numpy as np\n",
    "from Bio.Phylo.TreeConstruction import DistanceCalculator\n",
    "from Bio import AlignIO\n",
    "from matplotlib import pyplot as plt\n",
    "import seaborn as sns\n",
    "%matplotlib inline\n",
    "from pprint import pprint\n",
    "from collections import defaultdict\n",
    "from itertools import product\n"
   ]
  },
  {
   "cell_type": "code",
   "execution_count": 9,
   "metadata": {
    "collapsed": true
   },
   "outputs": [],
   "source": [
    "titerfile = open('/Users/Sidney/nextstrain/fauna/data/dengue_titers.tsv', 'r')\n",
    "alignmentfile = open('./smith_E_prot_aln.fasta', 'r')"
   ]
  },
  {
   "cell_type": "code",
   "execution_count": 10,
   "metadata": {
    "collapsed": false
   },
   "outputs": [
    {
     "name": "stdout",
     "output_type": "stream",
     "text": [
      "                        virus                             serumID  titer\n",
      "0  DENV1/BOLIVIA/FSB3363/2010     DENV1/VIETNAM/BIDV1937/2008|agm     29\n",
      "1  DENV1/BOLIVIA/FSB3363/2010  DENV1/PUERTO_RICO/BIDV852/2006|agm     35\n",
      "2  DENV1/BOLIVIA/FSB3363/2010         DENV1/PERU/IQT6152/2000|agm     10\n",
      "3  DENV1/BOLIVIA/FSB3363/2010    DENV1/CAMBODIA/BIDV1991/2003|agm     13\n",
      "4  DENV1/BOLIVIA/FSB3363/2010        DENV1/MYANMAR/61117/2005|agm     47\n"
     ]
    }
   ],
   "source": [
    "## Read in, parse titer datafile (augur format tsv)\n",
    "titers = pd.read_csv(titerfile, sep='\\t', header=None,\n",
    "                    names=['virus', 'serum', 'serumID', 'src', 'titer'])\n",
    "titers = titers.where((pd.notnull(titers)), None) # Replace NaN with None to avoid unexpected behavior\n",
    "titers['serumID'].replace('DENV.*', 'agm', regex=True, inplace=True) # All the values with the strain name as serum ID are from AGMs\n",
    "titers['serumID'] = titers['serum']+'|'+titers['serumID'] # SerumStrain|patientID or SerumStrain|agm (1 monkey per strain used)\n",
    "titers.drop('serum', axis=1, inplace=True) # Cleanup\n",
    "titers.drop('src', axis=1, inplace=True)\n",
    "\n",
    "print titers.head()\n",
    "\n",
    "# titers = titers.to_dict(orient='records') #[{'serumID': 'DENV1/VIETNAM/BIDV1937/2008_agm', 'virus': 'DENV1/BOLIVIA/FSB3363/2010', 'titer': 29}, ...]"
   ]
  },
  {
   "cell_type": "code",
   "execution_count": 11,
   "metadata": {
    "collapsed": true
   },
   "outputs": [],
   "source": [
    "## Read in protein alignment, calculate divergence values, set order of strains.\n",
    "prot_aln = AlignIO.read(alignmentfile, 'fasta') # Read in protein alignment\n",
    "divergence = DistanceCalculator('blosum62').get_distance(prot_aln) # Blosum62 scoring\n",
    "order = [s.split('|')[0] for s in divergence.names] # Truncate to strain names\n",
    "divergence = pd.DataFrame(divergence.matrix, columns=order, index=order)\n"
   ]
  },
  {
   "cell_type": "code",
   "execution_count": null,
   "metadata": {
    "collapsed": true
   },
   "outputs": [],
   "source": [
    "def normalize(titers_df):\n",
    "    #[{'serumID': 'DENV1/VIETNAM/BIDV1937/2008_agm', 'virus': 'DENV1/BOLIVIA/FSB3363/2010', 'titer': 29}, ...]    \n",
    "    \n",
    "    def normalize_autologous(series):\n",
    "        ''' Normalize to autologous titers; return np.nan for columns missing autologous titers.'''\n",
    "        strain = series.name.split('|')[0]\n",
    "        if np.isnan(series[strain]):\n",
    "            return series.map(lambda x: np.nan) # set the whole column to NaN if we're missing the autologous titer; drop it later.\n",
    "        else:\n",
    "            autologous = series[strain]\n",
    "            return series.map(lambda x: autologous - x)\n",
    "\n",
    "    def autologousnorm(row):\n",
    "        serumID, titer = row['serumID'], row['titer']\n",
    "        try:\n",
    "            autologous = \n",
    "            raw_titers = raw_titers.where((pd.notnull(raw_titers)), None) # Replace NaN with None to avoid unexpected behavior\n",
    "\n",
    "        \n",
    "        \n",
    "    def maxnorm(row):\n",
    "        serumID, titer = row['serumID'], row['titer']\n",
    "        maxvalue = max([ vals['titer'] for i, vals  in df.iterrows() if vals['serumID']==serumID] )\n",
    "        return np.log2(maxvalue) - np.log2(titer)\n",
    "        \n",
    "    "
   ]
  }
 ],
 "metadata": {
  "kernelspec": {
   "display_name": "Python 2",
   "language": "python",
   "name": "python2"
  },
  "language_info": {
   "codemirror_mode": {
    "name": "ipython",
    "version": 2
   },
   "file_extension": ".py",
   "mimetype": "text/x-python",
   "name": "python",
   "nbconvert_exporter": "python",
   "pygments_lexer": "ipython2",
   "version": "2.7.10"
  }
 },
 "nbformat": 4,
 "nbformat_minor": 0
}
