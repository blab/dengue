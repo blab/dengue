{
 "cells": [
  {
   "cell_type": "code",
   "execution_count": 1,
   "metadata": {},
   "outputs": [],
   "source": [
    "import pandas as pd\n",
    "import numpy as np\n",
    "from scipy.stats import linregress\n",
    "import matplotlib.pyplot as plt\n",
    "import matplotlib.gridspec as gridspec\n",
    "import seaborn as sns\n",
    "%matplotlib inline\n",
    "import pickle\n",
    "import baltic as bt\n",
    "import json"
   ]
  },
  {
   "cell_type": "code",
   "execution_count": 2,
   "metadata": {},
   "outputs": [],
   "source": [
    "tree_file = '../titer_model/shared_output/dengue_all_tree.json'\n",
    "allEffects_err_file = '../titer_model/full_tree_model_output/predicted_titers.csv'\n",
    "allEffects_performance_file = '../titer_model/full_tree_model_output/titer_model_performance.csv'\n",
    "interseroEffects_err_file = '../titer_model/interserotype_model_output/predicted_titers.csv'\n",
    "interserotypeEffects_performance_file = '../titer_model/interserotype_model_output/titer_model_performance.csv'"
   ]
  },
  {
   "cell_type": "code",
   "execution_count": 3,
   "metadata": {},
   "outputs": [],
   "source": [
    "colors = pickle.load(open('./colors.p', 'rb'))"
   ]
  },
  {
   "cell_type": "code",
   "execution_count": 4,
   "metadata": {},
   "outputs": [],
   "source": [
    "# allEffects_err = pd.read_csv(allEffects_err_file, index_col=None)\n",
    "# interseroEffects_err = pd.read_csv(interseroEffects_err_file, index_col=None)\n",
    "\n",
    "allEffects_perf = pd.read_csv(allEffects_performance_file, index_col=None)\n",
    "interserotypeEffects_perf = pd.read_csv(interserotypeEffects_performance_file, index_col=None)"
   ]
  },
  {
   "cell_type": "code",
   "execution_count": 5,
   "metadata": {},
   "outputs": [],
   "source": [
    "allEffects_perf['model'] = 'full tree'\n",
    "interserotypeEffects_perf['model'] = 'interserotype'\n",
    "\n",
    "performance = pd.concat([allEffects_perf, interserotypeEffects_perf])\n",
    "performance.rename(columns={\"r_squared\": r'Pearson $R^2$', 'rms_error': 'Root mean\\nsquared error'}, inplace=True)\n",
    "performance = performance.melt(id_vars=['model'], value_vars=[r'Pearson $R^2$', 'Root mean\\nsquared error'], \n",
    "                          value_name='value', var_name='metric')"
   ]
  },
  {
   "cell_type": "code",
   "execution_count": 6,
   "metadata": {},
   "outputs": [
    {
     "name": "stdout",
     "output_type": "stream",
     "text": [
      "\n",
      "Tree height: 0.463664\n",
      "Tree length: 9.978979\n",
      "annotations present\n",
      "\n",
      "Numbers of objects in tree: 4716 (2149 nodes and 2567 leaves)\n",
      "\n"
     ]
    }
   ],
   "source": [
    "tree = bt.loadJSON(tree_file, {'name': 'strain', 'height': 'div'})"
   ]
  },
  {
   "cell_type": "code",
   "execution_count": 7,
   "metadata": {},
   "outputs": [],
   "source": [
    "def is_interserotype(node):\n",
    "    if node.branchType == 'leaf':\n",
    "        return False\n",
    "    descendents = node.leaves\n",
    "    serotypes = [k.split('/')[0] for k in descendents]\n",
    "    serotypes = [s for s in serotypes if s != 'DENV']\n",
    "    return len(set(serotypes)) > 1\n",
    "\n",
    "interserotype_branches = []\n",
    "for k in tree.Objects:\n",
    "    if is_interserotype(k):\n",
    "        interserotype_branches.append(k)\n",
    "        interserotype_branches += k.children\n",
    "interserotype_branches = [ k.traits['clade'] for k in interserotype_branches]"
   ]
  },
  {
   "cell_type": "code",
   "execution_count": 8,
   "metadata": {},
   "outputs": [],
   "source": [
    "def plot_tree(ll, ax, interserotype=False):\n",
    "    sns.set(style='white',font_scale=1.2)\n",
    "\n",
    "    for k in ll.Objects: ## iterate over objects in tree\n",
    "        x=k.x ## or from x position determined earlier\n",
    "        y=k.y ## get y position from .drawTree that was run earlier, but could be anything else\n",
    "\n",
    "        xp=k.parent.x ## get x position of current object's parent\n",
    "        if x==None: ## matplotlib won't plot Nones, like root\n",
    "            x=0.0\n",
    "        if xp==None:\n",
    "            xp=x\n",
    "\n",
    "        if interserotype==True:\n",
    "            if 'clade' in k.traits and k.traits['clade'] in interserotype_branches:\n",
    "                branchWidth=2 ## default branch width\n",
    "                c = colors['interserotype_effects']\n",
    "            else:\n",
    "                branchWidth=1\n",
    "                c = 'lightgray'\n",
    "        else:\n",
    "            branchWidth=2\n",
    "            c = colors['all_effects']\n",
    "\n",
    "        if isinstance(k,bt.leaf) or k.branchType=='leaf': ## if leaf...\n",
    "            pass\n",
    "#             s=50 ## tip size can be fixed\n",
    "#             s=50-30*k.height/ll.treeHeight\n",
    "\n",
    "#             ax.scatter(x,y,s=s,facecolor=c,edgecolor='none',zorder=11) ## plot circle for every tip\n",
    "#             ax.scatter(x,y,s=s+0.8*s,facecolor='k',edgecolor='none',zorder=10) ## plot black circle underneath\n",
    "        elif isinstance(k,bt.node) or k.branchType=='node': ## if node...\n",
    "            ax.plot([x,x],[k.children[-1].y,k.children[0].y],lw=branchWidth,color=c,ls='-',zorder=9)\n",
    "\n",
    "        ax.plot([xp,x],[y,y],lw=branchWidth,color=c,ls='-',zorder=9)\n",
    "        \n",
    "    ax.set_yticks([])\n",
    "    ax.set_xticks([round(x, 2) for x in np.linspace(0, ll.treeHeight, 5)])\n",
    "    ax.set_ylim(-5,ll.ySpan+7)\n",
    "    ax.set_xlabel('Substitutions per site')\n",
    "    \n",
    "    ax.spines['top'].set_visible(False)\n",
    "    ax.spines['right'].set_visible(False)\n",
    "    ax.spines['bottom'].set_visible(False)\n",
    "    ax.spines['left'].set_visible(False)\n",
    "    \n",
    "    \n",
    "def plot_performance(performance, ax):\n",
    "    sns.set(style='whitegrid',font_scale=1.2)\n",
    "    sns.boxplot(x='metric', y='value', hue='model', data=performance, hue_order=['interserotype', 'full tree'], \n",
    "                palette=[colors['interserotype_effects'], colors['all_effects']], saturation=0.8, notch=True)\n",
    "#     sns.swarmplot(x='metric', y='value', hue='model', data=performance, hue_order=['interserotype', 'full tree'], \n",
    "#                   palette=[colors['interserotype_effects'], colors['all_effects']], dodge=True, alpha=0.8)\n",
    "    ax.get_legend().remove()    \n",
    "    ax.set_xlabel('')\n",
    "    ax.set_ylabel('')\n",
    "#     x,y=df['actual'], df['predicted']\n",
    "#     sns.regplot(x,y, ax=ax, scatter_kws={'alpha': 0.3}, color=c)\n",
    "#     fit = linregress(x,y)\n",
    "#     r = fit[2]\n",
    "#     rms_error=np.sqrt( sum([ (actual - predicted)**2 for (actual, predicted) in zip(x,y) ])/len(x))\n",
    "#     ax.text(0.08, 0.9,r'Pearson $r = %.2f$'%r, transform=ax.transAxes)\n",
    "#     ax.text(0.08, 0.8, r'rms error $= %.2f$'%rms_error, transform=ax.transAxes)\n",
    "#     ax.set_xlabel('Observed log2(titer)')\n",
    "#     ax.set_ylabel('Predicted log2(titer)')\n",
    "#     ax.set_xlim(-5.5, 7.5)\n",
    "#     ax.set_ylim(-5.5,7.5)\n"
   ]
  },
  {
   "cell_type": "code",
   "execution_count": 14,
   "metadata": {},
   "outputs": [
    {
     "data": {
      "image/png": "[encoded data removed]",
      "text/plain": [
       "<matplotlib.figure.Figure at 0x10a3de550>"
      ]
     },
     "metadata": {},
     "output_type": "display_data"
    }
   ],
   "source": [
    "def add_subfigure_label(ax, label, x=-0.1, y=1.0):\n",
    "    ax.text(x, y, label, va='top', fontdict={'fontsize': 18, 'fontweight': 'bold'}, transform=ax.transAxes)\n",
    "\n",
    "plt.figure(figsize=(7.5,7.5))\n",
    "sns.set(font_scale=1.3, style='whitegrid')\n",
    "gs = gridspec.GridSpec(2,2)\n",
    "interserotype_example_ax = plt.subplot(gs[0, 0])\n",
    "full_tree_example_ax = plt.subplot(gs[0, 1])\n",
    "performance_ax = plt.subplot(gs[1,:])\n",
    "\n",
    "interserotype_example_ax.set_title('Interserotype model')\n",
    "plot_tree(tree, ax=interserotype_example_ax, interserotype=True)\n",
    "\n",
    "full_tree_example_ax.set_title('Full tree model')\n",
    "plot_tree(tree, ax=full_tree_example_ax, interserotype=False)\n",
    "\n",
    "performance_ax.set_title('Model performance (test error)')\n",
    "plot_performance(performance, ax=performance_ax)\n",
    "\n",
    "add_subfigure_label(interserotype_example_ax, 'A')\n",
    "add_subfigure_label(full_tree_example_ax, 'B')\n",
    "add_subfigure_label(performance_ax, 'C')\n",
    "\n",
    "plt.tight_layout()\n",
    "plt.savefig('./png/titer_model_performance.png', dpi=300, bbox_inches='tight')"
   ]
  },
  {
   "cell_type": "code",
   "execution_count": 12,
   "metadata": {},
   "outputs": [],
   "source": [
    "avg_performance = performance.groupby(['model', 'metric']).agg('mean')"
   ]
  },
  {
   "cell_type": "code",
   "execution_count": 13,
   "metadata": {},
   "outputs": [
    {
     "name": "stdout",
     "output_type": "stream",
     "text": [
      "                                           value\n",
      "model         metric                            \n",
      "full tree     Pearson $R^2$             0.717765\n",
      "              Root mean\\nsquared error  0.833695\n",
      "interserotype Pearson $R^2$             0.702545\n",
      "              Root mean\\nsquared error  0.879269\n"
     ]
    }
   ],
   "source": [
    "print avg_performance"
   ]
  },
  {
   "cell_type": "code",
   "execution_count": null,
   "metadata": {},
   "outputs": [],
   "source": []
  }
 ],
 "metadata": {
  "kernelspec": {
   "display_name": "Python 2",
   "language": "python",
   "name": "python2"
  },
  "language_info": {
   "codemirror_mode": {
    "name": "ipython",
    "version": 2
   },
   "file_extension": ".py",
   "mimetype": "text/x-python",
   "name": "python",
   "nbconvert_exporter": "python",
   "pygments_lexer": "ipython2",
   "version": "2.7.10"
  }
 },
 "nbformat": 4,
 "nbformat_minor": 2
}
