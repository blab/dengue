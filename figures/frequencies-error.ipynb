{
 "cells": [
  {
   "cell_type": "code",
   "execution_count": 2,
   "metadata": {},
   "outputs": [],
   "source": [
    "from glob import glob\n",
    "import numpy as np\n",
    "import pandas as pd\n",
    "import seaborn as sns\n",
    "import matplotlib as plt\n",
    "%matplotlib inline"
   ]
  },
  {
   "cell_type": "code",
   "execution_count": 5,
   "metadata": {},
   "outputs": [],
   "source": [
    "actual_frequencies = pd.read_csv('../data/frequencies/southeast_asia_serotype_frequencies.csv', index_col=0)\n",
    "predicted_frequency_files = glob('../fitness_model/southeast_asia/serotype/*predicted_freqs*') \n",
    "predicted_frequencies = { float(f.split('dt')[1].split('.csv')[0]) : pd.read_csv(f, index_col = 0) for f in predicted_frequency_files}"
   ]
  },
  {
   "cell_type": "code",
   "execution_count": 18,
   "metadata": {},
   "outputs": [],
   "source": [
    "def collect_prediction_error(actual_df, predicted_df):\n",
    "    datemin, datemax = predicted_df.index.min(), predicted_df.index.max()\n",
    "    actual = actual_df.loc[(actual_df.index >= datemin) & (actual_df.index <= datemax)]\n",
    "    predicted = predicted_df.loc[(predicted_df.index >= datemin) & (predicted_df.index <= datemax)]\n",
    "    assert actual.index.tolist() == predicted.index.tolist()\n",
    "    \n",
    "    observed_error = []\n",
    "    for clade in actual.columns.values:\n",
    "        clade_error = predicted[clade] - actual[clade]\n",
    "        observed_error += clade_error.loc[np.isfinite(clade_error)].tolist()\n",
    "    \n",
    "    return observed_error\n",
    "        \n",
    "error = {dt: collect_prediction_error(actual_frequencies, predicted_frequencies[dt]) for dt in predicted_frequencies.keys()}"
   ]
  },
  {
   "cell_type": "code",
   "execution_count": 21,
   "metadata": {},
   "outputs": [
    {
     "data": {
      "text/plain": [
       "<matplotlib.axes._subplots.AxesSubplot at 0x115531b50>"
      ]
     },
     "execution_count": 21,
     "metadata": {},
     "output_type": "execute_result"
    },
    {
     "data": {
      "image/png": "[encoded data removed]",
      "text/plain": [
       "<matplotlib.figure.Figure at 0x115501d90>"
      ]
     },
     "metadata": {},
     "output_type": "display_data"
    }
   ],
   "source": [
    "sns.distplot(error[5])"
   ]
  },
  {
   "cell_type": "code",
   "execution_count": null,
   "metadata": {},
   "outputs": [],
   "source": []
  }
 ],
 "metadata": {
  "kernelspec": {
   "display_name": "Python 2",
   "language": "python",
   "name": "python2"
  },
  "language_info": {
   "codemirror_mode": {
    "name": "ipython",
    "version": 2
   },
   "file_extension": ".py",
   "mimetype": "text/x-python",
   "name": "python",
   "nbconvert_exporter": "python",
   "pygments_lexer": "ipython2",
   "version": "2.7.10"
  }
 },
 "nbformat": 4,
 "nbformat_minor": 2
}
