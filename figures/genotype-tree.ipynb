{
 "cells": [
  {
   "cell_type": "code",
   "execution_count": 1,
   "metadata": {},
   "outputs": [],
   "source": [
    "import matplotlib.pyplot as plt\n",
    "import baltic as bt\n",
    "import pickle\n",
    "import seaborn as sns\n",
    "%matplotlib inline\n",
    "\n",
    "import matplotlib.patches as mpatches"
   ]
  },
  {
   "cell_type": "code",
   "execution_count": 2,
   "metadata": {},
   "outputs": [],
   "source": [
    "annotated_tree = '../frequencies/source/annotated_tree.nexus'\n",
    "tree = bt.loadNexus(annotated_tree, absoluteTime=False)"
   ]
  },
  {
   "cell_type": "code",
   "execution_count": 3,
   "metadata": {},
   "outputs": [],
   "source": [
    "colors = pickle.load(open('./colors.p', 'rb'))"
   ]
  },
  {
   "cell_type": "code",
   "execution_count": 4,
   "metadata": {},
   "outputs": [],
   "source": [
    "def plot_tree(tree, labels=False, colorby='genotype'):\n",
    "    branchWidth=2 ## default branch width\n",
    "    ll = tree\n",
    "\n",
    "    plt.yticks(size=0)\n",
    "    \n",
    "    for k in ll.Objects: ## iterate over objects in tree\n",
    "        x=k.x ## or use absolute time instead\n",
    "        y=k.y ## get y position from .drawTree that was run earlier, but could be anything else\n",
    "\n",
    "        xp=k.parent.x ## get x position of current object's parent\n",
    "        if x==None: ## matplotlib won't plot Nones, like root\n",
    "            x=0.0\n",
    "        if xp==None:\n",
    "            xp=x\n",
    "        c = colors[k.traits[colorby]] if k.traits.has_key(colorby) else 'gray'\n",
    "            \n",
    "        if isinstance(k,bt.leaf) or k.branchType=='leaf': ## if leaf...\n",
    "            s=50 ## tip size can be fixed\n",
    "            s=50-30*k.height/ll.treeHeight\n",
    "            \n",
    "            if colorby in k.traits:\n",
    "                label = k.traits[colorby]\n",
    "            else:\n",
    "                label = ''\n",
    "            plt.scatter(x,y,s=s,facecolor=c,edgecolor='none',zorder=11, label=label) ## plot circle for every tip\n",
    "            plt.scatter(x,y,s=s+0.8*s,facecolor='k',edgecolor='none',zorder=10) ## plot black circle underneath\n",
    "                        \n",
    "        elif isinstance(k,bt.node) or k.branchType=='node': ## if node...\n",
    "            plt.plot([x,x],[k.children[-1].y,k.children[0].y],lw=branchWidth,color=c,ls='-',zorder=9)\n",
    "            \n",
    "        plt.plot([xp,x],[y,y],lw=branchWidth,color=c,ls='-',zorder=9)\n",
    "\n",
    "    x0,x1 = plt.xlim()\n",
    "    plt.xlim((x0, x1*1.1))"
   ]
  },
  {
   "cell_type": "code",
   "execution_count": 7,
   "metadata": {},
   "outputs": [],
   "source": [
    "genotypes = set([k.traits['genotype'] for k in tree.Objects if 'genotype' in k.traits])\n",
    "labels = []\n",
    "for g in sorted(list(genotypes)):\n",
    "    c = colors[g]\n",
    "    labels.append(mpatches.Patch(color=c, label=g))"
   ]
  },
  {
   "cell_type": "code",
   "execution_count": null,
   "metadata": {},
   "outputs": [],
   "source": [
    "sns.set(style='whitegrid', font_scale=1.2, palette=colors['cmap'])\n",
    "cmap = plt.get_cmap(colors['cmap'])\n",
    "fig, ax = plt.subplots(figsize=(7.5/2, 5.83))\n",
    "plot_tree(tree)\n",
    "plt.legend((1,0.8), handles=labels)\n",
    "plt.tight_layout()\n",
    "plt.savefig('./png/genotype_tree.png', dpi=300, bbox_inches='tight')"
   ]
  },
  {
   "cell_type": "code",
   "execution_count": null,
   "metadata": {},
   "outputs": [],
   "source": []
  }
 ],
 "metadata": {
  "kernelspec": {
   "display_name": "Python 2",
   "language": "python",
   "name": "python2"
  },
  "language_info": {
   "codemirror_mode": {
    "name": "ipython",
    "version": 2
   },
   "file_extension": ".py",
   "mimetype": "text/x-python",
   "name": "python",
   "nbconvert_exporter": "python",
   "pygments_lexer": "ipython2",
   "version": "2.7.10"
  }
 },
 "nbformat": 4,
 "nbformat_minor": 2
}
