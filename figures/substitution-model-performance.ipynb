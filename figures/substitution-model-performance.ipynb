{
 "cells": [
  {
   "cell_type": "code",
   "execution_count": 11,
   "metadata": {},
   "outputs": [],
   "source": [
    "import pandas as pd\n",
    "import numpy as np\n",
    "from scipy.stats import linregress\n",
    "import matplotlib.pyplot as plt\n",
    "import matplotlib.gridspec as gridspec\n",
    "import seaborn as sns\n",
    "%matplotlib inline\n",
    "import pickle\n",
    "import baltic as bt\n",
    "import json"
   ]
  },
  {
   "cell_type": "code",
   "execution_count": 12,
   "metadata": {},
   "outputs": [],
   "source": [
    "tree_file = '../titer_model/substitution_model_output/dengue_all_tree.json'\n",
    "performance_file = '../titer_model/substitution_model_output/titer_model_performance.csv'\n",
    "substitutions_file = '../titer_model/substitution_model_output/dengue_allsubstitution_model.json'"
   ]
  },
  {
   "cell_type": "code",
   "execution_count": 13,
   "metadata": {},
   "outputs": [],
   "source": [
    "colors = pickle.load(open('./colors.p', 'rb'))"
   ]
  },
  {
   "cell_type": "code",
   "execution_count": 14,
   "metadata": {},
   "outputs": [
    {
     "name": "stdout",
     "output_type": "stream",
     "text": [
      "\n",
      "Tree height: 0.343689\n",
      "Tree length: 2.037918\n",
      "annotations present\n",
      "\n",
      "Numbers of objects in tree: 92 (45 nodes and 47 leaves)\n",
      "\n",
      "\n",
      "Tree height: 0.371657\n",
      "Tree length: 2.163640\n",
      "annotations present\n",
      "\n",
      "Numbers of objects in tree: 92 (45 nodes and 47 leaves)\n",
      "\n"
     ]
    }
   ],
   "source": [
    "performance = pd.read_csv(performance_file, index_col=None)\n",
    "performance = performance.melt(value_vars=['rms_error', 'r_squared'], var_name='metric')\n",
    "tree = bt.loadJSON(tree_file, {'name': 'strain', 'height': 'div'})\n",
    "substitutions = json.load(open(substitutions_file, 'r'))"
   ]
  },
  {
   "cell_type": "code",
   "execution_count": 15,
   "metadata": {},
   "outputs": [],
   "source": [
    "allEffects_perf = pd.read_csv(allEffects_performance_file, index_col=None)\n",
    "interserotypeEffects_perf = pd.read_csv(interserotypeEffects_performance_file, index_col=None)\n",
    "\n",
    "allEffects_perf['model'] = 'full tree'\n",
    "interserotypeEffects_perf['model'] = 'interserotype'\n",
    "\n",
    "performance = pd.concat([allEffects_perf, interserotypeEffects_perf])\n",
    "performance.rename(columns={\"r_squared\": r'Pearson $R^2$', 'rms_error': 'Root mean\\nsquared error'}, inplace=True)\n",
    "performance = performance.melt(id_vars=['model'], value_vars=[r'Pearson $R^2$', 'Root mean\\nsquared error'], \n",
    "                          value_name='value', var_name='metric')"
   ]
  },
  {
   "cell_type": "code",
   "execution_count": 16,
   "metadata": {},
   "outputs": [],
   "source": [
    "interserotype_substitutions = json.load(open(interserotypeEffects_subs_file, 'r'))\n",
    "full_tree_substitutions = json.load(open(allEffects_subs_file, 'r'))"
   ]
  },
  {
   "cell_type": "code",
   "execution_count": 17,
   "metadata": {},
   "outputs": [],
   "source": [
    "def get_dTiter(branch, antigenic_mutations):\n",
    "    \n",
    "    if 'aa_muts' not in branch.traits:\n",
    "        branch.traits['dTiter'] = None\n",
    "        branch.traits['n_antigenic_muts'] = None\n",
    "        return\n",
    "    \n",
    "    dTiter = 0.\n",
    "    n_antigenic_muts = 0\n",
    "    for m in branch.traits['aa_muts']['E']:\n",
    "        if 'E:'+m in muts:\n",
    "            dTiter += muts['E:'+m]\n",
    "            n_antigenic_muts += 1\n",
    "            \n",
    "    branch.traits['dTiter'] = dTiter\n",
    "    branch.traits['n_antigenic_muts'] = n_antigenic_muts\n",
    "\n",
    "for k in tree.nodes:\n",
    "    get_dTiter(k)"
   ]
  },
  {
   "cell_type": "code",
   "execution_count": 18,
   "metadata": {},
   "outputs": [],
   "source": [
    "# full_tree_mutations = []\n",
    "# for k in full_tree.nodes:\n",
    "#     if 'aa_muts' in k.traits:\n",
    "#         full_tree_mutations += k.traits['aa_muts']['E']\n",
    "        \n",
    "# antigenic_mutations = set([m[2:] for m in full_tree_substitutions['mutations'].keys()])\n",
    "# print len(antigenic_mutations)\n",
    "# print antigenic_mutations.difference(set(full_tree_mutations))"
   ]
  },
  {
   "cell_type": "code",
   "execution_count": 19,
   "metadata": {},
   "outputs": [],
   "source": [
    "def plot_tree(ll, ax, cmap = plt.cm.viridis):\n",
    "    sns.set(style='white',font_scale=1.2)\n",
    "\n",
    "    max_dTiter = max([k.traits['dTiter'] for k in tree.nodes if 'dTiter' in k.traits and k.traits['dTiter'] is not None])\n",
    "    for k in ll.Objects: ## iterate over objects in tree\n",
    "        x=k.x ## or from x position determined earlier\n",
    "        y=k.y ## get y position from .drawTree that was run earlier, but could be anything else\n",
    "\n",
    "        xp=k.parent.x ## get x position of current object's parent\n",
    "        if x==None: ## matplotlib won't plot Nones, like root\n",
    "            x=0.0\n",
    "        if xp==None:\n",
    "            xp=x\n",
    "\n",
    "        if 'dTiter' in k.traits and k.traits['dTiter'] > 0.05:\n",
    "            c = cmap(k.traits['dTiter'] / max_dTiter)\n",
    "            branchWidth = 2\n",
    "            ax.text((x+xp)/2,y,'x '*k.traits['n_antigenic_muts'], ha='center', va='center', fontsize=10, zorder=1000)\n",
    "        else:\n",
    "            c = 'gray'\n",
    "            branchWidth = 1\n",
    "\n",
    "        if isinstance(k,bt.node) or k.branchType=='node': ## if node...\n",
    "            ax.plot([x,x],[k.children[-1].y,k.children[0].y],lw=branchWidth,color=c,ls='-',zorder=9)\n",
    "\n",
    "        ax.plot([xp,x],[y,y],lw=branchWidth,color=c,ls='-',zorder=9)\n",
    "        \n",
    "    ax.set_yticks([])\n",
    "    ax.set_xticks([round(x, 2) for x in np.linspace(0, ll.treeHeight, 5)])\n",
    "    ax.set_ylim(-5,ll.ySpan+7)\n",
    "    ax.set_xlabel('Substitutions per site')\n",
    "    \n",
    "    ax.spines['top'].set_visible(False)\n",
    "    ax.spines['right'].set_visible(False)\n",
    "    ax.spines['bottom'].set_visible(False)\n",
    "    ax.spines['left'].set_visible(False)\n",
    "    \n",
    "    \n",
    "def plot_performance(performance, ax):\n",
    "    sns.set(style='whitegrid',font_scale=1.2)\n",
    "    \n",
    "    sns.boxplot(x='metric', y='value', data=performance, notch=True)\n",
    "#     sns.swarmplot(x='metric', y='value', hue='model', data=performance, hue_order=['interserotype', 'full tree'], \n",
    "#                   palette=[colors['interserotype_effects'], colors['all_effects']], dodge=True, alpha=0.8)\n",
    "    ax.set_xlabel('')\n",
    "    ax.set_ylabel('')"
   ]
  },
  {
   "cell_type": "code",
   "execution_count": 20,
   "metadata": {
    "scrolled": false
   },
   "outputs": [
    {
     "name": "stdout",
     "output_type": "stream",
     "text": [
      "                                           value\n",
      "model         metric                            \n",
      "full tree     Pearson $R^2$             0.791122\n",
      "              Root mean\\nsquared error  0.743940\n",
      "interserotype Pearson $R^2$             0.713111\n",
      "              Root mean\\nsquared error  0.836028\n"
     ]
    },
    {
     "data": {
      "image/png": "[encoded data removed]",
      "text/plain": [
       "<matplotlib.figure.Figure at 0x10d58ff90>"
      ]
     },
     "metadata": {},
     "output_type": "display_data"
    }
   ],
   "source": [
    "fig, (tree_ax, performance_ax) = plt.subplots(1,2,figsize=(12,6), gridspec_kw={'width_ratios': [3,1]})\n",
    "sns.set(font_scale=1.3, style='whitegrid')\n",
    "\n",
    "plot_tree(tree, ax=tree_ax)\n",
    "plot_performance(performance, ax=performance_ax)\n",
    "\n",
    "\n",
    "plt.tight_layout()\n",
    "# plt.savefig('./png/titer_model_performance.png', dpi=300, bbox_inches='tight')\n",
    "avg_performance = performance.groupby(['metric']).agg('mean')\n",
    "print avg_performance"
   ]
  },
  {
   "cell_type": "code",
   "execution_count": 14,
   "metadata": {},
   "outputs": [],
   "source": []
  },
  {
   "cell_type": "code",
   "execution_count": null,
   "metadata": {},
   "outputs": [],
   "source": []
  },
  {
   "cell_type": "code",
   "execution_count": null,
   "metadata": {},
   "outputs": [],
   "source": []
  }
 ],
 "metadata": {
  "kernelspec": {
   "display_name": "Python 2",
   "language": "python",
   "name": "python2"
  },
  "language_info": {
   "codemirror_mode": {
    "name": "ipython",
    "version": 2
   },
   "file_extension": ".py",
   "mimetype": "text/x-python",
   "name": "python",
   "nbconvert_exporter": "python",
   "pygments_lexer": "ipython2",
   "version": "2.7.10"
  }
 },
 "nbformat": 4,
 "nbformat_minor": 2
}
