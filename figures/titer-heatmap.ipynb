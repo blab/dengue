{
 "cells": [
  {
   "cell_type": "code",
   "execution_count": 1,
   "metadata": {},
   "outputs": [],
   "source": [
    "import pandas as pd\n",
    "import pickle\n",
    "import numpy as np\n",
    "import matplotlib.pyplot as plt\n",
    "import seaborn as sns\n",
    "import baltic as bt\n",
    "from itertools import combinations, product\n",
    "import matplotlib.gridspec as gridspec\n",
    "%matplotlib inline"
   ]
  },
  {
   "cell_type": "code",
   "execution_count": 2,
   "metadata": {},
   "outputs": [],
   "source": [
    "titer_file = '../data/katzelnick2015/processed/normalized_titers.csv'\n",
    "tree_file = '../data/augur-output/dengue_allBranchEffects_tree.json'\n",
    "colors = pickle.load(open('./colors.p', 'rb'))\n",
    "out_path = './png'"
   ]
  },
  {
   "cell_type": "code",
   "execution_count": 3,
   "metadata": {},
   "outputs": [
    {
     "name": "stdout",
     "output_type": "stream",
     "text": [
      "\n",
      "Tree height: 0.335580\n",
      "Tree length: 7.088900\n",
      "annotations present\n",
      "\n",
      "Numbers of objects in tree: 4792 (2230 nodes and 2562 leaves)\n",
      "\n"
     ]
    }
   ],
   "source": [
    "tree = bt.loadJSON(tree_file, json_translation={'height': 'xvalue', 'name': 'strain'})\n",
    "\n",
    "titers = pd.read_csv(titer_file, sep=',', index_col=0)\n",
    "titers = titers.groupby(['virus', 'sera'])['autologous_log2titer'].agg('mean').reset_index()\n",
    "titers = titers.pivot(index='virus', columns='sera', values='autologous_log2titer')"
   ]
  },
  {
   "cell_type": "code",
   "execution_count": 9,
   "metadata": {},
   "outputs": [],
   "source": [
    "titered_strains = set(titers.columns.values).union(set(titers.index.values))\n",
    "tip_order = [ k.traits['strain'] for k in sorted(tree.Objects, key = lambda x: -1*x.height) if k.branchType=='leaf']\n",
    "serotype_tip_order = { s: [k for k in tip_order if k.startswith('DENV%d'%s) and k in titered_strains] \n",
    "                      for s in [1,2,3,4]}"
   ]
  },
  {
   "cell_type": "code",
   "execution_count": 35,
   "metadata": {},
   "outputs": [
    {
     "data": {
      "image/png": "[encoded data removed]",
      "text/plain": [
       "<matplotlib.figure.Figure at 0x1111fb2d0>"
      ]
     },
     "metadata": {},
     "output_type": "display_data"
    }
   ],
   "source": [
    "def split_serotypes(df, serotype_tip_order=serotype_tip_order):\n",
    "    '''Return dictionary of {virus_rows: {sera_column: df}} for plotting heatmap small multiples'''\n",
    "    columns = {}\n",
    "    rows = {}\n",
    "    for serotype in [1,2,3,4]:\n",
    "        columns[serotype] = [s for s in serotype_tip_order[serotype] if s in df.columns.values]\n",
    "        extra_sera = [ s for s in df.columns.values if s.startswith('DENV%d'%serotype) and s not in columns[serotype] ]\n",
    "        columns[serotype] += extra_sera\n",
    "        \n",
    "        rows[serotype] = [v for v in serotype_tip_order[serotype] if v in df.index.values]\n",
    "        extra_viruses = [v for v in df.index.values if v.startswith('DENV%d'%serotype) and v not in rows[serotype]]\n",
    "#         rows[serotype] += extra_viruses\n",
    "    \n",
    "#     columns = { s : [ i for i in df.columns.values if i.startswith('DENV%d'%s) ] for s in [1,2,3,4] }\n",
    "#     rows = { s : [i for i in df.index.values if i.startswith('DENV%d'%s) ] for s in [1,2,3,4] }\n",
    "\n",
    "    split_serotypes = {1: {}, 2: {}, 3: {}, 4: {}} # { serotype_1_viruses: {vs_serotype_1_sera: partial_df, vs_2: ...}, ...}\n",
    "    \n",
    "    for serum_serotype in [1,2,3,4]:\n",
    "        for virus_serotype in [1,2,3,4]:\n",
    "            partial_design_matrix = df.loc[rows[virus_serotype], columns[serum_serotype]]\n",
    "            split_serotypes[serum_serotype][virus_serotype] = partial_design_matrix\n",
    "    return split_serotypes\n",
    "\n",
    "def plot_small_multiples(titer_df, cmap=colors['cmap']):\n",
    "    data = split_serotypes(titer_df)\n",
    "    sns.set(style='dark', font_scale=1.2)\n",
    "\n",
    "    ## Set subplot size ratios\n",
    "    width_ratios = [ len(data[i][1].columns.values) for i in [1,2,3,4] ]\n",
    "    max_w = max(width_ratios)\n",
    "    width_ratios = [ i / float(max_w) for i in width_ratios ]\n",
    "    height_ratios = [ len(data[1][i].index.values) for i in [1,2,3,4]]\n",
    "    max_h = max(height_ratios)\n",
    "    height_ratios = [ i / float(max_h) for i in height_ratios ]    \n",
    "\n",
    "    fig, axes = plt.subplots(nrows=4, ncols=4, figsize=(7.5/2,7.5/2), facecolor='white',\n",
    "                             gridspec_kw={'wspace': 0.1, 'hspace':0.1,\n",
    "                            'width_ratios': width_ratios, 'height_ratios': height_ratios})\n",
    "\n",
    "    ## Set colors\n",
    "    cmap = plt.get_cmap(cmap)\n",
    "\n",
    "    all_values = []\n",
    "    for (virus, serum) in product([1,2,3,4], repeat=2):\n",
    "        all_values += [i for i in data[virus][serum].values.flatten() if not np.isnan(i) ]\n",
    "    vmin_val = float(min(all_values)) # Anchor color map for entire figure at global min/max values\n",
    "    vmax_val = float(max(all_values))\n",
    "    cbar_axis = fig.add_axes([1.0, 0.15, .03, 0.7])\n",
    "\n",
    "    for virus, row in enumerate(axes, start=1):\n",
    "        for serum, axis in enumerate(row, start=1):\n",
    "            if virus == 1 and serum == 4:\n",
    "                cbar_bool = True\n",
    "            else:\n",
    "                cbar_bool = False\n",
    "\n",
    "            plot = sns.heatmap(data[serum][virus], ax=axis, \n",
    "                        vmin=vmin_val, vmax=vmax_val, cmap=cmap,\n",
    "                       xticklabels = False, yticklabels=False, cbar = cbar_bool, cbar_ax=cbar_axis,\n",
    "                              cbar_kws={'label': 'log2(autologous titer) - log2(test titer)'})\n",
    "            axis.set_xlabel('')\n",
    "            axis.set_ylabel('')\n",
    "            if virus == 4:\n",
    "                plot.set_xlabel('DENV%d'%serum, fontsize=12)\n",
    "                if serum == 2:\n",
    "                    plt.text(0.5, -.75, 'Serum Strain',  transform=axis.transAxes, fontsize=14, ha='left', va='bottom')\n",
    "            if serum == 1:\n",
    "                plot.set_ylabel('DENV%d'%virus, fontsize=12)\n",
    "                if virus == 2:\n",
    "                    plt.text(-.75, 0, 'Virus Strain',  transform=axis.transAxes, fontsize=14, ha='center', va='center', rotation='vertical')\n",
    "\n",
    "plot_small_multiples(titers)\n",
    "plt.savefig('./png/titer_heatmap.png', dpi=300, bbox_inches='tight')\n",
    "plt.show()"
   ]
  },
  {
   "cell_type": "code",
   "execution_count": null,
   "metadata": {},
   "outputs": [],
   "source": []
  },
  {
   "cell_type": "code",
   "execution_count": null,
   "metadata": {},
   "outputs": [],
   "source": []
  },
  {
   "cell_type": "code",
   "execution_count": null,
   "metadata": {},
   "outputs": [],
   "source": []
  }
 ],
 "metadata": {
  "kernelspec": {
   "display_name": "Python 2",
   "language": "python",
   "name": "python2"
  },
  "language_info": {
   "codemirror_mode": {
    "name": "ipython",
    "version": 2
   },
   "file_extension": ".py",
   "mimetype": "text/x-python",
   "name": "python",
   "nbconvert_exporter": "python",
   "pygments_lexer": "ipython2",
   "version": "2.7.10"
  }
 },
 "nbformat": 4,
 "nbformat_minor": 2
}
