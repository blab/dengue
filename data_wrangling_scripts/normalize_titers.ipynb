{
 "cells": [
  {
   "cell_type": "code",
   "execution_count": 1,
   "metadata": {},
   "outputs": [],
   "source": [
    "import pandas as pd\n",
    "import numpy as np\n",
    "import seaborn as sns\n",
    "%matplotlib inline"
   ]
  },
  {
   "cell_type": "code",
   "execution_count": 2,
   "metadata": {},
   "outputs": [],
   "source": [
    "titers = pd.read_csv('../../data/titers_katzelnick2015/dengue_titers.tsv', sep='\\t')\n",
    "\n",
    "# pull only the monovalent and NHP 3month vals\n",
    "titers = titers.loc[titers['source'].isin(['monovalent', 'agm_3mo'])][['virus_strain', 'serum_strain', 'titer']]"
   ]
  },
  {
   "cell_type": "code",
   "execution_count": 3,
   "metadata": {},
   "outputs": [
    {
     "name": "stdout",
     "output_type": "stream",
     "text": [
      "9\n",
      "                   virus_strain                            serum_strain  titer\n",
      "74    DENV1/THAILAND/16007/1964  DENV1/NAURU/WESTERNPACIFICDELTA30/1974    756\n",
      "75    DENV1/THAILAND/16007/1964  DENV1/NAURU/WESTERNPACIFICDELTA30/1974     54\n",
      "76    DENV1/THAILAND/16007/1964  DENV1/NAURU/WESTERNPACIFICDELTA30/1974    117\n",
      "77    DENV1/THAILAND/16007/1964  DENV1/NAURU/WESTERNPACIFICDELTA30/1974    161\n",
      "78    DENV1/THAILAND/16007/1964  DENV1/NAURU/WESTERNPACIFICDELTA30/1974    399\n",
      "79    DENV1/THAILAND/16007/1964  DENV1/NAURU/WESTERNPACIFICDELTA30/1974     66\n",
      "80    DENV1/THAILAND/16007/1964  DENV1/NAURU/WESTERNPACIFICDELTA30/1974     93\n",
      "81    DENV1/THAILAND/16007/1964  DENV1/NAURU/WESTERNPACIFICDELTA30/1974    194\n",
      "1264  DENV1/THAILAND/16007/1964  DENV1/NAURU/WESTERNPACIFICDELTA30/1974     26\n",
      "207.333333333\n"
     ]
    }
   ],
   "source": [
    "demo = titers.loc[(titers['virus_strain'] == 'DENV1/THAILAND/16007/1964') & (titers['serum_strain'] == 'DENV1/NAURU/WESTERNPACIFICDELTA30/1974')]\n",
    "print len(demo)\n",
    "print demo\n",
    "print demo['titer'].mean(axis=0)"
   ]
  },
  {
   "cell_type": "code",
   "execution_count": 4,
   "metadata": {},
   "outputs": [],
   "source": [
    "#  group by virus & serum strains and average\n",
    "titers = titers.groupby(['virus_strain', 'serum_strain'])['titer'].agg('mean').reset_index() \n",
    "\n",
    "# put on a log2 scale\n",
    "titers['titer'] = titers['titer'].map(np.log2)"
   ]
  },
  {
   "cell_type": "code",
   "execution_count": 5,
   "metadata": {},
   "outputs": [
    {
     "name": "stdout",
     "output_type": "stream",
     "text": [
      "                 virus_strain                            serum_strain  \\\n",
      "70  DENV1/THAILAND/16007/1964  DENV1/NAURU/WESTERNPACIFICDELTA30/1974   \n",
      "\n",
      "       titer  \n",
      "70  7.695808  \n"
     ]
    }
   ],
   "source": [
    "demo = titers.loc[(titers['virus_strain'] == 'DENV1/THAILAND/16007/1964') & (titers['serum_strain'] == 'DENV1/NAURU/WESTERNPACIFICDELTA30/1974')]\n",
    "print demo"
   ]
  },
  {
   "cell_type": "code",
   "execution_count": 6,
   "metadata": {},
   "outputs": [],
   "source": [
    "# find autologous titers\n",
    "autologous_titers = {}\n",
    "for idx, row in titers.iterrows():\n",
    "    if row['virus_strain'] == row['serum_strain']:\n",
    "        autologous_titers[row['serum_strain']] = row['titer']"
   ]
  },
  {
   "cell_type": "code",
   "execution_count": 7,
   "metadata": {},
   "outputs": [
    {
     "name": "stdout",
     "output_type": "stream",
     "text": [
      "3.90689059561\n"
     ]
    }
   ],
   "source": [
    "print autologous_titers['DENV1/NAURU/WESTERNPACIFICDELTA30/1974']"
   ]
  },
  {
   "cell_type": "code",
   "execution_count": 8,
   "metadata": {},
   "outputs": [
    {
     "name": "stdout",
     "output_type": "stream",
     "text": [
      "normalized with autologous: 509\n",
      "normalized with max: 31\n",
      "discarded: 9\n"
     ]
    }
   ],
   "source": [
    "# normalize titer values\n",
    "normalized_with_autologous = 0\n",
    "normalized_with_max = 0\n",
    "discarded = 0\n",
    "\n",
    "normalized_titers = []\n",
    "for idx, row in titers.iterrows():\n",
    "    serum = row['serum_strain']\n",
    "    if serum in autologous_titers: # try and use autologous titers to normalize\n",
    "        normalized_titer_val = autologous_titers[serum] - row['titer']\n",
    "        normalized_with_autologous += 1\n",
    "    else: # if we have at least 10 values for that serum, default to the max titer\n",
    "        serum_measurements = titers.loc[titers['serum_strain'] == serum]\n",
    "        if len(serum_measurements) >= 10:\n",
    "            normalized_with_max += 1\n",
    "            autologous_proxy = max(serum_measurements['titer'].values)\n",
    "            normalized_titer_val = autologous_proxy - row['titer']\n",
    "        else: # if no autologous and few measurements, discard measurement\n",
    "            discarded += 1\n",
    "            continue\n",
    "    normalized_titers.append({'virus': row['virus_strain'], 'serum': row['serum_strain'], 'titer': normalized_titer_val})\n",
    "    \n",
    "normalized_titers = pd.DataFrame(normalized_titers)\n",
    "\n",
    "print 'normalized with autologous: %d'%normalized_with_autologous\n",
    "print 'normalized with max: %d'%normalized_with_max\n",
    "print 'discarded: %d'%discarded"
   ]
  },
  {
   "cell_type": "code",
   "execution_count": 12,
   "metadata": {},
   "outputs": [],
   "source": [
    "normalized_titers.to_csv('../../data/titers_katzelnick2015/normalized_titers.csv', index=None)"
   ]
  },
  {
   "cell_type": "code",
   "execution_count": 15,
   "metadata": {},
   "outputs": [],
   "source": [
    "titers.to_csv('../../data/titers_katzelnick2015/normalized_titers.csv',index=False)"
   ]
  },
  {
   "cell_type": "code",
   "execution_count": null,
   "metadata": {},
   "outputs": [],
   "source": []
  }
 ],
 "metadata": {
  "kernelspec": {
   "display_name": "Python 2",
   "language": "python",
   "name": "python2"
  },
  "language_info": {
   "codemirror_mode": {
    "name": "ipython",
    "version": 2
   },
   "file_extension": ".py",
   "mimetype": "text/x-python",
   "name": "python",
   "nbconvert_exporter": "python",
   "pygments_lexer": "ipython2",
   "version": "2.7.10"
  }
 },
 "nbformat": 4,
 "nbformat_minor": 2
}
