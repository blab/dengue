{
 "cells": [
  {
   "cell_type": "code",
   "execution_count": 13,
   "metadata": {},
   "outputs": [],
   "source": [
    "import baltic as bt\n",
    "from matplotlib import pyplot as plt\n",
    "import matplotlib.gridspec as gridspec\n",
    "from matplotlib import cm\n",
    "import seaborn as sns\n",
    "%matplotlib inline\n",
    "\n",
    "from Bio import SeqIO, Seq\n",
    "from collections import defaultdict\n",
    "import json\n",
    "import math\n",
    "from itertools import combinations, product, izip, permutations\n",
    "import pandas as pd\n",
    "import numpy as np\n",
    "from pprint import pprint\n",
    "from scipy.stats import linregress\n",
    "from copy import deepcopy\n",
    "\n",
    "sns.set(style='whitegrid', font_scale = 1.2)"
   ]
  },
  {
   "cell_type": "code",
   "execution_count": 44,
   "metadata": {},
   "outputs": [],
   "source": [
    "out_path = '../titer_model/rarefaction_output/nhp_output/'\n",
    "tree_path = '../titer_model/titered_output/titered_tree.json'\n",
    "reference_path = '../data/reference/genotype_refs_pyke2016.csv'\n",
    "titer_path = '../titer_model/rarefaction_output/nhp_output/titered_nhp_substitution_model.json'\n",
    "titer_cluster_path = '../titer_model/rarefaction_output/nhp_output/colinear_mutations.txt'"
   ]
  },
  {
   "cell_type": "code",
   "execution_count": 45,
   "metadata": {},
   "outputs": [
    {
     "name": "stdout",
     "output_type": "stream",
     "text": [
      "\n",
      "Tree height: 0.329384\n",
      "Tree length: 2.129878\n",
      "strictly bifurcating tree\n",
      "annotations present\n",
      "\n",
      "Numbers of objects in tree: 93 (46 nodes and 47 leaves)\n",
      "\n"
     ]
    }
   ],
   "source": [
    "json_translation={'height': 'div', 'name': 'strain'}\n",
    "tree = bt.loadJSON(tree_path, json_translation)\n",
    "\n",
    "genotype_strains_path = '../data/reference/strain_genotypes.tsv'\n",
    "strain_genotypes = pd.read_csv(genotype_strains_path, sep='\\t', index_col=None, header=None, names=['strain', 'genotype'])\n",
    "\n",
    "strain_genotypes = { k['strain'] : k['genotype'] for idx, k in strain_genotypes.iterrows()}\n",
    "\n",
    "for k in tree.leaves:\n",
    "    if k.traits['strain'] in strain_genotypes:\n",
    "        k.traits['genotype'] = strain_genotypes[k.traits['strain']]\n",
    "        k.traits['serotype'] = strain_genotypes[k.traits['strain']].split('_')[0]\n",
    "    else:\n",
    "        print 'annotation not found for ', k.traits['strain']"
   ]
  },
  {
   "cell_type": "code",
   "execution_count": 46,
   "metadata": {},
   "outputs": [],
   "source": [
    "antigenic_mutations = json.load(open(titer_path, 'r'))['mutations']\n",
    "mutation_clusters = [l.strip().split() for l in open(titer_cluster_path, 'r')]\n",
    "\n",
    "antigenic_clusters = {}\n",
    "for cluster in mutation_clusters:\n",
    "    n_antigenic = 0\n",
    "    \n",
    "    for mut in cluster:\n",
    "        if mut in antigenic_mutations:\n",
    "            antigenic_effect = antigenic_mutations[mut]\n",
    "            del antigenic_mutations[mut]\n",
    "            n_antigenic += 1\n",
    "\n",
    "    assert n_antigenic <= 1\n",
    "    if n_antigenic == 1:\n",
    "        antigenic_clusters[tuple(cluster)] = antigenic_effect        "
   ]
  },
  {
   "cell_type": "code",
   "execution_count": 47,
   "metadata": {},
   "outputs": [],
   "source": [
    "# ofile = open('../titer_model/titered_output/titered_monovalent_output/antigenic_mutations.tsv', 'a')\n",
    "# for mut, val in antigenic_mutations.items():\n",
    "#     ofile.write(mut+'\\t'+str(round(val,2))+'\\n')\n",
    "# for cluster, val in antigenic_clusters.items():\n",
    "#     ofile.write(','.join(cluster)+'\\t'+str(round(val,2))+'\\n')"
   ]
  },
  {
   "cell_type": "code",
   "execution_count": 48,
   "metadata": {},
   "outputs": [],
   "source": [
    "def get_mutations(seq1, seq2):\n",
    "    '''\n",
    "    loops over all translations (listed in self.proteins) and returns a list of\n",
    "    between as tuples (protein, mutation) e.g. (HA1, 159F)\n",
    "    '''\n",
    "    muts = []\n",
    "    muts.extend(['E:'+aa1+str(pos+1)+aa2 for pos, (aa1, aa2)\n",
    "                in enumerate(izip(seq1, seq2)) if aa1!=aa2])\n",
    "    return muts\n",
    "\n",
    "def get_single_mut_Dij(muts, antigenic_mutations):\n",
    "    Dij = sum([antigenic_mutations[m] for m in muts if m in antigenic_mutations])\n",
    "    return Dij\n",
    "\n",
    "def get_mut_cluster_Dij(muts, antigenic_clusters):\n",
    "    Dij = 0.\n",
    "    for cluster, cluster_Dij in antigenic_clusters.items():\n",
    "        if any([cluster_mut in muts for cluster_mut in cluster]):\n",
    "            Dij += cluster_Dij\n",
    "    return Dij\n",
    "\n",
    "def get_Dij(sera, virus, \n",
    "            antigenic_mutations=antigenic_mutations, \n",
    "            antigenic_clusters=antigenic_clusters,):\n",
    "#             potencies=potencies,\n",
    "#             avidities=avidities):\n",
    "    \n",
    "    sera_seq = aa_seqs[sera.traits['strain']]\n",
    "    virus_seq = aa_seqs[virus.traits['strain']]\n",
    "    \n",
    "#     try:\n",
    "#         sera_potency = potencies[str(sera.traits['clade'])]['mean_potency']\n",
    "#     except KeyError:\n",
    "#         sera_potency = 0.\n",
    "#     try:\n",
    "#         virus_avidity = avidities[str(virus.traits['clade'])]\n",
    "#     except KeyError:\n",
    "#         virus_avidity = 0.\n",
    "    \n",
    "    muts = get_mutations(sera_seq, virus_seq)\n",
    "    mutation_effect = get_single_mut_Dij(muts, antigenic_mutations) + get_mut_cluster_Dij(muts, antigenic_clusters)\n",
    "    \n",
    "    return mutation_effect #+ sera_potency + virus_avidity"
   ]
  },
  {
   "cell_type": "code",
   "execution_count": 49,
   "metadata": {},
   "outputs": [],
   "source": [
    "seqs = {s.name : s for s in SeqIO.parse(open('../data/sequences/titered_strains_alignment.mfa', 'r'), 'fasta')}\n",
    "aa_seqs = {k: Seq.translate(str(v.seq).replace('-', 'N')) for k,v in seqs.items()}"
   ]
  },
  {
   "cell_type": "code",
   "execution_count": 50,
   "metadata": {},
   "outputs": [],
   "source": [
    "def get_clade_Dij(sera_clade, virus_clade, clade_trait='genotype', \n",
    "                  tree=tree, aa_seqs=aa_seqs,\n",
    "                  antigenic_mutations=antigenic_mutations, antigenic_clusters=antigenic_clusters):\n",
    "    \n",
    "    sera_clade_tips = [ k for k in tree.leaves if k.traits[clade_trait] == sera_clade ]\n",
    "    virus_clade_tips = [ k for k in tree.leaves if k.traits[clade_trait] == virus_clade ]\n",
    "    \n",
    "    dTiter = 0.\n",
    "    N_pairs = 0.\n",
    "    for sera, virus in product(sera_clade_tips,virus_clade_tips):\n",
    "        Dij = get_Dij(sera, virus, antigenic_mutations, antigenic_clusters)\n",
    "        dTiter += Dij\n",
    "        N_pairs += 1.\n",
    "        \n",
    "    return dTiter / N_pairs"
   ]
  },
  {
   "cell_type": "code",
   "execution_count": 51,
   "metadata": {},
   "outputs": [],
   "source": [
    "genotypes = set([k.traits['genotype'] for k in tree.Objects if 'genotype' in k.traits])\n",
    "genotype_distances = defaultdict(dict)\n",
    "for serum, virus in permutations(genotypes, 2): # Asymmetrical: test (serum1, virus2) and (serum2, virus1)\n",
    "    Dij = get_clade_Dij(serum, virus, 'genotype')\n",
    "    genotype_distances[serum][virus] = Dij\n",
    "    \n",
    "for genotype in genotypes: # Distance to self is always 0.\n",
    "    genotype_distances[genotype][genotype] = 0."
   ]
  },
  {
   "cell_type": "code",
   "execution_count": 52,
   "metadata": {},
   "outputs": [],
   "source": [
    "def write_distances_to_tsv(distances, path):\n",
    "    \n",
    "    ofile = open(path, 'w')\n",
    "    \n",
    "    for serum, distance_dict in distances.items():\n",
    "        for virus, Dij in distance_dict.items():\n",
    "            ofile.write(serum+'\\t'+virus+'\\t'+'%.2f'%Dij+'\\n')\n",
    "            \n",
    "\n",
    "write_distances_to_tsv(genotype_distances, out_path+'genotype_Dij.tsv')"
   ]
  },
  {
   "cell_type": "code",
   "execution_count": 43,
   "metadata": {},
   "outputs": [],
   "source": []
  },
  {
   "cell_type": "code",
   "execution_count": 46,
   "metadata": {},
   "outputs": [],
   "source": []
  },
  {
   "cell_type": "code",
   "execution_count": 51,
   "metadata": {},
   "outputs": [],
   "source": []
  },
  {
   "cell_type": "code",
   "execution_count": null,
   "metadata": {},
   "outputs": [],
   "source": []
  }
 ],
 "metadata": {
  "kernelspec": {
   "display_name": "Python 2",
   "language": "python",
   "name": "python2"
  },
  "language_info": {
   "codemirror_mode": {
    "name": "ipython",
    "version": 2
   },
   "file_extension": ".py",
   "mimetype": "text/x-python",
   "name": "python",
   "nbconvert_exporter": "python",
   "pygments_lexer": "ipython2",
   "version": "2.7.10"
  }
 },
 "nbformat": 4,
 "nbformat_minor": 2
}
