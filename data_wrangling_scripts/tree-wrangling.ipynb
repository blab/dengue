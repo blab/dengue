{
 "cells": [
  {
   "cell_type": "code",
   "execution_count": 20,
   "metadata": {},
   "outputs": [],
   "source": [
    "import baltic as bt\n",
    "import dendropy\n",
    "from collections import defaultdict"
   ]
  },
  {
   "cell_type": "code",
   "execution_count": 21,
   "metadata": {},
   "outputs": [
    {
     "name": "stdout",
     "output_type": "stream",
     "text": [
      "\n",
      "Tree height: 1.955144\n",
      "Tree length: 6.071398\n",
      "annotations present\n",
      "\n",
      "Numbers of objects in tree: 4792 (2230 nodes and 2562 leaves)\n",
      "\n"
     ]
    }
   ],
   "source": [
    "out_path = '../data/trees/'\n",
    "\n",
    "# two copies of the same tree, with different annotations\n",
    "genotype_tree = bt.loadNexus('../data/trees/genotype_tree.nexus', absoluteTime=False) # has taxonomic annotations\n",
    "antigenic_tree = bt.loadJSON('../titer_model/full-tree-model-output/dengue_fulltree_tree.json', # has antigenic distance annotations\n",
    "                                         json_translation={'name': 'clade', 'height': 'cTiter'})"
   ]
  },
  {
   "cell_type": "code",
   "execution_count": 22,
   "metadata": {},
   "outputs": [],
   "source": [
    "def get_width(k, tree, trait='cTiter'):\n",
    "    value = k.traits[trait]\n",
    "    same_trait_val = [w for w in tree.Objects if w.traits[trait] == value]\n",
    "    return len(same_trait_val)\n",
    "\n",
    "for k in antigenic_tree.Objects:\n",
    "    k.traits['width'] = float(get_width(k, antigenic_tree, 'cTiter'))\n",
    "    "
   ]
  },
  {
   "cell_type": "code",
   "execution_count": 23,
   "metadata": {},
   "outputs": [],
   "source": [
    "## Transfer taxonomic traits to the antigenic tree\n",
    "\n",
    "transfer_traits = ['genotype', 'serotype', 'width']\n",
    "clade_lookup = { }\n",
    "\n",
    "for k in genotype_tree.Objects: ## Pull genotype and serotype annotations from genotype tree\n",
    "    if 'clade' not in k.traits:\n",
    "        continue\n",
    "    clade = int(k.traits['clade'])\n",
    "    traits = { tr: k.traits[tr] for tr in transfer_traits if tr in k.traits }\n",
    "    clade_lookup[clade] = traits\n",
    "    \n",
    "for k in antigenic_tree.Objects: ## Combine with all other traits in the annotated tree\n",
    "    if 'clade' not in k.traits:\n",
    "        continue\n",
    "    clade = int(k.traits['clade'])\n",
    "    clade_lookup[clade].update(k.traits)\n",
    "    k.traits = clade_lookup[clade]"
   ]
  },
  {
   "cell_type": "code",
   "execution_count": null,
   "metadata": {},
   "outputs": [],
   "source": []
  },
  {
   "cell_type": "code",
   "execution_count": 24,
   "metadata": {},
   "outputs": [],
   "source": [
    "# ## Write the annotated antigenic tree to file for safekeeping\n",
    "# annotated_antigenic_tree_str = antigenic_tree.toString(traits=transfer_traits, nexus=True)\n",
    "# open(out_path+'annotated_antigenic_tree.nexus', 'w').write(annotated_antigenic_tree_str)"
   ]
  },
  {
   "cell_type": "code",
   "execution_count": 25,
   "metadata": {},
   "outputs": [],
   "source": [
    "# ### Create a collapsed, annotated antigenic tree file by taking a hacky detour through dendropy\n",
    "\n",
    "# ### This block only needs to be run once to create the collapsed_antigenic_tree file.\n",
    "# ### Deal with collapsing antigenically uniform clades in dendropy \n",
    "# ### (initially load in baltic to convert from JSON to newick)\n",
    "\n",
    "# antigenic_tree_str = uncollapsed_antigenic_tree.toString()\n",
    "# antigenic_tree_newick_file = out_path+'antigenic_tree.newick'\n",
    "# open(antigenic_tree_newick_file, 'w').write(antigenic_tree_str)\n",
    "\n",
    "# ### Now edit to remove the outermost 0.00 bl root to make dendropy happy\n",
    "# dendropy_antigenic_tree = dendropy.Tree.get(file=open(antigenic_tree_newick_file, 'r'), schema='newick')\n",
    "\n",
    "# # collapse internal nodes\n",
    "# for edge in dendropy_antigenic_tree.postorder_edge_iter():\n",
    "#     if edge.tail_node is not None and edge.is_internal():\n",
    "#         if edge.length < 0.01:\n",
    "#             edge.collapse()\n",
    "            \n",
    "# # prune tips with 0 length branches\n",
    "# # however, need to keep 1 tip per polytomy to properly draw\n",
    "\n",
    "# for node in dendropy_antigenic_tree.postorder_node_iter():\n",
    "#     if node.is_leaf() and node.edge_length < 0.01:\n",
    "#         siblings = node.sibling_nodes()\n",
    "#         no_length_leaf_siblings_count = 0\n",
    "#         for sibling in node.sibling_nodes():\n",
    "#             if sibling.is_leaf() and sibling.edge_length < 0.01:\n",
    "#                 no_length_leaf_siblings_count += 1\n",
    "#         if no_length_leaf_siblings_count > 0:\n",
    "#             dendropy_antigenic_tree.prune_subtree(node)\n",
    "\n",
    "# collapsed_antigenic_tree_file = './collapsed_antigenic_tree.newick'\n",
    "# dendropy_antigenic_tree.write(path=collapsed_antigenic_tree_file, schema='newick')"
   ]
  },
  {
   "cell_type": "code",
   "execution_count": 26,
   "metadata": {},
   "outputs": [],
   "source": [
    "#### Load the collapsed tree into baltic to attach traits; write the collapsed, annotated tree to file\n",
    "collapsed_antigenic_tree_file = '../data/trees/collapsed_antigenic_tree.newick'\n",
    "collapsed_antigenic_tree_str = open(collapsed_antigenic_tree_file, 'r').readlines()[0].strip()\n",
    "collapsed_antigenic_tree = bt.tree()\n",
    "bt.make_tree(collapsed_antigenic_tree_str, collapsed_antigenic_tree)\n",
    "collapsed_antigenic_tree.traverse_tree()\n",
    "collapsed_antigenic_tree.sortBranches()\n",
    "collapsed_antigenic_tree.drawTree()\n",
    "\n",
    "#### Recover the metadata we stored earlier\n",
    "for k in collapsed_antigenic_tree.Objects:\n",
    "    if hasattr(k, 'numName'):\n",
    "        clade = int(k.numName)\n",
    "        if clade in clade_lookup:\n",
    "            k.traits = clade_lookup[clade]\n",
    "            k.name = clade\n",
    "\n",
    "annotated_collapsed_tree_str = collapsed_antigenic_tree.toString(traits=['genotype', 'serotype', \n",
    "                                                                         'clade','cTiter', 'width'], nexus=True)\n",
    "open(out_path+'/annotated_collapsed_antigenic_tree.nexus', 'w').write(annotated_collapsed_tree_str)"
   ]
  },
  {
   "cell_type": "code",
   "execution_count": 8,
   "metadata": {},
   "outputs": [],
   "source": []
  },
  {
   "cell_type": "code",
   "execution_count": null,
   "metadata": {},
   "outputs": [],
   "source": []
  }
 ],
 "metadata": {
  "kernelspec": {
   "display_name": "Python 2",
   "language": "python",
   "name": "python2"
  },
  "language_info": {
   "codemirror_mode": {
    "name": "ipython",
    "version": 2
   },
   "file_extension": ".py",
   "mimetype": "text/x-python",
   "name": "python",
   "nbconvert_exporter": "python",
   "pygments_lexer": "ipython2",
   "version": "2.7.10"
  }
 },
 "nbformat": 4,
 "nbformat_minor": 2
}
