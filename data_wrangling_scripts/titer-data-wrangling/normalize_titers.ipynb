{
 "cells": [
  {
   "cell_type": "code",
   "execution_count": 1,
   "metadata": {},
   "outputs": [],
   "source": [
    "import pandas as pd\n",
    "import numpy as np\n",
    "import seaborn as sns\n",
    "%matplotlib inline"
   ]
  },
  {
   "cell_type": "code",
   "execution_count": 7,
   "metadata": {},
   "outputs": [
    {
     "name": "stdout",
     "output_type": "stream",
     "text": [
      "normalized with autologous: 509\n",
      "normalized with max: 40\n",
      "discarded: 9\n"
     ]
    }
   ],
   "source": [
    "titers = pd.read_csv('../../data/titers_katzelnick2015/dengue_titers.tsv', sep='\\t')\n",
    "\n",
    "# pull only the monovalent and NHP 3month vals\n",
    "titers = titers.loc[titers['source'].isin(['monovalent', 'agm_3mo'])] \n",
    "#  group by virus & serum strains and average\n",
    "titers = titers.groupby(['virus_strain', 'serum_strain'])['titer'].agg('mean').reset_index() \n",
    "# put on a log2 scale\n",
    "titers['titer'] = titers['titer'].map(np.log2)\n",
    "\n",
    "# find autologous titers\n",
    "autologous_titers = {}\n",
    "for idx, row in titers.iterrows():\n",
    "    if row['virus_strain'] == row['serum_strain']:\n",
    "        autologous_titers[row['virus_strain']] = row['titer']\n",
    "\n",
    "# normalize titer values\n",
    "normalized_with_autologous = 0\n",
    "normalized_with_max = 0\n",
    "discarded = 0\n",
    "for idx, row in titers.iterrows():\n",
    "    serum = row['serum_strain']\n",
    "    if serum in autologous_titers: # try and use autologous titers to normalize\n",
    "        row['titer'] = autologous_titers[serum] - row['titer']\n",
    "        normalized_with_autologous += 1\n",
    "    else: # if we have at least 10 values for that serum, default to the max titer\n",
    "        normalized_with_max += 1\n",
    "        serum_measurements = titers.loc[titers['serum_strain'] == serum]\n",
    "        if len(serum_measurements) >= 10:\n",
    "            autologous_proxy = max(serum_measurements['titer'].values)\n",
    "            row['titer'] = autologous_proxy - row['titer']\n",
    "            \n",
    "        else: # if no autologous and few measurements, discard measurement\n",
    "            discarded += 1\n",
    "            row['titer'] = np.nan\n",
    "titers = titers.loc[np.isfinite(titers['titer'])]\n",
    "\n",
    "print 'normalized with autologous: %d'%normalized_with_autologous\n",
    "print 'normalized with max: %d'%normalized_with_max\n",
    "print 'discarded: %d'%discarded"
   ]
  },
  {
   "cell_type": "code",
   "execution_count": 15,
   "metadata": {},
   "outputs": [],
   "source": [
    "titers.to_csv('../../data/titers_katzelnick2015/normalized_titers.csv',index=False)"
   ]
  },
  {
   "cell_type": "code",
   "execution_count": null,
   "metadata": {},
   "outputs": [],
   "source": []
  }
 ],
 "metadata": {
  "kernelspec": {
   "display_name": "Python 2",
   "language": "python",
   "name": "python2"
  },
  "language_info": {
   "codemirror_mode": {
    "name": "ipython",
    "version": 2
   },
   "file_extension": ".py",
   "mimetype": "text/x-python",
   "name": "python",
   "nbconvert_exporter": "python",
   "pygments_lexer": "ipython2",
   "version": "2.7.10"
  }
 },
 "nbformat": 4,
 "nbformat_minor": 2
}
