{
 "cells": [
  {
   "cell_type": "code",
   "execution_count": 1,
   "metadata": {},
   "outputs": [],
   "source": [
    "import pandas as pd\n",
    "from glob import glob\n",
    "import numpy as np\n",
    "import seaborn as sns\n",
    "import matplotlib.pyplot as plt\n",
    "%matplotlib inline"
   ]
  },
  {
   "cell_type": "code",
   "execution_count": 2,
   "metadata": {},
   "outputs": [
    {
     "name": "stdout",
     "output_type": "stream",
     "text": [
      "   lam_avi  lam_drop  lam_pot      rmse\n",
      "0      0.0       0.0      0.0  1.673254\n",
      "1      0.0       0.0      0.6  0.805237\n",
      "2      0.0       0.0      1.2  0.974857\n",
      "3      0.0       0.0      1.8  0.924558\n",
      "4      0.0       0.0      2.4  0.903572\n"
     ]
    }
   ],
   "source": [
    "infiles = glob('./lam_drop*.csv')\n",
    "dataframes = [pd.read_csv(f, index_col=0) for f in infiles]\n",
    "model_performance = pd.concat(dataframes, ignore_index=True)\n",
    "print model_performance.head()"
   ]
  },
  {
   "cell_type": "code",
   "execution_count": 3,
   "metadata": {},
   "outputs": [],
   "source": [
    "fit_params = [c for c in model_performance.columns.values if c != 'rmse']\n",
    "metrics = ['rmse']"
   ]
  },
  {
   "cell_type": "code",
   "execution_count": 4,
   "metadata": {
    "scrolled": false
   },
   "outputs": [
    {
     "name": "stderr",
     "output_type": "stream",
     "text": [
      "/Users/Sidney/Library/Python/2.7/lib/python/site-packages/ipykernel_launcher.py:2: DeprecationWarning: \n",
      ".ix is deprecated. Please use\n",
      ".loc for label based indexing or\n",
      ".iloc for positional indexing\n",
      "\n",
      "See the documentation here:\n",
      "http://pandas.pydata.org/pandas-docs/stable/indexing.html#ix-indexer-is-deprecated\n",
      "  \n"
     ]
    },
    {
     "name": "stdout",
     "output_type": "stream",
     "text": [
      "Best fit (optimizing rmse):\n",
      "lam_avi     0.600000\n",
      "lam_drop    3.000000\n",
      "lam_pot     1.200000\n",
      "rmse        0.693299\n",
      "Name: 224, dtype: float64\n"
     ]
    },
    {
     "data": {
      "image/png": "[encoded data removed]",
      "text/plain": [
       "<matplotlib.figure.Figure at 0x108155650>"
      ]
     },
     "metadata": {},
     "output_type": "display_data"
    }
   ],
   "source": [
    "def plot_profile_likelihoods(model_performance, metric='rmse'):\n",
    "    best_fit = model_performance.ix[model_performance[metric].idxmin()]\n",
    "    print 'Best fit (optimizing %s):\\n'%metric, best_fit\n",
    "    \n",
    "    fig, axes = plt.subplots(ncols=len(fit_params), nrows=1, figsize=(3*len(fit_params), 3), sharey=True)\n",
    "    for profile_param,ax in zip(fit_params, axes):\n",
    "        \n",
    "        fixed_params = [p for p in fit_params if p != profile_param]\n",
    "        \n",
    "        plot_data = model_performance\n",
    "        for fp in fixed_params:\n",
    "            plot_data = plot_data.loc[plot_data[fp] == best_fit[fp]]\n",
    "        \n",
    "        sns.regplot(profile_param, metric, data=plot_data, fit_reg=False, ax=ax)\n",
    "        ax.set_xlabel(profile_param)\n",
    "        ax.set_ylabel(metric)\n",
    "        \n",
    "    plt.tight_layout()\n",
    "#     plt.savefig('../profile-likelihoods/%s_%s_perf.png', dpi=300, bbox_inches='tight')\n",
    "    plt.show()\n",
    "    \n",
    "    return best_fit\n",
    "\n",
    "    \n",
    "rmse = plot_profile_likelihoods(model_performance, 'rmse')"
   ]
  },
  {
   "cell_type": "code",
   "execution_count": 5,
   "metadata": {},
   "outputs": [],
   "source": [
    "model_performance.to_csv('./titer_model_performance.csv')"
   ]
  },
  {
   "cell_type": "code",
   "execution_count": 8,
   "metadata": {},
   "outputs": [
    {
     "name": "stdout",
     "output_type": "stream",
     "text": [
      "Genotype & Interserotype & $\\Delta$ SSE & 15.65 & 1.79 & 0.57 & 0.57 & 2.00 & 1.00 & 0.64 & 0.00 \\\\ \n",
      "Genotype & Interserotype & Pearson $R^2$ & 0.34 & 0.50 & 0.57 & 0.57 & 1.00 & 1.00 & 0.64 & 0.00 \\\\ \n"
     ]
    }
   ],
   "source": [
    "def generate_table(best_fit, metric, genres, antres):\n",
    "    fit_dict = best_fit.to_dict()\n",
    "    fit_dict['DENV4_f0'] = 0.0\n",
    "    \n",
    "    if metric == 'delta_sse':\n",
    "        metric_str = '$\\Delta$ SSE'\n",
    "    elif metric == 'pearson_r2':\n",
    "        metric_str = 'Pearson $R^2$'\n",
    "    else:\n",
    "        metric_str = metric.capitalize()\n",
    "    metadata = ' & '.join([genres.capitalize(), antres.capitalize(), metric_str, '%.2f'%fit_dict[metric]])\n",
    "    params = ' & '.join(['%.2f'%fit_dict[param] for param in ['beta', 'gamma', 'sigma', 'DENV1_f0', 'DENV2_f0', 'DENV3_f0', 'DENV4_f0']])\n",
    "    print(metadata+' & '+params + r' \\\\ ')\n",
    "    \n",
    "generate_table(delta_sse, 'delta_sse', 'Genotype', 'Interserotype')\n",
    "generate_table(r2, 'pearson_r2', 'Genotype', 'Interserotype')"
   ]
  },
  {
   "cell_type": "code",
   "execution_count": null,
   "metadata": {},
   "outputs": [],
   "source": []
  }
 ],
 "metadata": {
  "kernelspec": {
   "display_name": "Python 2",
   "language": "python",
   "name": "python2"
  },
  "language_info": {
   "codemirror_mode": {
    "name": "ipython",
    "version": 2
   },
   "file_extension": ".py",
   "mimetype": "text/x-python",
   "name": "python",
   "nbconvert_exporter": "python",
   "pygments_lexer": "ipython2",
   "version": "2.7.10"
  }
 },
 "nbformat": 4,
 "nbformat_minor": 2
}
