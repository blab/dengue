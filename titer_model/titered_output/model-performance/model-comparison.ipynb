{
 "cells": [
  {
   "cell_type": "code",
   "execution_count": 8,
   "metadata": {},
   "outputs": [],
   "source": [
    "import pandas as pd\n",
    "from glob import glob\n",
    "import seaborn as sns\n",
    "import numpy as np\n",
    "import matplotlib.pyplot as plt\n",
    "from scipy import stats\n",
    "%matplotlib inline"
   ]
  },
  {
   "cell_type": "code",
   "execution_count": 19,
   "metadata": {},
   "outputs": [],
   "source": [
    "files = glob('*.csv')\n",
    "\n",
    "def get_ci(a, confidence=0.95):\n",
    "    n = len(a)\n",
    "    m, se = np.mean(a), stats.sem(a)\n",
    "    h = se * stats.t.ppf((1 + confidence) / 2., n-1)\n",
    "    return m-h, m+h\n",
    "    \n",
    "\n",
    "model_performance = []\n",
    "for f in files:\n",
    "    \n",
    "    if 'sub' in f:\n",
    "        model = 'Substitution'\n",
    "    else:\n",
    "        model = 'Tree'\n",
    "    if 'fulltree' in f:\n",
    "        resolution = 'Full tree'\n",
    "    else:\n",
    "        resolution = 'Interserotype'\n",
    "    if 'nonorm' in f:\n",
    "        normalization = 'No'\n",
    "    else:\n",
    "        normalization = 'Yes'\n",
    "    \n",
    "    performance = pd.read_csv(f)\n",
    "    \n",
    "    rmse_mean = performance['rms_error'].mean()\n",
    "    rmse_ci = get_ci(performance['rms_error'])\n",
    "    rmse_summary = '%.2f (%.2f, %.2f)'%(rmse_mean, rmse_ci[0], rmse_ci[1])\n",
    "    \n",
    "    r_sq_mean = performance['r_squared'].mean()\n",
    "    r_sq_ci = get_ci(performance['r_squared'])\n",
    "    r_sq_summary = '%.2f (%.2f, %.2f)'%(r_sq_mean, r_sq_ci[0], r_sq_ci[1])\n",
    "    \n",
    "    model_performance.append({\n",
    "        'Model': model,\n",
    "        'Resolution': resolution,\n",
    "        r'$v_a$ and $p_b$': normalization,\n",
    "        'RMSE': rmse_summary,\n",
    "        r'Pearson R^2': r_sq_summary\n",
    "    })"
   ]
  },
  {
   "cell_type": "code",
   "execution_count": 20,
   "metadata": {},
   "outputs": [],
   "source": [
    "model_performance = pd.DataFrame(model_performance)\n",
    "model_performance = model_performance.reindex(columns = ['Model', 'Resolution', r'$v_a$ and $p_b$', \\\n",
    "                                                         'RMSE', r'Pearson R^2'])\n",
    "model_performance = model_performance.sort_values(['Model', 'Resolution', r'$v_a$ and $p_b$'])\n",
    "model_performance = model_performance.round(2)\n",
    "table = model_performance.to_latex()\n",
    "\n"
   ]
  },
  {
   "cell_type": "code",
   "execution_count": 21,
   "metadata": {},
   "outputs": [],
   "source": [
    "open('./model_performance_summary.txt', 'w').write(table)"
   ]
  },
  {
   "cell_type": "code",
   "execution_count": null,
   "metadata": {},
   "outputs": [],
   "source": []
  }
 ],
 "metadata": {
  "kernelspec": {
   "display_name": "Python 2",
   "language": "python",
   "name": "python2"
  },
  "language_info": {
   "codemirror_mode": {
    "name": "ipython",
    "version": 2
   },
   "file_extension": ".py",
   "mimetype": "text/x-python",
   "name": "python",
   "nbconvert_exporter": "python",
   "pygments_lexer": "ipython2",
   "version": "2.7.10"
  }
 },
 "nbformat": 4,
 "nbformat_minor": 2
}
