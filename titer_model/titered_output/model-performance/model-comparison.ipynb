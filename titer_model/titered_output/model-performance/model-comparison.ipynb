{
 "cells": [
  {
   "cell_type": "code",
   "execution_count": 1,
   "metadata": {},
   "outputs": [],
   "source": [
    "import pandas as pd\n",
    "from glob import glob\n",
    "import seaborn as sns\n",
    "import matplotlib.pyplot as plt\n",
    "\n",
    "%matplotlib inline"
   ]
  },
  {
   "cell_type": "code",
   "execution_count": 2,
   "metadata": {},
   "outputs": [],
   "source": [
    "files = glob('*.csv')\n",
    "\n",
    "model_performance = []\n",
    "for f in files:\n",
    "    \n",
    "    if 'sub' in f:\n",
    "        model = 'Substitution'\n",
    "    else:\n",
    "        model = 'Tree'\n",
    "    if 'fulltree' in f:\n",
    "        resolution = 'Full tree'\n",
    "    else:\n",
    "        resolution = 'Interserotype'\n",
    "    if 'nonorm' in f:\n",
    "        normalization = 'No'\n",
    "    else:\n",
    "        normalization = 'Yes'\n",
    "    \n",
    "    mean_performance = pd.read_csv(f).mean()\n",
    "    rmse = mean_performance['rms_error']\n",
    "    r_squared = mean_performance['r_squared']\n",
    "    \n",
    "    model_performance.append({\n",
    "        'Model': model,\n",
    "        'Resolution': resolution,\n",
    "        r'$v_a$ and $p_b$': normalization,\n",
    "        'RMSE': rmse,\n",
    "        r'Pearson R^2': r_squared\n",
    "    })"
   ]
  },
  {
   "cell_type": "code",
   "execution_count": 3,
   "metadata": {},
   "outputs": [],
   "source": [
    "model_performance = pd.DataFrame(model_performance)\n",
    "model_performance = model_performance.reindex(columns = ['Model', 'Resolution', r'$v_a$ and $p_b$', 'RMSE', r'Pearson R^2'])\n",
    "model_performance = model_performance.sort_values(['Model', 'Resolution', r'$v_a$ and $p_b$'])\n",
    "model_performance = model_performance.round(2)\n",
    "table = model_performance.to_latex()"
   ]
  },
  {
   "cell_type": "code",
   "execution_count": 4,
   "metadata": {},
   "outputs": [],
   "source": [
    "open('./model_performance_summary.txt', 'w').write(table)"
   ]
  }
 ],
 "metadata": {
  "kernelspec": {
   "display_name": "Python 2",
   "language": "python",
   "name": "python2"
  },
  "language_info": {
   "codemirror_mode": {
    "name": "ipython",
    "version": 2
   },
   "file_extension": ".py",
   "mimetype": "text/x-python",
   "name": "python",
   "nbconvert_exporter": "python",
   "pygments_lexer": "ipython2",
   "version": "2.7.10"
  }
 },
 "nbformat": 4,
 "nbformat_minor": 2
}
