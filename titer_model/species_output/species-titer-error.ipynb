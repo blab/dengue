{
 "cells": [
  {
   "cell_type": "code",
   "execution_count": 1,
   "metadata": {},
   "outputs": [],
   "source": [
    "import pandas as pd\n",
    "import seaborn as sns\n",
    "import numpy as np\n",
    "import matplotlib.pyplot as plt\n",
    "%matplotlib inline"
   ]
  },
  {
   "cell_type": "code",
   "execution_count": 16,
   "metadata": {},
   "outputs": [],
   "source": [
    "pred = pd.read_csv('./predicted_titers.csv')\n",
    "\n",
    "pred['abs_error'] = np.abs(pred['actual'] - pred['predicted'])\n",
    "\n",
    "sera = pd.unique(pred['serum'])\n",
    "\n",
    "def serum_species(serum_array):\n",
    "    species_array = []\n",
    "    \n",
    "    for s in serum_array:\n",
    "        if 'DELTA' in s:\n",
    "            species_array.append('Human')\n",
    "        else:\n",
    "            species_array.append('NHP')\n",
    "    \n",
    "    return species_array\n",
    "\n",
    "pred['Species'] = serum_species(pred['serum'])\n",
    "pred['serotype'] = [s.split('/')[0] for s in pred['serum']]"
   ]
  },
  {
   "cell_type": "code",
   "execution_count": 17,
   "metadata": {},
   "outputs": [
    {
     "data": {
      "image/png": "[encoded data removed]",
      "text/plain": [
       "<matplotlib.figure.Figure at 0x106f933d0>"
      ]
     },
     "metadata": {},
     "output_type": "display_data"
    }
   ],
   "source": [
    "sns.set(style='whitegrid', font_scale=1.2)\n",
    "fig, ax = plt.subplots(figsize=(6,3))\n",
    "pred.sort_values(by=['Species', 'serotype'], inplace=True)\n",
    "\n",
    "sns.boxplot(x='serum', y='abs_error', hue='Species',data=pred, ax = ax)\n",
    "serotype_labels = [l.get_text().split('/')[0] for l in ax.get_xticklabels()]\n",
    "ax.set_xticklabels(serotype_labels)\n",
    "\n",
    "for label in ax.get_xticklabels():\n",
    "    label.set_rotation(90)\n",
    "    \n",
    "ax.set_xlabel('Serum')\n",
    "ax.set_ylabel(r'Absolute error $| \\hat{D}_{ij} - D_{ij} |$')\n",
    "\n",
    "plt.savefig('../../figures/png/titer_species_error.png', dpi=300, bbox_inches='tight')"
   ]
  },
  {
   "cell_type": "code",
   "execution_count": null,
   "metadata": {},
   "outputs": [],
   "source": []
  }
 ],
 "metadata": {
  "kernelspec": {
   "display_name": "Python 2",
   "language": "python",
   "name": "python2"
  },
  "language_info": {
   "codemirror_mode": {
    "name": "ipython",
    "version": 2
   },
   "file_extension": ".py",
   "mimetype": "text/x-python",
   "name": "python",
   "nbconvert_exporter": "python",
   "pygments_lexer": "ipython2",
   "version": "2.7.10"
  }
 },
 "nbformat": 4,
 "nbformat_minor": 2
}
