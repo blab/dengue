{
 "cells": [
  {
   "cell_type": "code",
   "execution_count": 1,
   "metadata": {},
   "outputs": [],
   "source": [
    "import pandas as pd"
   ]
  },
  {
   "cell_type": "code",
   "execution_count": 3,
   "metadata": {},
   "outputs": [],
   "source": [
    "titers = pd.read_csv('../../data/titers_katzelnick2015/dengue_titers.tsv', sep='\\t')"
   ]
  },
  {
   "cell_type": "code",
   "execution_count": 9,
   "metadata": {},
   "outputs": [],
   "source": [
    "## find all titers where the serum is from a NHP raised against an NIH vaccine strain\n",
    "serum_strains = set(titers['serum_strain'].values)\n",
    "nih_strains = [k for k in serum_strains if 'DELTA' in k] # NIH vaccine made by removing 30 aa. Names all have 'DELTA30' in them.\n",
    "\n",
    "agm_nih_titers = titers.loc[ (titers['source'].str.contains('agm')) & (titers['serum_strain'].isin(nih_strains)) ]"
   ]
  },
  {
   "cell_type": "code",
   "execution_count": 15,
   "metadata": {},
   "outputs": [],
   "source": [
    "## Remove the AGM titers from the NIH vaccine strains so that each serum sample is from only one species / not aggregated across datasets\n",
    "species_specific_titers = titers.loc[~titers.index.isin(agm_nih_titers.index)]"
   ]
  },
  {
   "cell_type": "code",
   "execution_count": 17,
   "metadata": {},
   "outputs": [],
   "source": [
    "species_specific_titers.to_csv('./species_specific_titers.tsv', sep='\\t', index=None)"
   ]
  },
  {
   "cell_type": "code",
   "execution_count": null,
   "metadata": {},
   "outputs": [],
   "source": []
  }
 ],
 "metadata": {
  "kernelspec": {
   "display_name": "Python 2",
   "language": "python",
   "name": "python2"
  },
  "language_info": {
   "codemirror_mode": {
    "name": "ipython",
    "version": 2
   },
   "file_extension": ".py",
   "mimetype": "text/x-python",
   "name": "python",
   "nbconvert_exporter": "python",
   "pygments_lexer": "ipython2",
   "version": "2.7.10"
  }
 },
 "nbformat": 4,
 "nbformat_minor": 2
}
