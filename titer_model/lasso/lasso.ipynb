{
 "cells": [
  {
   "cell_type": "code",
   "execution_count": 1,
   "metadata": {},
   "outputs": [],
   "source": [
    "import os\n",
    "import json\n",
    "import seaborn as sns\n",
    "import baltic as bt\n",
    "import matplotlib.pyplot as plt\n",
    "import pandas as pd\n",
    "%matplotlib inline"
   ]
  },
  {
   "cell_type": "code",
   "execution_count": 2,
   "metadata": {},
   "outputs": [],
   "source": [
    "import pickle\n",
    "colors = pickle.load(open('../../figures/colors.p', 'rb'))"
   ]
  },
  {
   "cell_type": "code",
   "execution_count": 3,
   "metadata": {
    "scrolled": true
   },
   "outputs": [],
   "source": [
    "lam_vals = range(0,21) + [30,50]\n",
    "\n",
    "# for l in lam_vals:\n",
    "    \n",
    "#     path = '../../lasso/lam_drop_%d/'%l\n",
    "#     mkdir_cmd = 'mkdir '+path\n",
    "#     process_cmd = 'python dengue.process.py --lam_drop %d --output %s --no_tree_freqs'%(l, path)\n",
    "    \n",
    "#     print mkdir_cmd\n",
    "#     print process_cmd\n",
    "#     print '\\n\\n'"
   ]
  },
  {
   "cell_type": "code",
   "execution_count": null,
   "metadata": {},
   "outputs": [
    {
     "name": "stdout",
     "output_type": "stream",
     "text": [
      "\n",
      "Tree height: 0.463664\n",
      "Tree length: 9.978979\n",
      "annotations present\n",
      "\n",
      "Numbers of objects in tree: 4716 (2149 nodes and 2567 leaves)\n",
      "\n"
     ]
    }
   ],
   "source": [
    "tree = bt.loadJSON('../shared_output/dengue_all_tree.json', json_translation={'height': 'div', 'name': 'strain'})"
   ]
  },
  {
   "cell_type": "code",
   "execution_count": 5,
   "metadata": {},
   "outputs": [],
   "source": [
    "def lookup_node(clade, tree):\n",
    "    try:\n",
    "        return [k for k in tree.nodes if k.traits['clade'] == clade][0]\n",
    "    except:\n",
    "        return None\n",
    "    \n",
    "def assign_tree_titer_values(dTiters, tree, out_path=None):\n",
    "    from copy import deepcopy\n",
    "    titer_tree = deepcopy(tree)\n",
    "    for clade, dTiter in dTiters.items():\n",
    "        node = lookup_node(int(clade), titer_tree)\n",
    "        node.traits['dTiter'] = dTiter\n",
    "        \n",
    "    for clade in titer_tree.traverse_tree(include_all=True):\n",
    "        if 'dTiter' not in clade.traits:\n",
    "            clade.traits['dTiter'] = 0.\n",
    "        \n",
    "        if clade.parent is not None and clade.index != 'Root':\n",
    "            clade.traits['cTiter'] = clade.parent.traits['cTiter'] + clade.traits['dTiter']\n",
    "        else:\n",
    "            clade.traits['cTiter']=0.\n",
    "            \n",
    "    if out_path:\n",
    "        treestring = titer_tree.toString(traits=['cTiter', 'dTiter', 'clade'], nexus=True, numName=True)\n",
    "        open(out_path, 'w').write(treestring)\n",
    "        \n",
    "    return titer_tree\n",
    "\n",
    "def get_rmse(perf_path):\n",
    "    rmse = pd.read_csv(perf_path, index_col=None)['rms_error']\n",
    "    return rmse.mean()\n",
    "\n",
    "rmse = {}\n",
    "dTiters = {}\n",
    "for d in lam_vals:\n",
    "    if d in rmse or d < 1:\n",
    "        continue\n",
    "    rmse[d] = get_rmse('./lam_drop_%d/titer_model_performance.csv'%d)\n",
    "    dTiter_path = './lam_drop_%d/dengue_all_tree_model.json'%d\n",
    "    dTiters[d] = json.load(open(dTiter_path, 'r'))['dTiter']\n",
    "    \n",
    "#     assign_tree_titer_values(dTiters[d], tree, out_path='./lam_drop_%d/titer_tree.nexus'%d)"
   ]
  },
  {
   "cell_type": "code",
   "execution_count": null,
   "metadata": {},
   "outputs": [],
   "source": [
    "# n_pheno = {\n",
    "#     0: ,\n",
    "#     2: ,\n",
    "#     4: ,\n",
    "#     6: ,\n",
    "#     8: ,\n",
    "#     10: ,\n",
    "#     12: ,\n",
    "#     14: ,\n",
    "#     16: ,\n",
    "#     18: ,\n",
    "#     20: ,\n",
    "# }"
   ]
  },
  {
   "cell_type": "code",
   "execution_count": null,
   "metadata": {},
   "outputs": [],
   "source": [
    "def is_interserotype(node):\n",
    "    if node.branchType == 'leaf':\n",
    "        return False\n",
    "    descendents = node.leaves\n",
    "    serotypes = [k.split('/')[0] for k in descendents]\n",
    "    serotypes = [s for s in serotypes if s != 'DENV']\n",
    "    return len(set(serotypes)) > 1\n",
    "\n",
    "interserotype_branches = []\n",
    "for k in tree.Objects:\n",
    "    if is_interserotype(k):\n",
    "        interserotype_branches.append(k)\n",
    "        interserotype_branches += k.children\n",
    "interserotype_branches = [ k.traits['clade'] for k in interserotype_branches]"
   ]
  },
  {
   "cell_type": "code",
   "execution_count": null,
   "metadata": {},
   "outputs": [],
   "source": [
    "sns.set(style='whitegrid', font_scale=1.2)\n",
    "fig, axes = plt.subplots(nrows=2, ncols=1, figsize=(8,8))\n",
    "\n",
    "rmse_ax = axes[0]\n",
    "# rmse_vals = pd.DataFrame.from_dict(rmse, orient=\"columns\").melt(var_name='lambda', value_name='rmse')\n",
    "# rmse_vals.head()\n",
    "# sns.pointplot(x='lambda', y='rmse', data=rmse_vals, color='gray', ax=rmse_ax,dodge=True)\n",
    "\n",
    "rmse_x = sorted(rmse.keys())\n",
    "rmse_y = [rmse[x] for x in rmse_x]\n",
    "rmse_ax.plot(rmse_x,rmse_y,'-o', c='gray')\n",
    "rmse_ax.set_ylabel('Root mean squared error')\n",
    "rmse_ax.set_xticks(lam_vals[::2]+[30])\n",
    "\n",
    "\n",
    "# pheno_ax = axes[1]\n",
    "# ## add these vals later\n",
    "# pheno_ax.set_ylabel('N phenotypes found')\n",
    "\n",
    "db_ax = axes[2]\n",
    "db_vals = pd.DataFrame(dTiters)\n",
    "for clade, d_b in db_vals.iterrows():\n",
    "    if int(clade) in interserotype_branches:\n",
    "        c = colors['interserotype_effects']\n",
    "    else:\n",
    "        c = colors['all_effects']\n",
    "    db_ax.plot(db_vals.columns.values, d_b, color=c)\n",
    "db_ax.set_xticks(lam_vals[::2]+[30])\n",
    "db_ax.set_ylabel(r'Inferred $d_b$ values')\n",
    "db_ax.set_xlabel(r'$\\lambda$ (regularization of titer drop)')\n",
    "db_ax.set_ylim(0,1.2)\n",
    "\n",
    "db_ax.set_xlim(1,50)\n",
    "plt.tight_layout()\n",
    "plt.show()"
   ]
  },
  {
   "cell_type": "code",
   "execution_count": null,
   "metadata": {},
   "outputs": [],
   "source": [
    "def plot_tree(tree, colorby):\n",
    "    branchWidth=2 ## default branch width\n",
    "    ll = tree\n",
    "\n",
    "    plt.yticks(size=0)\n",
    "    \n",
    "    for k in ll.Objects: ## iterate over objects in tree\n",
    "        x=k.x ## or use absolute time instead\n",
    "        y=k.y ## get y position from .drawTree that was run earlier, but could be anything else\n",
    "\n",
    "        xp=k.parent.x ## get x position of current object's parent\n",
    "        if x==None: ## matplotlib won't plot Nones, like root\n",
    "            x=0.0\n",
    "        if xp==None:\n",
    "            xp=x\n",
    "            \n",
    "        if k.traits.has_key(colorby) and 'SYLVATIC' not in k.traits[colorby]:\n",
    "            c = colors[k.traits[colorby]]\n",
    "            z = 10\n",
    "        else:\n",
    "            c = 'gray'\n",
    "            z = 5\n",
    "            \n",
    "        if isinstance(k,bt.leaf) or k.branchType=='leaf': ## if leaf...\n",
    "            s=50 ## tip size can be fixed\n",
    "            s=50-30*k.height/ll.treeHeight\n",
    "            \n",
    "            if colorby in k.traits:\n",
    "                label = k.traits[colorby].replace('_', ' ')\n",
    "            else:\n",
    "                label = ''\n",
    "            plt.scatter(x,y,s=s,facecolor=c,edgecolor='none',zorder=z+1, label=label) ## plot circle for every tip\n",
    "            plt.scatter(x,y,s=s+0.8*s,facecolor='k',edgecolor='none',zorder=z) ## plot black circle underneath\n",
    "                        \n",
    "        elif isinstance(k,bt.node) or k.branchType=='node': ## if node...\n",
    "            plt.plot([x,x],[k.children[-1].y,k.children[0].y],lw=branchWidth,color=c,ls='-',zorder=z-1)\n",
    "            \n",
    "        plt.plot([xp,x],[y,y],lw=branchWidth,color=c,ls='-',zorder=z-1)\n",
    "    plt.xlabel('Substitutions per site')\n",
    "    \n",
    "    ax.spines['top'].set_visible(False) ## no axes\n",
    "    ax.spines['right'].set_visible(False)\n",
    "    ax.spines['left'].set_visible(False)\n",
    "    ax.xaxis.grid(True)\n",
    "#     ax.spines['bottom'].set_visible(False)\n",
    "\n",
    "    x0,x1 = plt.xlim()\n",
    "    plt.xlim((x0, x1))"
   ]
  }
 ],
 "metadata": {
  "kernelspec": {
   "display_name": "Python 2",
   "language": "python",
   "name": "python2"
  },
  "language_info": {
   "codemirror_mode": {
    "name": "ipython",
    "version": 2
   },
   "file_extension": ".py",
   "mimetype": "text/x-python",
   "name": "python",
   "nbconvert_exporter": "python",
   "pygments_lexer": "ipython2",
   "version": "2.7.10"
  }
 },
 "nbformat": 4,
 "nbformat_minor": 2
}
