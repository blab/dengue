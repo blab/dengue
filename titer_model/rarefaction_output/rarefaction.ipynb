{
 "cells": [
  {
   "cell_type": "code",
   "execution_count": 1,
   "metadata": {},
   "outputs": [],
   "source": [
    "import numpy as np\n",
    "import seaborn as sns\n",
    "import baltic as bt\n",
    "import pandas as pd\n",
    "import matplotlib.pyplot as plt\n",
    "%matplotlib inline\n",
    "import json\n",
    "import pickle\n",
    "from copy import deepcopy"
   ]
  },
  {
   "cell_type": "code",
   "execution_count": 2,
   "metadata": {},
   "outputs": [],
   "source": [
    "colors = pickle.load(open('../../figures/colors.p', 'rb'))"
   ]
  },
  {
   "cell_type": "code",
   "execution_count": 3,
   "metadata": {},
   "outputs": [
    {
     "name": "stdout",
     "output_type": "stream",
     "text": [
      "                 virus_strain                            serum_strain  \\\n",
      "0  DENV1/BOLIVIA/FSB3363/2010  DENV1/NAURU/WESTERNPACIFICDELTA30/1974   \n",
      "1  DENV1/BOLIVIA/FSB3363/2010  DENV1/NAURU/WESTERNPACIFICDELTA30/1974   \n",
      "2  DENV1/BOLIVIA/FSB3363/2010  DENV1/NAURU/WESTERNPACIFICDELTA30/1974   \n",
      "3  DENV1/BOLIVIA/FSB3363/2010  DENV1/NAURU/WESTERNPACIFICDELTA30/1974   \n",
      "4  DENV1/BOLIVIA/FSB3363/2010  DENV1/NAURU/WESTERNPACIFICDELTA30/1974   \n",
      "\n",
      "   serum_id      source  titer  \n",
      "0         3  monovalent     20  \n",
      "1        13  monovalent     17  \n",
      "2        15  monovalent     12  \n",
      "3        19  monovalent     10  \n",
      "4        38  monovalent     13  \n"
     ]
    }
   ],
   "source": [
    "titer_file = '../../data/titers_katzelnick2015/dengue_titers.tsv'\n",
    "titers = pd.read_csv(titer_file, sep='\\t')\n",
    "titers = titers.loc[titers['source'].isin(['monovalent', 'agm_3mo'])]\n",
    "print titers.head()"
   ]
  },
  {
   "cell_type": "code",
   "execution_count": 14,
   "metadata": {},
   "outputs": [],
   "source": [
    "def subsample_titers(n_per_serotype, titers=titers, out_file=None):\n",
    "    \n",
    "    serotypes = ['DENV1', 'DENV2', 'DENV3', 'DENV4']\n",
    "\n",
    "    selected_sera = []\n",
    "    for serotype in serotypes:\n",
    "        \n",
    "        serotype_titers = titers.loc[titers['serum_strain'].str.startswith(serotype)]\n",
    "        serotype_sera = set(serotype_titers['serum_strain'].values)\n",
    "        try:\n",
    "            the_chosen_ones = np.random.choice(list(serotype_sera), size=n_per_serotype, replace=False).tolist()\n",
    "        except ValueError: # n > len(serotype_sera)\n",
    "            the_chosen_ones = list(serotype_sera)\n",
    "        selected_sera += the_chosen_ones\n",
    "        \n",
    "    selected_titers = titers.loc[titers['serum_strain'].isin(selected_sera)]\n",
    "    \n",
    "    if out_file:\n",
    "        selected_titers.to_csv(out_file, index=False, sep='\\t')\n",
    "    return selected_titers"
   ]
  },
  {
   "cell_type": "code",
   "execution_count": 15,
   "metadata": {},
   "outputs": [],
   "source": [
    "for n in [1,3,5]:\n",
    "    ofile = './rarefaction_titers_n%d.tsv'%n\n",
    "    subsample_titers(n,out_file=ofile)"
   ]
  },
  {
   "cell_type": "code",
   "execution_count": 19,
   "metadata": {},
   "outputs": [
    {
     "name": "stdout",
     "output_type": "stream",
     "text": [
      "python dengue.prepare.py -s all --titers ../../rarefaction/rarefaction_titers_n1.tsv --strains ../../../data/sequences/titered_strains.txt --file_prefix rarefaction_n1 --sequences ../../../data/sequences/titered_E.fasta\n",
      "\n",
      "\n",
      "\n",
      "python dengue.prepare.py -s all --titers ../../rarefaction/rarefaction_titers_n3.tsv --strains ../../../data/sequences/titered_strains.txt --file_prefix rarefaction_n3 --sequences ../../../data/sequences/titered_E.fasta\n",
      "\n",
      "\n",
      "\n",
      "python dengue.prepare.py -s all --titers ../../rarefaction/rarefaction_titers_n5.tsv --strains ../../../data/sequences/titered_strains.txt --file_prefix rarefaction_n5 --sequences ../../../data/sequences/titered_E.fasta\n",
      "\n",
      "\n",
      "\n"
     ]
    }
   ],
   "source": [
    "for n in [1,3,5]:\n",
    "    prepare_cmd = 'python dengue.prepare.py -s all --titers ../../rarefaction/rarefaction_titers_n%d.tsv --strains ../../../data/sequences/titered_strains.txt --file_prefix rarefaction_n%d --sequences ../../../data/sequences/titered_E.fasta'%(n,n)\n",
    "    print prepare_cmd\n",
    "    print '\\n\\n'"
   ]
  },
  {
   "cell_type": "code",
   "execution_count": 22,
   "metadata": {},
   "outputs": [],
   "source": [
    "for n in [1,3,5]:\n",
    "    prepared_json = json.load(open('../implementation-nextstrain-augur/dengue/prepared/rarefaction_n%d.json'%n))\n",
    "    \n",
    "    reference_block = {\n",
    "    \"included\": False, \n",
    "    \"strain\": \"DENV4/NA/REFERENCE/2003\", \n",
    "        \"genes\": {\n",
    "        \"E\": {\n",
    "            \"start\": 0, \n",
    "            \"end\": 1485, \n",
    "            \"strand\": 1\n",
    "            }\n",
    "        }, \n",
    "    \"seq\": \"ATGCGATGCGTAGGAGTAGGAAACAGAGACTTTGTGGAAGGAGTCTCAGGTGGAGCATGGGTCGACCTGGTGCTAGAACATGGAGGATGCGTCACAACCATGGCCCAGGGAAAACCAACCTTGGATTTTGAACTGACTAAGACAACAGCCAAGGAAGTGGCTCTGTTAAGAACCTATTGCATTGAAGCCTCAATATCAAACATAACTACGGCAACAAGATGTCCAACGCAAGGAGAGCCTTATCTGAAAGAGGAACAGGACCAACAGTACATTTGCCGGAGAGATGTGGTAGACAGAGGGTGGGGCAATGGCTGTGGCTTGTTTGGAAAAGGAGGAGTTGTGACATGTGCGAAGTTTTCATGTTCGGGGAAGATAACAGGCAATTTGGTCCAAATTGAGAACCTTGAATACACAGTGGTTGTAACAGTCCACAATGGAGACACCCATGCAGTAGGAAATGACACATCCAATCATGGAGTTACAGCCATGATAACTCCCAGGTCACCATCGGTGGAAGTCAAATTGCCGGACTATGGAGAACTAACACTCGATTGTGAACCCAGGTCTGGAATTGACTTTAATGAGATGATTCTGATGAAAATGAAAAAGAAAACATGGCTCGTGCATAAGCAATGGTTTTTGGATCTGCCTCTTCCATGGACAGCAGGAGCAGACACATCAGAGGTTCACTGGAATTACAAAGAGAGAATGGTGACATTTAAGGTTCCTCATGCCAAGAGACAGGATGTGACAGTGCTGGGATCTCAGGAAGGAGCCATGCATTCTGCCCTCGCTGGAGCCACAGAAGTGGACTCCGGTGATGGAAATCACATGTTTGCAGGACATCTTAAGTGCAAAGTCCGTATGGAGAAATTGAGAATCAAGGGAATGTCATACACGATGTGTTCAGGAAAGTTTTCAATTGACAAAGAGATGGCAGAAACACAGCATGGGACAACAGTGGTGAAAGTCAAGTATGAAGGTGCTGGAGCTCCGTGTAAAGTCCCCATAGAGATAAGAGATGTAAACAAGGAAAAAGTGGTTGGGCGTATCATCTCATCCACCCCTTTGGCTGAGAATACCAACAGTGTAACCAACATAGAATTAGAACCCCCCTTTGGGGACAGCTACATAGTGATAGGTGTTGGAAACAGCGCATTAACACTCCATTGGTTCAGGAAAGGGAGTTCCATTGGCAAGATGTTTGAGTCCACATACAGAGGTGCAAAACGAATGGCCATTCTAGGTGAAACAGCTTGGGATTTTGGTTCCGTTGGTGGACTGTTCACATCATTGGGAAAGGCTGTGCACCAGGTTTTTGGAAGTGTGTATACAACCATGTTTGGAGGAGTCTCATGGATGATTAGAATCCTAATTGGGTTCTTAGTGTTGTGGATTGGCACGAACTCGAGGAACACTTCAATGGCTATGACGTGCATAGCTGTTGGAGGAATCACTCTGTTTCTGGGCTTCACAGTTCAAGCA\"\n",
    "     }\n",
    "    \n",
    "    prepared_json['reference'] = reference_block\n",
    "    json.dump(prepared_json, open('../implementation-nextstrain-augur/dengue/prepared/rarefaction_n%d.json'%n, 'w'), indent=1)"
   ]
  },
  {
   "cell_type": "code",
   "execution_count": 24,
   "metadata": {},
   "outputs": [
    {
     "name": "stdout",
     "output_type": "stream",
     "text": [
      "python dengue.process.py -j ./prepared/rarefaction_n1.json --no_tree_freqs\n",
      "\n",
      "\n",
      "\n",
      "python dengue.process.py -j ./prepared/rarefaction_n3.json --no_tree_freqs\n",
      "\n",
      "\n",
      "\n",
      "python dengue.process.py -j ./prepared/rarefaction_n5.json --no_tree_freqs\n",
      "\n",
      "\n",
      "\n"
     ]
    }
   ],
   "source": [
    "for n in [1,3,5]:\n",
    "    process_cmd = 'python dengue.process.py -j ./prepared/rarefaction_n%d.json --no_tree_freqs'%n\n",
    "    print process_cmd\n",
    "    print '\\n\\n'"
   ]
  },
  {
   "cell_type": "code",
   "execution_count": null,
   "metadata": {},
   "outputs": [],
   "source": []
  },
  {
   "cell_type": "code",
   "execution_count": null,
   "metadata": {},
   "outputs": [],
   "source": []
  },
  {
   "cell_type": "code",
   "execution_count": null,
   "metadata": {},
   "outputs": [],
   "source": []
  },
  {
   "cell_type": "code",
   "execution_count": null,
   "metadata": {},
   "outputs": [],
   "source": []
  },
  {
   "cell_type": "code",
   "execution_count": 25,
   "metadata": {},
   "outputs": [
    {
     "name": "stdout",
     "output_type": "stream",
     "text": [
      "\n",
      "Tree height: 0.463664\n",
      "Tree length: 9.978979\n",
      "annotations present\n",
      "\n",
      "Numbers of objects in tree: 4716 (2149 nodes and 2567 leaves)\n",
      "\n"
     ]
    }
   ],
   "source": [
    "tree = bt.loadJSON('../shared_output/dengue_all_tree.json', json_translation={'height': 'div', 'name': 'strain'})"
   ]
  },
  {
   "cell_type": "code",
   "execution_count": 26,
   "metadata": {},
   "outputs": [],
   "source": [
    "def lookup_node(clade, tree):\n",
    "    try:\n",
    "        return [k for k in tree.nodes if k.traits['clade'] == clade][0]\n",
    "    except:\n",
    "        return None\n",
    "    \n",
    "def assign_tree_titer_values(titers, tree):\n",
    "    from copy import deepcopy\n",
    "    titer_tree = deepcopy(tree)\n",
    "    for clade, dTiter in titers['dTiter'].items():\n",
    "        node = lookup_node(int(clade), titer_tree)\n",
    "        node.traits['dTiter'] = dTiter\n",
    "        \n",
    "    for clade in titer_tree.traverse_tree(include_all=True):\n",
    "        if 'dTiter' not in clade.traits:\n",
    "            clade.traits['dTiter'] = 0.\n",
    "        \n",
    "        if clade.parent is not None and clade.index != 'Root':\n",
    "            clade.traits['cTiter'] = clade.parent.traits['cTiter'] + clade.traits['dTiter']\n",
    "        else:\n",
    "            clade.traits['cTiter']=0.\n",
    "    return titer_tree\n",
    "\n",
    "def find_n_phenotypes(path, tree):    \n",
    "    titers = json.load(open(path, 'r'))\n",
    "    titer_tree = assign_tree_titer_values(titers, tree)\n",
    "    \n",
    "    n_cTiter = len(set([round(k.traits['cTiter'],1) for k in titer_tree.leaves]))\n",
    "    return n_cTiter, titer_tree\n",
    "                   \n",
    "n1_cTiter, n1_tree = find_n_phenotypes('../rarefaction/n1/dengue_all_tree_model.json', tree)"
   ]
  },
  {
   "cell_type": "code",
   "execution_count": 28,
   "metadata": {},
   "outputs": [],
   "source": [
    "n1_tree_string = n1_tree.toString(traits=['cTiter', 'dTiter', 'clade'], nexus=True, numName=True)\n"
   ]
  },
  {
   "cell_type": "code",
   "execution_count": 29,
   "metadata": {},
   "outputs": [],
   "source": [
    "open('./n1/n1_titer_tree.nexus', 'w').write(n1_tree_string)"
   ]
  },
  {
   "cell_type": "code",
   "execution_count": 17,
   "metadata": {},
   "outputs": [],
   "source": [
    "n_phenotypes_found = [(n,find_n_phenotypes('../rarefaction/n%d/dengue_all_tree_model.json'%n)) for n in [1,2,4,8]]"
   ]
  },
  {
   "cell_type": "code",
   "execution_count": 19,
   "metadata": {},
   "outputs": [
    {
     "name": "stdout",
     "output_type": "stream",
     "text": [
      "[(1, 11), (2, 12), (4, 16), (8, 17)]\n"
     ]
    }
   ],
   "source": [
    "print n_phenotypes_found"
   ]
  },
  {
   "cell_type": "code",
   "execution_count": 20,
   "metadata": {},
   "outputs": [
    {
     "data": {
      "text/plain": [
       "<matplotlib.text.Text at 0x114603d90>"
      ]
     },
     "execution_count": 20,
     "metadata": {},
     "output_type": "execute_result"
    },
    {
     "data": {
      "image/png": "[encoded data removed]",
      "text/plain": [
       "<matplotlib.figure.Figure at 0x114476590>"
      ]
     },
     "metadata": {},
     "output_type": "display_data"
    }
   ],
   "source": [
    "sns.set(style='whitegrid', font_scale=1.2)\n",
    "fig, ax = plt.subplots(figsize=(7,5))\n",
    "ax.plot([x[0] for x in n_phenotypes_found], [y[1] for y in n_phenotypes_found])\n",
    "ax.set_ylim(0, 20)\n",
    "ax.set_xlabel('Sera strains per serotype')\n",
    "ax.set_ylabel('Number of antigenic phenotypes identified')"
   ]
  },
  {
   "cell_type": "code",
   "execution_count": null,
   "metadata": {},
   "outputs": [],
   "source": []
  }
 ],
 "metadata": {
  "kernelspec": {
   "display_name": "Python 2",
   "language": "python",
   "name": "python2"
  },
  "language_info": {
   "codemirror_mode": {
    "name": "ipython",
    "version": 2
   },
   "file_extension": ".py",
   "mimetype": "text/x-python",
   "name": "python",
   "nbconvert_exporter": "python",
   "pygments_lexer": "ipython2",
   "version": "2.7.10"
  }
 },
 "nbformat": 4,
 "nbformat_minor": 2
}
