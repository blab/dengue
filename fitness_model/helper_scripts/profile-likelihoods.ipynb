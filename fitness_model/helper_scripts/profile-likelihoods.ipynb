{
 "cells": [
  {
   "cell_type": "code",
   "execution_count": 1,
   "metadata": {},
   "outputs": [],
   "source": [
    "import pandas as pd\n",
    "import numpy as np\n",
    "import seaborn as sns\n",
    "import matplotlib.pyplot as plt\n",
    "%matplotlib inline"
   ]
  },
  {
   "cell_type": "code",
   "execution_count": 2,
   "metadata": {},
   "outputs": [],
   "source": [
    "name = 'seasia_serotype'\n",
    "infile = '../simulation/model_performance.csv'\n",
    "model_performance = pd.read_csv(infile, index_col=0)\n",
    "\n",
    "model_performance.drop('Unnamed: 0.1', axis=1, inplace=True)\n",
    "model_performance = model_performance.reset_index()\n",
    "\n",
    "fit_params = ['DENV1_f0','DENV2_f0','DENV3_f0','beta', 'gamma', 'sigma']\n",
    "metrics = ['abs_error', 'accuracy', 'beta', 'delta_sse', 'information_gain', 'pearson_r2', 'spearman_r']"
   ]
  },
  {
   "cell_type": "code",
   "execution_count": 3,
   "metadata": {},
   "outputs": [
    {
     "data": {
      "text/plain": [
       "array([ 0.  ,  0.3 ,  0.45,  0.15,  1.5 ,  2.5 ,  2.  ,  0.5 ,  1.  ,  3.  ])"
      ]
     },
     "execution_count": 3,
     "metadata": {},
     "output_type": "execute_result"
    }
   ],
   "source": [
    "pd.unique(model_performance['gamma'])"
   ]
  },
  {
   "cell_type": "code",
   "execution_count": 4,
   "metadata": {
    "scrolled": false
   },
   "outputs": [
    {
     "name": "stderr",
     "output_type": "stream",
     "text": [
      "/Users/Sidney/Library/Python/2.7/lib/python/site-packages/ipykernel_launcher.py:6: DeprecationWarning: \n",
      ".ix is deprecated. Please use\n",
      ".loc for label based indexing or\n",
      ".iloc for positional indexing\n",
      "\n",
      "See the documentation here:\n",
      "http://pandas.pydata.org/pandas-docs/stable/indexing.html#ix-indexer-is-deprecated\n",
      "  \n"
     ]
    },
    {
     "name": "stdout",
     "output_type": "stream",
     "text": [
      "Best fit (optimizing delta_sse):\n",
      "index         342.000000\n",
      "DENV1_f0        6.000000\n",
      "DENV2_f0        6.000000\n",
      "DENV3_f0        6.000000\n",
      "abs_error       0.170525\n",
      "accuracy        0.771252\n",
      "beta            0.500000\n",
      "delta_sse      44.290163\n",
      "gamma           0.000000\n",
      "pearson_r2      0.787132\n",
      "sigma           0.500000\n",
      "spearman_r      0.617170\n",
      "Name: 28433, dtype: float64\n"
     ]
    },
    {
     "data": {
      "image/png": "[encoded data removed]",
      "text/plain": [
       "<matplotlib.figure.Figure at 0x1155a1c10>"
      ]
     },
     "metadata": {},
     "output_type": "display_data"
    },
    {
     "name": "stdout",
     "output_type": "stream",
     "text": [
      "Best fit (optimizing pearson_r2):\n",
      "index         61.000000\n",
      "DENV1_f0       0.450000\n",
      "DENV2_f0       0.450000\n",
      "DENV3_f0       0.150000\n",
      "abs_error      0.004084\n",
      "accuracy       0.978723\n",
      "beta           0.950000\n",
      "delta_sse      3.377099\n",
      "gamma          0.150000\n",
      "pearson_r2     0.998997\n",
      "sigma          3.000000\n",
      "spearman_r     0.998087\n",
      "Name: 3069, dtype: float64\n"
     ]
    },
    {
     "data": {
      "image/png": "[encoded data removed]",
      "text/plain": [
       "<matplotlib.figure.Figure at 0x115816d50>"
      ]
     },
     "metadata": {},
     "output_type": "display_data"
    }
   ],
   "source": [
    "def plot_profile_likelihoods(model_performance, metric):\n",
    "\n",
    "    if metric == 'abs_error':\n",
    "        best_fit = model_performance.ix[model_performance[metric].idxmin()]\n",
    "    else:\n",
    "        best_fit = model_performance.ix[model_performance[metric].idxmax()]\n",
    "    print 'Best fit (optimizing %s):\\n'%metric, best_fit\n",
    "    \n",
    "    fig, axes = plt.subplots(ncols=len(fit_params), nrows=1, figsize=(3*len(fit_params), 3), sharey=True)\n",
    "    for profile_param,ax in zip(fit_params, axes):\n",
    "        \n",
    "        fixed_params = [p for p in fit_params if p != profile_param]\n",
    "        \n",
    "        plot_data = model_performance\n",
    "        for fp in fixed_params:\n",
    "            plot_data = plot_data.loc[plot_data[fp] == best_fit[fp]]\n",
    "        \n",
    "        sns.regplot(profile_param, metric, data=plot_data, fit_reg=False, ax=ax)\n",
    "        ax.set_xlabel(profile_param)\n",
    "        ax.set_ylabel(metric)\n",
    "        \n",
    "    plt.tight_layout()\n",
    "#     plt.savefig('../profile-likelihoods/%s_%s_perf.png', dpi=300, bbox_inches='tight')\n",
    "    plt.show()\n",
    "    \n",
    "    return best_fit\n",
    "\n",
    "    \n",
    "delta_sse = plot_profile_likelihoods(model_performance, 'delta_sse')\n",
    "r2 = plot_profile_likelihoods(model_performance, 'pearson_r2')"
   ]
  },
  {
   "cell_type": "code",
   "execution_count": 7,
   "metadata": {},
   "outputs": [
    {
     "name": "stdout",
     "output_type": "stream",
     "text": [
      "Serotype & Interserotype & $\\Delta$ SSE & 3.67 & 0.20 & 0.20 & 0.78 & 0.45 & 0.45 & 0.30 & 0.00 \\\\ \n",
      "Serotype & Interserotype & Pearson $R^2$ & 0.58 & 0.80 & 0.50 & 1.12 & 0.75 & 0.90 & 0.30 & 0.00 \\\\ \n"
     ]
    }
   ],
   "source": [
    "def generate_table(best_fit, metric, genres, antres):\n",
    "    fit_dict = best_fit.to_dict()\n",
    "    fit_dict['DENV4_f0'] = 0.0\n",
    "    \n",
    "    if metric == 'delta_sse':\n",
    "        metric_str = '$\\Delta$ SSE'\n",
    "    elif metric == 'pearson_r2':\n",
    "        metric_str = 'Pearson $R^2$'\n",
    "    else:\n",
    "        metric_str = metric.capitalize()\n",
    "    metadata = ' & '.join([genres.capitalize(), antres.capitalize(), metric_str, '%.2f'%fit_dict[metric]])\n",
    "    params = ' & '.join(['%.2f'%fit_dict[param] for param in ['beta', 'gamma', 'sigma', 'DENV1_f0', 'DENV2_f0', 'DENV3_f0', 'DENV4_f0']])\n",
    "    print(metadata+' & '+params + r' \\\\ ')\n",
    "    \n",
    "generate_table(delta_sse, 'delta_sse', 'Serotype', 'Interserotype')\n",
    "generate_table(r2, 'pearson_r2', 'Serotype', 'Interserotype')\n",
    "\n"
   ]
  },
  {
   "cell_type": "code",
   "execution_count": null,
   "metadata": {},
   "outputs": [],
   "source": []
  }
 ],
 "metadata": {
  "kernelspec": {
   "display_name": "Python 3",
   "language": "python",
   "name": "python3"
  },
  "language_info": {
   "codemirror_mode": {
    "name": "ipython",
    "version": 3
   },
   "file_extension": ".py",
   "mimetype": "text/x-python",
   "name": "python",
   "nbconvert_exporter": "python",
   "pygments_lexer": "ipython3",
   "version": "3.7.2"
  }
 },
 "nbformat": 4,
 "nbformat_minor": 2
}
