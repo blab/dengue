{
 "cells": [
  {
   "cell_type": "code",
   "execution_count": 1,
   "metadata": {},
   "outputs": [],
   "source": [
    "from Bio import SeqIO\n",
    "from Bio.Seq import Seq\n",
    "from Bio.Alphabet import generic_dna\n",
    "from Bio.Data.CodonTable import TranslationError\n",
    "from Bio.Seq import CodonTable\n",
    "\n",
    "import pandas as pd\n",
    "import numpy as np\n",
    "from itertools import izip, combinations"
   ]
  },
  {
   "cell_type": "code",
   "execution_count": 2,
   "metadata": {},
   "outputs": [],
   "source": [
    "def safe_translate(sequence, report_exceptions=False):\n",
    "    \"\"\"Returns an amino acid translation of the given nucleotide sequence accounting\n",
    "    for gaps in the given sequence.\n",
    "\n",
    "    Optionally, returns a tuple of the translated sequence and whether an\n",
    "    exception was raised during initial translation.\n",
    "\n",
    "    >>> safe_translate(\"ATG\")\n",
    "    'M'\n",
    "    >>> safe_translate(\"ATGGT-\")\n",
    "    'MX'\n",
    "    >>> safe_translate(\"ATG---\")\n",
    "    'M-'\n",
    "    >>> safe_translate(\"ATGTAG\")\n",
    "    'M*'\n",
    "    >>> safe_translate(\"\")\n",
    "    ''\n",
    "    >>> safe_translate(\"ATGT\")\n",
    "    'M'\n",
    "    >>> safe_translate(\"ATG\", report_exceptions=True)\n",
    "    ('M', False)\n",
    "    >>> safe_translate(\"ATGA-G\", report_exceptions=True)\n",
    "    ('MX', True)\n",
    "    \"\"\"\n",
    "    translation_exception = False\n",
    "\n",
    "    try:\n",
    "        # Attempt translation by extracting the sequence according to the\n",
    "        # BioPhython SeqFeature in frame gaps of three will translate as '-'\n",
    "        translated_sequence = str(Seq(sequence).translate(gap='-'))\n",
    "    except TranslationError:\n",
    "        translation_exception = True\n",
    "\n",
    "        # Any other codon like '-AA' or 'NNT' etc will fail. Translate codons\n",
    "        # one by one.\n",
    "        codon_table  = CodonTable.ambiguous_dna_by_name['Standard'].forward_table\n",
    "        str_seq = str(sequence)\n",
    "        codons = np.fromstring(str_seq[:len(str_seq) - len(str_seq) % 3], dtype='S3')\n",
    "        assert len(codons) > 0\n",
    "        aas = []\n",
    "\n",
    "        for c in codons:\n",
    "            # Parse result of single codon translation, add amino acids as\n",
    "            # appropriate.\n",
    "            try:\n",
    "                aa = codon_table.get(c)\n",
    "                if aa is None:\n",
    "                    if c == '---':\n",
    "                        aas.append('-')\n",
    "                    else:\n",
    "                        aas.append('X')\n",
    "                else:\n",
    "                    aas.append(aa)\n",
    "            except (TranslationError, ValueError):\n",
    "                aas.append('X')\n",
    "\n",
    "        translated_sequence = \"\".join(aas)\n",
    "\n",
    "    if report_exceptions:\n",
    "        return translated_sequence, translation_exception\n",
    "    else:\n",
    "        return translated_sequence"
   ]
  },
  {
   "cell_type": "code",
   "execution_count": 4,
   "metadata": {},
   "outputs": [],
   "source": [
    "seqs = list(SeqIO.parse(open('./titered_strains_alignment.mfa', 'r'), 'fasta'))\n",
    "aa_seqs = {s.id : safe_translate(str(s.seq)) for s in seqs}"
   ]
  },
  {
   "cell_type": "code",
   "execution_count": 5,
   "metadata": {},
   "outputs": [],
   "source": [
    "ofile = open('./titered_E_aa.mfa', 'w')\n",
    "for name, seq in aa_seqs.items():\n",
    "    ofile.write('>'+name+'\\n'+seq+'\\n')\n",
    "ofile.close()"
   ]
  },
  {
   "cell_type": "code",
   "execution_count": 17,
   "metadata": {},
   "outputs": [],
   "source": [
    "def aa_dist(seq1,seq2):\n",
    "    return sum([1 for (aa1,aa2) in izip(seq1,seq2) if aa1 != aa2])\n",
    "\n",
    "edit_distances = []\n",
    "for strain1, strain2 in combinations(aa_seqs.keys(), 2):\n",
    "    seq1, seq2 = aa_seqs[strain1], aa_seqs[strain2]\n",
    "    edit_distances.append({'strain1': strain1, 'strain2': strain2, 'edit': aa_dist(seq1,seq2)})\n",
    "    "
   ]
  },
  {
   "cell_type": "code",
   "execution_count": 18,
   "metadata": {},
   "outputs": [],
   "source": [
    "edit_distances = pd.DataFrame(edit_distances)"
   ]
  },
  {
   "cell_type": "code",
   "execution_count": 20,
   "metadata": {},
   "outputs": [],
   "source": [
    "edit_distances.to_csv('./titered_strains_aa_dist.csv', header=False, index=False)"
   ]
  },
  {
   "cell_type": "code",
   "execution_count": null,
   "metadata": {},
   "outputs": [],
   "source": []
  }
 ],
 "metadata": {
  "kernelspec": {
   "display_name": "Python 2",
   "language": "python",
   "name": "python2"
  },
  "language_info": {
   "codemirror_mode": {
    "name": "ipython",
    "version": 2
   },
   "file_extension": ".py",
   "mimetype": "text/x-python",
   "name": "python",
   "nbconvert_exporter": "python",
   "pygments_lexer": "ipython2",
   "version": "2.7.10"
  }
 },
 "nbformat": 4,
 "nbformat_minor": 2
}
