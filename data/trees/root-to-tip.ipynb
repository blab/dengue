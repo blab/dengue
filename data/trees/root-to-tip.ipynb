{
 "cells": [
  {
   "cell_type": "code",
   "execution_count": 4,
   "metadata": {},
   "outputs": [],
   "source": [
    "import dendropy as dp\n",
    "import matplotlib.pyplot as plt\n",
    "%matplotlib inline\n",
    "import seaborn as sns\n",
    "import pandas as pd\n",
    "import pickle\n",
    "# from Bio import SeqIO\n",
    "# import datetime\n",
    "sns.set(style='whitegrid', font_scale=1.3)"
   ]
  },
  {
   "cell_type": "code",
   "execution_count": 5,
   "metadata": {},
   "outputs": [],
   "source": [
    "tree = dp.Tree.get(path='./dengue_rerooted.newick', schema=\"newick\")\n",
    "\n",
    "colors = pickle.load(open('../../figures/colors.p', 'rb'))\n",
    "colors.update({'DENV': (0,0,0,1)})"
   ]
  },
  {
   "cell_type": "code",
   "execution_count": 21,
   "metadata": {},
   "outputs": [],
   "source": [
    "def get_serotype_leaves(tree):\n",
    "    \n",
    "    serotypes = ['DENV1', 'DENV2', 'DENV3', 'DENV4']\n",
    "    \n",
    "    serotype_leaves = {}\n",
    "    for s in serotypes:\n",
    "        leaves = [k for k in tree.leaf_iter() if k.taxon.label.startswith(s)]\n",
    "        serotype_leaves[s] = leaves\n",
    "        \n",
    "    return serotype_leaves"
   ]
  },
  {
   "cell_type": "code",
   "execution_count": 28,
   "metadata": {},
   "outputs": [
    {
     "name": "stderr",
     "output_type": "stream",
     "text": [
      "/Users/Sidney/Library/Python/2.7/lib/python/site-packages/ipykernel_launcher.py:7: CriticalDeprecationWarning: Deprecated since DendroPy 4: 'leaf_iter()' will no longer be supported in future releases; use 'leaf_node_iter()' instead\n",
      "  import sys\n"
     ]
    },
    {
     "name": "stdout",
     "output_type": "stream",
     "text": [
      "DENV1 10\n",
      "DENV2 16\n",
      "DENV3 9\n",
      "DENV4 12\n"
     ]
    },
    {
     "data": {
      "image/png": "[encoded data removed]",
      "text/plain": [
       "<matplotlib.figure.Figure at 0x114468f10>"
      ]
     },
     "metadata": {},
     "output_type": "display_data"
    }
   ],
   "source": [
    "def plot_clock(serotype_leaves, color_map=colors):\n",
    "    \n",
    "    def get_clock_vals(leaves):\n",
    "        dates = []\n",
    "        divs = []\n",
    "        colors = []\n",
    "        for k in leaves:\n",
    "            try:\n",
    "                date_val = float(k.taxon.label.split('/')[-1])\n",
    "                div_val = k.distance_from_root()\n",
    "                serotype = k.taxon.label.split('/')[0].strip()\n",
    "                color = color_map[serotype]\n",
    "                dates.append(date_val)\n",
    "                divs.append(div_val)\n",
    "                colors.append(color)\n",
    "            except:\n",
    "                continue\n",
    "        return dates, divs, colors\n",
    "    \n",
    "    fig, axes = plt.subplots(ncols=len(serotype_leaves.keys()), figsize=(16,4), sharex=True)\n",
    "    for serotype, ax in zip(sorted(serotype_leaves.keys()), axes):\n",
    "        leaves = serotype_leaves[serotype]\n",
    "        print serotype, len(leaves)\n",
    "        dates, divs, colors = get_clock_vals(leaves)\n",
    "        ax.scatter(dates, divs, s=30, c=color_map[serotype])\n",
    "        ax.set_title(serotype)\n",
    "            \n",
    "    plt.tight_layout()\n",
    "    plt.show()\n",
    "\n",
    "serotype_leaves = get_serotype_leaves(tree)\n",
    "plot_clock(serotype_leaves)"
   ]
  },
  {
   "cell_type": "code",
   "execution_count": 29,
   "metadata": {},
   "outputs": [],
   "source": [
    "# def plot_tree(tree, subtrees = serotype_mrcas, color_map = colors):\n",
    "        \n",
    "#     def plot_subtree(subtree, ax=None):\n",
    "#         if ax is None:\n",
    "#             fig, ax = plt.subplots(figsize=(8,12))\n",
    "#         branchWidth=2 ## default branch width\n",
    "# #         ax.set_yticks(size=0)\n",
    "#         for k in subtree.Objects: ## iterate over objects in tree\n",
    "#             x=k.x ## or use absolute time instead\n",
    "#             y=k.y ## get y position from .drawTree that was run earlier, but could be anything else\n",
    "#             xp=k.parent.x ## get x position of current object's parent\n",
    "#             if x==None: ## matplotlib won't plot Nones, like root\n",
    "#                 x=0.0\n",
    "#             if xp==None:\n",
    "#                 xp=x\n",
    "#             try:\n",
    "# #                 c = color_map[k.numName.split('_')[0]]\n",
    "#                 c = color_map(int(k.numName.split('_')[-1]))\n",
    "#             except:\n",
    "#                 c = 'gray'\n",
    "#             if isinstance(k,bt.leaf) or k.branchType=='leaf': ## if leaf...\n",
    "#                 s=10 ## tip size can be fixed\n",
    "#                 ax.scatter(x,y,s=s,facecolor=c,edgecolor='none',zorder=11) ## plot circle for every tip\n",
    "#                 ax.scatter(x,y,s=s+0.8*s,facecolor='k',edgecolor='none',zorder=10) ## plot black circle underneath\n",
    "\n",
    "#             elif isinstance(k,bt.node) or k.branchType=='node': ## if node...\n",
    "#                 ax.plot([x,x],[k.children[-1].y,k.children[0].y],lw=branchWidth,color=c,ls='-',zorder=9)\n",
    "#             ax.plot([xp,x],[y,y],lw=branchWidth,color=c,ls='-',zorder=9)\n",
    "#         ax.set_xlabel('Substitutions per site')\n",
    "#         ax.spines['top'].set_visible(False) ## no axes\n",
    "#         ax.spines['right'].set_visible(False)\n",
    "#         ax.spines['left'].set_visible(False)\n",
    "#         ax.xaxis.grid(True)\n",
    "#         x0,x1 = plt.xlim()\n",
    "#         ax.set_xlim((x0, x1*1.1))\n",
    "\n",
    "#     if subtrees is None:\n",
    "#         plot_subtree(tree)\n",
    "        \n",
    "#     else:\n",
    "#         fig, axes = plt.subplots(ncols=2, nrows=int(len(subtrees.keys())/2), figsize=(12,12))\n",
    "        \n",
    "#         for label, ax in zip(sorted(subtrees.keys()), axes.flatten().flatten()):\n",
    "#             subtree = tree.subtree(subtrees[label],absoluteTime=False)\n",
    "#             subtree.sortBranches()\n",
    "#             subtree.drawTree()\n",
    "#             plot_subtree(subtree, ax)\n",
    "#             ax.set_title(label)\n",
    "            \n",
    "#     plt.tight_layout()\n",
    "#     plt.show()\n",
    "    \n",
    "# plot_tree(tree, color_map=colors)"
   ]
  },
  {
   "cell_type": "code",
   "execution_count": null,
   "metadata": {},
   "outputs": [],
   "source": []
  }
 ],
 "metadata": {
  "kernel_info": {
   "name": "python2"
  },
  "kernelspec": {
   "display_name": "Python 2",
   "language": "python",
   "name": "python2"
  },
  "language_info": {
   "codemirror_mode": {
    "name": "ipython",
    "version": 2
   },
   "file_extension": ".py",
   "mimetype": "text/x-python",
   "name": "python",
   "nbconvert_exporter": "python",
   "pygments_lexer": "ipython2",
   "version": "2.7.10"
  },
  "nteract": {
   "version": "0.11.7"
  }
 },
 "nbformat": 4,
 "nbformat_minor": 2
}
