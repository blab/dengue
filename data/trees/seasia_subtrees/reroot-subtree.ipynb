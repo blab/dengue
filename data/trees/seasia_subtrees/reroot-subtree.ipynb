{
 "cells": [
  {
   "cell_type": "code",
   "execution_count": 1,
   "metadata": {},
   "outputs": [],
   "source": [
    "import dendropy as dp\n",
    "import matplotlib.pyplot as plt\n",
    "%matplotlib inline"
   ]
  },
  {
   "cell_type": "code",
   "execution_count": 2,
   "metadata": {},
   "outputs": [
    {
     "name": "stdout",
     "output_type": "stream",
     "text": [
      "started with 4523 leaves\n"
     ]
    }
   ],
   "source": [
    "tree = dp.Tree.get(path='./seasia.newick', schema=\"newick\")\n",
    "print 'started with %d leaves'%len(tree.leaf_nodes())"
   ]
  },
  {
   "cell_type": "code",
   "execution_count": 3,
   "metadata": {},
   "outputs": [],
   "source": [
    "def find_mrcas(tree, sep='/'):\n",
    "    serotypes = ['DENV1', 'DENV2', 'DENV3', 'DENV4']\n",
    "    serotype_tips = {sero: [] for sero in serotypes}\n",
    "    for k in tree.leaf_iter():\n",
    "        sero = k.taxon.label.split(sep)[0]\n",
    "        if sero in serotypes:\n",
    "            serotype_tips[sero].append(k.taxon.label)\n",
    "    serotype_mrcas = {sero: tree.mrca(taxon_labels=serotype_tips[sero]) for sero in serotypes} # find the serotype mrca\n",
    "    return serotype_mrcas\n",
    "\n",
    "def plot_date_div(tree, sep='/'):\n",
    "    \n",
    "    tree.calc_node_root_distances()\n",
    "    serotype_mrcas = find_mrcas(tree, sep)\n",
    "    \n",
    "    fig, axes = plt.subplots(ncols=4,nrows=1, figsize=(12,3))\n",
    "    for ax, (serotype, mrca) in zip(axes,serotype_mrcas.items()):\n",
    "        leaves = mrca.leaf_iter()\n",
    "        dates = []\n",
    "        div = []\n",
    "        for l in mrca.leaf_iter():\n",
    "            try:\n",
    "                dates.append(float(l.taxon.label.split(sep)[-1]))\n",
    "                div.append(float(l.root_distance))\n",
    "            except:\n",
    "                continue\n",
    "\n",
    "        ax.plot(dates, div, 'o')\n",
    "        ax.set_title(serotype)\n",
    "    plt.tight_layout()\n",
    "    plt.show()\n",
    "        "
   ]
  },
  {
   "cell_type": "code",
   "execution_count": 4,
   "metadata": {},
   "outputs": [
    {
     "name": "stderr",
     "output_type": "stream",
     "text": [
      "/Users/Sidney/Library/Python/2.7/lib/python/site-packages/ipykernel_launcher.py:4: CriticalDeprecationWarning: Deprecated since DendroPy 4: 'leaf_iter()' will no longer be supported in future releases; use 'leaf_node_iter()' instead\n",
      "  after removing the cwd from sys.path.\n"
     ]
    },
    {
     "data": {
      "image/png": "[encoded data removed]",
      "text/plain": [
       "<matplotlib.figure.Figure at 0x1079dcf10>"
      ]
     },
     "metadata": {},
     "output_type": "display_data"
    }
   ],
   "source": [
    "plot_date_div(tree, sep='/')"
   ]
  },
  {
   "cell_type": "code",
   "execution_count": 12,
   "metadata": {},
   "outputs": [
    {
     "name": "stderr",
     "output_type": "stream",
     "text": [
      "/Users/Sidney/Library/Python/2.7/lib/python/site-packages/ipykernel_launcher.py:2: CriticalDeprecationWarning: Deprecated since DendroPy 4: 'leaf_iter()' will no longer be supported in future releases; use 'leaf_node_iter()' instead\n",
      "  \n",
      "/Users/Sidney/Library/Python/2.7/lib/python/site-packages/ipykernel_launcher.py:4: CriticalDeprecationWarning: Deprecated since DendroPy 4: 'leaf_iter()' will no longer be supported in future releases; use 'leaf_node_iter()' instead\n",
      "  after removing the cwd from sys.path.\n"
     ]
    },
    {
     "ename": "ValueError",
     "evalue": "Null leafset bitmask (0)",
     "output_type": "error",
     "traceback": [
      "\u001b[0;31m----------------------------------------------------------------------\u001b[0m",
      "\u001b[0;31mValueError\u001b[0m                           Traceback (most recent call last)",
      "\u001b[0;32m<ipython-input-12-5550993105d3>\u001b[0m in \u001b[0;36m<module>\u001b[0;34m()\u001b[0m\n\u001b[1;32m     13\u001b[0m     \u001b[0;32mreturn\u001b[0m \u001b[0msubtrees\u001b[0m\u001b[0;34m\u001b[0m\u001b[0m\n\u001b[1;32m     14\u001b[0m \u001b[0;34m\u001b[0m\u001b[0m\n\u001b[0;32m---> 15\u001b[0;31m \u001b[0mserotype_subtrees\u001b[0m \u001b[0;34m=\u001b[0m \u001b[0mextract_subtrees\u001b[0m\u001b[0;34m(\u001b[0m\u001b[0mtree\u001b[0m\u001b[0;34m)\u001b[0m\u001b[0;34m\u001b[0m\u001b[0m\n\u001b[0m",
      "\u001b[0;32m<ipython-input-12-5550993105d3>\u001b[0m in \u001b[0;36mextract_subtrees\u001b[0;34m(tree, sep)\u001b[0m\n\u001b[1;32m      1\u001b[0m \u001b[0;32mdef\u001b[0m \u001b[0mextract_subtrees\u001b[0m\u001b[0;34m(\u001b[0m\u001b[0mtree\u001b[0m\u001b[0;34m,\u001b[0m \u001b[0msep\u001b[0m\u001b[0;34m=\u001b[0m\u001b[0;34m'/'\u001b[0m\u001b[0;34m)\u001b[0m\u001b[0;34m:\u001b[0m\u001b[0;34m\u001b[0m\u001b[0m\n\u001b[1;32m      2\u001b[0m     \u001b[0mn_leaves\u001b[0m \u001b[0;34m=\u001b[0m \u001b[0mlen\u001b[0m\u001b[0;34m(\u001b[0m\u001b[0mlist\u001b[0m\u001b[0;34m(\u001b[0m\u001b[0mtree\u001b[0m\u001b[0;34m.\u001b[0m\u001b[0mleaf_iter\u001b[0m\u001b[0;34m(\u001b[0m\u001b[0;34m)\u001b[0m\u001b[0;34m)\u001b[0m\u001b[0;34m)\u001b[0m\u001b[0;34m\u001b[0m\u001b[0m\n\u001b[0;32m----> 3\u001b[0;31m     \u001b[0mserotype_mrcas\u001b[0m \u001b[0;34m=\u001b[0m \u001b[0mfind_mrcas\u001b[0m\u001b[0;34m(\u001b[0m\u001b[0mtree\u001b[0m\u001b[0;34m,\u001b[0m \u001b[0msep\u001b[0m\u001b[0;34m)\u001b[0m\u001b[0;34m\u001b[0m\u001b[0m\n\u001b[0m\u001b[1;32m      4\u001b[0m     \u001b[0mserotype_subtrees\u001b[0m \u001b[0;34m=\u001b[0m \u001b[0;34m{\u001b[0m\u001b[0;34m}\u001b[0m\u001b[0;34m\u001b[0m\u001b[0m\n\u001b[1;32m      5\u001b[0m \u001b[0;34m\u001b[0m\u001b[0m\n",
      "\u001b[0;32m<ipython-input-3-79b30e743e99>\u001b[0m in \u001b[0;36mfind_mrcas\u001b[0;34m(tree, sep)\u001b[0m\n\u001b[1;32m      6\u001b[0m         \u001b[0;32mif\u001b[0m \u001b[0msero\u001b[0m \u001b[0;32min\u001b[0m \u001b[0mserotypes\u001b[0m\u001b[0;34m:\u001b[0m\u001b[0;34m\u001b[0m\u001b[0m\n\u001b[1;32m      7\u001b[0m             \u001b[0mserotype_tips\u001b[0m\u001b[0;34m[\u001b[0m\u001b[0msero\u001b[0m\u001b[0;34m]\u001b[0m\u001b[0;34m.\u001b[0m\u001b[0mappend\u001b[0m\u001b[0;34m(\u001b[0m\u001b[0mk\u001b[0m\u001b[0;34m.\u001b[0m\u001b[0mtaxon\u001b[0m\u001b[0;34m.\u001b[0m\u001b[0mlabel\u001b[0m\u001b[0;34m)\u001b[0m\u001b[0;34m\u001b[0m\u001b[0m\n\u001b[0;32m----> 8\u001b[0;31m     \u001b[0mserotype_mrcas\u001b[0m \u001b[0;34m=\u001b[0m \u001b[0;34m{\u001b[0m\u001b[0msero\u001b[0m\u001b[0;34m:\u001b[0m \u001b[0mtree\u001b[0m\u001b[0;34m.\u001b[0m\u001b[0mmrca\u001b[0m\u001b[0;34m(\u001b[0m\u001b[0mtaxon_labels\u001b[0m\u001b[0;34m=\u001b[0m\u001b[0mserotype_tips\u001b[0m\u001b[0;34m[\u001b[0m\u001b[0msero\u001b[0m\u001b[0;34m]\u001b[0m\u001b[0;34m)\u001b[0m \u001b[0;32mfor\u001b[0m \u001b[0msero\u001b[0m \u001b[0;32min\u001b[0m \u001b[0mserotypes\u001b[0m\u001b[0;34m}\u001b[0m \u001b[0;31m# find the serotype mrca\u001b[0m\u001b[0;34m\u001b[0m\u001b[0m\n\u001b[0m\u001b[1;32m      9\u001b[0m     \u001b[0;32mreturn\u001b[0m \u001b[0mserotype_mrcas\u001b[0m\u001b[0;34m\u001b[0m\u001b[0m\n\u001b[1;32m     10\u001b[0m \u001b[0;34m\u001b[0m\u001b[0m\n",
      "\u001b[0;32m<ipython-input-3-79b30e743e99>\u001b[0m in \u001b[0;36m<dictcomp>\u001b[0;34m((sero,))\u001b[0m\n\u001b[1;32m      6\u001b[0m         \u001b[0;32mif\u001b[0m \u001b[0msero\u001b[0m \u001b[0;32min\u001b[0m \u001b[0mserotypes\u001b[0m\u001b[0;34m:\u001b[0m\u001b[0;34m\u001b[0m\u001b[0m\n\u001b[1;32m      7\u001b[0m             \u001b[0mserotype_tips\u001b[0m\u001b[0;34m[\u001b[0m\u001b[0msero\u001b[0m\u001b[0;34m]\u001b[0m\u001b[0;34m.\u001b[0m\u001b[0mappend\u001b[0m\u001b[0;34m(\u001b[0m\u001b[0mk\u001b[0m\u001b[0;34m.\u001b[0m\u001b[0mtaxon\u001b[0m\u001b[0;34m.\u001b[0m\u001b[0mlabel\u001b[0m\u001b[0;34m)\u001b[0m\u001b[0;34m\u001b[0m\u001b[0m\n\u001b[0;32m----> 8\u001b[0;31m     \u001b[0mserotype_mrcas\u001b[0m \u001b[0;34m=\u001b[0m \u001b[0;34m{\u001b[0m\u001b[0msero\u001b[0m\u001b[0;34m:\u001b[0m \u001b[0mtree\u001b[0m\u001b[0;34m.\u001b[0m\u001b[0mmrca\u001b[0m\u001b[0;34m(\u001b[0m\u001b[0mtaxon_labels\u001b[0m\u001b[0;34m=\u001b[0m\u001b[0mserotype_tips\u001b[0m\u001b[0;34m[\u001b[0m\u001b[0msero\u001b[0m\u001b[0;34m]\u001b[0m\u001b[0;34m)\u001b[0m \u001b[0;32mfor\u001b[0m \u001b[0msero\u001b[0m \u001b[0;32min\u001b[0m \u001b[0mserotypes\u001b[0m\u001b[0;34m}\u001b[0m \u001b[0;31m# find the serotype mrca\u001b[0m\u001b[0;34m\u001b[0m\u001b[0m\n\u001b[0m\u001b[1;32m      9\u001b[0m     \u001b[0;32mreturn\u001b[0m \u001b[0mserotype_mrcas\u001b[0m\u001b[0;34m\u001b[0m\u001b[0m\n\u001b[1;32m     10\u001b[0m \u001b[0;34m\u001b[0m\u001b[0m\n",
      "\u001b[0;32m/Library/Python/2.7/site-packages/dendropy/datamodel/treemodel.pyc\u001b[0m in \u001b[0;36mmrca\u001b[0;34m(self, **kwargs)\u001b[0m\n\u001b[1;32m   3548\u001b[0m \u001b[0;34m\u001b[0m\u001b[0m\n\u001b[1;32m   3549\u001b[0m         \u001b[0;32mif\u001b[0m \u001b[0mleafset_bitmask\u001b[0m \u001b[0;32mis\u001b[0m \u001b[0mNone\u001b[0m \u001b[0;32mor\u001b[0m \u001b[0mleafset_bitmask\u001b[0m \u001b[0;34m==\u001b[0m \u001b[0;36m0\u001b[0m\u001b[0;34m:\u001b[0m\u001b[0;34m\u001b[0m\u001b[0m\n\u001b[0;32m-> 3550\u001b[0;31m             \u001b[0;32mraise\u001b[0m \u001b[0mValueError\u001b[0m\u001b[0;34m(\u001b[0m\u001b[0;34m\"Null leafset bitmask (0)\"\u001b[0m\u001b[0;34m)\u001b[0m\u001b[0;34m\u001b[0m\u001b[0m\n\u001b[0m\u001b[1;32m   3551\u001b[0m \u001b[0;34m\u001b[0m\u001b[0m\n\u001b[1;32m   3552\u001b[0m         \u001b[0;32mif\u001b[0m \u001b[0mstart_node\u001b[0m\u001b[0;34m.\u001b[0m\u001b[0medge\u001b[0m\u001b[0;34m.\u001b[0m\u001b[0mbipartition\u001b[0m\u001b[0;34m.\u001b[0m\u001b[0mleafset_bitmask\u001b[0m \u001b[0;34m==\u001b[0m \u001b[0;36m0\u001b[0m \u001b[0;32mor\u001b[0m \u001b[0;32mnot\u001b[0m \u001b[0mkwargs\u001b[0m\u001b[0;34m.\u001b[0m\u001b[0mget\u001b[0m\u001b[0;34m(\u001b[0m\u001b[0;34m\"is_bipartitions_updated\"\u001b[0m\u001b[0;34m,\u001b[0m \u001b[0mTrue\u001b[0m\u001b[0;34m)\u001b[0m\u001b[0;34m:\u001b[0m\u001b[0;34m\u001b[0m\u001b[0m\n",
      "\u001b[0;31mValueError\u001b[0m: Null leafset bitmask (0)"
     ]
    }
   ],
   "source": [
    "def extract_subtrees(tree, sep='/'):\n",
    "    n_leaves = len(list(tree.leaf_iter()))\n",
    "    serotype_mrcas = find_mrcas(tree, sep)\n",
    "    serotype_subtrees = {}\n",
    "    \n",
    "    n_subtree_leaves = 0\n",
    "    for serotype, mrca in serotype_mrcas.items():\n",
    "        subtree = dp.Tree(seed_node=mrca)\n",
    "        n_subtree_leaves += len(list(subtree.leaf_iter()))\n",
    "        serotype_subtrees[serotype] = subtree\n",
    "        \n",
    "    assert n_subtree_leaves == n_leaves\n",
    "    return subtrees\n",
    "\n",
    "serotype_subtrees = extract_subtrees(tree)"
   ]
  },
  {
   "cell_type": "code",
   "execution_count": null,
   "metadata": {},
   "outputs": [],
   "source": []
  },
  {
   "cell_type": "code",
   "execution_count": null,
   "metadata": {},
   "outputs": [],
   "source": []
  },
  {
   "cell_type": "code",
   "execution_count": null,
   "metadata": {},
   "outputs": [],
   "source": []
  },
  {
   "cell_type": "code",
   "execution_count": null,
   "metadata": {},
   "outputs": [],
   "source": []
  },
  {
   "cell_type": "code",
   "execution_count": null,
   "metadata": {},
   "outputs": [],
   "source": []
  },
  {
   "cell_type": "code",
   "execution_count": null,
   "metadata": {},
   "outputs": [],
   "source": []
  },
  {
   "cell_type": "code",
   "execution_count": null,
   "metadata": {},
   "outputs": [],
   "source": []
  },
  {
   "cell_type": "code",
   "execution_count": 5,
   "metadata": {},
   "outputs": [],
   "source": [
    "def reroot_subtree(serotype, tree, sep='/'):\n",
    "    \n",
    "    serotype_mrcas = find_mrcas(tree, sep)\n",
    "    subtree_mrca = serotype_mrcas[serotype] # find current mrca node\n",
    "    \n",
    "    subtree_mrca_parent = subtree_mrca.parent_node # log its parent for future reattachment\n",
    "    subtree = dp.Tree(seed_node=subtree_mrca) # extract subtree\n",
    "    print 'split to subtrees with %d and %d leaves'%(len(tree.leaf_nodes()), len(subtree.leaf_nodes()))\n",
    "    \n",
    "    # reroot so the oldest tip is the outgroup \n",
    "    subtree_oldest_tip = sorted(list(subtree.leaf_iter()), key = lambda l: int(l.taxon.label.split(sep)[-1]))[0]\n",
    "    print 'setting this tip as the outgroup', subtree_oldest_tip.taxon.label\n",
    "    subtree.to_outgroup_position(subtree_oldest_tip, update_bipartitions=False)\n",
    "    \n",
    "    # find the new mrca of the extracted subtree\n",
    "    new_subtree_mrca = subtree_oldest_tip.parent_node\n",
    "    \n",
    "    # reattach the rerooted subtree to the original parent we noted before\n",
    "    subtree_mrca_parent.add_child(new_subtree_mrca)\n",
    "    print 'reattached subtree, now %d leaves'%len(tree.leaf_nodes())\n",
    "    \n",
    "    return tree"
   ]
  },
  {
   "cell_type": "code",
   "execution_count": 6,
   "metadata": {},
   "outputs": [
    {
     "name": "stderr",
     "output_type": "stream",
     "text": [
      "/Users/Sidney/Library/Python/2.7/lib/python/site-packages/ipykernel_launcher.py:4: CriticalDeprecationWarning: Deprecated since DendroPy 4: 'leaf_iter()' will no longer be supported in future releases; use 'leaf_node_iter()' instead\n",
      "  after removing the cwd from sys.path.\n"
     ]
    },
    {
     "name": "stdout",
     "output_type": "stream",
     "text": [
      "split to subtrees with 3897 and 615 leaves\n",
      "setting this tip as the outgroup DENV3 PHILIPPINES ILIPPINES 1956\n",
      "reattached subtree, now 4512 leaves\n"
     ]
    },
    {
     "name": "stderr",
     "output_type": "stream",
     "text": [
      "/Users/Sidney/Library/Python/2.7/lib/python/site-packages/ipykernel_launcher.py:11: CriticalDeprecationWarning: Deprecated since DendroPy 4: 'leaf_iter()' will no longer be supported in future releases; use 'leaf_node_iter()' instead\n",
      "  # This is added back by InteractiveShellApp.init_path()\n"
     ]
    }
   ],
   "source": [
    "rerooted_denv3 = reroot_subtree('DENV3', tree, sep=' ')"
   ]
  },
  {
   "cell_type": "code",
   "execution_count": 7,
   "metadata": {},
   "outputs": [
    {
     "name": "stderr",
     "output_type": "stream",
     "text": [
      "/Users/Sidney/Library/Python/2.7/lib/python/site-packages/ipykernel_launcher.py:4: CriticalDeprecationWarning: Deprecated since DendroPy 4: 'leaf_iter()' will no longer be supported in future releases; use 'leaf_node_iter()' instead\n",
      "  after removing the cwd from sys.path.\n"
     ]
    },
    {
     "data": {
      "image/png": "[encoded data removed]",
      "text/plain": [
       "<matplotlib.figure.Figure at 0x10b22a3d0>"
      ]
     },
     "metadata": {},
     "output_type": "display_data"
    }
   ],
   "source": [
    "plot_date_div(rerooted_denv3, sep=' ')"
   ]
  },
  {
   "cell_type": "code",
   "execution_count": 6,
   "metadata": {},
   "outputs": [
    {
     "name": "stdout",
     "output_type": "stream",
     "text": [
      "split to subtrees with 38 and 9 leaves\n",
      "setting this tip as the outgroup DENV3/PUERTO RICO/S228762/1963\n",
      "reattached subtree, now 47 leaves\n"
     ]
    },
    {
     "name": "stderr",
     "output_type": "stream",
     "text": [
      "/Users/Sidney/Library/Python/2.7/lib/python/site-packages/ipykernel_launcher.py:8: CriticalDeprecationWarning: Deprecated since DendroPy 4: 'leaf_iter()' will no longer be supported in future releases; use 'leaf_node_iter()' instead\n",
      "  \n"
     ]
    }
   ],
   "source": [
    "rerooted_denv1_denv3 = reroot_subtree('DENV3', tree)"
   ]
  },
  {
   "cell_type": "code",
   "execution_count": 11,
   "metadata": {},
   "outputs": [
    {
     "name": "stderr",
     "output_type": "stream",
     "text": [
      "/Users/Sidney/Library/Python/2.7/lib/python/site-packages/ipykernel_launcher.py:4: CriticalDeprecationWarning: Deprecated since DendroPy 4: 'leaf_iter()' will no longer be supported in future releases; use 'leaf_node_iter()' instead\n",
      "  after removing the cwd from sys.path.\n"
     ]
    },
    {
     "data": {
      "text/plain": [
       "[0.29041,\n",
       " 0.29507,\n",
       " 0.30524999999999997,\n",
       " 0.30609000000000003,\n",
       " 0.30593000000000004,\n",
       " 0.2925400000000001,\n",
       " 0.28999,\n",
       " 0.2933800000000001,\n",
       " 0.30144000000000004,\n",
       " 0.30695000000000006,\n",
       " 0.30143000000000003,\n",
       " 0.30059,\n",
       " 0.30393000000000003,\n",
       " 0.28824,\n",
       " 0.28994000000000003,\n",
       " 0.29884,\n",
       " 0.3034,\n",
       " 0.28995,\n",
       " 0.29927,\n",
       " 0.30351,\n",
       " 0.30479,\n",
       " 0.30435999999999996,\n",
       " 0.30223,\n",
       " 0.30181,\n",
       " 0.30097,\n",
       " 0.30266,\n",
       " 0.30308999999999997,\n",
       " 0.30266,\n",
       " 0.27415999999999996,\n",
       " 0.28985,\n",
       " 0.29513999999999996,\n",
       " 0.29513999999999996,\n",
       " 0.29981,\n",
       " 0.29811,\n",
       " 0.31588000000000005,\n",
       " 0.31418000000000007,\n",
       " 0.31333,\n",
       " 0.31369,\n",
       " 0.31257999999999997,\n",
       " 0.27745,\n",
       " 0.27534000000000003,\n",
       " 0.27703,\n",
       " 0.26389,\n",
       " 0.26940000000000003,\n",
       " 0.27619,\n",
       " 0.27575999999999995,\n",
       " 0.27575999999999995]"
      ]
     },
     "execution_count": 11,
     "metadata": {},
     "output_type": "execute_result"
    }
   ],
   "source": [
    "new_serotype_mrcas = find_mrcas(rerooted_denv1_denv3)\n",
    "rerooted_denv1_denv3.calc_node_root_distances()"
   ]
  },
  {
   "cell_type": "code",
   "execution_count": 8,
   "metadata": {},
   "outputs": [],
   "source": []
  },
  {
   "cell_type": "code",
   "execution_count": null,
   "metadata": {},
   "outputs": [],
   "source": []
  },
  {
   "cell_type": "code",
   "execution_count": 18,
   "metadata": {},
   "outputs": [
    {
     "name": "stdout",
     "output_type": "stream",
     "text": [
      "12\n"
     ]
    },
    {
     "data": {
      "image/png": "[encoded data removed]",
      "text/plain": [
       "<matplotlib.figure.Figure at 0x105ff96d0>"
      ]
     },
     "metadata": {},
     "output_type": "display_data"
    },
    {
     "name": "stdout",
     "output_type": "stream",
     "text": [
      "16\n"
     ]
    },
    {
     "data": {
      "image/png": "[encoded data removed]",
      "text/plain": [
       "<matplotlib.figure.Figure at 0x105b76110>"
      ]
     },
     "metadata": {},
     "output_type": "display_data"
    },
    {
     "name": "stdout",
     "output_type": "stream",
     "text": [
      "9\n"
     ]
    },
    {
     "data": {
      "image/png": "[encoded data removed]",
      "text/plain": [
       "<matplotlib.figure.Figure at 0x105ad3f90>"
      ]
     },
     "metadata": {},
     "output_type": "display_data"
    },
    {
     "name": "stdout",
     "output_type": "stream",
     "text": [
      "19\n"
     ]
    },
    {
     "data": {
      "image/png": "[encoded data removed]",
      "text/plain": [
       "<matplotlib.figure.Figure at 0x1060f6210>"
      ]
     },
     "metadata": {},
     "output_type": "display_data"
    },
    {
     "data": {
      "text/plain": [
       "<matplotlib.figure.Figure at 0x105b99a50>"
      ]
     },
     "metadata": {},
     "output_type": "display_data"
    }
   ],
   "source": []
  },
  {
   "cell_type": "code",
   "execution_count": null,
   "metadata": {},
   "outputs": [],
   "source": []
  },
  {
   "cell_type": "code",
   "execution_count": 5,
   "metadata": {},
   "outputs": [],
   "source": []
  },
  {
   "cell_type": "code",
   "execution_count": 16,
   "metadata": {},
   "outputs": [
    {
     "name": "stdout",
     "output_type": "stream",
     "text": [
      "reattached subtree, now 47 leaves\n"
     ]
    }
   ],
   "source": []
  },
  {
   "cell_type": "code",
   "execution_count": 17,
   "metadata": {},
   "outputs": [],
   "source": []
  },
  {
   "cell_type": "code",
   "execution_count": 13,
   "metadata": {},
   "outputs": [
    {
     "name": "stdout",
     "output_type": "stream",
     "text": [
      "split to subtrees with 37 and 10 leaves\n"
     ]
    }
   ],
   "source": [
    "# write to file\n",
    "tree.write(path=\"dengue_rerooted.newick\", schema=\"newick\")"
   ]
  },
  {
   "cell_type": "code",
   "execution_count": null,
   "metadata": {},
   "outputs": [],
   "source": []
  }
 ],
 "metadata": {
  "kernelspec": {
   "display_name": "Python 2",
   "language": "python",
   "name": "python2"
  },
  "language_info": {
   "codemirror_mode": {
    "name": "ipython",
    "version": 2
   },
   "file_extension": ".py",
   "mimetype": "text/x-python",
   "name": "python",
   "nbconvert_exporter": "python",
   "pygments_lexer": "ipython2",
   "version": "2.7.10"
  }
 },
 "nbformat": 4,
 "nbformat_minor": 2
}
