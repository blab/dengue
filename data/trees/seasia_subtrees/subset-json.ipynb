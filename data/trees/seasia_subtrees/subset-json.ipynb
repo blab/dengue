{
 "cells": [
  {
   "cell_type": "code",
   "execution_count": 5,
   "metadata": {},
   "outputs": [],
   "source": [
    "from Bio import SeqIO\n",
    "import json\n",
    "from copy import deepcopy"
   ]
  },
  {
   "cell_type": "code",
   "execution_count": 2,
   "metadata": {},
   "outputs": [],
   "source": [
    "prepared = json.load(open('../../../titer_model/implementation-nextstrain-augur/dengue/prepared/seasia.json', 'r'))"
   ]
  },
  {
   "cell_type": "code",
   "execution_count": 4,
   "metadata": {},
   "outputs": [],
   "source": [
    "serotypes = ['DENV1', 'DENV2', 'DENV3', 'DENV4']"
   ]
  },
  {
   "cell_type": "code",
   "execution_count": 12,
   "metadata": {},
   "outputs": [],
   "source": [
    "def subset_json(sero_strains, prepared):\n",
    "    sero_json = deepcopy(prepared)\n",
    "    del sero_json['titers']\n",
    "    sero_json['info']['n(final)'] = len(strains)\n",
    "    sero_json['info']['n(starting)'] = len(strains)\n",
    "    sero_json['sequences'] = {strain: seq for strain,seq in sero_json['sequences'].items() if strain in sero_strains}\n",
    "    return sero_json"
   ]
  },
  {
   "cell_type": "code",
   "execution_count": 15,
   "metadata": {},
   "outputs": [
    {
     "name": "stdout",
     "output_type": "stream",
     "text": [
      "1915 1910\n",
      "1596 1587\n",
      "616 612\n",
      "397 391\n"
     ]
    }
   ],
   "source": [
    "for serotype in serotypes:\n",
    "    strains = [s.id for s in SeqIO.parse(open('./%s_aln.fasta'%serotype, 'r'), 'fasta')]\n",
    "    sero_json = subset_json(strains, prepared)\n",
    "    print len(strains), len(sero_json['sequences'])\n",
    "    json.dump(sero_json, open('%s_seasia.json'%serotype, 'w'), indent=1)"
   ]
  },
  {
   "cell_type": "code",
   "execution_count": null,
   "metadata": {},
   "outputs": [],
   "source": []
  }
 ],
 "metadata": {
  "kernelspec": {
   "display_name": "Python 2",
   "language": "python",
   "name": "python2"
  },
  "language_info": {
   "codemirror_mode": {
    "name": "ipython",
    "version": 2
   },
   "file_extension": ".py",
   "mimetype": "text/x-python",
   "name": "python",
   "nbconvert_exporter": "python",
   "pygments_lexer": "ipython2",
   "version": "2.7.10"
  }
 },
 "nbformat": 4,
 "nbformat_minor": 2
}
