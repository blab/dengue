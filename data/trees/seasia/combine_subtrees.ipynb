{
 "cells": [
  {
   "cell_type": "code",
   "execution_count": 1,
   "metadata": {},
   "outputs": [],
   "source": [
    "from Bio import Phylo"
   ]
  },
  {
   "cell_type": "code",
   "execution_count": 2,
   "metadata": {},
   "outputs": [],
   "source": [
    "serotypes = ['DENV1', 'DENV2', 'DENV3', 'DENV4']"
   ]
  },
  {
   "cell_type": "code",
   "execution_count": 3,
   "metadata": {},
   "outputs": [],
   "source": [
    "def fix_strain(name):\n",
    "    if name.count('_') == 3:\n",
    "        return name.replace('_', '/')\n",
    "    else:\n",
    "        sero, countrystrainyear = name.split('_', 1)\n",
    "        countrystrain, year = countrystrainyear.rsplit('_', 1)\n",
    "        country, strain = countrystrain.rsplit('_', 1)\n",
    "        return '/'.join([sero, country, strain, year])"
   ]
  },
  {
   "cell_type": "code",
   "execution_count": 4,
   "metadata": {},
   "outputs": [],
   "source": [
    "serotype_subtrees = {}\n",
    "for s in serotypes:\n",
    "    tree = Phylo.read('./%s_seasia_rerooted.newick'%s, 'nexus')\n",
    "    for k in tree.get_terminals():\n",
    "        k.name = fix_strain(k.name)\n",
    "    serotype_subtrees[s] = tree.format('newick').replace(';', '')"
   ]
  },
  {
   "cell_type": "code",
   "execution_count": 5,
   "metadata": {},
   "outputs": [],
   "source": [
    "template = '(((XXDENV1XX, XXDENV3XX)), ((XXDENV2XX, XXDENV4XX)));'\n",
    "for serotype, subtree in serotype_subtrees.items():\n",
    "    template = template.replace('XX'+serotype+'XX', subtree)\n",
    "\n",
    "open('seasia_topology.newick', 'w').write(template)\n",
    "\n",
    "tree = Phylo.read('seasia_topology.newick', 'newick')"
   ]
  },
  {
   "cell_type": "code",
   "execution_count": 6,
   "metadata": {},
   "outputs": [],
   "source": [
    "for t in tree.find_clades():\n",
    "    if t.branch_length is None:\n",
    "        t.branch_length = 1."
   ]
  },
  {
   "cell_type": "code",
   "execution_count": 7,
   "metadata": {},
   "outputs": [
    {
     "data": {
      "text/plain": [
       "1"
      ]
     },
     "execution_count": 7,
     "metadata": {},
     "output_type": "execute_result"
    }
   ],
   "source": [
    "Phylo.write(tree, './seasia_topology.newick', 'newick')"
   ]
  },
  {
   "cell_type": "code",
   "execution_count": null,
   "metadata": {},
   "outputs": [],
   "source": []
  }
 ],
 "metadata": {
  "kernelspec": {
   "display_name": "Python 2",
   "language": "python",
   "name": "python2"
  },
  "language_info": {
   "codemirror_mode": {
    "name": "ipython",
    "version": 2
   },
   "file_extension": ".py",
   "mimetype": "text/x-python",
   "name": "python",
   "nbconvert_exporter": "python",
   "pygments_lexer": "ipython2",
   "version": "2.7.10"
  }
 },
 "nbformat": 4,
 "nbformat_minor": 2
}
