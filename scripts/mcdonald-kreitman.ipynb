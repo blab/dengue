{
 "cells": [
  {
   "cell_type": "code",
   "execution_count": 8,
   "metadata": {
    "collapsed": false
   },
   "outputs": [],
   "source": [
    "from Bio import SeqIO\n",
    "import baltic as bt\n",
    "from collections import defaultdict\n",
    "from matplotlib import pyplot as plt\n",
    "%matplotlib inline"
   ]
  },
  {
   "cell_type": "code",
   "execution_count": 27,
   "metadata": {
    "collapsed": false
   },
   "outputs": [
    {
     "name": "stdout",
     "output_type": "stream",
     "text": [
      "\n",
      "Tree height: 157.417960\n",
      "Tree length: 1519.036950\n",
      "annotations present\n",
      "\n",
      "Numbers of objects in tree: 285 (137 nodes and 148 leaves)\n",
      "\n",
      "\n",
      "Tree height: 157.417960\n",
      "Tree length: 1519.036950\n",
      "annotations present\n",
      "\n",
      "Numbers of objects in tree: 285 (137 nodes and 148 leaves)\n",
      "\n"
     ]
    }
   ],
   "source": [
    "import baltic as bt\n",
    "treepaths = {'structural': '/Users/Sidney/nextstrain/augur/build/dengue_denv4_tree.json',\n",
    "            'nonstructural': '/Users/Sidney/nextstrain/augur/build/dengue_denv4_tree.json'}\n",
    "trees = {k: bt.loadJSON(v) for k,v in treepaths.items()}"
   ]
  },
  {
   "cell_type": "code",
   "execution_count": 37,
   "metadata": {
    "collapsed": false
   },
   "outputs": [],
   "source": [
    "def dNdT(treeobjects):\n",
    "    ''' calculate dN/dT from list of tree objects '''\n",
    "    dN = 0.\n",
    "    dT = 0.\n",
    "    for k in treeobjects:\n",
    "        dT += k.traits['tvalue']\n",
    "        if 'aa_muts' in k.traits:\n",
    "            dN += sum([ len(v) for k,v in k.traits['aa_muts'].iteritems()])\n",
    "        else: \n",
    "            continue\n",
    "    return {'dN':dN, 'dT':dT, 'dN/dT': dN/dT}\n",
    "\n",
    "\n",
    "def within_between(tree):\n",
    "    ''' separate tree objects into things within [any/all] genotypes vs. between [i.e., more basal than] genotypes '''\n",
    "    within = []\n",
    "    \n",
    "    for k in tree.Objects:\n",
    "        if 'clade_name' in k.traits:\n",
    "            within.extend(tree.traverse_tree(k, include_all=True)) \n",
    "            # conveniently, augur only assigns the 'clade_name' attr for the most basal node of the clade\n",
    "    \n",
    "    between = [ k for k in tree.Objects if k not in within]\n",
    "    return {'within': within, 'between': between}\n"
   ]
  },
  {
   "cell_type": "code",
   "execution_count": 38,
   "metadata": {
    "collapsed": false
   },
   "outputs": [],
   "source": [
    "structural = within_between(trees['structural'])\n",
    "structural_within = dNdT(structural['within'])\n",
    "structural_between = dNdT(structural['between'])\n",
    "nonstructural = within_between(trees['nonstructural'])\n",
    "nonstructural_within = dNdT(nonstructural['within'])\n",
    "nonstructural_between = dNdT(nonstructural['between'])"
   ]
  },
  {
   "cell_type": "code",
   "execution_count": null,
   "metadata": {
    "collapsed": true
   },
   "outputs": [],
   "source": []
  }
 ],
 "metadata": {
  "kernelspec": {
   "display_name": "Python 2",
   "language": "python",
   "name": "python2"
  },
  "language_info": {
   "codemirror_mode": {
    "name": "ipython",
    "version": 2
   },
   "file_extension": ".py",
   "mimetype": "text/x-python",
   "name": "python",
   "nbconvert_exporter": "python",
   "pygments_lexer": "ipython2",
   "version": "2.7.10"
  }
 },
 "nbformat": 4,
 "nbformat_minor": 2
}
