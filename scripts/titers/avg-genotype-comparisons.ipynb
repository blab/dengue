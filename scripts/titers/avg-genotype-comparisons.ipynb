{
 "cells": [
  {
   "cell_type": "code",
   "execution_count": 61,
   "metadata": {
    "collapsed": false
   },
   "outputs": [],
   "source": [
    "import pandas as pd\n",
    "import numpy as np\n",
    "from pprint import pprint\n",
    "from matplotlib import pyplot as plt\n",
    "%matplotlib inline\n",
    "import seaborn as sns\n",
    "from itertools import combinations\n",
    "from itertools import permutations"
   ]
  },
  {
   "cell_type": "code",
   "execution_count": 55,
   "metadata": {
    "collapsed": false
   },
   "outputs": [],
   "source": [
    "normalized_genotype_titers = pd.read_csv('../../data/katzelnick2015/processed/genotypes_normalized.csv', index_col=0)\n",
    "\n",
    "def fix_name(gt):\n",
    "    gt = gt[:5]+'_'+gt[5:]\n",
    "    gt = gt.replace(' ', '').replace('/', '').upper()\n",
    "    return gt\n",
    "\n",
    "normalized_genotype_titers['virus_genotype'] = normalized_genotype_titers['virus_genotype'].map(fix_name)\n",
    "normalized_genotype_titers['serum_genotype'] = normalized_genotype_titers['serum_genotype'].map(fix_name)\n",
    "\n",
    "genotypes = set(normalized_genotype_titers['virus_genotype'].values)\n",
    "serotypes = set(normalized_genotype_titers['virus_serotype'].values)\n",
    "\n",
    "avg_genotype_titers = normalized_genotype_titers.groupby(['virus_genotype', 'serum_genotype'])['autologous_norm'].agg('mean')\n",
    "avg_serotype_titers = normalized_genotype_titers.groupby(['virus_serotype', 'serum_serotype'])['autologous_norm'].agg('mean')"
   ]
  },
  {
   "cell_type": "code",
   "execution_count": 56,
   "metadata": {
    "collapsed": false
   },
   "outputs": [],
   "source": [
    "def check_symmetry(series, clades):\n",
    "    pairs = [tuple(sorted(p)) for p in combinations(clades, 2) if p[0] != p[1]]\n",
    "    \n",
    "    intraserotype = {}\n",
    "    interserotype = {}\n",
    "\n",
    "    for p in pairs:\n",
    "        try:\n",
    "            A = series[p[0]][p[1]]\n",
    "            B = series[p[1]][p[0]]\n",
    "            if p[0][:5] == p[1][:5]:\n",
    "                intraserotype[p] = (A, B)\n",
    "            else:\n",
    "                interserotype[p] = (A,B)\n",
    "        except KeyError:\n",
    "            continue\n",
    "    return {'inter': interserotype, 'intra': intraserotype}\n",
    "    \n",
    "    \n",
    "symmetry = check_symmetry(avg_genotype_titers, genotypes)\n"
   ]
  },
  {
   "cell_type": "code",
   "execution_count": 57,
   "metadata": {
    "collapsed": false
   },
   "outputs": [
    {
     "data": {
      "image/png": "[encoded data removed]",
      "text/plain": [
       "<matplotlib.figure.Figure at 0x115ed4190>"
      ]
     },
     "metadata": {},
     "output_type": "display_data"
    }
   ],
   "source": [
    "fig, ax = plt.subplots()\n",
    "\n",
    "inter_x,inter_y = zip(*symmetry['inter'].values())\n",
    "intra_x, intra_y = zip(*symmetry['intra'].values())\n",
    "\n",
    "ax.plot(inter_x, inter_y, 'o', c = 'blue', label='Interserotype Pairs')\n",
    "ax.plot(intra_x, intra_y, 'o', c = 'red', label='Intraserotype Pairs')\n",
    "ax.plot(range(6), range(6), '-')\n",
    "plt.title('Dengue antigenic distance is not symmetrical')\n",
    "plt.xlabel('Autologous-normed (Virus A, Serum B) titer')\n",
    "plt.ylabel('Autologous-normed (Virus B, Serum A) titer')\n",
    "plt.legend()\n",
    "plt.show()"
   ]
  },
  {
   "cell_type": "code",
   "execution_count": 62,
   "metadata": {
    "collapsed": false
   },
   "outputs": [],
   "source": [
    "def fill_missing_titers(titers=normalized_genotype_titers, genotypes=genotypes,\n",
    "                        genotype_titers=avg_genotype_titers, serotype_titers=avg_serotype_titers):\n",
    "    \n",
    "    # All pairs of genotypes in the frequency data (in both orders)\n",
    "    genotype_pairs = [p for p in permutations(genotypes, 2)]\n",
    "    \n",
    "    # Pull average titers for VIRUS from a given GENOTYPE titered against SERA from each SEROTYPE\n",
    "    genotype_serotype_titers = titers.groupby(['virus_genotype', 'serum_serotype'])['autologous_norm'].agg('mean')\n",
    "    \n",
    "    # Find where we don't have values for VIRUS GENOTYPE : SERUM GENOTYPE\n",
    "    missing_genotypes = [p for p in genotype_pairs \n",
    "                         if p not in genotype_titers.index\n",
    "                         or np.isnan(genotype_titers[p])]\n",
    "    \n",
    "    \n",
    "    missing_genotype_vals = pd.DataFrame({'virus_genotype':[p[0] for p in missing_genotypes],\n",
    "                             'serum_genotype':[p[1] for p in missing_genotypes],\n",
    "                             'serum_serotype':[p[1].split('_')[0] for p in missing_genotypes],\n",
    "                             'autologous_norm': [np.nan for p in missing_genotypes]})\n",
    "    \n",
    "    def fill(row):\n",
    "        try:\n",
    "            row['autologous_norm'] = genotype_serotype_titers[(row['virus_genotype'], row['serum_serotype'])]\n",
    "        except KeyError:\n",
    "            row['autologous_norm'] = np.nan\n",
    "        return row\n",
    "\n",
    "    # Fill in missing values\n",
    "    filled_genotype_vals = missing_genotype_vals.apply(fill, axis=1)\n",
    "    # Wrangle the axes so they're in the same multiindex form as genotype_titers\n",
    "    filled_genotype_vals = filled_genotype_vals.groupby(['virus_genotype', 'serum_genotype'])['autologous_norm'].apply(list).apply(pd.Series)\n",
    "    filled_genotype_vals.rename(columns={0:'autologous_norm'}, inplace=True)\n",
    "\n",
    "    # Merge the filled values in with a copy of genotype_titers\n",
    "    filled_genotype_titers = genotype_titers.copy()\n",
    "    filled_genotype_titers = filled_genotype_titers.combine_first(filled_genotype_vals['autologous_norm'])\n",
    "    return filled_genotype_titers\n",
    "    \n",
    "filled_genotype_titers = fill_missing_titers()"
   ]
  },
  {
   "cell_type": "code",
   "execution_count": 69,
   "metadata": {
    "collapsed": false
   },
   "outputs": [
    {
     "name": "stdout",
     "output_type": "stream",
     "text": [
      "virus_genotype  serum_genotype     \n",
      "DENV1_I         DENV1_I                0.653049\n",
      "                DENV1_II               0.181842\n",
      "                DENV1_IV              -0.609196\n",
      "                DENV1_V                0.585899\n",
      "                DENV2_AMERICAN         1.415378\n",
      "                DENV2_ASIANAMERICAN    5.630129\n",
      "                DENV2_ASIANI           1.977345\n",
      "                DENV2_ASIANII          1.977345\n",
      "                DENV2_COSMOPOLITAN     1.977345\n",
      "                DENV2_SYLVATIC         1.977345\n",
      "Name: autologous_norm, dtype: float64\n",
      "Unfilled / missing values: 3\n"
     ]
    }
   ],
   "source": [
    "print filled_genotype_titers.head(10)\n",
    "print 'Unfilled / missing values: %d'%len(filled_genotype_titers[filled_genotype_titers.isnull()])"
   ]
  },
  {
   "cell_type": "code",
   "execution_count": 71,
   "metadata": {
    "collapsed": false
   },
   "outputs": [],
   "source": [
    "filled_genotype_titers.to_csv('../../data/katzelnick2015/processed/genotypes_normalized_filled.csv')"
   ]
  },
  {
   "cell_type": "code",
   "execution_count": null,
   "metadata": {
    "collapsed": true
   },
   "outputs": [],
   "source": []
  }
 ],
 "metadata": {
  "kernelspec": {
   "display_name": "Python 2",
   "language": "python",
   "name": "python2"
  },
  "language_info": {
   "codemirror_mode": {
    "name": "ipython",
    "version": 2
   },
   "file_extension": ".py",
   "mimetype": "text/x-python",
   "name": "python",
   "nbconvert_exporter": "python",
   "pygments_lexer": "ipython2",
   "version": "2.7.10"
  }
 },
 "nbformat": 4,
 "nbformat_minor": 2
}
