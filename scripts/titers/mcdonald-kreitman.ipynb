{
 "cells": [
  {
   "cell_type": "code",
   "execution_count": 1,
   "metadata": {
    "collapsed": false
   },
   "outputs": [],
   "source": [
    "from Bio import SeqIO\n",
    "import baltic as bt\n",
    "from collections import defaultdict\n",
    "from matplotlib import pyplot as plt\n",
    "%matplotlib inline"
   ]
  },
  {
   "cell_type": "code",
   "execution_count": 2,
   "metadata": {
    "collapsed": false
   },
   "outputs": [
    {
     "name": "stdout",
     "output_type": "stream",
     "text": [
      "\n",
      "Tree height: 130.168910\n",
      "Tree length: 2484.699910\n",
      "annotations present\n",
      "\n",
      "Numbers of objects in tree: 746 (353 nodes and 393 leaves)\n",
      "\n",
      "\n",
      "Tree height: 393.033000\n",
      "Tree length: 3239.665120\n",
      "annotations present\n",
      "\n",
      "Numbers of objects in tree: 804 (363 nodes and 441 leaves)\n",
      "\n"
     ]
    }
   ],
   "source": [
    "import baltic as bt\n",
    "treepaths = {'structural': '../data/mcdonald_kreitman/denv2_prM_E_tree.json',\n",
    "            'nonstructural': '../data/mcdonald_kreitman/denv2_NS_tree.json'}\n",
    "trees = {k: bt.loadJSON(v) for k,v in treepaths.items()}"
   ]
  },
  {
   "cell_type": "code",
   "execution_count": 3,
   "metadata": {
    "collapsed": false
   },
   "outputs": [],
   "source": [
    "def dNdT(treeobjects):\n",
    "    ''' calculate dN/dT from list of tree objects '''\n",
    "    dN = 0.\n",
    "    dT = 0.\n",
    "    for k in treeobjects:\n",
    "        dT += k.traits['tvalue']\n",
    "        if 'aa_muts' in k.traits:\n",
    "            dN += sum([ len(v) for k,v in k.traits['aa_muts'].iteritems()])\n",
    "        else: \n",
    "            continue\n",
    "    return {'dN':dN, 'dT':dT, 'dN/dT': dN/dT}\n",
    "\n",
    "\n",
    "def within_between(tree):\n",
    "    ''' separate tree objects into things within [any/all] genotypes vs. between [i.e., more basal than] genotypes '''\n",
    "    within = []\n",
    "    \n",
    "    for k in tree.Objects:\n",
    "        if 'clade_name' in k.traits:\n",
    "            within.extend(tree.traverse_tree(k, include_all=True)) \n",
    "            # conveniently, augur only assigns the 'clade_name' attr for the most basal node of the clade\n",
    "    \n",
    "    between = [ k for k in tree.Objects if k not in within]\n",
    "    return {'within': within, 'between': between}\n"
   ]
  },
  {
   "cell_type": "code",
   "execution_count": 4,
   "metadata": {
    "collapsed": false
   },
   "outputs": [
    {
     "ename": "ZeroDivisionError",
     "evalue": "float division by zero",
     "output_type": "error",
     "traceback": [
      "\u001b[0;31m---------------------------------------------------------------------------\u001b[0m",
      "\u001b[0;31mZeroDivisionError\u001b[0m                         Traceback (most recent call last)",
      "\u001b[0;32m<ipython-input-4-755e9d184fe0>\u001b[0m in \u001b[0;36m<module>\u001b[0;34m()\u001b[0m\n\u001b[1;32m      3\u001b[0m \u001b[0mstructural_between\u001b[0m \u001b[0;34m=\u001b[0m \u001b[0mdNdT\u001b[0m\u001b[0;34m(\u001b[0m\u001b[0mstructural\u001b[0m\u001b[0;34m[\u001b[0m\u001b[0;34m'between'\u001b[0m\u001b[0;34m]\u001b[0m\u001b[0;34m)\u001b[0m\u001b[0;34m\u001b[0m\u001b[0m\n\u001b[1;32m      4\u001b[0m \u001b[0mnonstructural\u001b[0m \u001b[0;34m=\u001b[0m \u001b[0mwithin_between\u001b[0m\u001b[0;34m(\u001b[0m\u001b[0mtrees\u001b[0m\u001b[0;34m[\u001b[0m\u001b[0;34m'nonstructural'\u001b[0m\u001b[0;34m]\u001b[0m\u001b[0;34m)\u001b[0m\u001b[0;34m\u001b[0m\u001b[0m\n\u001b[0;32m----> 5\u001b[0;31m \u001b[0mnonstructural_within\u001b[0m \u001b[0;34m=\u001b[0m \u001b[0mdNdT\u001b[0m\u001b[0;34m(\u001b[0m\u001b[0mnonstructural\u001b[0m\u001b[0;34m[\u001b[0m\u001b[0;34m'within'\u001b[0m\u001b[0;34m]\u001b[0m\u001b[0;34m)\u001b[0m\u001b[0;34m\u001b[0m\u001b[0m\n\u001b[0m\u001b[1;32m      6\u001b[0m \u001b[0mnonstructural_between\u001b[0m \u001b[0;34m=\u001b[0m \u001b[0mdNdT\u001b[0m\u001b[0;34m(\u001b[0m\u001b[0mnonstructural\u001b[0m\u001b[0;34m[\u001b[0m\u001b[0;34m'between'\u001b[0m\u001b[0;34m]\u001b[0m\u001b[0;34m)\u001b[0m\u001b[0;34m\u001b[0m\u001b[0m\n",
      "\u001b[0;32m<ipython-input-3-d41bb421ef7c>\u001b[0m in \u001b[0;36mdNdT\u001b[0;34m(treeobjects)\u001b[0m\n\u001b[1;32m      9\u001b[0m         \u001b[0;32melse\u001b[0m\u001b[0;34m:\u001b[0m\u001b[0;34m\u001b[0m\u001b[0m\n\u001b[1;32m     10\u001b[0m             \u001b[0;32mcontinue\u001b[0m\u001b[0;34m\u001b[0m\u001b[0m\n\u001b[0;32m---> 11\u001b[0;31m     \u001b[0;32mreturn\u001b[0m \u001b[0;34m{\u001b[0m\u001b[0;34m'dN'\u001b[0m\u001b[0;34m:\u001b[0m\u001b[0mdN\u001b[0m\u001b[0;34m,\u001b[0m \u001b[0;34m'dT'\u001b[0m\u001b[0;34m:\u001b[0m\u001b[0mdT\u001b[0m\u001b[0;34m,\u001b[0m \u001b[0;34m'dN/dT'\u001b[0m\u001b[0;34m:\u001b[0m \u001b[0mdN\u001b[0m\u001b[0;34m/\u001b[0m\u001b[0mdT\u001b[0m\u001b[0;34m}\u001b[0m\u001b[0;34m\u001b[0m\u001b[0m\n\u001b[0m\u001b[1;32m     12\u001b[0m \u001b[0;34m\u001b[0m\u001b[0m\n\u001b[1;32m     13\u001b[0m \u001b[0;34m\u001b[0m\u001b[0m\n",
      "\u001b[0;31mZeroDivisionError\u001b[0m: float division by zero"
     ]
    }
   ],
   "source": [
    "structural = within_between(trees['structural'])\n",
    "structural_within = dNdT(structural['within'])\n",
    "structural_between = dNdT(structural['between'])\n",
    "nonstructural = within_between(trees['nonstructural'])\n",
    "nonstructural_within = dNdT(nonstructural['within'])\n",
    "nonstructural_between = dNdT(nonstructural['between'])"
   ]
  },
  {
   "cell_type": "code",
   "execution_count": null,
   "metadata": {
    "collapsed": true
   },
   "outputs": [],
   "source": [
    "within_accs = [ ]"
   ]
  },
  {
   "cell_type": "code",
   "execution_count": null,
   "metadata": {
    "collapsed": true
   },
   "outputs": [],
   "source": []
  }
 ],
 "metadata": {
  "kernelspec": {
   "display_name": "Python 2",
   "language": "python",
   "name": "python2"
  },
  "language_info": {
   "codemirror_mode": {
    "name": "ipython",
    "version": 2
   },
   "file_extension": ".py",
   "mimetype": "text/x-python",
   "name": "python",
   "nbconvert_exporter": "python",
   "pygments_lexer": "ipython2",
   "version": "2.7.10"
  }
 },
 "nbformat": 4,
 "nbformat_minor": 2
}
