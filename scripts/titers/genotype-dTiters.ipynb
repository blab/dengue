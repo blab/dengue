{
 "cells": [
  {
   "cell_type": "code",
   "execution_count": 23,
   "metadata": {
    "collapsed": true
   },
   "outputs": [],
   "source": [
    "import baltic as bt\n",
    "from matplotlib import pyplot as plt\n",
    "%matplotlib inline\n",
    "import numpy as np\n",
    "import pandas as pd\n",
    "import seaborn as sns\n",
    "from collections import defaultdict\n",
    "from itertools import combinations"
   ]
  },
  {
   "cell_type": "code",
   "execution_count": 25,
   "metadata": {
    "collapsed": false
   },
   "outputs": [
    {
     "name": "stdout",
     "output_type": "stream",
     "text": [
      "\n",
      "Tree height: 0.357550\n",
      "Tree length: 6.132190\n",
      "annotations present\n",
      "\n",
      "Numbers of objects in tree: 2998 (1428 nodes and 1570 leaves)\n",
      "\n",
      "\n",
      "Tree height: 0.357550\n",
      "Tree length: 6.132190\n",
      "multitype tree\n",
      "annotations present\n",
      "\n",
      "Numbers of objects in tree: 2999 (1429 nodes and 1570 leaves)\n",
      "\n"
     ]
    }
   ],
   "source": [
    "titer_tree = bt.loadJSON('../../data/frequencies/regions/stiffness1/jsons/dengue_all_tree.json', {'name': 'strain', 'height': 'xvalue'})\n",
    "genotype_tree = bt.loadNexus('../../data/frequencies/regions/stiffness1/global_stiffness1_gtAnnotated_tree.nexus', absoluteTime=False)"
   ]
  },
  {
   "cell_type": "code",
   "execution_count": 29,
   "metadata": {
    "collapsed": true
   },
   "outputs": [],
   "source": [
    "genotype_tips = defaultdict(list)\n",
    "tip_genotypes = { k.numName : k.traits['genotype'] for k in genotype_tree.leaves if 'genotype' in k.traits}\n",
    "for k in titer_tree.leaves:\n",
    "    if k.numName in tip_genotypes:\n",
    "        k.traits['genotype'] = tip_genotypes[k.numName]\n",
    "        genotype_tips[k.traits['genotype']].append(k)"
   ]
  },
  {
   "cell_type": "code",
   "execution_count": 57,
   "metadata": {
    "collapsed": false
   },
   "outputs": [],
   "source": [
    "def trace_between_nodes(node1, node2):\n",
    "    '''Naive path tracing; finds mrca of the two nodes, \n",
    "    traces each node backwards until it finds the mrca, \n",
    "    returns concatenated list of all nodes on that path'''\n",
    "\n",
    "    assert isinstance(node1, bt.node) and isinstance(node2, bt.node)\n",
    "    \n",
    "    node1_trace = []\n",
    "    node2_trace = []\n",
    "    \n",
    "    k = node1 ## Trace from the node 1 to the root (in order)\n",
    "    while k.index != 'Root':\n",
    "        node1_trace.append(k)\n",
    "        k = k.parent\n",
    "        \n",
    "    k = node2 ## Start tracing from node2 to the root; break when we find the first node that's shared along node1's path\n",
    "    while k not in node1_trace:\n",
    "        node2_trace.append(k)\n",
    "        k = k.parent\n",
    "    else:\n",
    "        node2_trace.append(k)\n",
    "        mrca = k\n",
    "        \n",
    "    node2_trace.reverse() # walk back down from the mrca, so the path is unidirectional\n",
    "    total_trace = []\n",
    "    total_trace += node1_trace\n",
    "    total_trace += node2_trace\n",
    "    \n",
    "    return total_trace\n",
    "    \n",
    "def collect_attr(trace, attr='dTiter'):\n",
    "    '''Collects all values of the passed attribute found \n",
    "    along the passed path through the tree'''\n",
    "    return [i.traits[attr] for i in trace]"
   ]
  },
  {
   "cell_type": "code",
   "execution_count": 72,
   "metadata": {
    "collapsed": false
   },
   "outputs": [],
   "source": [
    "genotype_mrcas = { gt : titer_tree.commonAncestor(tips, numName=True) for gt, tips in genotype_tips.items() } # MRCA of each genotype\n",
    "genotype_combinations = [g for g in combinations(genotype_mrcas.keys(), 2)] # Pairs of genotypes\n",
    "\n",
    "between_genotypes = { (g1,g2): trace_between_nodes(genotype_mrcas[g1], genotype_mrcas[g2]) # Path between each pair of genotype MRCAs\n",
    "                     for (g1,g2) in genotype_combinations}\n",
    "genotype_dTiter = { gt: sum(collect_attr(between_genotypes[gt])) for gt in genotype_combinations}\n",
    "genotype_distance = { gt: sum([ k.height for k in between_genotypes[gt]]) for gt in genotype_combinations}"
   ]
  },
  {
   "cell_type": "code",
   "execution_count": 65,
   "metadata": {
    "collapsed": false
   },
   "outputs": [
    {
     "data": {
      "text/plain": [
       "<seaborn.axisgrid.FacetGrid at 0x116359890>"
      ]
     },
     "execution_count": 65,
     "metadata": {},
     "output_type": "execute_result"
    },
    {
     "data": {
      "image/png": "[encoded data removed]",
      "text/plain": [
       "<matplotlib.figure.Figure at 0x11644dfd0>"
      ]
     },
     "metadata": {},
     "output_type": "display_data"
    }
   ],
   "source": [
    "same_serotype = { gt: gt[0].split('_')[0] == gt[1].split('_')[0] for gt in genotype_combinations}\n",
    "sanity_check = pd.DataFrame({'distance': genotype_distance, 'dTiter': genotype_dTiter, 'homotypic': same_serotype})\n",
    "sns.lmplot('distance', 'dTiter', hue='homotypic', data=sanity_check)"
   ]
  },
  {
   "cell_type": "code",
   "execution_count": 74,
   "metadata": {
    "collapsed": false
   },
   "outputs": [],
   "source": [
    "genotype_dTiter = pd.Series(genotype_dTiter)\n",
    "genotype_dTiter = genotype_dTiter.reset_index()\n",
    "genotype_dTiter.to_csv('../../data/katzelnick2015/processed/genotypes_dTiters.csv')"
   ]
  },
  {
   "cell_type": "code",
   "execution_count": null,
   "metadata": {
    "collapsed": true
   },
   "outputs": [],
   "source": []
  },
  {
   "cell_type": "code",
   "execution_count": null,
   "metadata": {
    "collapsed": true
   },
   "outputs": [],
   "source": []
  }
 ],
 "metadata": {
  "kernelspec": {
   "display_name": "Python 2",
   "language": "python",
   "name": "python2"
  },
  "language_info": {
   "codemirror_mode": {
    "name": "ipython",
    "version": 2
   },
   "file_extension": ".py",
   "mimetype": "text/x-python",
   "name": "python",
   "nbconvert_exporter": "python",
   "pygments_lexer": "ipython2",
   "version": "2.7.10"
  }
 },
 "nbformat": 4,
 "nbformat_minor": 2
}
