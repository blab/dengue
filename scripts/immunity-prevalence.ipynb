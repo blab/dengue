{
 "cells": [
  {
   "cell_type": "code",
   "execution_count": 1,
   "metadata": {
    "collapsed": true
   },
   "outputs": [],
   "source": [
    "import pandas as pd\n",
    "import numpy as np\n",
    "from matplotlib import pyplot as plt\n",
    "%matplotlib inline\n",
    "import seaborn as sns\n",
    "from pprint import pprint"
   ]
  },
  {
   "cell_type": "code",
   "execution_count": 22,
   "metadata": {
    "collapsed": false
   },
   "outputs": [],
   "source": [
    "genotype_frequencies = pd.read_csv('../data/frequencies/south_america_frequencies.csv', index_col=0)\n",
    "genotypes = genotype_frequencies.columns.values\n",
    "serotypes = ['DENV1', 'DENV2', 'DENV3', 'DENV4']\n",
    "constituent_genotypes = { serotype: [genotype for genotype in genotypes if genotype.startswith(serotype)]\n",
    "                        for serotype in serotypes}\n",
    "tmp_serotype_frequencies = {serotype: genotype_frequencies[constituent_genotypes[serotype]] \n",
    "                        for serotype in serotypes}\n",
    "serotype_frequencies = {}\n",
    "for serotype, constituent_frequencies in tmp_serotype_frequencies.items():\n",
    "    serotype_frequencies[serotype] = constituent_frequencies.sum(axis=1)\n",
    "serotype_frequencies = pd.DataFrame(serotype_frequencies)"
   ]
  },
  {
   "cell_type": "code",
   "execution_count": 50,
   "metadata": {
    "collapsed": false
   },
   "outputs": [],
   "source": [
    "seasons = [(2004.5,2005.5), (2005.5,2006.5), (2006.5,2007.5), (2007.5,2008.5),(2008.5,2009.5),(2009.5,2010.5)]\n",
    "def bin_seasons(df, seasons=seasons):\n",
    "    def find_season(date, seasons=seasons):\n",
    "        season = np.nan\n",
    "        for (start,end) in seasons:\n",
    "            if date >= start and date < end:\n",
    "                season = (start,end)\n",
    "                break\n",
    "        return season\n",
    "    df['season'] = [find_season(date, seasons) for date in df.index.values]\n",
    "    df.dropna(how='any', inplace=True)\n",
    "    df = df.groupby('season').agg('mean')\n",
    "    return df\n",
    "\n",
    "serotype_frequencies = bin_seasons(serotype_frequencies, seasons)\n",
    "genotype_frequencies = bin_seasons(genotype_frequencies, seasons)"
   ]
  },
  {
   "cell_type": "code",
   "execution_count": 84,
   "metadata": {
    "collapsed": false
   },
   "outputs": [],
   "source": [
    "incidence = pd.read_csv('../data/frequencies/nicaragua_incidence_gordon2013.txt', sep='\\t', index_col=0)\n",
    "incidence.dropna(inplace=True)\n",
    "incidence.index = seasons\n",
    "incidence['Primary Incidence per 1000 PY'] = incidence['Primary DENV infections'] / (incidence['Primary PY at Risk']/1000.)\n",
    "incidence['Secondary Incidence per 1000 PY'] = incidence['Secondary DENV Infections'] / (incidence['Secondary PY at Risk']/1000.)\n",
    "incidence['DHF Incidence per 100 Infections'] = incidence['DHF counts'] / ((incidence['Primary DENV infections']+incidence['Secondary DENV Infections'])/100)"
   ]
  },
  {
   "cell_type": "code",
   "execution_count": 96,
   "metadata": {
    "collapsed": false
   },
   "outputs": [],
   "source": [
    "serotype_primary_counts = serotype_frequencies.multiply(incidence['Primary DENV infections'], axis=0)\n",
    "serotype_primary_counts['PY at risk'] = incidence['Primary PY at Risk']\n",
    "serotype_primary_incidence = serotype_primary_counts[serotypes].divide(serotype_primary_counts['PY at risk'], axis=0)\n",
    "serotype_primary_incidence['PY at risk'] = incidence['Primary PY at Risk']"
   ]
  },
  {
   "cell_type": "code",
   "execution_count": 97,
   "metadata": {
    "collapsed": false
   },
   "outputs": [],
   "source": [
    "serotype_secondary_counts = serotype_frequencies.multiply(incidence['Secondary DENV Infections'], axis=0)\n",
    "serotype_secondary_counts['PY at risk'] = incidence['Secondary PY at Risk']\n",
    "serotype_secondary_incidence = serotype_secondary_counts[serotypes].divide(serotype_secondary_counts['PY at risk'], axis=0)\n",
    "serotype_secondary_incidence['PY at risk'] = incidence['Secondary PY at Risk']"
   ]
  },
  {
   "cell_type": "code",
   "execution_count": 99,
   "metadata": {
    "collapsed": true
   },
   "outputs": [],
   "source": [
    "def calc_cumulative_incidence(case_counts, PY_at_risk, first_season, last_season):\n",
    "    start = first_season[0]\n",
    "    end = last_season[1]\n",
    "    \n",
    "    cumulative_cases = 0.\n",
    "    for idx, count in case_counts.iteritems():\n",
    "        if idx[0] >= start and idx[0] < end:\n",
    "            cumulative_cases += float(count)\n",
    "    \n",
    "    try:\n",
    "        assert isinstance(PY_at_risk, float)\n",
    "    except:\n",
    "        '''\n",
    "        This isn't an exactly closed population, \n",
    "        but if the pop size varies by <= 20%, \n",
    "        go ahead and just use the average person time at risk.\n",
    "        '''\n",
    "        assert max(PY_at_risk)*.8 <= min(PY_at_risk)\n",
    "        PY_at_risk = float(PY_at_risk.mean())\n",
    "\n",
    "    return cumulative_cases / PY_at_risk"
   ]
  },
  {
   "cell_type": "code",
   "execution_count": null,
   "metadata": {
    "collapsed": true
   },
   "outputs": [],
   "source": []
  }
 ],
 "metadata": {
  "kernelspec": {
   "display_name": "Python 2",
   "language": "python",
   "name": "python2"
  },
  "language_info": {
   "codemirror_mode": {
    "name": "ipython",
    "version": 2
   },
   "file_extension": ".py",
   "mimetype": "text/x-python",
   "name": "python",
   "nbconvert_exporter": "python",
   "pygments_lexer": "ipython2",
   "version": "2.7.10"
  }
 },
 "nbformat": 4,
 "nbformat_minor": 2
}
