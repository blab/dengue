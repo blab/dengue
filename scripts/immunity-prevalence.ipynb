{
 "cells": [
  {
   "cell_type": "code",
   "execution_count": 1,
   "metadata": {
    "collapsed": true
   },
   "outputs": [],
   "source": [
    "import pandas as pd\n",
    "import numpy as np\n",
    "from matplotlib import pyplot as plt\n",
    "%matplotlib inline\n",
    "import seaborn as sns\n",
    "from pprint import pprint"
   ]
  },
  {
   "cell_type": "code",
   "execution_count": 3,
   "metadata": {
    "collapsed": false
   },
   "outputs": [],
   "source": [
    "# Pull pre-computed genotype frequencies\n",
    "genotype_frequencies = pd.read_csv('../data/frequencies/south_america_frequencies.csv', index_col=0) \n",
    "genotypes = genotype_frequencies.columns.values\n",
    "serotypes = ['DENV1', 'DENV2', 'DENV3', 'DENV4']\n",
    "\n",
    "# Sum across constituent genotypes to estimate serotype frequencies\n",
    "constituent_genotypes = { serotype: [genotype for genotype in genotypes if genotype.startswith(serotype)]\n",
    "                        for serotype in serotypes}\n",
    "tmp_serotype_frequencies = {serotype: genotype_frequencies[constituent_genotypes[serotype]] \n",
    "                        for serotype in serotypes}\n",
    "serotype_frequencies = {}\n",
    "for serotype, constituent_frequencies in tmp_serotype_frequencies.items():\n",
    "    serotype_frequencies[serotype] = constituent_frequencies.sum(axis=1)\n",
    "serotype_frequencies = pd.DataFrame(serotype_frequencies)"
   ]
  },
  {
   "cell_type": "code",
   "execution_count": 4,
   "metadata": {
    "collapsed": false
   },
   "outputs": [],
   "source": [
    "# Seasons covered by the Gordon 2013 Nicaraguan Pediatric Cohort Study paper. \n",
    "# Samples were collected in July/August of each year.\n",
    "seasons = [(2004.5,2005.5), (2005.5,2006.5), (2006.5,2007.5), (2007.5,2008.5),(2008.5,2009.5),(2009.5,2010.5)]\n",
    "\n",
    "# Bin each pivot from augur (row in frequencies data) by which season it falls into. Average frequencies by season.\n",
    "def bin_seasons(df, seasons=seasons):\n",
    "    def find_season(date, seasons=seasons):\n",
    "        season = np.nan\n",
    "        for (start,end) in seasons:\n",
    "            if date >= start and date < end:\n",
    "                season = (start,end)\n",
    "                break\n",
    "        return season\n",
    "    df['season'] = [find_season(date, seasons) for date in df.index.values]\n",
    "    df.dropna(how='any', inplace=True)\n",
    "    df = df.groupby('season').agg('mean')\n",
    "    return df\n",
    "\n",
    "serotype_frequencies = bin_seasons(serotype_frequencies, seasons)\n",
    "genotype_frequencies = bin_seasons(genotype_frequencies, seasons)"
   ]
  },
  {
   "cell_type": "code",
   "execution_count": 6,
   "metadata": {
    "collapsed": false
   },
   "outputs": [],
   "source": [
    "# Pull case counts and person-years at risk from the paper\n",
    "incidence = pd.read_csv('../data/frequencies/nicaragua_incidence_gordon2013.txt', sep='\\t', index_col=0)\n",
    "incidence.dropna(inplace=True)\n",
    "incidence.index = seasons\n",
    "\n",
    "# Add incidence per 1000 PY for primary infections and secondary infections separately.\n",
    "incidence['Primary Incidence per 1000 PY'] = incidence['Primary DENV infections'] / (incidence['Primary PY at Risk']/1000.)\n",
    "incidence['Secondary Incidence per 1000 PY'] = incidence['Secondary DENV Infections'] / (incidence['Secondary PY at Risk']/1000.)\n",
    "incidence['DHF Incidence per 100 Infections'] = incidence['DHF counts'] / ((incidence['Primary DENV infections']+incidence['Secondary DENV Infections'])/100.)"
   ]
  },
  {
   "cell_type": "code",
   "execution_count": 7,
   "metadata": {
    "collapsed": false
   },
   "outputs": [],
   "source": [
    "# Multiply total infection counts by serotype frequencies to estimate serotype-specific counts\n",
    "serotype_primary_counts = serotype_frequencies.multiply(incidence['Primary DENV infections'], axis=0)\n",
    "serotype_primary_counts['PY at risk'] = incidence['Primary PY at Risk']\n",
    "\n",
    "# Divide by PY at risk to estimate serotype-specific incidence rates\n",
    "serotype_primary_incidence = serotype_primary_counts[serotypes].divide(serotype_primary_counts['PY at risk']/1000., axis=0)\n",
    "serotype_primary_incidence['PY at risk'] = incidence['Primary PY at Risk']\n",
    "\n",
    "# Do the same for secondary cases\n",
    "serotype_secondary_counts = serotype_frequencies.multiply(incidence['Secondary DENV Infections'], axis=0)\n",
    "serotype_secondary_counts['PY at risk'] = incidence['Secondary PY at Risk']\n",
    "serotype_secondary_incidence = serotype_secondary_counts[serotypes].divide(serotype_secondary_counts['PY at risk']/1000., axis=0)\n",
    "serotype_secondary_incidence['PY at risk'] = incidence['Secondary PY at Risk']"
   ]
  },
  {
   "cell_type": "code",
   "execution_count": 9,
   "metadata": {
    "collapsed": false
   },
   "outputs": [],
   "source": [
    "# Multiply total infection counts by genotype frequencies to estimate genotype-specific counts\n",
    "genotype_primary_counts = genotype_frequencies.multiply(incidence['Primary DENV infections'], axis=0)\n",
    "genotype_primary_counts['PY at risk'] = incidence['Primary PY at Risk']\n",
    "\n",
    "# Divide by PY at risk to estimate genotype-specific incidence rates\n",
    "genotype_primary_incidence = genotype_primary_counts.divide(incidence['Primary PY at Risk']/1000., axis=0)\n",
    "genotype_primary_incidence['PY at risk'] = incidence['Primary PY at Risk']\n",
    "\n",
    "\n",
    "# Do the same for secondary cases\n",
    "genotype_secondary_counts = genotype_frequencies.multiply(incidence['Secondary DENV Infections'], axis=0)\n",
    "genotype_secondary_counts['PY at risk'] = incidence['Secondary PY at Risk']\n",
    "genotype_secondary_incidence = genotype_secondary_counts.divide(incidence['Secondary PY at Risk']/1000., axis=0)\n",
    "genotype_secondary_incidence['PY at risk'] = incidence['Secondary PY at Risk']"
   ]
  },
  {
   "cell_type": "code",
   "execution_count": 14,
   "metadata": {
    "collapsed": true
   },
   "outputs": [],
   "source": [
    "def cumulative_incidence(case_counts, PY_at_risk, season_of_interest, years_back=5):\n",
    "    ''' \n",
    "    Finds cumulative incidence over the N (\"years_back\") \n",
    "    seasons BEFORE the season of interest. \n",
    "    Assumes pseudo-closed population.\n",
    "    '''\n",
    "    \n",
    "    season_idx = seasons.index(season_of_interest)\n",
    "    previous_seasons = seasons[season_idx-years_back:season_idx]\n",
    "    \n",
    "    cumulative_cases = case_counts[previous_seasons].sum()\n",
    "    \n",
    "    if isinstance(PY_at_risk, pd.Series):\n",
    "        '''\n",
    "        This isn't an exactly closed population, \n",
    "        but if the pop size varies by <= 20%, \n",
    "        go ahead and just use the average person time at risk.\n",
    "        '''\n",
    "        PY_at_risk = PY_at_risk[previous_seasons]\n",
    "        assert PY_at_risk.max() * 0.8 <= PY_at_risk.min()\n",
    "        PY_at_risk = float(PY_at_risk.mean())\n",
    "    \n",
    "    return cumulative_cases / (PY_at_risk/1000.)\n",
    "\n"
   ]
  },
  {
   "cell_type": "code",
   "execution_count": 12,
   "metadata": {
    "collapsed": false
   },
   "outputs": [],
   "source": [
    "def adjust_genotype_name(name):\n",
    "    name = name.replace(' ', '').replace('_', '').replace('/', '').upper()\n",
    "    name = name[:5]+'_'+name[5:]\n",
    "    return name\n",
    "\n",
    "# Pull pre-computed autologous-value-normalized log2 titer values for each (serum, virus) pair\n",
    "titers = pd.read_csv('../data/katzelnick2015/processed/genotypes_normalized.csv', index_col=0)\n",
    "titers['virus_genotype'] = titers['virus_genotype'].apply(adjust_genotype_name)\n",
    "titers['serum_genotype'] = titers['serum_genotype'].apply(adjust_genotype_name)\n",
    "\n",
    "# Average by each (serum, virus) sero/genotype pair\n",
    "genotype_titers = titers.groupby(['virus_genotype', 'serum_genotype'])['autologous_norm'].agg('mean')\n",
    "serotype_titers = titers.groupby(['virus_serotype', 'serum_serotype'])['autologous_norm'].agg('mean')"
   ]
  },
  {
   "cell_type": "code",
   "execution_count": 17,
   "metadata": {
    "collapsed": false
   },
   "outputs": [],
   "source": [
    "def get_antigenic_distance_vector(virus_clade, clade_type='serotype'):\n",
    "    titers = serotype_titers if clade_type=='serotype' else genotype_titers\n",
    "    inverse_antigenic_distance = titers[virus_clade].apply(lambda x: 1./(x+0.00001))\n",
    "    return inverse_antigenic_distance\n",
    "\n",
    "def get_cumulative_incidence_vector(virus_clade, clade_type, infection, \n",
    "                                    season_of_interest, years_back=5):\n",
    "    ci = {}\n",
    "    case_counts = serotype_primary_counts if infection=='primary' else serotype_secondary_counts\n",
    "    PY_at_risk = case_counts['PY at risk']\n",
    "    \n",
    "    for clade, counts in case_counts.iteritems():\n",
    "        ci[clade] = cumulative_incidence(counts, PY_at_risk, season_of_interest, years_back)\n",
    "    \n",
    "    return pd.Series(ci)\n",
    "\n",
    "def calc_prevalence_of_immunity(virus_clade, clade_type, infection, season_of_interest, years_back=5):\n",
    "    antigenic_distance_vector = get_antigenic_distance_vector(virus_clade, clade_type)\n",
    "    cumulative_incidence_vector = get_cumulative_incidence_vector(virus_clade, clade_type, infection, season_of_interest, years_back)\n",
    "    return antigenic_distance_vector.dot(cumulative_incidence_vector)"
   ]
  },
  {
   "cell_type": "code",
   "execution_count": 19,
   "metadata": {
    "collapsed": true
   },
   "outputs": [],
   "source": [
    "def plot_things(virus_clade, clade_type, years_back):\n",
    "    \n",
    "    valid_seasons = seasons[years_back:]    \n",
    "    \n",
    "    if clade_type == 'serotype':\n",
    "        secondary_incidence = serotype_secondary_incidence[virus_clade][valid_seasons]\n",
    "    else:\n",
    "        secondary_incidence = genotype_secondary_incidence[virus_clade][valid_seasons]\n",
    "        \n",
    "    prevalence_of_immunity = { season: calc_prevalence_of_immunity(virus_clade, clade_type, 'primary', season, years_back)\n",
    "                                for season in valid_seasons }\n",
    "    \n",
    "    prevalence_of_immunity = pd.Series(prevalence_of_immunity)\n",
    "    \n",
    "    sns.regplot(x=prevalence_of_immunity, y=secondary_incidence)"
   ]
  },
  {
   "cell_type": "code",
   "execution_count": null,
   "metadata": {
    "collapsed": true
   },
   "outputs": [],
   "source": []
  }
 ],
 "metadata": {
  "kernelspec": {
   "display_name": "Python 2",
   "language": "python",
   "name": "python2"
  },
  "language_info": {
   "codemirror_mode": {
    "name": "ipython",
    "version": 2
   },
   "file_extension": ".py",
   "mimetype": "text/x-python",
   "name": "python",
   "nbconvert_exporter": "python",
   "pygments_lexer": "ipython2",
   "version": "2.7.10"
  }
 },
 "nbformat": 4,
 "nbformat_minor": 2
}
