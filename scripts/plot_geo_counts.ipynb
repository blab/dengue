{
 "cells": [
  {
   "cell_type": "code",
   "execution_count": 1,
   "metadata": {
    "collapsed": true
   },
   "outputs": [],
   "source": [
    "from Bio import SeqIO\n",
    "from matplotlib import pyplot as plt\n",
    "import pandas as pd\n",
    "%matplotlib inline\n",
    "import seaborn as sns"
   ]
  },
  {
   "cell_type": "code",
   "execution_count": 2,
   "metadata": {
    "collapsed": true
   },
   "outputs": [],
   "source": [
    "# Pull  from the americas\n",
    "sequence_dict = { s.description.split('|')[0]: s for s in SeqIO.parse(open('./data/dengue.fasta', 'r'), 'fasta') if 'america' in s.description }"
   ]
  },
  {
   "cell_type": "code",
   "execution_count": 13,
   "metadata": {
    "collapsed": false
   },
   "outputs": [
    {
     "name": "stdout",
     "output_type": "stream",
     "text": [
      "NICARAGUA              454\n",
      "PUERTO_RICO            381\n",
      "VENEZUELA              280\n",
      "BRAZIL                 278\n",
      "MEXICO                 158\n",
      "PERU                    76\n",
      "CUBA                    33\n",
      "COLOMBIA                27\n",
      "ARGENTINA               27\n",
      "USA                     22\n",
      "FRENCH_GUIANA           17\n",
      "DOMINICAN_REPUBLIC       7\n",
      "MARTINIQUE               7\n",
      "HAITI                    7\n",
      "PARAGUAY                 7\n",
      "AMERICAN_SAMOA           5\n",
      "JAMAICA                  3\n",
      "SURINAME                 2\n",
      "TRINIDAD_AND_TOBAGO      2\n",
      "GUATEMALA                2\n",
      "DOMINICA                 2\n",
      "SAINT_LUCIA              2\n",
      "GUYANA                   2\n",
      "GUADELOUPE               2\n",
      "HONDURAS                 1\n",
      "SAINT_KITTS              1\n",
      "EL_SALVADOR              1\n",
      "ECUADOR                  1\n",
      "ANTIGUA_AND_BARBUDA      1\n",
      "ANGUILLA                 1\n",
      "GRENADA                  1\n",
      "NAURU                    1\n",
      "CHILE                    1\n",
      "BARBADOS                 1\n",
      "BOLIVIA                  1\n",
      "BELIZE                   1\n",
      "Name: country, dtype: int64\n"
     ]
    }
   ],
   "source": [
    "# Parse to dictionary records -> dataframe\n",
    "sequences = []\n",
    "for s in sequence_dict.keys():\n",
    "    serotype, country, strain, year = s.split('/')\n",
    "    sequences.append(\n",
    "    {'country': country,\n",
    "    'year': year, \n",
    "     'serotype': serotype, \n",
    "     'strain': strain}\n",
    "    )\n",
    "sequences = pd.DataFrame(sequences)\n",
    "print pd.value_counts(sequences.country)"
   ]
  },
  {
   "cell_type": "code",
   "execution_count": 14,
   "metadata": {
    "collapsed": false
   },
   "outputs": [
    {
     "name": "stdout",
     "output_type": "stream",
     "text": [
      "VENEZUELA    280\n",
      "BRAZIL       278\n",
      "PERU          76\n",
      "COLOMBIA      27\n",
      "Name: country, dtype: int64\n"
     ]
    }
   ],
   "source": [
    "# Restrict to neighboring countries with lots of sequence data\n",
    "sequences = sequences[sequences['country'].isin(['VENEZUELA', 'BRAZIL', 'PERU', 'COLOMBIA'])]\n",
    "print pd.value_counts(sequences.country)"
   ]
  },
  {
   "cell_type": "code",
   "execution_count": 15,
   "metadata": {
    "collapsed": false
   },
   "outputs": [
    {
     "data": {
      "text/html": [
       "<div>\n",
       "<table border=\"1\" class=\"dataframe\">\n",
       "  <thead>\n",
       "    <tr style=\"text-align: right;\">\n",
       "      <th></th>\n",
       "      <th>index</th>\n",
       "      <th>country</th>\n",
       "      <th>year</th>\n",
       "      <th>serotype</th>\n",
       "      <th>count</th>\n",
       "    </tr>\n",
       "  </thead>\n",
       "  <tbody>\n",
       "    <tr>\n",
       "      <th>0</th>\n",
       "      <td>0</td>\n",
       "      <td>BRAZIL</td>\n",
       "      <td>1982.0</td>\n",
       "      <td>DENV4</td>\n",
       "      <td>1</td>\n",
       "    </tr>\n",
       "    <tr>\n",
       "      <th>1</th>\n",
       "      <td>1</td>\n",
       "      <td>BRAZIL</td>\n",
       "      <td>1988.0</td>\n",
       "      <td>DENV1</td>\n",
       "      <td>1</td>\n",
       "    </tr>\n",
       "    <tr>\n",
       "      <th>2</th>\n",
       "      <td>2</td>\n",
       "      <td>BRAZIL</td>\n",
       "      <td>1989.0</td>\n",
       "      <td>DENV1</td>\n",
       "      <td>1</td>\n",
       "    </tr>\n",
       "    <tr>\n",
       "      <th>3</th>\n",
       "      <td>3</td>\n",
       "      <td>BRAZIL</td>\n",
       "      <td>1990.0</td>\n",
       "      <td>DENV1</td>\n",
       "      <td>2</td>\n",
       "    </tr>\n",
       "    <tr>\n",
       "      <th>4</th>\n",
       "      <td>4</td>\n",
       "      <td>BRAZIL</td>\n",
       "      <td>1990.0</td>\n",
       "      <td>DENV2</td>\n",
       "      <td>2</td>\n",
       "    </tr>\n",
       "  </tbody>\n",
       "</table>\n",
       "</div>"
      ],
      "text/plain": [
       "   index country    year serotype  count\n",
       "0      0  BRAZIL  1982.0    DENV4      1\n",
       "1      1  BRAZIL  1988.0    DENV1      1\n",
       "2      2  BRAZIL  1989.0    DENV1      1\n",
       "3      3  BRAZIL  1990.0    DENV1      2\n",
       "4      4  BRAZIL  1990.0    DENV2      2"
      ]
     },
     "execution_count": 15,
     "metadata": {},
     "output_type": "execute_result"
    }
   ],
   "source": [
    "# Count the number for each serotype, per country per year.\n",
    "sequences.year = pd.to_numeric(sequences.year, errors='coerce')\n",
    "df = sequences.groupby(['country', 'year', 'serotype'], as_index=False).count().reset_index()\n",
    "df.rename(columns={'strain': 'count'}, inplace=True)\n",
    "df.head()"
   ]
  },
  {
   "cell_type": "code",
   "execution_count": 16,
   "metadata": {
    "collapsed": false
   },
   "outputs": [
    {
     "data": {
      "text/plain": [
       "(1980, 2017)"
      ]
     },
     "execution_count": 16,
     "metadata": {},
     "output_type": "execute_result"
    },
    {
     "data": {
      "image/png": "[encoded data removed]",
      "text/plain": [
       "<matplotlib.figure.Figure at 0x10f75ca90>"
      ]
     },
     "metadata": {},
     "output_type": "display_data"
    }
   ],
   "source": [
    "# Plot this with seaborn\n",
    "sns.set(style='whitegrid', font_scale=1.5, palette='muted')\n",
    "plot = sns.lmplot(x='year', y='count', hue='serotype', col='country', data=df,col_wrap=2,fit_reg=False, scatter_kws={'alpha': 0.6})\n",
    "plt.ylim(0, 100)\n",
    "plt.xlim(1980, 2017)"
   ]
  },
  {
   "cell_type": "code",
   "execution_count": 20,
   "metadata": {
    "collapsed": false
   },
   "outputs": [
    {
     "name": "stdout",
     "output_type": "stream",
     "text": [
      "BRAZIL       249\n",
      "VENEZUELA    241\n",
      "PERU          73\n",
      "COLOMBIA      21\n",
      "Name: country, dtype: int64\n",
      "584\n"
     ]
    }
   ],
   "source": [
    "# Which places do we have the most sequences for since 2000?\n",
    "counts = pd.value_counts(sequences[sequences.year >= 2000].country)\n",
    "print counts\n",
    "print counts.sum()"
   ]
  },
  {
   "cell_type": "code",
   "execution_count": 24,
   "metadata": {
    "collapsed": false
   },
   "outputs": [
    {
     "data": {
      "text/plain": [
       "584"
      ]
     },
     "execution_count": 24,
     "metadata": {},
     "output_type": "execute_result"
    }
   ],
   "source": [
    "microcosm = []\n",
    "for ID, record in sequence_dict.items():\n",
    "    sero, country, strain, year = ID.split('/')\n",
    "    try:\n",
    "        if int(year) >= 2000 and country in counts.index.values:\n",
    "            microcosm.append(record)\n",
    "    except:\n",
    "        continue\n",
    "\n",
    "assert len(microcosm) == counts.sum()\n",
    "SeqIO.write(microcosm, 'sa2k.fasta', 'fasta')"
   ]
  },
  {
   "cell_type": "code",
   "execution_count": null,
   "metadata": {
    "collapsed": true
   },
   "outputs": [],
   "source": []
  }
 ],
 "metadata": {
  "kernelspec": {
   "display_name": "Python 2",
   "language": "python",
   "name": "python2"
  },
  "language_info": {
   "codemirror_mode": {
    "name": "ipython",
    "version": 2
   },
   "file_extension": ".py",
   "mimetype": "text/x-python",
   "name": "python",
   "nbconvert_exporter": "python",
   "pygments_lexer": "ipython2",
   "version": "2.7.10"
  }
 },
 "nbformat": 4,
 "nbformat_minor": 0
}
