{
 "cells": [
  {
   "cell_type": "code",
   "execution_count": 2,
   "metadata": {
    "collapsed": false
   },
   "outputs": [],
   "source": [
    "import baltic as bt\n",
    "from matplotlib import pyplot as plt\n",
    "from collections import defaultdict\n",
    "from matplotlib import cm\n",
    "from numpy import linspace\n",
    "%matplotlib inline\n",
    "import json\n",
    "import matplotlib.gridspec as gridspec\n",
    "import math\n",
    "from itertools import combinations\n",
    "import pandas as pd\n",
    "import numpy as np\n",
    "import seaborn as sns\n",
    "from pprint import pprint\n",
    "import math\n",
    "import sequtils as sue\n",
    "from scipy.stats import linregress"
   ]
  },
  {
   "cell_type": "code",
   "execution_count": 31,
   "metadata": {
    "collapsed": false
   },
   "outputs": [
    {
     "name": "stdout",
     "output_type": "stream",
     "text": [
      "           DENV1_I  DENV1_II  DENV1_IV  DENV1_V  DENV2_ASIANAMERICAN  \\\n",
      "1970.0000   0.0072    0.0104    0.0164   0.0089               0.0069   \n",
      "1970.0833   0.0074    0.0105    0.0169   0.0092               0.0070   \n",
      "1970.1667   0.0076    0.0106    0.0174   0.0095               0.0070   \n",
      "1970.2500   0.0078    0.0108    0.0180   0.0098               0.0071   \n",
      "1970.3333   0.0080    0.0109    0.0185   0.0101               0.0071   \n",
      "\n",
      "           DENV2_ASIANI  DENV2_COSMOPOLITAN  DENV3_I  DENV3_II  DENV3_III  \\\n",
      "1970.0000        0.0071              0.0082   0.0153    0.1196     0.0021   \n",
      "1970.0833        0.0072              0.0084   0.0154    0.1201     0.0020   \n",
      "1970.1667        0.0072              0.0085   0.0155    0.1205     0.0019   \n",
      "1970.2500        0.0073              0.0087   0.0156    0.1209     0.0018   \n",
      "1970.3333        0.0073              0.0089   0.0157    0.1212     0.0018   \n",
      "\n",
      "           DENV3_IV  DENV4_I  DENV4_II  \n",
      "1970.0000    0.0044   0.0087    0.0294  \n",
      "1970.0833    0.0044   0.0086    0.0292  \n",
      "1970.1667    0.0043   0.0084    0.0290  \n",
      "1970.2500    0.0043   0.0083    0.0288  \n",
      "1970.3333    0.0042   0.0081    0.0286  \n"
     ]
    }
   ],
   "source": [
    "frequencies = pd.read_csv('../../../data/frequencies/nicaragua_frequencies.csv', index_col=0)\n",
    "frequencies.drop([gt for gt in frequencies.columns.values if 'SYLVATIC' in gt], inplace=True, axis=1)\n",
    "genotypes = frequencies.columns.values\n",
    "\n",
    "titer_path = '../../../data/katzelnick2015/processed/genotypes_normalized.csv'\n",
    "print frequencies.head()"
   ]
  },
  {
   "cell_type": "code",
   "execution_count": 32,
   "metadata": {
    "collapsed": false
   },
   "outputs": [],
   "source": [
    "# print titers.head()\n",
    "def load_titers(titer_path):\n",
    "    titers = pd.read_csv(titer_path, index_col=0)\n",
    "    \n",
    "    def fix_name(gt):\n",
    "        gt = gt[:5]+'_'+gt[5:]\n",
    "        gt = gt.replace('/', '').replace(' ', '').upper()\n",
    "        return gt\n",
    "\n",
    "    titers['virus_genotype'] = titers['virus_genotype'].map(fix_name)\n",
    "    titers['serum_genotype'] = titers['serum_genotype'].map(fix_name)\n",
    "    return titers\n",
    "\n",
    "def average_normed_titers(titers):\n",
    "    avg_titers = titers.groupby(['virus_genotype', 'serum_genotype'])['autologous_norm'].agg('mean')\n",
    "    avg_titers = { tuple(sorted(k)):v for k,v in avg_titers.to_dict().items()}\n",
    "    return avg_titers\n",
    "    \n",
    "titers = load_titers(titer_path)\n",
    "avg_titers = average_normed_titers(titers)"
   ]
  },
  {
   "cell_type": "code",
   "execution_count": 33,
   "metadata": {
    "collapsed": false
   },
   "outputs": [],
   "source": [
    "def are_cocirculating(genotype1, genotype2, row):\n",
    "    return row[genotype1] >= 0.1 and row[genotype2] >= 0.1\n",
    "\n",
    "def avg_len_cocirculating(flag_series):    \n",
    "    # first value is a True preceded by a False\n",
    "    start = flag_series.index[flag_series & ~ flag_series.shift(1).fillna(False)]\n",
    "\n",
    "    # last value is a True followed by a False\n",
    "    end = flag_series.index[flag_series & ~ flag_series.shift(-1).fillna(False)]\n",
    "    time_periods = zip(start, end)\n",
    "    len_cocirculating = [end - start for start,end in time_periods]\n",
    "\n",
    "    try:\n",
    "        avg_len_cocirculating = float(sum(len_cocirculating)) / float(len(len_cocirculating))\n",
    "    except ZeroDivisionError:\n",
    "        avg_len_cocirculating = 0.\n",
    "\n",
    "    return avg_len_cocirculating\n",
    "\n",
    "\n",
    "def get_cocirculation_stability(df, genotypes=genotypes):\n",
    "    genotype_pairs = combinations(genotypes, 2)\n",
    "    \n",
    "    len_cocirc = {}\n",
    "    \n",
    "    for (g1,g2) in genotype_pairs:\n",
    "        cocirculating_boolean_series = df.apply(lambda x: are_cocirculating(g1,g2,x), axis=1)\n",
    "        key = tuple(sorted([g1,g2]))\n",
    "        len_cocirc[key] = avg_len_cocirculating(cocirculating_boolean_series)\n",
    "    \n",
    "    return len_cocirc\n",
    "\n",
    "def both_present((g1, g2), df):\n",
    "    max_freqs = df.max()\n",
    "    return max_freqs[g1] >= 0.1 and max_freqs[g2] >=0.1"
   ]
  },
  {
   "cell_type": "code",
   "execution_count": 50,
   "metadata": {
    "collapsed": false
   },
   "outputs": [],
   "source": [
    "def compare_cocirculation_stability_titers(df, avg_titers=avg_titers, genotypes=genotypes):\n",
    "    len_cocirc = get_cocirculation_stability(df)\n",
    "    avg_norm_titers = average_normed_titers(titers)\n",
    "    \n",
    "    genotype_pairs = [g for g in sorted([g for g in combinations(genotypes, 2)]) if g[0] != g[1]]\n",
    "    \n",
    "    xvals = []\n",
    "    yvals = []\n",
    "    missing = 0\n",
    "    for g in genotype_pairs:\n",
    "        try:\n",
    "            x = avg_norm_titers[g]\n",
    "            y = len_cocirc[g]\n",
    "            if not np.isnan(x):\n",
    "                if y != 0. or both_present(g, df):\n",
    "                    xvals.append(x)\n",
    "                    yvals.append(y)\n",
    "        except KeyError as e:\n",
    "            missing += 1\n",
    "            continue\n",
    "    \n",
    "    print len(genotype_pairs)\n",
    "    print missing\n",
    "    fit = linregress(xvals, yvals)\n",
    "    return {'titer_dist': xvals, 'cocirc_length': yvals, 'rvalue': fit.rvalue, 'slope': fit.slope}\n",
    "\n",
    "def shuffle_labels(df):\n",
    "    shuffled = df.copy()\n",
    "    np.random.shuffle(shuffled.columns.values)\n",
    "    return shuffled\n",
    "\n",
    "def generate_null(df, n=100):\n",
    "    null_distribution_slope = []\n",
    "    null_distribution_r = []\n",
    "    for i in range(n):\n",
    "        shuffled_df = shuffle_labels(df)\n",
    "        null_distribution_slope.append(compare_cocirculation_stability_titers(shuffled_df)['slope'])\n",
    "        null_distribution_r.append(compare_cocirculation_stability_titers(shuffled_df)['rvalue'])\n",
    "    return {'r': null_distribution_r, 'slope': null_distribution_slope}"
   ]
  },
  {
   "cell_type": "code",
   "execution_count": 51,
   "metadata": {
    "collapsed": false
   },
   "outputs": [
    {
     "name": "stdout",
     "output_type": "stream",
     "text": [
      "78\n",
      "46\n"
     ]
    }
   ],
   "source": [
    "test_stats = compare_cocirculation_stability_titers(frequencies)"
   ]
  },
  {
   "cell_type": "code",
   "execution_count": 47,
   "metadata": {
    "collapsed": false
   },
   "outputs": [
    {
     "data": {
      "text/plain": [
       "<matplotlib.text.Text at 0x114483510>"
      ]
     },
     "execution_count": 47,
     "metadata": {},
     "output_type": "execute_result"
    },
    {
     "data": {
      "image/png": "[encoded data removed]",
      "text/plain": [
       "<matplotlib.figure.Figure at 0x1144018d0>"
      ]
     },
     "metadata": {},
     "output_type": "display_data"
    }
   ],
   "source": [
    "sns.set_style('whitegrid')\n",
    "sns.regplot(pd.Series(test_stats['titer_dist']),pd.Series(test_stats['cocirc_length']))\n",
    "plt.xlabel('Avg titer distance between genotypes')\n",
    "plt.ylabel('Avg years of genotype cocirculation')\n",
    "plt.title('DENV population dynamics in Nicaragua')"
   ]
  },
  {
   "cell_type": "code",
   "execution_count": null,
   "metadata": {
    "collapsed": true
   },
   "outputs": [],
   "source": [
    "null_distrib = generate_null(frequencies)"
   ]
  },
  {
   "cell_type": "code",
   "execution_count": null,
   "metadata": {
    "collapsed": false
   },
   "outputs": [],
   "source": [
    "fig, ax = plt.subplots(1,2, figsize=(8,4))\n",
    "null_r = sns.kdeplot(pd.Series(null_distrib['r']), ax=ax[0])\n",
    "null_r.plot([southeast_asia_results['rvalue'] for i in np.linspace(0.,2.)], [i for i in np.linspace(0.,2.)])\n",
    "null_r.set_xlabel('r')\n",
    "null_r.set_ylim(0, 2)\n",
    "\n",
    "null_slope = sns.kdeplot(pd.Series(null_distrib['slope']), ax=ax[1])\n",
    "null_slope.plot([southeast_asia_results['slope'] for i in np.linspace(0.,1.)], [i for i in np.linspace(0.,1.)])\n",
    "null_slope.set_xlabel('slope')\n",
    "null_slope.set_ylim(0,2)\n",
    "\n",
    "plt.suptitle('Association between\\ncocirculation stability and antigenic distance', va='bottom')\n",
    "plt.tight_layout()"
   ]
  },
  {
   "cell_type": "code",
   "execution_count": null,
   "metadata": {
    "collapsed": true
   },
   "outputs": [],
   "source": []
  }
 ],
 "metadata": {
  "kernelspec": {
   "display_name": "Python 2",
   "language": "python",
   "name": "python2"
  },
  "language_info": {
   "codemirror_mode": {
    "name": "ipython",
    "version": 2
   },
   "file_extension": ".py",
   "mimetype": "text/x-python",
   "name": "python",
   "nbconvert_exporter": "python",
   "pygments_lexer": "ipython2",
   "version": "2.7.10"
  }
 },
 "nbformat": 4,
 "nbformat_minor": 2
}
