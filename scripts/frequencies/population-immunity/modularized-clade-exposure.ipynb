{
 "cells": [
  {
   "cell_type": "code",
   "execution_count": 1,
   "metadata": {},
   "outputs": [],
   "source": [
    "import pandas as pd\n",
    "import numpy as np\n",
    "from matplotlib import pyplot as plt\n",
    "import seaborn as sns\n",
    "import baltic as bt\n",
    "from scipy import stats, optimize\n",
    "from math import ceil"
   ]
  },
  {
   "cell_type": "code",
   "execution_count": 2,
   "metadata": {},
   "outputs": [],
   "source": [
    "######  CONFIG  #####\n",
    "\n",
    "# Pull pre-computed clade frequencies\n",
    "dataset_name = 'SEAsia'\n",
    "out_path = '../../../data/titer-model/frequencies/'\n",
    "frequency_path = '../../../data/titer-model/frequencies/southeast_asia_clade_frequencies.csv'\n",
    "\n",
    "all_branch_effects_tree = '../../../data/titer-model/all-branch-effects/jsons/dengue_all_tree.json'\n",
    "interserotype_branch_effects_tree = '../../../data/titer-model/interserotype-branch-effects/jsons/dengue_all_tree.json'\n",
    "tree_path = all_branch_effects_tree\n",
    "\n",
    "uniform_cTiter_clades = [4, 33, 117, 495, 975, 980, 996, 1017, 1020, 1033, 1089, \n",
    "                         1386, 1395, 1454, 1588, 1594, 1860, 2027, 2037, 2119, \n",
    "                         2167, 2173, 2185, 2230, 2238, 2588]\n",
    "\n",
    "serotype_clades = [1859,1,1385,974]\n",
    "genotype_clades = [2185,2589,2238,2596,1460,1393,1587,1455,975,979,1089,33,497,117,543,4,638]\n",
    "\n",
    "date_range = (1970., 2015.)\n",
    "years_back = 5\n",
    "years_forward = 5\n",
    "\n",
    "frequencies = pd.read_csv(frequency_path, index_col=0)\n",
    "frequencies.rename(columns={i:int(i) for i in frequencies.columns.values}, inplace=True)\n",
    "frequencies = frequencies.loc[(frequencies.index >= date_range[0]) & (frequencies.index <= date_range[1])]"
   ]
  },
  {
   "cell_type": "code",
   "execution_count": 3,
   "metadata": {},
   "outputs": [],
   "source": [
    "##### TIMEPOINTS PARSING #####\n",
    "#  pivots = augur jargon for time points; used here for consistency across codebase\n",
    "\n",
    "pivots = frequencies.index.tolist()\n",
    "n_years = int(pivots[-1]) - int(pivots[0])\n",
    "ppy = len(pivots)/n_years # pivots per year\n",
    "\n",
    "pivots_back = years_back*ppy\n",
    "pivots_forward = years_forward*ppy\n",
    "\n",
    "# pivots with enough data before to infer population exposure AND enough data after to test prediction\n",
    "informative_pivots = pivots[pivots_back:-1*pivots_forward] \n",
    "informative_date_range = (informative_pivots[0], informative_pivots[-1])"
   ]
  },
  {
   "cell_type": "code",
   "execution_count": 4,
   "metadata": {},
   "outputs": [
    {
     "name": "stdout",
     "output_type": "stream",
     "text": [
      "\n",
      "Tree height: 0.368260\n",
      "Tree length: 6.105600\n",
      "annotations present\n",
      "\n",
      "Numbers of objects in tree: 2996 (1426 nodes and 1570 leaves)\n",
      "\n"
     ]
    }
   ],
   "source": [
    "#####   INPUT   #####\n",
    "def get_delta_frequencies(pivots, pivots_forward, informative_date_range, frequencies):\n",
    "    valid_start = pivots[:-1*pivots_forward] # enough data going forward\n",
    "    valid_end = pivots[pivots_forward:] \n",
    "    delta_t = zip(valid_start, valid_end) \n",
    "    delta_f = { i: [frequencies[i][end] - frequencies[i][start] for (start, end) in delta_t] for i in frequencies.columns.values}\n",
    "    delta_f = pd.DataFrame(delta_f, index=valid_start)\n",
    "    return delta_f.loc[(delta_f.index >= informative_date_range[0]) & (delta_f.index <= informative_date_range[-1])]\n",
    "\n",
    "delta_frequencies = get_delta_frequencies(pivots, pivots_forward, informative_date_range, frequencies)\n",
    "\n",
    "titer_tree = bt.loadJSON(tree_path, json_translation={'name': 'strain', 'height': 'xvalue'})\n",
    "clade_lookup = { int(k.traits['clade']) : k for k in titer_tree.nodes}\n",
    "dTiters = {}\n",
    "\n",
    "def get_dTiter(clade1, clade2, clade_lookup=clade_lookup, dTiters=dTiters):\n",
    "    key = tuple(sorted([clade1, clade2]))\n",
    "\n",
    "    if key in dTiters:\n",
    "        return dTiters[key]\n",
    "\n",
    "    elif clade1 == clade2:\n",
    "        dTiter = 0.\n",
    "\n",
    "    else:\n",
    "        k1, k2 = clade_lookup[clade1], clade_lookup[clade2]\n",
    "        k1_trace = []\n",
    "        k2_trace = []\n",
    "        k = k1 ## Trace from the node 1 to the root (in order)\n",
    "        while k.index != 'Root':\n",
    "            k1_trace.append(k)\n",
    "            k = k.parent\n",
    "        k = k2 ## Start tracing from node2 to the root; break when we find the first node that's shared along node1's path\n",
    "        while k not in k1_trace:\n",
    "            k2_trace.append(k)\n",
    "            k = k.parent\n",
    "        else:\n",
    "            mrca = k\n",
    "        shared_k1_trace = k1_trace[:k1_trace.index(mrca)]\n",
    "        k2_trace.reverse() # walk back down from the mrca, so the path is unidirectional\n",
    "        total_trace = []\n",
    "        total_trace += shared_k1_trace\n",
    "        total_trace += k2_trace\n",
    "\n",
    "        dTiter = sum([k.traits['dTiter'] for k in total_trace])\n",
    "\n",
    "    dTiters[key] = dTiter\n",
    "    \n",
    "    return dTiter"
   ]
  },
  {
   "cell_type": "code",
   "execution_count": 5,
   "metadata": {},
   "outputs": [],
   "source": [
    "#### Calculate cumulative exposure to genotype i at the START of each season we have data for\n",
    "def calc_population_exposure(i, gamma, sigma, all_clades,\n",
    "                             pivots=pivots, pivots_back=pivots_back, \n",
    "                             informative_pivots = informative_pivots, max_years_back=years_back, \n",
    "                             ppy=ppy, informative_date_range=informative_date_range,\n",
    "                             frequencies=frequencies):\n",
    "        \n",
    "    population_exposure = []\n",
    "\n",
    "    starting_pivots = informative_pivots\n",
    "    for starting_p in starting_pivots: # each starting season of interest\n",
    "        p_idx = pivots.index(starting_p)\n",
    "        previous_pivots = pivots[p_idx - pivots_back:p_idx]\n",
    "        \n",
    "        cumulative_exposure = 0.\n",
    "        \n",
    "        for idx, previous_p in enumerate(previous_pivots, start=0):\n",
    "            yrs_back = float(idx)/float(ppy)\n",
    "            waning = max(gamma*yrs_back + 1, 0.)\n",
    "\n",
    "            for j in all_clades: # for each genotype\n",
    "                D_ij = get_dTiter(i,j)\n",
    "                C_D_ij = 1 + sigma*D_ij # we don't precompute all dTiter values, so check sanity check the sigma value on the fly for each dTiter value\n",
    "#                 assert float(C_D_ij) >= float(0.0) and float(C_D_ij) <= float(1.0), 'ERROR: dTiter value %.2f, between clades %d and %d, yielded an invalid C(ij) value of %.2f'%(D_ij, i, j, C_D_ij)\n",
    "                \n",
    "                j_frequency = frequencies[j][previous_p]\n",
    "                \n",
    "                exposure = j_frequency * C_D_ij * waning\n",
    "                cumulative_exposure += exposure\n",
    "                \n",
    "        population_exposure.append(cumulative_exposure)\n",
    "        \n",
    "    return population_exposure"
   ]
  },
  {
   "cell_type": "code",
   "execution_count": 9,
   "metadata": {
    "scrolled": true
   },
   "outputs": [
    {
     "name": "stdout",
     "output_type": "stream",
     "text": [
      "LinregressResult(slope=-0.0044434915480637332, intercept=0.02817925021477383, rvalue=-0.093376393051949669, pvalue=0.00023095684680006693, stderr=0.001203815452096634)\n"
     ]
    },
    {
     "data": {
      "image/png": "[encoded data removed]",
      "text/plain": [
       "<matplotlib.figure.Figure at 0x10d369610>"
      ]
     },
     "metadata": {},
     "output_type": "display_data"
    }
   ],
   "source": [
    "# genotypes that have reached at least 10% frequency at some point\n",
    "antigenic_clades = genotype_clades\n",
    "informative_clades = [i for i in antigenic_clades if frequencies[i].max() >= 0.1]\n",
    "\n",
    "antigenic_clade_exposure = {i:pd.DataFrame(calc_population_exposure(i, -0.125, -0.15, antigenic_clades), \n",
    "                                           index=informative_pivots, columns=['population_exposure'])\n",
    "                            for i in informative_clades}\n",
    "\n",
    "pooled_exposure = []\n",
    "pooled_delta_f = []\n",
    "\n",
    "for i, exposure in antigenic_clade_exposure.items():\n",
    "    valid_pivots = delta_frequencies.index\n",
    "    exposure = exposure.loc[exposure.index.isin(valid_pivots)]\n",
    "    exposure['delta_frequency'] = delta_frequencies[i]\n",
    "    antigenic_clade_exposure[i] = exposure\n",
    "\n",
    "    pooled_exposure += exposure['population_exposure'].tolist()\n",
    "    pooled_delta_f += exposure['delta_frequency'].tolist()\n",
    "\n",
    "pooled_fit = stats.linregress(pooled_exposure, pooled_delta_f)\n",
    "print pooled_fit\n",
    "sns.regplot(pd.Series(pooled_exposure), pd.Series(pooled_delta_f))\n",
    "plt.xlabel('Population Immunity')\n",
    "plt.ylabel('5-year change in frequency')\n",
    "plt.show()"
   ]
  },
  {
   "cell_type": "code",
   "execution_count": null,
   "metadata": {},
   "outputs": [],
   "source": [
    "####    PLOT   #####\n",
    "def plot_exposure_delta_frequencies(i, ax, population_exposure):\n",
    "    sns.regplot('population_exposure', 'delta_frequency', data=population_exposure[i], ax=ax)\n",
    "    ax.set_title(i)\n",
    "    ax.set_xlabel('Population immunity')\n",
    "    ax.set_ylabel('%d-yr change in frequency'%years_forward)\n",
    "\n",
    "sns.set(style='whitegrid', font_scale=1.1, palette='pastel')\n",
    "n_j_vals = len(antigenic_clade_exposure.keys())\n",
    "ncols = 4\n",
    "nrows = int(ceil(n_j_vals/ncols))\n",
    "\n",
    "sns.set_style('whitegrid')\n",
    "fig, axes = plt.subplots(nrows=nrows, ncols=ncols, squeeze=True, figsize=(12,8), sharey=True, sharex=True)\n",
    "for j, ax in zip(sorted(antigenic_clade_exposure.keys()), axes.flatten()):\n",
    "    plot_exposure_delta_frequencies(j, ax, antigenic_clade_exposure)\n",
    "plt.tight_layout()\n",
    "plt.show()"
   ]
  },
  {
   "cell_type": "code",
   "execution_count": null,
   "metadata": {},
   "outputs": [],
   "source": [
    "def predict_all_trajectories((gamma, sigma)):\n",
    "    pooled_exposure = []\n",
    "    pooled_delta_f = []\n",
    "\n",
    "    informative_clades = [c for c in antigenic_clades if frequencies[c].max() >= 0.1]\n",
    "    for i in informative_clades:\n",
    "        pooled_exposure += calc_population_exposure(i, gamma, sigma, antigenic_clades)\n",
    "        pooled_delta_f += delta_frequencies[i].tolist()\n",
    "\n",
    "    slope, intercept, r_value, p_value, std_err =  stats.linregress(pooled_exposure, pooled_delta_f)\n",
    "    return -1.*r_value\n",
    "\n",
    "\n",
    "optimized_parameters = optimize.minimize(fun=predict_all_trajectories, x0=[-0.125, -0.15],\n",
    "                                         bounds=[(-1.0, -0.1), (-0.2, -0.02)],tol=1e-3,options={'maxiter': 150})\n",
    "\n",
    "print optimized_parameters"
   ]
  },
  {
   "cell_type": "code",
   "execution_count": null,
   "metadata": {},
   "outputs": [],
   "source": []
  }
 ],
 "metadata": {
  "kernelspec": {
   "display_name": "Python 2",
   "language": "python",
   "name": "python2"
  },
  "language_info": {
   "codemirror_mode": {
    "name": "ipython",
    "version": 2
   },
   "file_extension": ".py",
   "mimetype": "text/x-python",
   "name": "python",
   "nbconvert_exporter": "python",
   "pygments_lexer": "ipython2",
   "version": "2.7.10"
  }
 },
 "nbformat": 4,
 "nbformat_minor": 2
}
