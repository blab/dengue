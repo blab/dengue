{
 "cells": [
  {
   "cell_type": "code",
   "execution_count": 1,
   "metadata": {},
   "outputs": [],
   "source": [
    "import pandas as pd\n",
    "import numpy as np\n",
    "from matplotlib import pyplot as plt\n",
    "import seaborn as sns\n",
    "import baltic as bt\n",
    "from scipy import stats, optimize\n",
    "from math import ceil"
   ]
  },
  {
   "cell_type": "code",
   "execution_count": 2,
   "metadata": {},
   "outputs": [],
   "source": [
    "######  CONFIG  #####\n",
    "\n",
    "# Pull pre-computed clade frequencies\n",
    "dataset_name = 'SEAsia'\n",
    "out_path = '../../../data/titer-model/frequencies/'\n",
    "frequency_path = '../../../data/titer-model/frequencies/southeast_asia_clade_frequencies.csv'\n",
    "\n",
    "all_branch_effects_tree = '../../../data/titer-model/all-branch-effects/jsons/dengue_all_tree.json'\n",
    "interserotype_branch_effects_tree = '../../../data/titer-model/interserotype-branch-effects/jsons/dengue_all_tree.json'\n",
    "\n",
    "uniform_cTiter_clades = [4, 33, 117, 495, 975, 980, 996, 1017, 1020, 1033, 1089, \n",
    "                         1386, 1395, 1454, 1588, 1594, 1860, 2027, 2037, 2119, \n",
    "                         2167, 2173, 2185, 2230, 2238, 2588]\n",
    "\n",
    "serotype_clades = [1859,1,1385,974]\n",
    "genotype_clades = [2185,2589,2238,2596,1460,1393,1587,1455,975,979,1089,33,497,117,543,4,638]\n",
    "\n",
    "date_range = (1970., 2015.)\n",
    "years_back = 3\n",
    "years_forward = 5"
   ]
  },
  {
   "cell_type": "code",
   "execution_count": 3,
   "metadata": {},
   "outputs": [],
   "source": [
    "frequencies = pd.read_csv(frequency_path, index_col=0)\n",
    "frequencies.rename(columns={i:int(i) for i in frequencies.columns.values}, inplace=True)\n",
    "frequencies = frequencies.loc[(frequencies.index >= date_range[0]) & (frequencies.index <= date_range[1])]\n",
    "\n",
    "pivots = frequencies.index.tolist()\n",
    "n_years = int(pivots[-1]) - int(pivots[0])\n",
    "ppy = len(pivots)/n_years # pivots per year\n",
    "\n",
    "pivots_back = years_back*ppy\n",
    "pivots_forward = years_forward*ppy\n",
    "\n",
    "informative_pivots = pivots[pivots_back:-1*pivots_forward]\n",
    "informative_date_range = (informative_pivots[0], informative_pivots[-1])"
   ]
  },
  {
   "cell_type": "code",
   "execution_count": 4,
   "metadata": {},
   "outputs": [],
   "source": [
    "#####   INPUT   #####\n",
    "def get_frequency_ratio(pivots, pivots_forward, informative_date_range, frequencies):\n",
    "    valid_start = pivots[:-1*pivots_forward] # enough data going forward\n",
    "    valid_end = pivots[pivots_forward:] \n",
    "    delta_t = zip(valid_start, valid_end) \n",
    "    \n",
    "    def ratio(start, end):\n",
    "        if start < 0.1:\n",
    "            return np.nan\n",
    "        else:\n",
    "            return end / start\n",
    "    \n",
    "    f_ratio = { i: [ratio(frequencies[i][start], frequencies[i][end]) for (start, end) in delta_t] for i in frequencies.columns.values}\n",
    "    f_ratio = pd.DataFrame(f_ratio, index=valid_start)\n",
    "    return f_ratio.loc[(f_ratio.index >= informative_date_range[0]) & (f_ratio.index <= informative_date_range[-1])]\n",
    "\n",
    "\n",
    "actual_frequency_ratio = get_frequency_ratio(pivots, pivots_forward, informative_date_range, frequencies)"
   ]
  },
  {
   "cell_type": "code",
   "execution_count": 5,
   "metadata": {},
   "outputs": [
    {
     "name": "stdout",
     "output_type": "stream",
     "text": [
      "\n",
      "Tree height: 0.368260\n",
      "Tree length: 6.105600\n",
      "annotations present\n",
      "\n",
      "Numbers of objects in tree: 2996 (1426 nodes and 1570 leaves)\n",
      "\n",
      "\n",
      "Tree height: 0.368260\n",
      "Tree length: 6.105600\n",
      "annotations present\n",
      "\n",
      "Numbers of objects in tree: 2996 (1426 nodes and 1570 leaves)\n",
      "\n"
     ]
    }
   ],
   "source": [
    "all_branch_effects_tree = bt.loadJSON(all_branch_effects_tree, json_translation={'name': 'strain', 'height': 'xvalue'})\n",
    "interserotype_branch_effects_tree = bt.loadJSON(interserotype_branch_effects_tree, json_translation = {'name': 'strain', 'height': 'xvalue'})\n",
    "\n",
    "all_branch_effects_clade_lookup = {int(k.traits['clade']) : k for k in all_branch_effects_tree.Objects}\n",
    "interserotype_branch_effects_clade_lookup = {int(k.traits['clade']):k for k in interserotype_branch_effects_tree.Objects}\n",
    "\n",
    "for clade, k in all_branch_effects_clade_lookup.items():\n",
    "    compare = interserotype_branch_effects_clade_lookup[clade]\n",
    "    assert k.traits['strain'] == compare.traits['strain']\n",
    "    \n",
    "    k.traits['interserotype_dTiter'] = compare.traits['dTiter']\n",
    "    \n",
    "clade_lookup = all_branch_effects_clade_lookup\n",
    "titer_tree = all_branch_effects_tree"
   ]
  },
  {
   "cell_type": "code",
   "execution_count": 6,
   "metadata": {},
   "outputs": [],
   "source": [
    "all_branch_effects_dTiters = {}\n",
    "interserotype_effects_dTiters = {}\n",
    "\n",
    "def get_dTiter(clade1, clade2, antigenic_resolution, clade_lookup=clade_lookup):\n",
    "    key = tuple(sorted([clade1, clade2]))\n",
    "\n",
    "    if antigenic_resolution == 'serotype':\n",
    "        dTiters = interserotype_effects_dTiters\n",
    "        titer_trait = 'interserotype_dTiter'\n",
    "    else:\n",
    "        dTiters = all_branch_effects_dTiters\n",
    "        titer_trait='dTiter'\n",
    "        \n",
    "    if key in dTiters:\n",
    "        return dTiters[key]\n",
    "\n",
    "    elif clade1 == clade2:\n",
    "        dTiter = 0.\n",
    "\n",
    "    else:\n",
    "        k1, k2 = clade_lookup[clade1], clade_lookup[clade2]\n",
    "        k1_trace = []\n",
    "        k2_trace = []\n",
    "        k = k1 ## Trace from the node 1 to the root (in order)\n",
    "        while k.index != 'Root':\n",
    "            k1_trace.append(k)\n",
    "            k = k.parent\n",
    "        k = k2 ## Start tracing from node2 to the root; break when we find the first node that's shared along node1's path\n",
    "        while k not in k1_trace:\n",
    "            k2_trace.append(k)\n",
    "            k = k.parent\n",
    "        else:\n",
    "            mrca = k\n",
    "        shared_k1_trace = k1_trace[:k1_trace.index(mrca)]\n",
    "        k2_trace.reverse() # walk back down from the mrca, so the path is unidirectional\n",
    "        total_trace = []\n",
    "        total_trace += shared_k1_trace\n",
    "        total_trace += k2_trace\n",
    "        \n",
    "        dTiter = sum([k.traits[titer_trait] for k in total_trace])\n",
    "\n",
    "    dTiters[key] = dTiter\n",
    "    \n",
    "    return dTiter"
   ]
  },
  {
   "cell_type": "code",
   "execution_count": 7,
   "metadata": {},
   "outputs": [],
   "source": [
    "#### Calculate cumulative exposure to genotype i at the START of each season we have data for\n",
    "def calc_population_exposure(i, gamma, sigma, all_clades, antigenic_resolution, frequencies,\n",
    "                                 pivots, ppy, pivots_back,informative_pivots, \n",
    "                                 max_years_back,informative_date_range):\n",
    "        \n",
    "    assert antigenic_resolution in ['clade', 'serotype']\n",
    "    \n",
    "    population_exposure = []\n",
    "\n",
    "    starting_pivots = informative_pivots\n",
    "    for starting_p in starting_pivots: # each starting season of interest        \n",
    "        if frequencies[i][starting_p] < 0.1: # if below 10% frequency to start with, don't calculate for this season\n",
    "            population_exposure.append(np.nan)\n",
    "            continue\n",
    "\n",
    "        p_idx = pivots.index(starting_p)\n",
    "        previous_pivots = pivots[p_idx - pivots_back:p_idx]\n",
    "        \n",
    "        cumulative_exposure = 0.\n",
    "        \n",
    "        for idx, previous_p in enumerate(previous_pivots, start=1):            \n",
    "            yrs_back = float(idx)/float(ppy)\n",
    "            waning = max(gamma*yrs_back + 1, 0.)\n",
    "            assert 0. <= waning <= 1.\n",
    "            \n",
    "            for j in all_clades: # for each genotype\n",
    "                D_ij = get_dTiter(i,j,antigenic_resolution)\n",
    "                C_D_ij = 1 + sigma*D_ij # we don't precompute all dTiter values, so check sanity check the sigma value on the fly for each dTiter value\n",
    "                j_frequency = frequencies[j][previous_p]\n",
    "                \n",
    "                exposure = j_frequency * C_D_ij * waning\n",
    "#                 exposure = j_frequency * D_ij * waning\n",
    "                cumulative_exposure += exposure\n",
    "                \n",
    "        population_exposure.append(cumulative_exposure / float(pivots_back))\n",
    "    return population_exposure\n",
    "\n",
    "def calc_all_population_exposure(gamma, sigma, all_clades, antigenic_resolution, frequencies, \n",
    "                                 pivots, ppy, pivots_back,informative_pivots, \n",
    "                                 max_years_back,informative_date_range):\n",
    "\n",
    "    \n",
    "    informative_clades = [i for i in all_clades if frequencies[i].max() >= 0.1]\n",
    "    \n",
    "    antigenic_clade_exposure = {i:calc_population_exposure(i, -0.125, -0.15, \n",
    "                                                            all_clades, \n",
    "                                                            antigenic_resolution, frequencies,\n",
    "                                                            pivots, ppy, pivots_back,informative_pivots, \n",
    "                                                            max_years_back,informative_date_range)\n",
    "                                for i in informative_clades}\n",
    "    return pd.DataFrame(antigenic_clade_exposure, index=informative_pivots)"
   ]
  },
  {
   "cell_type": "code",
   "execution_count": 65,
   "metadata": {},
   "outputs": [
    {
     "name": "stdout",
     "output_type": "stream",
     "text": [
      "\n"
     ]
    }
   ],
   "source": [
    "def predict_frequencies(population_exposure, frequencies, years_forward):\n",
    "    ''' \n",
    "    input: population_exposure is a pd.DataFrame(columns=clades, index=pivots, \n",
    "                                                values= proportion of the population protected from i)\n",
    "           frequencies is a pd.DataFrame(columns=clades, index=pivots,\n",
    "                                         values = relative frequency of clade i at each time point)\n",
    "    \n",
    "    output: pd.DataFrame(columns=clades, index=pivots, values=predicted frequency of clade i at each pivot)\n",
    "    '''\n",
    "    \n",
    "    f = 1. - population_exposure # fitness = 1. - proportion of the population protected\n",
    "    print 'f', f.mean().mean()\n",
    "    shared_columns = f.columns.values # clades that we've calculated fitness for\n",
    "    initial_frequencies = frequencies[shared_columns]\n",
    "    print 'init', initial_frequencies.mean().mean()\n",
    "    predicted_delta_frequencies = f.applymap(lambda x: np.log(x+years_forward)) # df = e^(Pi + dt), applied element-wise\n",
    "    print 'delta', predicted_delta_frequencies.mean().mean()\n",
    "    raw_predicted_frequencies = initial_frequencies.add(predicted_delta_frequencies, fill_value=0.) # f = f0 + df\n",
    "    print 'raw', raw_predicted_frequencies.mean().mean()\n",
    "    sum_predicted_frequencies = raw_predicted_frequencies.sum(axis=1) # sum of all predicted frequencies at each time point\n",
    "    print 'sum', sum_predicted_frequencies.mean()\n",
    "    \n",
    "    predicted_frequencies = raw_predicted_frequencies.divide(sum_predicted_frequencies, axis='index') # norm each row to sum to 1\n",
    "    print 'predicted', predicted_frequencies.mean().mean()\n",
    "    return predicted_frequencies"
   ]
  },
  {
   "cell_type": "code",
   "execution_count": 14,
   "metadata": {},
   "outputs": [],
   "source": [
    "geno_exposure = calc_all_population_exposure(gamma=-0.125, sigma=-0.15, \n",
    "                                             all_clades=genotype_clades, \n",
    "                                             antigenic_resolution='clade', \n",
    "                                             frequencies=frequencies,\n",
    "                                             pivots=pivots, ppy=ppy, \n",
    "                                             pivots_back=pivots_back,\n",
    "                                             informative_pivots=informative_pivots, \n",
    "                                             max_years_back=years_back,\n",
    "                                             informative_date_range=informative_date_range)\n",
    "\n",
    "sero_exposure = calc_all_population_exposure(gamma=-0.125, sigma=-0.15, \n",
    "                                             all_clades=genotype_clades, \n",
    "                                             antigenic_resolution='serotype', \n",
    "                                             frequencies=frequencies,\n",
    "                                             pivots=pivots, ppy=ppy, \n",
    "                                             pivots_back=pivots_back,\n",
    "                                             informative_pivots=informative_pivots, \n",
    "                                             max_years_back=years_back,\n",
    "                                             informative_date_range=informative_date_range)"
   ]
  },
  {
   "cell_type": "code",
   "execution_count": 66,
   "metadata": {},
   "outputs": [
    {
     "name": "stdout",
     "output_type": "stream",
     "text": [
      "f 0.526779346992\n",
      "init 0.0572430939227\n",
      "delta 1.70940323454\n",
      "raw 0.362672584289\n",
      "sum 3.98939842718\n",
      "predicted 0.0909090909091\n",
      "f 0.493839120585\n",
      "init 0.0572430939227\n",
      "delta 1.70340327857\n",
      "raw 0.361522772532\n",
      "sum 3.97675049785\n",
      "predicted 0.0909090909091\n"
     ]
    }
   ],
   "source": [
    "genoAntRes_predicted_frequencies = predict_frequencies(geno_exposure, frequencies, years_forward)\n",
    "genoAntRes_predicted_frequency_ratio = get_frequency_ratio(pivots, pivots_forward, \n",
    "                                                           informative_date_range, genoAntRes_predicted_frequencies)\n",
    "\n",
    "seroAntRes_predicted_frequencies = predict_frequencies(sero_exposure, frequencies, years_forward)\n",
    "seroAntRes_predicted_frequency_ratio = get_frequency_ratio(pivots, pivots_forward, \n",
    "                                                       informative_date_range, seroAntRes_predicted_frequencies)\n",
    "\n",
    "shared_columns = genoAntRes_predicted_frequency_ratio.columns.values\n",
    "actual_frequency_ratio = actual_frequency_ratio[shared_columns]"
   ]
  },
  {
   "cell_type": "code",
   "execution_count": 59,
   "metadata": {},
   "outputs": [
    {
     "name": "stdout",
     "output_type": "stream",
     "text": [
      "LinregressResult(slope=0.8167819191721335, intercept=0.06067580969994224, rvalue=0.80299185520389305, pvalue=2.4083530251967702e-81, stderr=0.032266108920974194)\n"
     ]
    },
    {
     "name": "stderr",
     "output_type": "stream",
     "text": [
      "/Users/Sidney/Library/Python/2.7/lib/python/site-packages/ipykernel_launcher.py:8: RuntimeWarning: divide by zero encountered in log\n",
      "  \n"
     ]
    },
    {
     "data": {
      "image/png": "[encoded data removed]",
      "text/plain": [
       "<matplotlib.figure.Figure at 0x10fddb790>"
      ]
     },
     "metadata": {},
     "output_type": "display_data"
    }
   ],
   "source": [
    "x = actual_frequency_ratio.values.flatten()\n",
    "y = seroAntRes_predicted_frequency_ratio.values.flatten()\n",
    "\n",
    "mask = ~np.isnan(x) & ~np.isnan(y)\n",
    "\n",
    "sero_fit = stats.linregress(x[mask],y[mask])\n",
    "print sero_fit\n",
    "sns.regplot(np.log(x[mask]), np.log(y[mask]))\n",
    "plt.xlabel('Log actual frequency ratio')\n",
    "plt.ylabel('Log predicted frequency ratio')\n",
    "plt.title('Fitness predictions from\\nSEROtype-level antigenic data')\n",
    "plt.show()"
   ]
  },
  {
   "cell_type": "code",
   "execution_count": 60,
   "metadata": {},
   "outputs": [
    {
     "name": "stdout",
     "output_type": "stream",
     "text": [
      "LinregressResult(slope=0.81766119646624946, intercept=0.060252350103293884, rvalue=0.80446412253534205, pvalue=7.3877064747981823e-82, stderr=0.032134141979786889)\n"
     ]
    },
    {
     "name": "stderr",
     "output_type": "stream",
     "text": [
      "/Users/Sidney/Library/Python/2.7/lib/python/site-packages/ipykernel_launcher.py:8: RuntimeWarning: divide by zero encountered in log\n",
      "  \n"
     ]
    },
    {
     "data": {
      "image/png": "[encoded data removed]",
      "text/plain": [
       "<matplotlib.figure.Figure at 0x116819090>"
      ]
     },
     "metadata": {},
     "output_type": "display_data"
    }
   ],
   "source": [
    "x = actual_frequency_ratio.values.flatten()\n",
    "y = genoAntRes_predicted_frequency_ratio.values.flatten()\n",
    "\n",
    "mask = ~np.isnan(x) & ~np.isnan(y)\n",
    "\n",
    "geno_fit = stats.linregress(x[mask],y[mask])\n",
    "print geno_fit\n",
    "sns.regplot(np.log(x[mask]), np.log(y[mask]))\n",
    "plt.xlabel('Log actual frequency ratio')\n",
    "plt.ylabel('Log predicted frequency ratio')\n",
    "plt.title('Fitness predictions from\\nGENOtype-level antigenic data')\n",
    "plt.show()"
   ]
  },
  {
   "cell_type": "code",
   "execution_count": 30,
   "metadata": {},
   "outputs": [
    {
     "data": {
      "image/png": "[encoded data removed]",
      "text/plain": [
       "<matplotlib.figure.Figure at 0x116935ad0>"
      ]
     },
     "metadata": {},
     "output_type": "display_data"
    }
   ],
   "source": [
    "sns.distplot(pd.Series(interserotype_effects_dTiters.values()), \n",
    "             label='Interserotype branch effects', color='slateblue', bins=8, kde=False)\n",
    "sns.distplot(pd.Series(all_branch_effects_dTiters.values()),\n",
    "             label='All branch effects', color='purple', bins=8, kde=False)\n",
    "plt.legend()\n",
    "plt.title('dTiter values between clades')\n",
    "plt.show()"
   ]
  },
  {
   "cell_type": "code",
   "execution_count": 47,
   "metadata": {},
   "outputs": [
    {
     "data": {
      "image/png": "[encoded data removed]",
      "text/plain": [
       "<matplotlib.figure.Figure at 0x1157efed0>"
      ]
     },
     "metadata": {},
     "output_type": "display_data"
    }
   ],
   "source": [
    "sns.distplot(pd.Series(sero_exposure.values.flatten()[~ np.isnan(sero_exposure.values.flatten())]), \n",
    "              label='Interserotype branch effects', color='slateblue', kde=False)\n",
    "sns.distplot(pd.Series(geno_exposure.values.flatten()[~ np.isnan(geno_exposure.values.flatten())]), \n",
    "              label='All branch effects', color='purple', kde=False)\n",
    "plt.legend()\n",
    "plt.title('Population exposure values')\n",
    "plt.show()"
   ]
  },
  {
   "cell_type": "code",
   "execution_count": 54,
   "metadata": {},
   "outputs": [
    {
     "data": {
      "image/png": "[encoded data removed]",
      "text/plain": [
       "<matplotlib.figure.Figure at 0x10fdac210>"
      ]
     },
     "metadata": {},
     "output_type": "display_data"
    },
    {
     "name": "stdout",
     "output_type": "stream",
     "text": [
      "0.0909090909091\n",
      "0.0909090909091\n"
     ]
    }
   ],
   "source": [
    "sns.distplot(pd.Series(seroAntRes_predicted_frequencies.values.flatten()[~ np.isnan(seroAntRes_predicted_frequencies.values.flatten())]), \n",
    "              label='Interserotype branch effects', color='slateblue', kde=False)\n",
    "sns.distplot(pd.Series(genoAntRes_predicted_frequencies.values.flatten()[~ np.isnan(genoAntRes_predicted_frequencies.values.flatten())]), \n",
    "              label='All branch effects', color='purple', kde=False)\n",
    "plt.legend()\n",
    "plt.title('Predicted frequency ratios')\n",
    "plt.show()\n",
    "\n",
    "print seroAntRes_predicted_frequency_ratio.mean().mean()\n",
    "print genoAntRes_predicted_frequency_ratio.mean().mean()"
   ]
  },
  {
   "cell_type": "code",
   "execution_count": null,
   "metadata": {},
   "outputs": [],
   "source": []
  },
  {
   "cell_type": "code",
   "execution_count": 42,
   "metadata": {
    "scrolled": true
   },
   "outputs": [],
   "source": [
    "# def pool_analysis(population_exposure, antigenic_resolution, years_forward):\n",
    "    \n",
    "#     pooled_exposure = []\n",
    "#     pooled_frequency_ratio = []\n",
    "\n",
    "#     for i, df in population_exposure.items():\n",
    "#         pooled_exposure += df['population_exposure'].tolist()\n",
    "#         pooled_frequency_ratio += df['frequency_ratio'].tolist()\n",
    "\n",
    "#     return {'pooled_exposure': pooled_exposure, 'pooled_frequency_ratio': pooled_frequency_ratio, \n",
    "#             'antigenic_resolution': antigenic_resolution, 'years_forward': years_forward}\n",
    "\n",
    "# def plot_pooled_analysis(pooled, ax):\n",
    "    \n",
    "#     pooled_fit = stats.linregress(pooled['pooled_exposure'], pooled['pooled_frequency_ratio'])\n",
    "#     print pooled_fit\n",
    "    \n",
    "#     sns.regplot(pd.Series(pooled['pooled_exposure']), pd.Series(pooled['pooled_frequency_ratio']), ax=ax, lowess=True)\n",
    "#     ax.text(1,1, 'r = %.2f'%pooled_fit.rvalue,transform=ax.transAxes)\n",
    "#     ax.set_xlabel('Population Immunity')\n",
    "#     ax.set_ylabel('frequency ratio (t+%d / t)'%pooled['years_forward'])\n",
    "\n",
    "#     ax.set_title('%s-level\\nantigenic resolution'%pooled['antigenic_resolution'])"
   ]
  },
  {
   "cell_type": "code",
   "execution_count": 23,
   "metadata": {},
   "outputs": [],
   "source": [
    "# pooled_geno_exposure = pool_analysis(geno_exposure, antigenic_resolution='clade', years_forward=years_forward)\n",
    "\n",
    "# pooled_sero_exposure = pool_analysis(sero_exposure, antigenic_resolution='serotype', years_forward=years_forward)\n",
    "\n",
    "# fig, (ax1,ax2) = plt.subplots(1,2)\n",
    "# plot_pooled_analysis(pooled_geno_exposure, ax1)\n",
    "# plot_pooled_analysis(pooled_sero_exposure, ax2)\n",
    "# plt.tight_layout()\n",
    "# plt.show()"
   ]
  },
  {
   "cell_type": "code",
   "execution_count": 26,
   "metadata": {},
   "outputs": [],
   "source": [
    "# def test_year_params(years_forward, years_back, clades, antigenic_resolution):\n",
    "#     ##### TIMEPOINTS PARSING #####\n",
    "#     #  pivots = augur jargon for time points; used here for consistency across codebase\n",
    "\n",
    "#     pivots_back = years_back*ppy\n",
    "#     pivots_forward = years_forward*ppy\n",
    "\n",
    "#     # pivots with enough data before to infer population exposure AND enough data after to test prediction\n",
    "#     informative_pivots = pivots[pivots_back:-1*pivots_forward] \n",
    "#     informative_date_range = (informative_pivots[0], informative_pivots[-1])\n",
    "\n",
    "#     if years_forward in precalculated_frequency_ratios:\n",
    "#         frequency_ratio = precalculated_frequency_ratios[years_forward]\n",
    "#     else:\n",
    "#         frequency_ratio = get_frequency_ratio(pivots, pivots_forward, informative_date_range, frequencies)\n",
    "#         precalculated_frequency_ratios[years_forward] = frequency_ratio\n",
    "        \n",
    "#     population_exposure = calc_all_population_exposure(gamma=-0.125, sigma=-0.15, \n",
    "#                                                  all_clades=clades, \n",
    "#                                                  antigenic_resolution=antigenic_resolution, \n",
    "#                                                  frequencies=frequencies, frequency_ratio=frequency_ratio,\n",
    "#                                                  pivots=pivots, ppy=ppy, \n",
    "#                                                  pivots_back=pivots_back,\n",
    "#                                                  informative_pivots=informative_pivots, \n",
    "#                                                  max_years_back=years_back,\n",
    "#                                                  informative_date_range=informative_date_range)\n",
    "    \n",
    "#     pooled = pool_analysis(population_exposure, \n",
    "#                                                antigenic_resolution=antigenic_resolution, \n",
    "#                                                years_forward=years_forward)\n",
    "    \n",
    "#     pooled_fit = stats.linregress(pooled['pooled_exposure'], pooled['pooled_frequency_ratio'])\n",
    "#     return pooled_fit.rvalue\n",
    "\n",
    "# resolutions = ['clade', 'serotype']\n",
    "# clades = [genotype_clades, serotype_clades]\n",
    "\n",
    "# clade_frequency_predictions = []\n",
    "\n",
    "# time_frames = [1,3,5,8,10]\n",
    "\n",
    "# for res in resolutions:\n",
    "#     for cl in clades:\n",
    "#         for yrs_fwd in time_frames:\n",
    "#             for yrs_back in time_frames:\n",
    "#                 log = {'antigenic_resolution': res, \n",
    "#                       'genetic_resolution': len(cl),\n",
    "#                       'years_forward': yrs_fwd,\n",
    "#                       'years_back': yrs_back,\n",
    "#                       'rvalue': test_year_params(yrs_fwd, yrs_back, cl, res)}\n",
    "#                 clade_frequency_predictions.append(log)"
   ]
  },
  {
   "cell_type": "code",
   "execution_count": null,
   "metadata": {},
   "outputs": [],
   "source": []
  },
  {
   "cell_type": "code",
   "execution_count": null,
   "metadata": {},
   "outputs": [],
   "source": []
  },
  {
   "cell_type": "code",
   "execution_count": null,
   "metadata": {},
   "outputs": [],
   "source": []
  },
  {
   "cell_type": "code",
   "execution_count": null,
   "metadata": {},
   "outputs": [],
   "source": []
  },
  {
   "cell_type": "code",
   "execution_count": null,
   "metadata": {},
   "outputs": [],
   "source": []
  },
  {
   "cell_type": "code",
   "execution_count": 91,
   "metadata": {},
   "outputs": [],
   "source": [
    "# ####    PLOT   #####\n",
    "# antigenic_clade_exposure = geno_exposure\n",
    "# def plot_exposure_delta_frequencies(i, ax, population_exposure):\n",
    "#     sns.regplot('population_exposure', 'frequency_ratio', data=population_exposure[i], ax=ax)\n",
    "#     ax.set_title(i)\n",
    "#     ax.set_xlabel('Population immunity')\n",
    "#     ax.set_ylabel('%d-yr change in frequency'%years_forward)\n",
    "\n",
    "# sns.set(style='whitegrid', font_scale=1.1, palette='pastel')\n",
    "# n_j_vals = len(antigenic_clade_exposure.keys())\n",
    "# ncols = 4\n",
    "# nrows = int(ceil(n_j_vals/ncols))\n",
    "\n",
    "# sns.set_style('whitegrid')\n",
    "# fig, axes = plt.subplots(nrows=nrows, ncols=ncols, squeeze=True, figsize=(12,8), sharey=True, sharex=True)\n",
    "# for j, ax in zip(sorted(antigenic_clade_exposure.keys()), axes.flatten()):\n",
    "#     plot_exposure_delta_frequencies(j, ax, antigenic_clade_exposure)\n",
    "# plt.tight_layout()\n",
    "# plt.show()"
   ]
  },
  {
   "cell_type": "code",
   "execution_count": null,
   "metadata": {},
   "outputs": [],
   "source": [
    "# def predict_all_trajectories((gamma, sigma)):\n",
    "#     pooled_exposure = []\n",
    "#     pooled_delta_f = []\n",
    "\n",
    "#     informative_clades = [c for c in antigenic_clades if frequencies[c].max() >= 0.1]\n",
    "#     for i in informative_clades:\n",
    "#         pooled_exposure += calc_population_exposure(i, gamma, sigma, antigenic_clades)\n",
    "#         pooled_delta_f += delta_frequencies[i].tolist()\n",
    "\n",
    "#     slope, intercept, r_value, p_value, std_err =  stats.linregress(pooled_exposure, pooled_delta_f)\n",
    "#     return -1.*r_value\n",
    "\n",
    "\n",
    "# optimized_parameters = optimize.minimize(fun=predict_all_trajectories, x0=[-0.125, -0.15],\n",
    "#                                          bounds=[(-1.0, -0.1), (-0.2, -0.02)],tol=1e-3,options={'maxiter': 150})\n",
    "\n",
    "# print optimized_parameters"
   ]
  },
  {
   "cell_type": "code",
   "execution_count": null,
   "metadata": {},
   "outputs": [],
   "source": [
    "# def predict_all_trajectories(sigma):\n",
    "#     pooled_exposure = []\n",
    "#     pooled_delta_f = []\n",
    "\n",
    "#     informative_clades = [c for c in antigenic_clades if frequencies[c].max() >= 0.1]\n",
    "#     for i in informative_clades:\n",
    "#         pooled_exposure += calc_population_exposure(i, -0.125, sigma, antigenic_clades)\n",
    "#         pooled_delta_f += delta_frequencies[i].tolist()\n",
    "\n",
    "#     slope, intercept, r_value, p_value, std_err =  stats.linregress(pooled_exposure, pooled_delta_f)\n",
    "#     return -1.*r_value\n",
    "\n",
    "\n",
    "# optimized_parameters = optimize.minimize(fun=predict_all_trajectories, x0=[-0.15],\n",
    "#                                          bounds=[(-1.0, -0.01)],tol=1e-3,\n",
    "#                                          options={'maxiter': 150})\n",
    "\n",
    "# print optimized_parameters"
   ]
  },
  {
   "cell_type": "code",
   "execution_count": 67,
   "metadata": {},
   "outputs": [],
   "source": [
    "def predict_frequencies(population_exposure, frequencies, years_forward):\n",
    "    ''' \n",
    "    input: population_exposure is a pd.DataFrame(columns=clades, index=pivots, \n",
    "                                                values= proportion of the population protected from i)\n",
    "           frequencies is a pd.DataFrame(columns=clades, index=pivots,\n",
    "                                         values = relative frequency of clade i at each time point)\n",
    "    \n",
    "    output: pd.DataFrame(columns=clades, index=pivots, values=predicted frequency of clade i at each pivot)\n",
    "    '''\n",
    "    \n",
    "    f = 1. - population_exposure # fitness = 1. - proportion of the population protected\n",
    "    shared_columns = f.columns.values # clades that we've calculated fitness for\n",
    "    initial_frequencies = frequencies[shared_columns]\n",
    "    predicted_delta_frequencies = f.applymap(lambda x: np.log(x+years_forward)) # df = e^(Pi + dt), applied element-wise\n",
    "    raw_predicted_frequencies = initial_frequencies.add(predicted_delta_frequencies, fill_value=0.) # f = f0 + df\n",
    "    sum_predicted_frequencies = raw_predicted_frequencies.sum(axis=1) # sum of all predicted frequencies at each time point\n",
    "    \n",
    "    predicted_frequencies = raw_predicted_frequencies.divide(sum_predicted_frequencies, axis='index') # norm each row to sum to 1\n",
    "    return predicted_frequencies"
   ]
  },
  {
   "cell_type": "code",
   "execution_count": 69,
   "metadata": {},
   "outputs": [
    {
     "name": "stdout",
     "output_type": "stream",
     "text": [
      "         clade A   clade B\n",
      "1980.0  0.551994  0.448006\n",
      "1981.0  0.570526  0.429474\n",
      "1982.0  0.589434  0.410566\n",
      "         clade A   clade B\n",
      "1980.0  0.675415  0.324585\n",
      "1981.0  0.873705  0.126295\n",
      "1982.0  0.611258  0.388742\n"
     ]
    }
   ],
   "source": [
    "from random import random\n",
    "demo_pop_exposure = pd.DataFrame([[0.3,0.6],\n",
    "                                 [0.4,0.5],\n",
    "                                 [0.5,0.4]], \n",
    "                                 index=[1980., 1981., 1982.], \n",
    "                                 columns=['clade A', 'clade B'])\n",
    "demo_frequencies = pd.DataFrame([[0.5,0.5],\n",
    "                                [0.6,0.4],\n",
    "                                [0.7,0.3]], \n",
    "                               index=[1980., 1981., 1982.],\n",
    "                               columns=['clade A', 'clade B'])\n",
    "\n",
    "print predict_frequencies(demo_pop_exposure, demo_frequencies, 1)\n",
    "\n",
    "demo_pop_exposure = demo_pop_exposure.applymap(lambda x: x + random())\n",
    "print predict_frequencies(demo_pop_exposure, demo_frequencies, 1)"
   ]
  },
  {
   "cell_type": "code",
   "execution_count": null,
   "metadata": {},
   "outputs": [],
   "source": []
  }
 ],
 "metadata": {
  "kernelspec": {
   "display_name": "Python 2",
   "language": "python",
   "name": "python2"
  },
  "language_info": {
   "codemirror_mode": {
    "name": "ipython",
    "version": 2
   },
   "file_extension": ".py",
   "mimetype": "text/x-python",
   "name": "python",
   "nbconvert_exporter": "python",
   "pygments_lexer": "ipython2",
   "version": "2.7.10"
  }
 },
 "nbformat": 4,
 "nbformat_minor": 2
}
