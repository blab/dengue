{
 "cells": [
  {
   "cell_type": "markdown",
   "metadata": {},
   "source": [
    "## Antigenic Fitness  \n",
    "### Can we quantify the extent to which antigenic novelty contributes to viral fitness?  \n",
    "\n",
    "#### We make some simplifying assumptions. Specifically:  \n",
    "* Antigenic fitness is primarily determined by the population of people that have had exactly 1 infection. Otherwise, we assume they are either entirely naive (unexposed) or entirely immune (post-secondary infection), and so their contributions to antigenic fitness are uniform for all genotypes and thus negligible for our purposes. On average, there is a 4-6 year gap between primary and secondary infections in endemic regions.  \n",
    "* We assume incidence is approximately constant between seasons.  \n",
    "* We assume unbiased sampling of genotypes.  \n",
    "* We assume even mixing of genotypes within a region/country of analysis.\n",
    "\n",
    "#### Antigenic fitness of genotype _i_ essentially depends on:  \n",
    "* What genotypes, j1 -> jn have people most likely been exposed to in the last 5-6 years?  \n",
    "* How long ago where they exposed to genotype j? Cross-protective immunity wanes over a period of 1-3 years.\n",
    "* How antigenically similar are genotypes _i_ and _j_? \n",
    "\n",
    "#### Thus, we parameterize _Ti_ as a simple function of genotype frequencies and titer measurements.  "
   ]
  },
  {
   "cell_type": "code",
   "execution_count": 5,
   "metadata": {},
   "outputs": [
    {
     "name": "stderr",
     "output_type": "stream",
     "text": [
      "/Users/Sidney/Library/Python/2.7/lib/python/site-packages/statsmodels/compat/pandas.py:56: FutureWarning: The pandas.core.datetools module is deprecated and will be removed in a future version. Please use the pandas.tseries module instead.\n",
      "  from pandas.core import datetools\n"
     ]
    }
   ],
   "source": [
    "import pandas as pd\n",
    "import numpy as np\n",
    "from matplotlib import pyplot as plt\n",
    "import matplotlib as mpl\n",
    "%matplotlib inline\n",
    "import seaborn as sns\n",
    "from pprint import pprint\n",
    "from itertools import permutations\n",
    "from math import exp, ceil\n",
    "from numpy import linspace, nanmax, nanmin\n",
    "from matplotlib import cm\n",
    "from itertools import combinations\n",
    "import statsmodels.api as sm\n",
    "import statsmodels.formula.api as smf"
   ]
  },
  {
   "cell_type": "code",
   "execution_count": 6,
   "metadata": {},
   "outputs": [],
   "source": [
    "# Pull pre-computed genotype frequencies\n",
    "dataset_name = 'SEAsia_stiffness2'\n",
    "out_path = '../../data/frequencies/regions'\n",
    "frequency_path = '../../data/frequencies/regions/seAsia_stiffness2_pivots4.csv'\n",
    "genotype_titer_path = '../../data/katzelnick2015/processed/genotypes_dTiters.csv'\n",
    "serotype_titer_path = '../../data/katzelnick2015/processed/serotypes_dTiter.csv'"
   ]
  },
  {
   "cell_type": "code",
   "execution_count": 32,
   "metadata": {},
   "outputs": [
    {
     "name": "stdout",
     "output_type": "stream",
     "text": [
      "         DENV1_I  DENV1_II  DENV1_IV   DENV1_V  DENV2_AMERICAN  \\\n",
      "season                                                           \n",
      "1980    0.328900  0.001375  0.054150  0.242000             0.0   \n",
      "1981    0.502475  0.000600  0.082750  0.041775             0.0   \n",
      "1982    0.299225  0.000400  0.049275  0.007900             0.0   \n",
      "1983    0.109200  0.000300  0.017975  0.002625             0.0   \n",
      "1984    0.043000  0.000300  0.007075  0.001325             0.0   \n",
      "\n",
      "        DENV2_ASIANAMERICAN  DENV2_ASIANI  DENV2_ASIANII  DENV2_COSMOPOLITAN  \\\n",
      "season                                                                         \n",
      "1980               0.132225      0.111525       0.000250             0.00625   \n",
      "1981               0.060350      0.050800       0.000200             0.00405   \n",
      "1982               0.151125      0.127475       0.000300             0.00655   \n",
      "1983               0.278600      0.235375       0.000125             0.00460   \n",
      "1984               0.261900      0.221250       0.000125             0.00375   \n",
      "\n",
      "        DENV3_I  DENV3_II  DENV3_III   DENV3_V   DENV4_I  DENV4_II  \n",
      "season                                                              \n",
      "1980        0.0  0.004650   0.001400  0.094325  0.006300  0.004925  \n",
      "1981        0.0  0.013975   0.004175  0.220175  0.008575  0.004175  \n",
      "1982        0.0  0.035800   0.010675  0.293100  0.010750  0.003025  \n",
      "1983        0.0  0.093100   0.027775  0.201225  0.022400  0.003250  \n",
      "1984        0.0  0.141650   0.042200  0.183200  0.085275  0.004975  \n",
      "       DENV1_I  DENV1_II  DENV1_IV   DENV1_V  DENV2_AMERICAN  \\\n",
      "1980 -0.278125 -0.000750 -0.045775 -0.240450             0.0   \n",
      "1981 -0.321300  0.003175 -0.052950 -0.038200             0.0   \n",
      "1982  0.163725  0.023350  0.089200 -0.003175             0.0   \n",
      "1983  0.433075  0.095875  0.081500  0.001100             0.0   \n",
      "1984  0.451100  0.091725  0.003850  0.002500             0.0   \n",
      "\n",
      "      DENV2_ASIANAMERICAN  DENV2_ASIANI  DENV2_ASIANII  DENV2_COSMOPOLITAN  \\\n",
      "1980             0.114000      0.096350       0.000025            0.000200   \n",
      "1981             0.073200      0.061700       0.000175            0.002275   \n",
      "1982            -0.108950     -0.091950      -0.000050           -0.003500   \n",
      "1983            -0.162825     -0.136650       0.000800            0.002075   \n",
      "1984            -0.049250     -0.072275       0.001475            0.007800   \n",
      "\n",
      "      DENV3_I  DENV3_II  DENV3_III   DENV3_V   DENV4_I  DENV4_II  \n",
      "1980      0.0  0.203875   0.060800  0.028075  0.071375 -0.002025  \n",
      "1981      0.0  0.347325   0.103600 -0.187800  0.014450 -0.003325  \n",
      "1982      0.0  0.169025   0.050425 -0.285425 -0.000075 -0.002650  \n",
      "1983      0.0 -0.078225  -0.023325 -0.200525 -0.012300 -0.002875  \n",
      "1984      0.0 -0.139025  -0.041400 -0.183050 -0.071200 -0.004450  \n"
     ]
    }
   ],
   "source": [
    "genotype_frequencies = pd.read_csv(frequency_path, index_col=0)\n",
    "\n",
    "# Bin seasons by year\n",
    "seasons = range(1980, 2017)\n",
    "\n",
    "# Bin each pivot from augur (row in frequencies data) by which season it falls into. Average frequencies by season.\n",
    "def bin_seasons(df, seasons=seasons):\n",
    "    def find_season(date, seasons=seasons):\n",
    "        if int(date) in seasons:\n",
    "            return int(date)\n",
    "        else:\n",
    "            return np.nan\n",
    "        \n",
    "    df['season'] = [find_season(date, seasons) for date in df.index.values]\n",
    "    df.dropna(how='any', inplace=True)\n",
    "    df['season'] = df['season'].map(lambda x: int(x))\n",
    "    df = df.groupby('season').agg('mean')\n",
    "    return df\n",
    "\n",
    "# serotype_frequencies = bin_seasons(serotype_frequencies, seasons)\n",
    "genotype_frequencies = bin_seasons(genotype_frequencies, seasons)\n",
    "genotype_frequencies.drop([g for g in genotype_frequencies if 'SYLVATIC' in g],axis=1, inplace=True)\n",
    "\n",
    "def get_delta_frequencies(all_Y, years_forward, frequencies):\n",
    "    valid_start = all_Y[:-1*years_forward]\n",
    "    valid_end = all_Y[years_forward:]\n",
    "    delta_Y = zip(valid_start, valid_end)\n",
    "    delta_f = { i: [frequencies[i][end] - frequencies[i][start] for (start, end) in delta_Y] for i in frequencies.columns.values}\n",
    "    return pd.DataFrame(delta_f, index=valid_start)\n",
    "\n",
    "delta_genotype_frequencies = get_delta_frequencies(seasons, 5, genotype_frequencies)\n",
    "print genotype_frequencies.head()\n",
    "print delta_genotype_frequencies.head()"
   ]
  },
  {
   "cell_type": "code",
   "execution_count": 33,
   "metadata": {},
   "outputs": [],
   "source": [
    "# Pull pre-computed dTiter values\n",
    "# for each genotype & serotype pair.\n",
    "\n",
    "titers = pd.read_csv(genotype_titer_path, header=0, names=['gt1', 'gt2', 'dTiter'])\n",
    "\n",
    "# pivot to multiindex for pairwise indexing\n",
    "genotype_pairs = [tuple(sorted(i)) for i in zip(titers['gt1'], titers['gt2'])]\n",
    "titers.index = genotype_pairs\n",
    "titers.drop(['gt1', 'gt2'], axis=1, inplace=True)\n",
    "titers.rename(columns={'dTiter':'total_dTiter'}, inplace=True)\n",
    "\n",
    "serotype_titers = pd.read_csv(serotype_titer_path, header=None, names=['s1', 's2', 'dTiter'])\n",
    "serotype_pairs = [tuple(sorted(i)) for i in zip(serotype_titers['s1'], serotype_titers['s2'])]\n",
    "serotype_titers.index = serotype_pairs\n",
    "serotype_titers = serotype_titers['dTiter']\n",
    "\n",
    "def get_serotype_titers((gt1,gt2)):\n",
    "    s1 = gt1.split('_')[0]\n",
    "    s2 = gt2.split('_')[0]\n",
    "    if s1 == s2:\n",
    "        return 0.\n",
    "    return serotype_titers[(s1,s2)]\n",
    "\n",
    "titers['inter_dTiter'] = [get_serotype_titers(gt_pair) for gt_pair in genotype_pairs]\n",
    "titers['intra_dTiter'] = titers['total_dTiter'] - titers['inter_dTiter']\n",
    "\n",
    "# titers = titers.applymap(lambda x: round(x, 4))\n",
    "# sorted list of all the unique values in the index\n",
    "genotypes = [g for g in sorted(list(set(zip(*genotype_pairs)[0]))) if 'SYLVATIC' not in g]"
   ]
  },
  {
   "cell_type": "code",
   "execution_count": 34,
   "metadata": {},
   "outputs": [
    {
     "name": "stdout",
     "output_type": "stream",
     "text": [
      "Input data looks like this:\n",
      "\n",
      "Titers:\n",
      "\n",
      "                                total_dTiter  inter_dTiter  intra_dTiter\n",
      "(DENV1_I, DENV1_II)             6.941821e-09      0.000000  6.941821e-09\n",
      "(DENV1_I, DENV1_V)              4.298855e-01      0.000000  4.298855e-01\n",
      "(DENV1_I, DENV2_AMERICAN)       1.649116e+00      1.219231  4.298853e-01\n",
      "(DENV1_I, DENV2_ASIANAMERICAN)  1.969383e+00      1.219231  7.501527e-01\n",
      "(DENV1_I, DENV2_ASIANI)         1.975779e+00      1.219231  7.565484e-01 \n",
      "\n",
      "Frequencies:\n",
      "\n",
      "         DENV1_I  DENV1_II  DENV1_IV   DENV1_V  DENV2_AMERICAN  \\\n",
      "season                                                           \n",
      "1980    0.328900  0.001375  0.054150  0.242000             0.0   \n",
      "1981    0.502475  0.000600  0.082750  0.041775             0.0   \n",
      "1982    0.299225  0.000400  0.049275  0.007900             0.0   \n",
      "1983    0.109200  0.000300  0.017975  0.002625             0.0   \n",
      "1984    0.043000  0.000300  0.007075  0.001325             0.0   \n",
      "\n",
      "        DENV2_ASIANAMERICAN  DENV2_ASIANI  DENV2_ASIANII  DENV2_COSMOPOLITAN  \\\n",
      "season                                                                         \n",
      "1980               0.132225      0.111525       0.000250             0.00625   \n",
      "1981               0.060350      0.050800       0.000200             0.00405   \n",
      "1982               0.151125      0.127475       0.000300             0.00655   \n",
      "1983               0.278600      0.235375       0.000125             0.00460   \n",
      "1984               0.261900      0.221250       0.000125             0.00375   \n",
      "\n",
      "        DENV3_I  DENV3_II  DENV3_III   DENV3_V   DENV4_I  DENV4_II  \n",
      "season                                                              \n",
      "1980        0.0  0.004650   0.001400  0.094325  0.006300  0.004925  \n",
      "1981        0.0  0.013975   0.004175  0.220175  0.008575  0.004175  \n",
      "1982        0.0  0.035800   0.010675  0.293100  0.010750  0.003025  \n",
      "1983        0.0  0.093100   0.027775  0.201225  0.022400  0.003250  \n",
      "1984        0.0  0.141650   0.042200  0.183200  0.085275  0.004975  \n"
     ]
    }
   ],
   "source": [
    "print \"Input data looks like this:\\n\\nTiters:\\n\\n\", titers.head(), \"\\n\\nFrequencies:\\n\\n\", genotype_frequencies.head()"
   ]
  },
  {
   "cell_type": "markdown",
   "metadata": {},
   "source": [
    "### Model waning immunity  \n",
    "Per Katzelnick et al. 2016, titers decay at a roughly steady rate following primary infection, with a 4-year halflife.  \n",
    "$$\\gamma(n)=max(-0.125n+1, 0)$$"
   ]
  },
  {
   "cell_type": "code",
   "execution_count": 35,
   "metadata": {},
   "outputs": [
    {
     "data": {
      "text/plain": [
       "<matplotlib.text.Text at 0x10aa18fd0>"
      ]
     },
     "execution_count": 35,
     "metadata": {},
     "output_type": "execute_result"
    },
    {
     "data": {
      "image/png": "[encoded data removed]",
      "text/plain": [
       "<matplotlib.figure.Figure at 0x10aa4a110>"
      ]
     },
     "metadata": {},
     "output_type": "display_data"
    }
   ],
   "source": [
    "#### Model the waning of cross-protective immunity\n",
    "def get_gamma(n):\n",
    "    ''' \n",
    "    Per Leah's data, modeling post-primary titer decay as roughly linear with a 4-year half-life.\n",
    "    '''\n",
    "    return max(-0.125*n + 1.0, 0.0000000001)\n",
    "plt.plot([x for x in linspace(0,10,num=20)], [get_gamma(x) for x in linspace(0,10,num=20)])\n",
    "plt.xlabel('Years since infection')\n",
    "plt.ylabel('Proportion of titers remaining')"
   ]
  },
  {
   "cell_type": "markdown",
   "metadata": {},
   "source": [
    "## Estimate relative population exposure to genotype j from sequence frequencies  \n",
    "x(j,y) = Number of j-genotype sequences in year y \\ Total number of sequences in year y\n"
   ]
  },
  {
   "cell_type": "code",
   "execution_count": 36,
   "metadata": {},
   "outputs": [],
   "source": [
    "#### Frequencies of genotype j\n",
    "def get_x(j,y, frequencies):\n",
    "    ''' return the frequency of j in a given season '''\n",
    "    return frequencies[j][y]"
   ]
  },
  {
   "cell_type": "markdown",
   "metadata": {},
   "source": [
    "## Estimate antigenic distance between past strains and currently circulating from dTiter values   \n",
    "  \n",
    "The tree model maps changes in antigenic phenotype to the tree, where the total antigenic distance between genotypes i and j is simply the sum of all titer drops that occur on branches along the tree path between i and j.\n",
    "  \n",
    "$$ D_{ij} = \\sum_{b \\in path_{ij}} d_b $$\n",
    "  \n",
    "As this model is additive, we can separate out the titer drops that occur on branches _between_ serotypes I and J:\n",
    "$$D_{IJ} = \\sum_{b \\in path_{IJ}}d_b$$  \n",
    " \n",
    "and the titer drops that occur on branches _within_ serotype I (i.e., from the MRCA of serotype I to genotype i):  \n",
    "$$D_{Ii} = \\sum_{b \\in path_{Ii}} d_b$$  \n",
    "$$D_{Jj} = \\sum_{b \\in path_{Jj}} d_b$$  \n",
    "\n",
    "Such that $$ D_{ij} = D_{IJ} + D_{Ii} + D_{Jj}$$   "
   ]
  },
  {
   "cell_type": "code",
   "execution_count": 37,
   "metadata": {},
   "outputs": [],
   "source": [
    "#### Titers for virus i, serum j\n",
    "def get_D_ij(i,j, titers):\n",
    "    ''' return dTiter between i and j'''\n",
    "    pair = tuple(sorted([i,j])) # sort alphabetically to avoid key errors\n",
    "    if i == j: # identical genotypes\n",
    "        return {'D_inter': 0., 'D_intra': 0.}\n",
    "    elif i[4] == j[4]: # same serotype, different genotypes\n",
    "        return {'D_inter': 0., 'D_intra': titers['intra_dTiter'][pair]}\n",
    "    else: # different serotypes and genotypes\n",
    "        return {'D_inter': titers['inter_dTiter'][pair], 'D_intra': titers['intra_dTiter'][pair]}\n",
    "  "
   ]
  },
  {
   "cell_type": "markdown",
   "metadata": {},
   "source": [
    "## Estimate the probability of protection from drops in titer based on cohort data  \n",
    "\n",
    "For now, use reasonable values to guesstimate the probability that an individual is protected from symptomatic infection with genotype j given recovery from genotype i, based on observed cohort study outcomes."
   ]
  },
  {
   "cell_type": "code",
   "execution_count": 38,
   "metadata": {},
   "outputs": [
    {
     "data": {
      "text/plain": [
       "(0, 6)"
      ]
     },
     "execution_count": 38,
     "metadata": {},
     "output_type": "execute_result"
    },
    {
     "data": {
      "image/png": "[encoded data removed]",
      "text/plain": [
       "<matplotlib.figure.Figure at 0x10aa3c5d0>"
      ]
     },
     "metadata": {},
     "output_type": "display_data"
    }
   ],
   "source": [
    "def calc_C_from_dTiter(dTiter):\n",
    "    return 1. - 0.15*dTiter\n",
    "\n",
    "def get_C_D_ij(D_ij):\n",
    "        return {'C_inter':calc_C_from_dTiter(D_ij['D_inter']),\n",
    "            'C_intra': calc_C_from_dTiter(D_ij['D_intra'])}\n",
    "\n",
    "test_vals = linspace(0,6,num=20)\n",
    "plt.plot(test_vals, [calc_C_from_dTiter(x) for x in test_vals])\n",
    "plt.xlabel('dTiter between i and j')\n",
    "plt.ylabel('probability of immunity to i given recovery from j')\n",
    "plt.ylim(0,1)\n",
    "plt.xlim(0,6)"
   ]
  },
  {
   "cell_type": "markdown",
   "metadata": {},
   "source": [
    "## Calculate the population immunity against virus i of a random post-primary/pre-secondary individual drawn from the population at the start of a given season\n",
    "\n",
    "### Variables\n",
    "$$D(i,j)$$ antigenic distance, in log2 titer values, between viruses i and j.  \n",
    "$$C(D(i,j))$$ probability of protection against virus j given previous recovery from virus i.  \n",
    "$$n$$ how many years ago a previous exposure occurred.  \n",
    "$$\\gamma(n)$$ the proportion of neutralizing titers expected to remain n years after exposure  \n",
    "$$Y$$ current season of interest  \n",
    "$$y = Y-n$$ a previous season, where Y must be > n\n",
    "$$x_y(i)$$ the relative frequency of genotype i in a specific previous year, y  \n",
    "  \n",
    "### Calculate frequency-weighted population immunity accrued in one season  \n",
    "$$\\hat{T_y}(i) = \\sum_jx_y(j)*C(D(i,j))$$  \n",
    "The expected population immunity to i, accrued in a given year, is the frequency-weighted immunity against i conferred by each circulating genotype, j.\n",
    "\n",
    "### Calculate the population immunity accrued over the past 5 seasons  \n",
    "$$\\hat{T_Y}(i) = \\sum_{n=1}^{5}(\\gamma(n)*\\sum_j (x_{Y-n}(j)*C(D(i,j))))$$\n",
    "\n",
    "To isolate the effects of inter-serotype and intra-serotype antigenic distance, we can rewrite this as:  \n",
    "$$\\hat{T_Y}(i) = \\sum_{n=1}^{5}(\\gamma(n)*\\sum_j (x_{Y-n}(j)*C(D(I,J)+D(I,i)+D(J,j))))$$  \n",
    "Because C is a linear function of D(ij):\n",
    "$$\\hat{T_Y}(i) = \\sum_{n=1}^{5}(\\gamma(n)* \\sum_j (x_{Y-n}(j) * C(D(I,J)) + x_{Y-n}(j) *C(D(I,i) + D(J,j)))) $$  \n",
    "\n"
   ]
  },
  {
   "cell_type": "code",
   "execution_count": 39,
   "metadata": {},
   "outputs": [],
   "source": [
    "#### Calculate cumulative exposure to genotype i at the START of each season we have data for\n",
    "def calc_population_exposure(i, all_Y, N, J, frequencies, titers):\n",
    "    ''' Calculate population immunity to genotype i at the start of each season.\n",
    "    i = genotype of interest\n",
    "    all_Y = all years we have data for\n",
    "    N = number of years in the past to sum over\n",
    "    J = all genotypes\n",
    "    '''\n",
    "\n",
    "                        # starting seasons of interest\n",
    "    valid_Y = all_Y[N:] # Only look at years where index(Y) > N, i.e. where we have data for at least N years before Y \n",
    "\n",
    "    population_exposure = {'total_exposure': [],\n",
    "                            'serotype_exposure': [], \n",
    "                          'genotype_exposure': []}\n",
    "        \n",
    "    for Y in valid_Y: # each starting season of interest\n",
    "        past_Y = [Y - n for n in range(1, N)] # past N seasons before Y\n",
    "        cumulative_genotype_exposure = 0.\n",
    "        cumulative_serotype_exposure = 0.\n",
    "        \n",
    "        for n, y in enumerate(past_Y, start=1): # for each of the past n seasons before Y\n",
    "            gamma = get_gamma(n)\n",
    "\n",
    "            for j in J: # for each genotype\n",
    "                D_ij = get_D_ij(i,j,titers)\n",
    "                C_D_ij = get_C_D_ij(D_ij)\n",
    "                \n",
    "                j_frequency = get_x(j, y, frequencies) # frequency of j in this previous season\n",
    "                \n",
    "                genotype_exposure = C_D_ij['C_intra']*j_frequency*gamma\n",
    "                serotype_exposure = C_D_ij['C_inter']*j_frequency*gamma\n",
    "              \n",
    "                cumulative_genotype_exposure += genotype_exposure\n",
    "                cumulative_serotype_exposure += serotype_exposure\n",
    "                \n",
    "        population_exposure['genotype_exposure'].append(cumulative_genotype_exposure)\n",
    "        population_exposure['serotype_exposure'].append(cumulative_serotype_exposure)\n",
    "        population_exposure['total_exposure'].append(cumulative_genotype_exposure+cumulative_serotype_exposure)\n",
    "    \n",
    "    return pd.DataFrame(population_exposure, index=valid_Y)"
   ]
  },
  {
   "cell_type": "code",
   "execution_count": 55,
   "metadata": {},
   "outputs": [
    {
     "name": "stderr",
     "output_type": "stream",
     "text": [
      "/Users/Sidney/Library/Python/2.7/lib/python/site-packages/ipykernel/__main__.py:6: SettingWithCopyWarning: \n",
      "A value is trying to be set on a copy of a slice from a DataFrame.\n",
      "Try using .loc[row_indexer,col_indexer] = value instead\n",
      "\n",
      "See the caveats in the documentation: http://pandas.pydata.org/pandas-docs/stable/indexing.html#indexing-view-versus-copy\n"
     ]
    }
   ],
   "source": [
    "population_exposure = { i: calc_population_exposure(i, seasons, 5, genotypes, genotype_frequencies, titers)\n",
    "                      for i in genotypes}\n",
    "for i, exposure in population_exposure.items():\n",
    "    valid_seasons = delta_genotype_frequencies.index\n",
    "    exposure = exposure.loc[exposure.index.isin(valid_seasons)]\n",
    "    exposure['delta_frequency'] = delta_genotype_frequencies[i]\n",
    "    population_exposure[i] = exposure"
   ]
  },
  {
   "cell_type": "code",
   "execution_count": 56,
   "metadata": {},
   "outputs": [
    {
     "name": "stdout",
     "output_type": "stream",
     "text": [
      "      genotype_exposure  serotype_exposure  total_exposure  delta_frequency\n",
      "1985           2.520361           2.384384        4.904744        -0.004250\n",
      "1986           2.481396           2.329684        4.811081        -0.026800\n",
      "1987           2.472419           2.328622        4.801042        -0.127375\n",
      "1988           2.517459           2.406345        4.923804        -0.060350\n",
      "1989           2.571498           2.489724        5.061222         0.161650\n"
     ]
    }
   ],
   "source": [
    "print population_exposure.values()[0].head()"
   ]
  },
  {
   "cell_type": "code",
   "execution_count": 57,
   "metadata": {},
   "outputs": [
    {
     "name": "stdout",
     "output_type": "stream",
     "text": [
      "GENOTYPE DENV2_ASIANAMERICAN\n",
      "                            OLS Regression Results                            \n",
      "==============================================================================\n",
      "Dep. Variable:                      y   R-squared:                       0.366\n",
      "Model:                            OLS   Adj. R-squared:                  0.341\n",
      "Method:                 Least Squares   F-statistic:                     14.43\n",
      "Date:                Thu, 02 Nov 2017   Prob (F-statistic):           0.000829\n",
      "Time:                        14:12:17   Log-Likelihood:                 17.633\n",
      "No. Observations:                  27   AIC:                            -31.27\n",
      "Df Residuals:                      25   BIC:                            -28.68\n",
      "Df Model:                           1                                         \n",
      "Covariance Type:            nonrobust                                         \n",
      "==============================================================================\n",
      "                 coef    std err          t      P>|t|      [0.025      0.975]\n",
      "------------------------------------------------------------------------------\n",
      "const          4.3707      1.158      3.774      0.001       1.986       6.756\n",
      "x1            -0.8933      0.235     -3.799      0.001      -1.378      -0.409\n",
      "==============================================================================\n",
      "Omnibus:                        4.812   Durbin-Watson:                   0.749\n",
      "Prob(Omnibus):                  0.090   Jarque-Bera (JB):                2.184\n",
      "Skew:                          -0.387   Prob(JB):                        0.336\n",
      "Kurtosis:                       1.842   Cond. No.                         236.\n",
      "==============================================================================\n",
      "\n",
      "Warnings:\n",
      "[1] Standard Errors assume that the covariance matrix of the errors is correctly specified.\n",
      "GENOTYPE DENV3_II\n",
      "                            OLS Regression Results                            \n",
      "==============================================================================\n",
      "Dep. Variable:                      y   R-squared:                       0.317\n",
      "Model:                            OLS   Adj. R-squared:                  0.290\n",
      "Method:                 Least Squares   F-statistic:                     11.60\n",
      "Date:                Thu, 02 Nov 2017   Prob (F-statistic):            0.00224\n",
      "Time:                        14:12:17   Log-Likelihood:                 29.139\n",
      "No. Observations:                  27   AIC:                            -54.28\n",
      "Df Residuals:                      25   BIC:                            -51.69\n",
      "Df Model:                           1                                         \n",
      "Covariance Type:            nonrobust                                         \n",
      "==============================================================================\n",
      "                 coef    std err          t      P>|t|      [0.025      0.975]\n",
      "------------------------------------------------------------------------------\n",
      "const          2.5839      0.767      3.370      0.002       1.005       4.163\n",
      "x1            -0.5429      0.159     -3.406      0.002      -0.871      -0.215\n",
      "==============================================================================\n",
      "Omnibus:                        3.633   Durbin-Watson:                   0.911\n",
      "Prob(Omnibus):                  0.163   Jarque-Bera (JB):                2.170\n",
      "Skew:                          -0.345   Prob(JB):                        0.338\n",
      "Kurtosis:                       4.205   Cond. No.                         234.\n",
      "==============================================================================\n",
      "\n",
      "Warnings:\n",
      "[1] Standard Errors assume that the covariance matrix of the errors is correctly specified.\n",
      "GENOTYPE DENV3_III\n",
      "                            OLS Regression Results                            \n",
      "==============================================================================\n",
      "Dep. Variable:                      y   R-squared:                       0.359\n",
      "Model:                            OLS   Adj. R-squared:                  0.333\n",
      "Method:                 Least Squares   F-statistic:                     13.97\n",
      "Date:                Thu, 02 Nov 2017   Prob (F-statistic):           0.000968\n",
      "Time:                        14:12:17   Log-Likelihood:                 59.008\n",
      "No. Observations:                  27   AIC:                            -114.0\n",
      "Df Residuals:                      25   BIC:                            -111.4\n",
      "Df Model:                           1                                         \n",
      "Covariance Type:            nonrobust                                         \n",
      "==============================================================================\n",
      "                 coef    std err          t      P>|t|      [0.025      0.975]\n",
      "------------------------------------------------------------------------------\n",
      "const          0.9477      0.254      3.737      0.001       0.425       1.470\n",
      "x1            -0.1971      0.053     -3.738      0.001      -0.306      -0.089\n",
      "==============================================================================\n",
      "Omnibus:                        1.757   Durbin-Watson:                   1.030\n",
      "Prob(Omnibus):                  0.415   Jarque-Bera (JB):                1.144\n",
      "Skew:                          -0.504   Prob(JB):                        0.564\n",
      "Kurtosis:                       2.969   Cond. No.                         234.\n",
      "==============================================================================\n",
      "\n",
      "Warnings:\n",
      "[1] Standard Errors assume that the covariance matrix of the errors is correctly specified.\n",
      "ALL R^2 VALUES [0.15, 0.04, 0.09, 0.37, 0.06, 0.06, 0.32, 0.36, 0.09, 0.02]\n"
     ]
    }
   ],
   "source": [
    "valid_genotypes = [i for i in genotypes if max(genotype_frequencies[i]) >= 0.1]\n",
    "\n",
    "all_r2 = []\n",
    "for i in valid_genotypes:\n",
    "    df = population_exposure[i]\n",
    "#     x = df.as_matrix(columns=['genotype_exposure', 'serotype_exposure'])\n",
    "    x = df['total_exposure'].values\n",
    "    x = sm.add_constant(x, prepend=True)\n",
    "    y = df['delta_frequency'].values\n",
    "\n",
    "    results = smf.OLS(y,x).fit()\n",
    "    all_r2.append(round(results.rsquared, 2))\n",
    "    if results.rsquared >= 0.3:\n",
    "        print 'GENOTYPE %s'%i\n",
    "        print results.summary()\n",
    "        \n",
    "print 'ALL R^2 VALUES', all_r2"
   ]
  },
  {
   "cell_type": "code",
   "execution_count": 58,
   "metadata": {},
   "outputs": [],
   "source": [
    "#### Plot\n",
    "    \n",
    "def plot_exposure_delta_frequencies(i, ax, population_exposure, **kwargs):\n",
    "    \n",
    "    gt_x = population_exposure[i]['genotype_exposure']\n",
    "    st_x = population_exposure[i]['serotype_exposure']\n",
    "    total_x = population_exposure[i]['total_exposure']\n",
    "    y = population_exposure[i]['delta_frequency']\n",
    "\n",
    "    sns.regplot(gt_x, y, label='D(Ii)+D(Jj)', ax=ax)\n",
    "#     sns.regplot(st_x, y, label='D(IJ)', ax=ax)\n",
    "#     sns.regplot(total_x, y, label='Total D(ij)', ax=ax)\n",
    "    \n",
    "    ax.set_title(i)\n",
    "    ax.set_xlabel('Population immunity')\n",
    "    ax.set_ylabel('5-yr change in frequency')\n",
    "\n",
    "    \n",
    "def plot_time_frequencies_exposure(i, ax, population_exposure, frequencies, \n",
    "                                   min_val, max_val, **kwargs):\n",
    "    \n",
    "    time = genotype_frequencies[i].index.tolist()\n",
    "    frequencies = genotype_frequencies[i].tolist()\n",
    "    \n",
    "    exposure = population_exposure[i].tolist()\n",
    "    exposure = [x / max_val for x in exposure] # Norm so everything is between 0 and 1 for the cmap\n",
    "    \n",
    "    \n",
    "    c = [cm.autumn_r(e) for e in exposure]\n",
    "    ax.plot(time, frequencies, '-', c='gray')\n",
    "    ax.scatter(time,frequencies,c=c, zorder=5, s=20)\n",
    "    \n",
    "    ax.set_title(i)\n",
    "    ax.set_xlabel('Season')\n",
    "    ax.set_ylabel('Genotype Frequency')\n",
    "#     ax.set_ylim(0, 0.5)\n",
    "    \n",
    "#     if 'colorbar' in kwargs and kwargs['colorbar'] == True:\n",
    "#         divider = make_axes_locatable(ax)\n",
    "#         cax = divider.append_axes('right', size='5%', pad=0.05)\n",
    "\n",
    "#         im = ax.imshow(c)#, cmap='autumn_r')\n",
    "\n",
    "#         plt.colorbar(im, cax=cax, orientation='vertical')"
   ]
  },
  {
   "cell_type": "code",
   "execution_count": 59,
   "metadata": {},
   "outputs": [],
   "source": [
    "def plot_all_j_vals(plot_fn, population_exposure, frequencies, \n",
    "                       save=False, plot_name=None, **kwargs):\n",
    "    sns.set(style='whitegrid', font_scale=1.1, palette='pastel')\n",
    "    n_j_vals = len(population_exposure.keys())\n",
    "    ncols = 4\n",
    "    nrows = int(ceil(n_j_vals/ncols))\n",
    "    \n",
    "    sns.set_style('whitegrid')\n",
    "    fig, axes = plt.subplots(nrows=nrows, ncols=ncols, squeeze=True, figsize=(12,8), sharey=True, sharex=True)\n",
    "    \n",
    "    for j, ax in zip(sorted(population_exposure.keys()), axes.flatten()):\n",
    "        plot_fn(j, ax, population_exposure, **kwargs)\n",
    "        \n",
    "    if 'title' in kwargs:\n",
    "        plt.suptitle(kwargs['title'], va='bottom', size=24)\n",
    "\n",
    "    plt.tight_layout()\n",
    "    \n",
    "    if save:\n",
    "        plt.savefig(out_path+'/'+dataset_name+plot_name+'.png')\n",
    "        \n",
    "    if 'cbar' in kwargs:\n",
    "        cax = fig.add_axes([1.0, 0.1, 0.02, 0.9], frame_on=False)\n",
    "        cb = mpl.colorbar.ColorbarBase(cax,cmap='autumn_r',\n",
    "                                       norm=mpl.colors.Normalize(vmin=min_val,vmax=max_val),orientation='vertical',alpha=1.0,drawedges=False)\n",
    "        "
   ]
  },
  {
   "cell_type": "code",
   "execution_count": 60,
   "metadata": {},
   "outputs": [
    {
     "data": {
      "image/png": "[encoded data removed]",
      "text/plain": [
       "<matplotlib.figure.Figure at 0x10aee6650>"
      ]
     },
     "metadata": {},
     "output_type": "display_data"
    }
   ],
   "source": [
    "plot_all_j_vals(plot_exposure_delta_frequencies, population_exposure, genotype_frequencies)"
   ]
  },
  {
   "cell_type": "code",
   "execution_count": 83,
   "metadata": {},
   "outputs": [],
   "source": [
    "# plot_all_j_vals(plot_time_frequencies_exposure, genotype_exposure_antigenic, genotype_frequencies, \n",
    "#                 min_val = min_gt_ant_val, max_val = max_gt_ant_val,\n",
    "#                    title='Genotype frequencies over time in %s,\\ncolored by expected titer'%dataset_name, \n",
    "#                    cbar=True)"
   ]
  },
  {
   "cell_type": "code",
   "execution_count": 84,
   "metadata": {},
   "outputs": [],
   "source": [
    "# def plot_pooled_exposure_frequencies(population_exposure, frequencies = genotype_frequencies, \n",
    "#                        save=False, plot_name=None, title=None):\n",
    "#     sns.set(style='whitegrid', font_scale=1.2, palette='pastel')\n",
    "#     fig, ax = plt.subplots()\n",
    "    \n",
    "#     seasons_of_interest = population_exposure.values()[0].index.values\n",
    "#     genotypes = population_exposure.keys()\n",
    "    \n",
    "#     pooled_frequencies = []\n",
    "#     pooled_exposure = []\n",
    "    \n",
    "#     for genotype in genotypes:\n",
    "#         pooled_exposure += population_exposure[genotype][seasons_of_interest].tolist()\n",
    "#         pooled_frequencies += frequencies[genotype][seasons_of_interest].tolist()\n",
    "    \n",
    "#     ax = sns.regplot(pd.Series(pooled_exposure), pd.Series(pooled_frequencies), scatter_kws={'alpha': 0.6})\n",
    "#     ax.set_xlabel('dTiter between population sera and virus i')\n",
    "#     ax.set_ylabel('Frequency of virus i')\n",
    "#     ax.set_ylim(bottom=0)\n",
    "        \n",
    "#     if title:\n",
    "#         ax.set_title(title, size=24)\n",
    "#     plt.tight_layout()\n",
    "#     plt.show()\n",
    "    \n",
    "#     if save:\n",
    "#         plt.savefig(out_path+'/'+dataset_name+plot_name+'.png')\n",
    "\n",
    "#     fit = linregress(pooled_exposure, pooled_frequencies)\n",
    "#     return fit\n",
    "        "
   ]
  },
  {
   "cell_type": "code",
   "execution_count": 85,
   "metadata": {},
   "outputs": [],
   "source": [
    "# def plot_pooled_exposure_delta_frequencies(population_exposure, frequencies, years_forward=3, \n",
    "#                                        save=False, plot_name=None, title=None):\n",
    "    \n",
    "#     sns.set(style='whitegrid', font_scale=1.2, palette='pastel')\n",
    "#     fig, ax = plt.subplots()\n",
    "    \n",
    "#     valid_seasons = population_exposure.values()[0].index.tolist() # all available seasons\n",
    "#     delta_seasons = zip(valid_seasons[years_forward:], valid_seasons) # [(S + N season, S season)]\n",
    "    \n",
    "#     def delta_f(i):\n",
    "#         return [frequencies[i][s2] - genotype_frequencies[i][s1] for (s2, s1) in delta_seasons]\n",
    "    \n",
    "#     def pop_exp(i):\n",
    "#         return population_exposure[i][valid_seasons[:-1*years_forward]].tolist()\n",
    "    \n",
    "#     pooled_exposure = []\n",
    "#     pooled_delta_f = []\n",
    "    \n",
    "#     for i in population_exposure.keys():\n",
    "#         pooled_exposure += pop_exp(i)\n",
    "#         pooled_delta_f += delta_f(i)\n",
    "        \n",
    "    \n",
    "#     sns.regplot(pd.Series(pooled_exposure),pd.Series(pooled_delta_f), ax=ax, scatter_kws={'alpha': 0.6})\n",
    "    \n",
    "#     ax.set_xlabel('dTiter(population sera, virus i)')\n",
    "#     ax.set_ylabel('%d-yr change in frequency'%years_forward)\n",
    "    \n",
    "#     if title:\n",
    "#         ax.set_title(title, size=24)\n",
    "        \n",
    "#     plt.tight_layout()\n",
    "    \n",
    "#     if save:\n",
    "#         plt.savefig(out_path+'/'+dataset_name+plot_name+'.png')\n",
    "        \n",
    "#     fit = linregress(pooled_exposure, pooled_delta_f)\n",
    "#     return fit\n",
    "\n"
   ]
  },
  {
   "cell_type": "code",
   "execution_count": null,
   "metadata": {
    "collapsed": true
   },
   "outputs": [],
   "source": []
  }
 ],
 "metadata": {
  "kernelspec": {
   "display_name": "Python 2",
   "language": "python",
   "name": "python2"
  },
  "language_info": {
   "codemirror_mode": {
    "name": "ipython",
    "version": 2
   },
   "file_extension": ".py",
   "mimetype": "text/x-python",
   "name": "python",
   "nbconvert_exporter": "python",
   "pygments_lexer": "ipython2",
   "version": "2.7.10"
  }
 },
 "nbformat": 4,
 "nbformat_minor": 2
}
