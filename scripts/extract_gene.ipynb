{
 "cells": [
  {
   "cell_type": "code",
   "execution_count": 1,
   "metadata": {
    "collapsed": true
   },
   "outputs": [],
   "source": [
    "from Bio import SeqIO\n",
    "from Bio.SeqFeature import FeatureLocation\n",
    "from Bio import AlignIO\n",
    "import re\n",
    "from glob import glob"
   ]
  },
  {
   "cell_type": "code",
   "execution_count": null,
   "metadata": {
    "collapsed": false
   },
   "outputs": [],
   "source": [
    "reference = '/Users/Sidney/nextstrain/augur/dengue/metadata/dengue_denv4_outgroup.gb'\n",
    "want_segments = [('pr', 'M', 'E'), ('NS1', 'NS2A', 'NS2B', 'NS3', 'NS4A', '2K', 'NS4B', 'NS5')]\n",
    "\n",
    "alignmentfile = '../data/subsampled_alignments/dengue_denv4_aln.fasta'"
   ]
  },
  {
   "cell_type": "code",
   "execution_count": 21,
   "metadata": {
    "collapsed": false
   },
   "outputs": [],
   "source": [
    "def load_reference(reference_file):\n",
    "    reference_seq = SeqIO.read(reference_file, 'genbank')\n",
    "    gene_locs = {}\n",
    "    \n",
    "    genome_annotation = reference_seq.features\n",
    "    for f in reference_seq.features:\n",
    "        if 'gene' in f.qualifiers:\n",
    "            gene_locs[f.qualifiers['gene'][0]] = (int(f.location.start), int(f.location.end))#FeatureLocation(start=f.location.start, end=f.location.end, strand=1)            \n",
    "    return gene_locs, reference_seq\n",
    "\n",
    "def convert_coordinate(refseq, compareseq, coordinate):\n",
    "    '''\n",
    "    In: ungapped reference sequence, gapped (aligned) compare sequence, position to convert\n",
    "    Out: coordinate of corresponding condition in the aligned sequence\n",
    "    '''\n",
    "    coordinate = coordinate - 1 # Adjust for python coordinates\n",
    "    #check to make sure we have at least 100bp of downstream sequence, no more than 40bp of which are gaps, to match on\n",
    "    assert len(refseq[coordinate:]) >= 100 and refseq[coordinate:coordinate+100].count('-')<40, 'ERROR: Not enough downstream context available for '+str(coordinate+1)\n",
    "    #check to make sure the given coordinate doesn't correspond to a gap in the reference sequence\n",
    "    assert refseq[coordinate] != '-', 'ERROR! Coordinate '+str(coordinate+1)+' is a gap in the reference sequence.'\n",
    "\n",
    "    reference = refseq[coordinate:coordinate+100].replace('-', '')\n",
    "    refpattern = '-*'.join(list(reference)) # Match in new sequence while ignoring gaps\n",
    "    matchlist = re.findall(refpattern, compareseq, flags=re.IGNORECASE) # Check to make sure we get one and only one match\n",
    "    assert len(matchlist) == 1, 'ERROR: found %d matches for coordinate %d'%(len(matchlist), coordinate+1)\n",
    "    return re.search(refpattern, compareseq, flags=re.IGNORECASE).start()+1 #return the converted coordinate (adjusted back to genomic coordinates)\n",
    "\n",
    "def split_alignment(alignmentobject, segment_locs):\n",
    "    '''\n",
    "    in: path to fasta-format alignment file, [(gene, (start,end)), ...]\n",
    "    out: separate .fasta alignment files for each gene[segment], based on provided coordinates\n",
    "    NB: removes any sequences without > 70% non-gap sites from each segment alignment\n",
    "    '''\n",
    "    ofile_stem = alignmentfile.split('/')[-1].split('.')[0] # name output like alignmentfilename_protein.phyx\n",
    "    for segment, (start, end) in segment_locs:\n",
    "        ofile_name = ofile_stem+'_%s.fasta'%(segment)\n",
    "        \n",
    "        start, end = start - 1, end - 1 # adjust for pythonic coordinates\n",
    "\n",
    "        align_segment = alignmentobject[:, start:end+1] #[allrows, startcolumn:endcolumn] endcolumn += 1 for inclusive slicing\n",
    "        filtered_align_segment = AlignIO.MultipleSeqAlignment([])\n",
    "        for seq in align_segment:\n",
    "            seq.seq.data = str(seq.seq).replace('n', '-').replace('N', '-')\n",
    "            if float(str(seq.seq).count('-')) / float(len(str(seq.seq))) <= 0.30: # Require at least 70% of sites are not gaps to include in segment alignment\n",
    "                filtered_align_segment.append(seq)\n",
    "\n",
    "                \n",
    "                AlignIO.write(filtered_align_segment, ofile_name, 'fasta')"
   ]
  },
  {
   "cell_type": "code",
   "execution_count": 24,
   "metadata": {
    "collapsed": false
   },
   "outputs": [
    {
     "name": "stdout",
     "output_type": "stream",
     "text": [
      "[('pr_M_E', (440, 2423)), ('NS1_NS2A_NS2B_NS3_NS4A_2K_NS4B_NS5', (2423, 10262))]\n",
      "[('pr_M_E', (498, 2481)), ('NS1_NS2A_NS2B_NS3_NS4A_2K_NS4B_NS5', (2481, 10320))]\n"
     ]
    }
   ],
   "source": [
    "alignmentobject = AlignIO.read(open(alignmentfile, 'r'), 'fasta')\n",
    "\n",
    "proteins, reference_seq = load_reference(reference) #{'protein': (start, end), ... }, SeqIO.SequenceObject\n",
    "reference_acc, reference_seq = reference_seq.id.split('.')[0], str(reference_seq.seq) # NB: Expects reference_seq.id like accession.whateverversionignored\n",
    "\n",
    "if hasattr(want_segments, '__iter__'): # if we want segments composed of multiple adjacent genes....\n",
    "    tmp = []\n",
    "    for segment in want_segments:\n",
    "        name = '_'.join(segment)\n",
    "        start = min([ proteins[gene][0] for gene in segment ])\n",
    "        end = max([ proteins[gene][1] for gene in segment])\n",
    "        tmp.append((name, (start, end)))\n",
    "    want_segments = tmp\n",
    "\n",
    "else:\n",
    "    want_segments = [ (segment, proteins[segment]) for segment in want_segments ]\n",
    "\n",
    "print want_segments\n",
    "\n",
    "compare_seq = None\n",
    "for i in SeqIO.parse(alignmentfile, 'fasta'): # Find the reference sequence in the alignment by matching accession numbers.\n",
    "    try:\n",
    "        if i.description.split('|')[1].split('.')[0] == reference_acc:\n",
    "            compare_seq = str(i.seq)\n",
    "    except:\n",
    "        print i.description\n",
    "assert compare_seq != None\n",
    "\n",
    "converted_coordinates = [] # Convert coordinates from reference to aligned\n",
    "for name, loc in want_segments: #[ (protein1, (start, end)), (protein2, (start, end)), ...]\n",
    "    start = convert_coordinate(reference_seq, compare_seq, loc[0])\n",
    "    end = convert_coordinate(reference_seq, compare_seq, loc[1])\n",
    "    converted_coordinates.append((name, (start, end)))\n",
    "\n",
    "print converted_coordinates\n",
    "\n",
    "split_alignment(alignmentobject, converted_coordinates)"
   ]
  },
  {
   "cell_type": "code",
   "execution_count": 27,
   "metadata": {
    "collapsed": false
   },
   "outputs": [
    {
     "name": "stdout",
     "output_type": "stream",
     "text": [
      "\u001b[1m\u001b[36maugur_utils\u001b[m\u001b[m/\r\n",
      "dengue_denv4_aln_NS1_NS2A_NS2B_NS3_NS4A_2K_NS4B_NS5.fasta\r\n",
      "dengue_denv4_aln_pr_M_E.fasta\r\n",
      "extract_gene.ipynb\r\n",
      "format_titers.py\r\n",
      "gard_format.py\r\n",
      "generate_tanglegrams.py\r\n",
      "geo_colors.ipynb\r\n",
      "match_fuzzy_strains.py\r\n",
      "mcdonald-kreitman.ipynb\r\n",
      "plot_geo_counts.ipynb\r\n",
      "remove_undated_sequences.py\r\n",
      "untitled\r\n"
     ]
    }
   ],
   "source": [
    "ls"
   ]
  },
  {
   "cell_type": "code",
   "execution_count": null,
   "metadata": {
    "collapsed": true
   },
   "outputs": [],
   "source": []
  }
 ],
 "metadata": {
  "kernelspec": {
   "display_name": "Python 2",
   "language": "python",
   "name": "python2"
  },
  "language_info": {
   "codemirror_mode": {
    "name": "ipython",
    "version": 2
   },
   "file_extension": ".py",
   "mimetype": "text/x-python",
   "name": "python",
   "nbconvert_exporter": "python",
   "pygments_lexer": "ipython2",
   "version": "2.7.10"
  }
 },
 "nbformat": 4,
 "nbformat_minor": 2
}
