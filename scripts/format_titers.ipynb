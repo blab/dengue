{
 "cells": [
  {
   "cell_type": "code",
   "execution_count": 108,
   "metadata": {
    "collapsed": true
   },
   "outputs": [],
   "source": [
    "import pandas as pd\n",
    "import numpy as np\n",
    "from Bio import SeqIO"
   ]
  },
  {
   "cell_type": "code",
   "execution_count": 109,
   "metadata": {
    "collapsed": false
   },
   "outputs": [],
   "source": [
    "agm_titers_df = pd.read_csv('/Users/Sidney/nextstrain/dengue/data/smith2015/agm_1month_titers.csv', index_col=0, comment='#')\n",
    "agm_titers_df.dropna(how='all', inplace=True)\n",
    "smith_key_df = pd.read_csv('/Users/Sidney/nextstrain/dengue/data/smith2015/final-supplemental-files/Fig1A-key-for-tree-names-virus-names.txt', header=0, sep='\\t',index_col=0)\n",
    "smith_strain_acc = { s['fullname'] : s['genbank'] for i,s in smith_key_df.iterrows()}\n",
    "smith_sequences = { s.description : s for s in SeqIO.parse('/Users/Sidney/nextstrain/dengue/data/smith2015/final-supplemental-files/Fig1A-aligned-nucleotide-sequences.FASTA', 'fasta')}\n",
    "vdb_acc_strains = { s.description.split('|')[1] : s.description.split('|')[0].split('.')[0] for s in SeqIO.parse('/Users/Sidney/nextstrain/fauna/data/dengue.fasta', 'fasta')}\n",
    "\n",
    "for s in smith_strain_acc.keys():\n",
    "    smith_strain_acc[s.replace('-', '').replace('_', '')] = smith_strain_acc[s]\n",
    "smith_strain_acc['DENV2/Tonga/1974-Tonga-74']='AY744147'\n",
    "smith_strain_acc['DENV3/Fiji/1992-29472'] = 'L11422'\n",
    "smith_strain_acc['DENV2/Senegal/1970/Sendak_H D_0674'] = smith_strain_acc['DENV2/Senegal/1970/Sendak_H']\n",
    "smith_sequences['DENV3/Fiji/1992-29472'] = smith_sequences['DENV3/Fiji/1992-29472-L11422-I']"
   ]
  },
  {
   "cell_type": "code",
   "execution_count": 110,
   "metadata": {
    "collapsed": false
   },
   "outputs": [],
   "source": [
    "def build_canonical_name(sero, country, strain_id, year):\n",
    "    return ('%s/%s/%s/%s'%(sero, country, strain_id, year)).strip().upper()\n",
    "\n",
    "def pull_virus_smithmetadata(strain):\n",
    "    serotype, country, yearstrain = strain.split('/', 2)\n",
    "    yearstrain = yearstrain.replace('/', '-')\n",
    "    year = yearstrain.split('-')[0]\n",
    "    strain = ''.join(yearstrain.split('-')[1:]).replace('_', '')\n",
    "    return serotype, country, strain, year\n",
    "\n",
    "def pull_sera_smithmetadata(strain):\n",
    "    serotype, country, year, strain = strain.split('_', 3)\n",
    "    serotype = 'DENV'+serotype[-1]\n",
    "    strain = strain.replace('_', '')\n",
    "    return serotype, country, strain, year\n",
    "\n",
    "def fix_smith_strain(strain, type='virus'):\n",
    "    '''\n",
    "    Given metadata annotations in doc, make new strain names like\n",
    "    DENV1234/country/ID/year\n",
    "    where ID is derived from the original strain ID with metadata redundancies removed\n",
    "    '''\n",
    "    ## Pull data, try the obvious first\n",
    "    \n",
    "    if type == 'virus':\n",
    "        sero, country, strain_id, year = pull_virus_smithmetadata(strain) # Pull metadata from pre-processed annotations\n",
    "    else:\n",
    "        sero, country, strain_id, year = pull_sera_smithmetadata(strain)\n",
    "    strain = build_canonical_name(sero, country, strain_id, year)\n",
    "    return strain"
   ]
  },
  {
   "cell_type": "code",
   "execution_count": 122,
   "metadata": {
    "collapsed": false
   },
   "outputs": [],
   "source": [
    "def format_smith_upload(smith_strain_list):\n",
    "    missing_records = []\n",
    "    for s in smith_strain_list:\n",
    "        row = {}\n",
    "        NA_fields = ['Species', 'Isolate Name', 'Georegion', 'Author', 'Sampling City', 'Pubmed ID']\n",
    "        for n in NA_fields:\n",
    "            row[n] = None\n",
    "        if '/' in s:\n",
    "            serotype, country, strain, year = pull_virus_smithmetadata(s)\n",
    "        else:\n",
    "            serotype, country, strain, year = pull_sera_smithmetadata(s)\n",
    "        row['Accession'] = smith_strain_acc[s]\n",
    "        row['Name'] = fix_smith_strain(s)\n",
    "        row['Start'] = 935\n",
    "        row['Stop'] = 2413\n",
    "        row['Segment'] = 'E'\n",
    "        row['Organism'] = 'dengue virus '+serotype[-1]\n",
    "        row['Country'] = country\n",
    "        row['Sampling Year'] = year\n",
    "        row['Species'] = 'dengue virus'\n",
    "        try:\n",
    "            row['Sequence'] = str(smith_sequences[s].seq)\n",
    "        except:\n",
    "            print 'sequence not found for %s'%s\n",
    "            print sorted(smith_sequences.keys())\n",
    "        missing_records.append(row)\n",
    "#     pd.DataFrame(missing_vdb_viruses).to_csv('smith_viruses.tsv', sep='\\t')\n",
    "\n",
    "def convert_smith_vdb_virus_strains(smith_strains):\n",
    "    smith_vdb_strains = {}\n",
    "    not_in_key = []\n",
    "    not_in_vdb = []\n",
    "    for smith_strain in smith_strains:\n",
    "        try: # Have an accession that's in vdb?\n",
    "            smith_vdb_strains[smith_strain] = vdb_acc_strains[smith_strain_acc[smith_strain]]\n",
    "        except:\n",
    "            if smith_strain in smith_strain_acc and smith_strain_acc[smith_strain] not in vdb_acc_strains: # Have an accession not in vdb?\n",
    "                not_in_vdb.append(smith_strain)\n",
    "                smith_vdb_strains[smith_strain] = fix_smith_strain(smith_strain)\n",
    "            else: # Missing accession altogether?\n",
    "                try:\n",
    "                    smith_vdb_strains[smith_strain] = vdb_acc_strains[smith_strain_acc[smith_strain.replace('-', '').replace('_', '')]]\n",
    "                except:\n",
    "                    not_in_key.append(smith_strain)\n",
    "    if not_in_key != []: \n",
    "        print '\\n\\nThese strain names did not match an accession number in the key:', sorted(not_in_key)\n",
    "        print '\\n\\nKey strain names:', sorted(smith_strain_acc.items())\n",
    "        \n",
    "    return smith_vdb_strains, not_in_key\n",
    "\n",
    "smith_vdb_virus_strains, missing_vdb_viruses = convert_smith_vdb_virus_strains(agm_titers_df.index.values)\n",
    "vdb_smith_virus_strains = { v: k for k,v in smith_vdb_virus_strains.items() }"
   ]
  },
  {
   "cell_type": "code",
   "execution_count": 124,
   "metadata": {
    "collapsed": false
   },
   "outputs": [
    {
     "name": "stdout",
     "output_type": "stream",
     "text": [
      "\n",
      "\n",
      "These strain names did not match an accession number in the key: ['DEN1_Bolivia_2010_FSB_3363', 'DEN1_Burma_2005_61117', 'DEN1_Cambodia_2003_GenBankGQ868619', 'DEN1_Nauru_1974_NIHvaccine', 'DEN1_Peru_2000_IQT_6152', 'DEN1_PuertoRico_2006_BID_V852', 'DEN1_Venezuela_2000_OBT_1298', 'DEN1_VietNam_2008_BID_V1937', 'DEN2_Cambodia_2009_D2T0601085_KH09_KSP', 'DEN2_Malaysia_2008_DKD811', 'DEN2_Nicaragua_2005_BID_V533', 'DEN2_Nicaragua_2006_BID_V571', 'DEN2_Peru_1996_IQT2913', 'DEN2_Senegal_2003_Sendak_HD_0674', 'DEN2_Tonga_1974_NIHvaccine', 'DEN2_Vietnam_2003_DF_670', 'DEN2_Vietnam_2006_32_135_2', 'DEN2_Vietnam_2006_BID_V735', 'DEN3_Burma_2008_80931', 'DEN3_Cambodia_2011_V0907330', 'DEN3_Fiji_1992__', 'DEN3_Nicaragua_2009_608', 'DEN3_PuertoRico_1963_PRS_228762', 'DEN3_PuertoRico_2006_429965', 'DEN3_Vietnam_2006_BID_V1329', 'DEN3_Vietnam_2007_BID_V1817', 'DEN4_Brazil_2012_BR_12', 'DEN4_Burma_2008_81087', 'DEN4_Cambodia_2010_U0811386', 'DEN4_Cambodia_2011_V0624301', 'DEN4_Indonesia_1973_M30153_p5', 'DEN4_Malaysia_1973_P73_1120_sylvatic', 'DEN4_Nicaragua_1999_703', 'DEN4_PuertoRico_1999_BID_V2446', 'DENV2_Vietnam_2003_AC21', 'DENV2_Vietnam_2003_AC21_2']\n",
      "\n",
      "\n",
      "Key strain names: [('DENV1/Bolivia/2010-FSB-3363', 'KT382187'), ('DENV1/Bolivia/2010FSB3363', 'KT382187'), ('DENV1/Cambodia/2003-BID-V1991', 'GQ868619'), ('DENV1/Cambodia/2003-BID-V1995', 'FJ639680'), ('DENV1/Cambodia/2003BIDV1991', 'GQ868619'), ('DENV1/Cambodia/2003BIDV1995', 'FJ639680'), ('DENV1/Myanmar/2005/61117', 'KT452791'), ('DENV1/Nauru/1974-WestPac', 'AY145121'), ('DENV1/Nauru/1974WestPac', 'AY145121'), ('DENV1/Peru/2000-IQT-6152', 'AY780643'), ('DENV1/Peru/2000IQT6152', 'AY780643'), ('DENV1/PuertoRico/2006-BID-V852', 'EU482591'), ('DENV1/PuertoRico/2006BIDV852', 'EU482591'), ('DENV1/Thailand/1964-16007', 'AF180817'), ('DENV1/Thailand/196416007', 'AF180817'), ('DENV1/Venezuela/2000-OBT-1298', 'KT382186'), ('DENV1/Venezuela/2000OBT1298', 'KT382186'), ('DENV1/Vietnam/2008-BID-V1937', 'FJ461335'), ('DENV1/Vietnam/2008BIDV1937', 'FJ461335'), ('DENV2/Brazil/2004-BR-161', 'KT382189'), ('DENV2/Brazil/2004BR161', 'KT382189'), ('DENV2/Cambodia/2007/BID-V4265', 'GU131927'), ('DENV2/Cambodia/2007/BIDV4265', 'GU131927'), ('DENV2/Cambodia/2008-BID-V3924', 'GQ868638'), ('DENV2/Cambodia/2008BIDV3924', 'GQ868638'), ('DENV2/Cambodia/2009/D2T0601085KH09KSP', 'KT452795'), ('DENV2/Cambodia/2009/D2T0601085_KH09_KSP', 'KT452795'), ('DENV2/Guyana/2000-CAREC-00-08221', 'KT382188'), ('DENV2/Guyana/2000CAREC0008221', 'KT382188'), ('DENV2/India/1974-Poona-742295', 'FJ538920'), ('DENV2/India/1974Poona742295', 'FJ538920'), ('DENV2/Malaysia/2008-DKD-811', 'FJ467493'), ('DENV2/Malaysia/2008DKD811', 'FJ467493'), ('DENV2/NewGuinea/1944-NewGuineaC', 'AF038403'), ('DENV2/NewGuinea/1944NewGuineaC', 'AF038403'), ('DENV2/Nicaragua/2005-BID-V533', 'EU482756'), ('DENV2/Nicaragua/2005BIDV533', 'EU482756'), ('DENV2/Nicaragua/2006-BID-V571', 'EU482684'), ('DENV2/Nicaragua/2006BIDV571', 'EU482684'), ('DENV2/Peru/1996-IQT-2913', 'AY158339'), ('DENV2/Peru/1996IQT2913', 'AY158339'), ('DENV2/Senegal/1970/SendakH', 'EF105384'), ('DENV2/Senegal/1970/Sendak_H', 'EF105384'), ('DENV2/Senegal/1970/Sendak_H D_0674', 'EF105384'), ('DENV2/Tonga/1974-Tonga-74', 'AY744147'), ('DENV2/Tonga/1974-Tonga/74', 'AY744147'), ('DENV2/Tonga/1974Tonga/74', 'AY744147'), ('DENV2/Vietnam/2003-AC21', 'KT452796'), ('DENV2/Vietnam/2003/DF670-AC20', 'KT452797'), ('DENV2/Vietnam/2003/DF670AC20', 'KT452797'), ('DENV2/Vietnam/2003AC21', 'KT452796'), ('DENV2/Vietnam/2006-32-135', 'EU482672'), ('DENV2/Vietnam/200632135', 'EU482672'), ('DENV3/Cambodia/2011/V0907330-AC23', 'KT452799'), ('DENV3/Cambodia/2011/V0907330AC23', 'KT452799'), ('DENV3/Fiji/1992-29472', 'L11422'), ('DENV3/Fiji/1992-29472-L11422-I', 'L11422'), ('DENV3/Fiji/199229472L11422I', 'L11422'), ('DENV3/Indonesia/1978/Sleman-1280-AC25', 'KT452798'), ('DENV3/Indonesia/1978/Sleman1280AC25', 'KT452798'), ('DENV3/Myanmar/2008/80931', 'KT452792'), ('DENV3/Nicaragua/2009-BID-V4753', 'HQ541806'), ('DENV3/Nicaragua/2009BIDV4753', 'HQ541806'), ('DENV3/Puerto-Rico/1963/PRS-228762-AC27', 'KT452800'), ('DENV3/PuertoRico/1963/PRS228762AC27', 'KT452800'), ('DENV3/PuertoRico/2006-429965', 'EU529698'), ('DENV3/PuertoRico/2006429965', 'EU529698'), ('DENV3/Vietnam/2006-BID-V1329', 'EU660409'), ('DENV3/Vietnam/2006BIDV1329', 'EU660409'), ('DENV3/Vietnam/2007-BID-V1817', 'FJ432743'), ('DENV3/Vietnam/2007BIDV1817', 'FJ432743'), ('DENV4/Brazil/2012/BR-12', 'KT452794'), ('DENV4/Brazil/2012/BR12', 'KT452794'), ('DENV4/Cambodia/2010-U0811386', 'KF543272'), ('DENV4/Cambodia/2010U0811386', 'KF543272'), ('DENV4/Cambodia/2011/V0624301-AC33', 'KT452802'), ('DENV4/Cambodia/2011/V0624301AC33', 'KT452802'), ('DENV4/Dominica/1981-42A', 'AF326573'), ('DENV4/Dominica/198142A', 'AF326573'), ('DENV4/Indonesia/1973/M30153-AC36', 'KT452801'), ('DENV4/Indonesia/1973/M30153AC36', 'KT452801'), ('DENV4/Indonesia/1978-S1228', 'JN022608'), ('DENV4/Indonesia/1978S1228', 'JN022608'), ('DENV4/Malaysia/1973/P73-1120', 'JF262780'), ('DENV4/Malaysia/1973/P731120', 'JF262780'), ('DENV4/Myanmar/2008/81087', 'KT452793'), ('DENV4/Nicaragua/1999-703', 'KT452803'), ('DENV4/Nicaragua/1999703', 'KT452803'), ('DENV4/PuertoRico/1998-347751', 'EU854297'), ('DENV4/PuertoRico/1998347751', 'EU854297'), ('DENV4/PuertoRico/1999-BID-V2446', 'FJ882599'), ('DENV4/PuertoRico/1999BIDV2446', 'FJ882599'), ('DENV4/Thailand/1985-D85-052', 'AY780644'), ('DENV4/Thailand/1985D85052', 'AY780644')]\n",
      "\n",
      "\n",
      "\n",
      " missing\n",
      "['DEN1_Nauru_1974_NIHvaccine', 'DEN1_VietNam_2008_BID_V1937', 'DEN1_PuertoRico_2006_BID_V852', 'DEN2_Tonga_1974_NIHvaccine', 'DENV2_Vietnam_2003_AC21', 'DEN2_Vietnam_2003_DF_670', 'DEN2_Nicaragua_2005_BID_V533', 'DEN2_Nicaragua_2006_BID_V571', 'DEN2_Peru_1996_IQT2913', 'DEN2_Vietnam_2006_BID_V735', 'DEN2_Malaysia_2008_DKD811', 'DEN3_Fiji_1992__', 'DEN3_Vietnam_2006_BID_V1329', 'DEN3_Vietnam_2007_BID_V1817', 'DEN4_PuertoRico_1999_BID_V2446', 'DEN4_Indonesia_1973_M30153_p5', 'DEN1_Peru_2000_IQT_6152', 'DEN1_Cambodia_2003_GenBankGQ868619', 'DEN1_Bolivia_2010_FSB_3363', 'DEN1_Venezuela_2000_OBT_1298', 'DEN1_Burma_2005_61117', 'DENV2_Vietnam_2003_AC21_2', 'DEN2_Cambodia_2009_D2T0601085_KH09_KSP', 'DEN2_Senegal_2003_Sendak_HD_0674', 'DEN2_Vietnam_2006_32_135_2', 'DEN3_Nicaragua_2009_608', 'DEN3_PuertoRico_1963_PRS_228762', 'DEN3_Cambodia_2011_V0907330', 'DEN3_PuertoRico_2006_429965', 'DEN3_Burma_2008_80931', 'DEN4_Cambodia_2010_U0811386', 'DEN4_Malaysia_1973_P73_1120_sylvatic', 'DEN4_Cambodia_2011_V0624301', 'DEN4_Burma_2008_81087', 'DEN4_Nicaragua_1999_703', 'DEN4_Brazil_2012_BR_12', 'DEN1_Nauru_1974_NIHvaccine', 'DEN1_VietNam_2008_BID_V1937', 'DEN1_PuertoRico_2006_BID_V852', 'DEN2_Tonga_1974_NIHvaccine', 'DENV2_Vietnam_2003_AC21', 'DEN2_Vietnam_2003_DF_670', 'DEN2_Nicaragua_2005_BID_V533', 'DEN2_Nicaragua_2006_BID_V571', 'DEN2_Peru_1996_IQT2913', 'DEN2_Vietnam_2006_BID_V735', 'DEN2_Malaysia_2008_DKD811', 'DEN3_Fiji_1992__', 'DEN3_Vietnam_2006_BID_V1329', 'DEN3_Vietnam_2007_BID_V1817', 'DEN4_PuertoRico_1999_BID_V2446', 'DEN4_Indonesia_1973_M30153_p5', 'DEN1_Peru_2000_IQT_6152', 'DEN1_Cambodia_2003_GenBankGQ868619', 'DEN1_Bolivia_2010_FSB_3363', 'DEN1_Venezuela_2000_OBT_1298', 'DEN1_Burma_2005_61117', 'DENV2_Vietnam_2003_AC21_2', 'DEN2_Cambodia_2009_D2T0601085_KH09_KSP', 'DEN2_Senegal_2003_Sendak_HD_0674', 'DEN2_Vietnam_2006_32_135_2', 'DEN3_Nicaragua_2009_608', 'DEN3_PuertoRico_1963_PRS_228762', 'DEN3_Cambodia_2011_V0907330', 'DEN3_PuertoRico_2006_429965', 'DEN3_Burma_2008_80931', 'DEN4_Cambodia_2010_U0811386', 'DEN4_Malaysia_1973_P73_1120_sylvatic', 'DEN4_Cambodia_2011_V0624301', 'DEN4_Burma_2008_81087', 'DEN4_Nicaragua_1999_703', 'DEN4_Brazil_2012_BR_12']\n"
     ]
    },
    {
     "ename": "KeyError",
     "evalue": "'DEN1_Nauru_1974_NIHvaccine'",
     "output_type": "error",
     "traceback": [
      "\u001b[0;31m---------------------------------------------------------------------------\u001b[0m",
      "\u001b[0;31mKeyError\u001b[0m                                  Traceback (most recent call last)",
      "\u001b[0;32m<ipython-input-124-8e9521399eff>\u001b[0m in \u001b[0;36m<module>\u001b[0;34m()\u001b[0m\n\u001b[1;32m     51\u001b[0m \u001b[0;32mprint\u001b[0m \u001b[0mmissing_vdb_viruses\u001b[0m\u001b[0;34m\u001b[0m\u001b[0m\n\u001b[1;32m     52\u001b[0m \u001b[0;34m\u001b[0m\u001b[0m\n\u001b[0;32m---> 53\u001b[0;31m \u001b[0mformat_smith_upload\u001b[0m\u001b[0;34m(\u001b[0m\u001b[0mmissing_vdb_viruses\u001b[0m\u001b[0;34m)\u001b[0m\u001b[0;34m\u001b[0m\u001b[0m\n\u001b[0m\u001b[1;32m     54\u001b[0m \u001b[0;32mprint\u001b[0m \u001b[0;34m'These viruses were not found in vdb.\\nTo upload, run `fauna$ python vdb/dengue_upload --fname smith_viruses.tsv --ftype tsv -v dengue -db vdb`\\n'\u001b[0m\u001b[0;34m,\u001b[0m \u001b[0mnot_in_vdb\u001b[0m\u001b[0;34m\u001b[0m\u001b[0m\n\u001b[1;32m     55\u001b[0m \u001b[0;34m\u001b[0m\u001b[0m\n",
      "\u001b[0;32m<ipython-input-122-f6cbb41794ee>\u001b[0m in \u001b[0;36mformat_smith_upload\u001b[0;34m(smith_strain_list)\u001b[0m\n\u001b[1;32m     10\u001b[0m         \u001b[0;32melse\u001b[0m\u001b[0;34m:\u001b[0m\u001b[0;34m\u001b[0m\u001b[0m\n\u001b[1;32m     11\u001b[0m             \u001b[0mserotype\u001b[0m\u001b[0;34m,\u001b[0m \u001b[0mcountry\u001b[0m\u001b[0;34m,\u001b[0m \u001b[0mstrain\u001b[0m\u001b[0;34m,\u001b[0m \u001b[0myear\u001b[0m \u001b[0;34m=\u001b[0m \u001b[0mpull_sera_smithmetadata\u001b[0m\u001b[0;34m(\u001b[0m\u001b[0ms\u001b[0m\u001b[0;34m)\u001b[0m\u001b[0;34m\u001b[0m\u001b[0m\n\u001b[0;32m---> 12\u001b[0;31m         \u001b[0mrow\u001b[0m\u001b[0;34m[\u001b[0m\u001b[0;34m'Accession'\u001b[0m\u001b[0;34m]\u001b[0m \u001b[0;34m=\u001b[0m \u001b[0msmith_strain_acc\u001b[0m\u001b[0;34m[\u001b[0m\u001b[0ms\u001b[0m\u001b[0;34m]\u001b[0m\u001b[0;34m\u001b[0m\u001b[0m\n\u001b[0m\u001b[1;32m     13\u001b[0m         \u001b[0mrow\u001b[0m\u001b[0;34m[\u001b[0m\u001b[0;34m'Name'\u001b[0m\u001b[0;34m]\u001b[0m \u001b[0;34m=\u001b[0m \u001b[0mfix_smith_strain\u001b[0m\u001b[0;34m(\u001b[0m\u001b[0ms\u001b[0m\u001b[0;34m)\u001b[0m\u001b[0;34m\u001b[0m\u001b[0m\n\u001b[1;32m     14\u001b[0m         \u001b[0mrow\u001b[0m\u001b[0;34m[\u001b[0m\u001b[0;34m'Start'\u001b[0m\u001b[0;34m]\u001b[0m \u001b[0;34m=\u001b[0m \u001b[0;36m935\u001b[0m\u001b[0;34m\u001b[0m\u001b[0m\n",
      "\u001b[0;31mKeyError\u001b[0m: 'DEN1_Nauru_1974_NIHvaccine'"
     ]
    }
   ],
   "source": [
    "def convert_smithsera_smithvirus_strain(strain):\n",
    "    serotype, country, strain, year = pull_sera_smithmetadata(strain)\n",
    "    return serotype+'/'+country+'/'+year+strain\n",
    "\n",
    "def convert_smith_vdb_sera_strains(smith_strains):\n",
    "    smith_vdb_strains = {}\n",
    "    not_in_vdb = []\n",
    "    not_in_key = []\n",
    "    \n",
    "    for smith_strain in smith_strains:\n",
    "        fixed_smith_strain = fix_smith_strain(smith_strain, type='sera')\n",
    "        \n",
    "        if smith_strain in smith_vdb_virus_strains: # seen smith strain before?\n",
    "            smith_vdb_strains[smith_strain] = smith_vdb_virus_strains[smith_strain]\n",
    "            \n",
    "        elif fixed_smith_strain in smith_vdb_virus_strains: # seen malformatted version of name, made same vdb name before?\n",
    "            smith_vdb_strains[smith_strain] = fixed_smith_strain\n",
    "            \n",
    "        elif smith_strain in smith_strain_acc: # do we have an accession number?\n",
    "            try:\n",
    "                smith_vdb_strains[smith_strain] = vdb_acc_strains[smith_strain_acc[smith_strain]] # is the acc in vdb?\n",
    "            except:\n",
    "                not_in_vdb.append(smith_strain)\n",
    "                smith_vdb_strains[smith_strain] = fix_smith_strain(smith_strain)\n",
    "                \n",
    "        elif smith_strain.replace('-', '').replace('_', '') in vdb_acc_strains: # do we almost have an accession number?\n",
    "            try:\n",
    "                smith_vdb_strains[smith_strain] = vdb_acc_strains[smith_strain_acc[smith_strain.replace('_', '').replace('_', '')]] # is the acc in vdb?\n",
    "                smith_strain_acc[smith_strain] = smith_strain_acc[smith_strain.replace('_', '').replace('_', '')]\n",
    "            except:\n",
    "                not_in_vdb.append(smith_strain)\n",
    "                smith_vdb_strains[smith_strain] = fix_smith_strain(smith_strain)\n",
    "        elif convert_smithsera_smithvirus_strain(smith_strain) in smith_strain_acc: # do we have an acc for the OTHER formatting found in this document?\n",
    "            try:\n",
    "                smith_vdb_strains[smith_strain] = vdb_acc_strains[smith_strain_acc[convert_smithsera_smithvirus_strain(smith_strain)]] # is the acc in vdb?\n",
    "                smith_strain_acc[smith_strain] = smith_strain_acc[convert_smithsera_smithvirus_strain(smith_strain)]\n",
    "            except:\n",
    "                not_in_vdb.append(smith_strain)\n",
    "                smith_vdb_strains[smith_strain] = fix_smith_strain(smith_strain)\n",
    "        else:\n",
    "            not_in_key.append(smith_strain)\n",
    "\n",
    "    if not_in_key != []: \n",
    "        print '\\n\\nThese strain names did not match an accession number in the key:', sorted(not_in_key)\n",
    "        print '\\n\\nKey strain names:', sorted(smith_strain_acc.items())\n",
    "    return smith_vdb_strains, not_in_vdb\n",
    "\n",
    "smith_vdb_sera_strains, missing_vdb_seraviruses = convert_smith_vdb_virus_strains(agm_titers_df.columns.values)\n",
    "missing_vdb_viruses += missing_vdb_seraviruses\n",
    "print '\\n\\n\\n missing'\n",
    "print missing_vdb_viruses\n",
    "\n",
    "format_smith_upload(missing_vdb_viruses)\n",
    "print 'These viruses were not found in vdb.\\nTo upload, run `fauna$ python vdb/dengue_upload --fname smith_viruses.tsv --ftype tsv -v dengue -db vdb`\\n', not_in_vdb\n",
    "\n",
    "# agm_titers_df.rename(columns = virus_strains_smith_vdb, index = sera_strains_smith_vdb)\n",
    "# df --> line list\n",
    "\n",
    "\n",
    "######### NOTE FOR TOMORROW -- FIX YOUR SERA NAME : ACCESSION KEY ISSUE, it'll solve the rest ###############"
   ]
  },
  {
   "cell_type": "code",
   "execution_count": null,
   "metadata": {
    "collapsed": true
   },
   "outputs": [],
   "source": []
  }
 ],
 "metadata": {
  "kernelspec": {
   "display_name": "Python 2",
   "language": "python",
   "name": "python2"
  },
  "language_info": {
   "codemirror_mode": {
    "name": "ipython",
    "version": 2
   },
   "file_extension": ".py",
   "mimetype": "text/x-python",
   "name": "python",
   "nbconvert_exporter": "python",
   "pygments_lexer": "ipython2",
   "version": "2.7.10"
  }
 },
 "nbformat": 4,
 "nbformat_minor": 0
}
