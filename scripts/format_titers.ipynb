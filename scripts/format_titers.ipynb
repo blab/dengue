{
 "cells": [
  {
   "cell_type": "code",
   "execution_count": 77,
   "metadata": {
    "collapsed": false
   },
   "outputs": [
    {
     "data": {
      "text/plain": [
       "'\\nPurpose: Match Smith dataset strain names to vdb strain names. \\nSmith strains --> accessions --> vdb records (if already in db; otherwise write to tsv and upload to vdb)\\n'"
      ]
     },
     "execution_count": 77,
     "metadata": {},
     "output_type": "execute_result"
    }
   ],
   "source": [
    "import pandas as pd\n",
    "import numpy as np\n",
    "from Bio import SeqIO\n",
    "from collections import defaultdict\n",
    "\n",
    "'''\n",
    "Purpose: Match Smith dataset strain names to vdb strain names. \n",
    "Smith strains --> accessions --> vdb records (if already in db; otherwise write to tsv and upload to vdb)\n",
    "'''"
   ]
  },
  {
   "cell_type": "code",
   "execution_count": 78,
   "metadata": {
    "collapsed": false
   },
   "outputs": [],
   "source": [
    "agm_titers_df = pd.read_csv('/Users/Sidney/nextstrain/dengue/data/smith2015/agm_1month_titers.csv', index_col=0, comment='#')\n",
    "agm_titers_df.dropna(how='all', inplace=True)\n",
    "smith_key_df = pd.read_csv('/Users/Sidney/nextstrain/dengue/data/smith2015/Fig1A-key-for-tree-names-virus-names.txt', header=0, sep='\\t',index_col=0)\n",
    "\n",
    "# { accession: sequence object }\n",
    "smith_sequences = { smith_strain_acc[s.description] : s for s in SeqIO.parse('/Users/Sidney/nextstrain/dengue/data/smith2015/Fig1A-aligned-nucleotide-sequences.FASTA', 'fasta')}\n",
    "\n",
    "# { smith_strain: accession }\n",
    "smith_strain_acc = { s['fullname'] : s['genbank'] for i,s in smith_key_df.iterrows()}\n",
    "smith_strain_acc['DEN1_Cambodia_2003_GenBankGQ868619'] = 'GQ868619'\n",
    "smith_strain_acc['DEN1_Burma_2005_61117'] = 'KT452791'\n",
    "smith_strain_acc['DEN2_Vietnam_2003_DF_670']='KT452797'\n",
    "smith_strain_acc['DEN3_Burma_2008_80931'] = 'KT452792'\n",
    "smith_strain_acc['DEN1_Bolivia_2010_FSB_3363'] = 'KT382187'\n",
    "smith_strain_acc['DEN4_Burma_2008_81087'] = 'KT452793'\n",
    "smith_strain_acc['DENV2/VIETNAM/AC212/2003'] = 'KT452796'\n",
    "smith_strain_acc['DENV3/Fiji/1992-29472'] = 'L11422'\n",
    "smith_strain_acc['DEN3_Fiji_1992__']='L11422'\n",
    "smith_strain_acc['DEN2_Senegal_2003_Sendak_HD_0674']='EF105384'\n",
    "smith_strain_acc['DENV2/Tonga/1974-Tonga-74']='AY744147'\n",
    "smith_strain_acc['DENV3/Fiji/1992-29472'] = 'L11422'\n",
    "smith_strain_acc['DENV2/Senegal/1970/Sendak_H D_0674'] = smith_strain_acc['DENV2/Senegal/1970/Sendak_H']\n",
    "smith_strain_acc['DENV2/SENEGAL/SENDAKHD0674/1970'] = 'EF105384'\n",
    "smith_strain_acc['DENV2/Senegal/1970/Sendak_HD_0674'] = 'EF105384'\n",
    "smith_strain_acc['DENV2/SENEGAL/1970/SENDAKHD0674'] = 'EF105384'\n",
    "\n",
    "# { vdb_strain: acc }\n",
    "vdb_acc_strains = { s.description.split('|')[1] : s.description.split('|')[0].split('.')[0] for s in SeqIO.parse('/Users/Sidney/nextstrain/fauna/data/dengue.fasta', 'fasta')}\n",
    "\n",
    "# { acc: vdb_strain }\n",
    "found_acc_vdb = {}"
   ]
  },
  {
   "cell_type": "code",
   "execution_count": 79,
   "metadata": {
    "collapsed": true
   },
   "outputs": [],
   "source": [
    "def pull_virus_smithmetadata(strain):\n",
    "    serotype, country, yearstrain = strain.split('/', 2)\n",
    "    yearstrain = yearstrain.replace('/', '-')\n",
    "    year = yearstrain.split('-')[0]\n",
    "    strain = ''.join(yearstrain.split('-')[1:]).split(' ')[0]\n",
    "    return serotype, country, strain, year\n",
    "\n",
    "def pull_sera_smithmetadata(strain):\n",
    "    serotype, country, year, strain = strain.split('_', 3)\n",
    "    serotype = 'DENV'+serotype[-1]\n",
    "    return serotype, country, strain, year\n",
    "\n",
    "def fix_smith_strain(strain, type='virus'):\n",
    "    '''\n",
    "    Make new strain names like\n",
    "    DENV1234/country/ID/year\n",
    "    '''\n",
    "    \n",
    "    if type == 'virus':\n",
    "        sero, country, strain_id, year = pull_virus_smithmetadata(strain) # Pull metadata from pre-processed annotations\n",
    "    else:\n",
    "        sero, country, strain_id, year = pull_sera_smithmetadata(strain)\n",
    "    strain = '%s/%s/%s/%s'%(sero, country, strain_id, year)\n",
    "    strain = strain.replace('-', '').replace('_', '').upper().strip()\n",
    "    return strain"
   ]
  },
  {
   "cell_type": "code",
   "execution_count": 80,
   "metadata": {
    "collapsed": false
   },
   "outputs": [],
   "source": [
    "# Difficult to match from Smith virus strains -> Smith sera strains -> acc. \n",
    "# So, make everything into a canonical name first.\n",
    "\n",
    "for s in smith_strain_acc.keys():\n",
    "    try:\n",
    "        smith_strain_acc[fix_smith_strain(s)] = smith_strain_acc[s] \n",
    "    except:\n",
    "        smith_strain_acc[fix_smith_strain(s, type='sera')] = smith_strain_acc[s] \n",
    "        \n",
    "# for a,s in smith_sequences.items():    \n",
    "#     try:\n",
    "#         smith_sequences[fix_smith_strain[s.description]] = smith_sequences[s]\n",
    "#     except:\n",
    "#         smith_strain_acc[fix_smith_strain(s.description, type='sera')] = smith_strain_acc[s] "
   ]
  },
  {
   "cell_type": "code",
   "execution_count": 81,
   "metadata": {
    "collapsed": true
   },
   "outputs": [],
   "source": [
    "def convert_smith_vdb_strains(smith_strains, type='virus'):\n",
    "    smith_vdb_strains = {}\n",
    "    not_in_key = []\n",
    "    not_in_vdb = []\n",
    "    \n",
    "    def try_acc(attempt): \n",
    "        if attempt in smith_strain_acc: # Do we have an accession for this strain name?\n",
    "            return smith_strain_acc[attempt]\n",
    "        else:\n",
    "            return None\n",
    "        \n",
    "    def try_vdb(acc, smith, fixed): # Is the accession in vdb?\n",
    "        if acc in vdb_acc_strains:\n",
    "            smith_vdb_strains[smith] = vdb_acc_strains[acc]\n",
    "        else:\n",
    "            not_in_vdb.append(smith)\n",
    "            smith_vdb_strains[smith] = fixed\n",
    "\n",
    "    for smith_strain in smith_strains:\n",
    "        fixed_smith_strain = fix_smith_strain(smith_strain, type=type) # Try both the original and canonicalized name\n",
    "        \n",
    "        for name in [smith_strain, fixed_smith_strain]:\n",
    "            acc = try_acc(name) # Can we find an accession for this strain?\n",
    "            if acc:\n",
    "                if acc in found_acc_vdb:\n",
    "                    smith_vdb_strains[smith_strain] = found_acc_vdb[acc]\n",
    "                else:\n",
    "                    try_vdb(acc, smith_strain, fixed_smith_strain) # If we have an accession, is it in the vdb?\n",
    "                break\n",
    "            else:\n",
    "                continue\n",
    "    \n",
    "        if smith_strain not in smith_vdb_strains: # didn't find it in the key? keep track and raise warning.\n",
    "            not_in_key.append((smith_strain, fixed_smith_strain))\n",
    "    \n",
    "    if not_in_key != [] and type == 'virus':\n",
    "        print 'These %s strain names not found in key:\\n'%type, sorted(not_in_key)\n",
    "    return smith_vdb_strains, not_in_key, not_in_vdb\n",
    "\n",
    "def match_virus_sera(smith_vdb_virus_strains, smith_vdb_sera_strains, sera_not_in_key):\n",
    "    serocountryyear_strain = defaultdict(list) # { concatenated serotypeCountryYear: [list of all strains with this combo]}\n",
    "    \n",
    "    for s in smith_vdb_virus_strains.values():\n",
    "        fields = s.split('/')\n",
    "        serocountryyear = fields[0]+fields[1]+fields[3]\n",
    "        serocountryyear = serocountryyear.strip()\n",
    "        serocountryyear_strain[serocountryyear].append(s)\n",
    "    serocountryyear_strain = dict(serocountryyear_strain) # disable default dict behavior\n",
    "    for k,v in serocountryyear_strain.items():\n",
    "        if len(v) == 1:\n",
    "            serocountryyear_strain[k] = v[0] # single strain meets criteria? great, no chance of mixups here.\n",
    "        else:\n",
    "            del serocountryyear_strain[k] # otherwise, don't use this as a proxy.\n",
    "    \n",
    "    for s in sera_not_in_key:\n",
    "        s, fixed_s = s\n",
    "        fields = fixed_s.split('/')\n",
    "        serocountryyear = fields[0]+fields[1]+fields[3]\n",
    "        serocountryyear = serocountryyear.strip()\n",
    "        try:\n",
    "            smith_vdb_sera_strains[s] = serocountryyear_strain[serocountryyear] # try to match to previous \n",
    "        except:\n",
    "            continue\n",
    "            \n",
    "    sera_not_in_key = [ s for s in sera_not_in_key if s[0] not in smith_vdb_sera_strains ] # remove the ones we found matches to\n",
    "    if sera_not_in_key != []:\n",
    "        print 'still no match for these sera strains:\\n', sorted(sera_not_in_key) # warn and output still unmatched strains\n",
    "        print '\\n\\nserocountryyear keys:\\n', sorted(serocountryyear_strain.keys())\n",
    "    return smith_vdb_sera_strains, sera_not_in_key"
   ]
  },
  {
   "cell_type": "code",
   "execution_count": 82,
   "metadata": {
    "collapsed": false
   },
   "outputs": [],
   "source": [
    "def format_smith_upload(acc_list):\n",
    "    '''\n",
    "    Given acc list, pull metadata from strain name and put into LANL format \n",
    "    to make uploading missing records to vdb easy. \n",
    "    Write this to tsv and print suggested upload command.\n",
    "    '''\n",
    "    missing_records = []\n",
    "    for a in acc_list:\n",
    "        row = {}\n",
    "        try:\n",
    "            s = found_acc_vdb[a]\n",
    "        except:\n",
    "            s = fix_smith_strain(smith_sequences[a].description)\n",
    "        \n",
    "        NA_fields = ['Species', 'Isolate Name', 'Georegion', 'Author', 'Sampling City', 'Pubmed ID']\n",
    "        for n in NA_fields:\n",
    "            row[n] = None\n",
    "            serotype, country, strain, year = s.split('/')\n",
    "        row['Accession'] = smith_strain_acc[s]\n",
    "        row['Name'] = strain\n",
    "        row['Start'] = 935\n",
    "        row['Stop'] = 2413\n",
    "        row['Segment'] = 'E'\n",
    "        row['Organism'] = 'dengue virus '+serotype[-1]\n",
    "        row['Country'] = country\n",
    "        row['Sampling Year'] = year\n",
    "        row['Species'] = 'dengue virus'\n",
    "        row['Sequence'] = str(smith_sequences[a].seq)\n",
    "        missing_records.append(row)\n",
    "    pd.DataFrame(missing_records).to_csv('smith_viruses.tsv', sep='\\t')\n"
   ]
  },
  {
   "cell_type": "code",
   "execution_count": 83,
   "metadata": {
    "collapsed": false
   },
   "outputs": [],
   "source": [
    "def table_to_tsv(titerdf, ofile_stem):\n",
    "    titer_file = open(ofile_stem+'_titers.tsv', 'w')\n",
    "    strain_file = open(ofile_stem+'_strains.tsv', 'w')\n",
    "    value_counts = defaultdict(int)\n",
    "    for virus, seraseries in titerdf.iterrows():\n",
    "        for sera, value in seraseries.iteritems():\n",
    "            if value != np.nan:\n",
    "                strain_file.write('\\t'.join([virus, sera, 'agm_'+sera, value])+'\\n')\n",
    "                value_counts[virus] += 1\n",
    "                \n",
    "    for virus in titerdf.index.values:\n",
    "        strain_file.write('\\t'.join([virus, str(value_counts[virus])])+'\\n')\n",
    "    \n",
    "    titer_file.close()\n",
    "    strain_file.close()"
   ]
  },
  {
   "cell_type": "code",
   "execution_count": 84,
   "metadata": {
    "collapsed": false
   },
   "outputs": [
    {
     "name": "stdout",
     "output_type": "stream",
     "text": [
      "These accessions were not found in vdb.\n",
      "To upload, run `fauna$ python vdb/dengue_upload --fname smith_viruses.tsv --ftype tsv -v dengue -db vdb`\n",
      "set(['KT452802', 'KT452803', 'KT452800', 'KT452801', 'L11422', 'KT452792', 'KT452793', 'KT452791', 'KT452796', 'KT452797', 'KT452794', 'KT452795', 'KT452798', 'KT452799', 'FJ538920', 'AY145121', 'JN022608', 'KT382189', 'KT382188', 'KT382187', 'KT382186', 'AY780643', 'KF543272', 'AY780644', 'AY158339'])\n",
      "\n",
      "\n",
      "Wrote all {strain name synonymns : accessions} to tsv: key1A_strain_synonymns.tsv\n"
     ]
    }
   ],
   "source": [
    "# Parse virus strain names\n",
    "smith_vdb_virus_strains, missing_key_viruses, missing_vdb_viruses = convert_smith_vdb_strains(agm_titers_df.index.values) \n",
    "acc_vdb_strains = { smith_strain_acc[smith_strain]:smith_vdb_virus_strains[smith_strain] \n",
    "                    for smith_strain in smith_vdb_virus_strains\n",
    "                          if smith_strain in smith_strain_acc }\n",
    "\n",
    "# Parse sera strain names\n",
    "smith_vdb_sera_strains, missing_key_sera, missing_vdb_sera = convert_smith_vdb_strains(agm_titers_df.columns.values, type='sera')\n",
    "# Try and match uncaptured sera names to parsed virus names\n",
    "smith_vdb_sera_strains, missing_key_sera = match_virus_sera(smith_vdb_virus_strains, smith_vdb_sera_strains, missing_key_sera)\n",
    "# Rename dataset with standardardized strain names (that match vdb)\n",
    "agm_titers_df.rename(index = smith_vdb_virus_strains, columns = smith_vdb_sera_strains, inplace=True)\n",
    "\n",
    "# Accessions not in vdb (found in either viruses or sera)\n",
    "not_in_vdb = set([smith_strain_acc[fix_smith_strain(v)] for v in missing_vdb_viruses] + [smith_strain_acc[fix_smith_strain(s, type='sera')] for s in missing_vdb_sera])\n",
    "\n",
    "print 'These accessions were not found in vdb.\\nTo upload, run `fauna$ python vdb/dengue_upload --fname smith_viruses.tsv --ftype tsv -v dengue -db vdb`\\n', not_in_vdb\n",
    "format_smith_upload(not_in_vdb)\n",
    "\n",
    "print '\\n\\nWrote all {strain name synonymns : accessions} to tsv: key1A_strain_synonymns.tsv'\n",
    "key_synonymns = open('key1A_strain_synonymns.tsv', 'w')\n",
    "key_synonymns.write('fullname\\tgenbank\\n')\n",
    "for s,a in sorted(smith_strain_acc.items(), key=lambda i: i[1]):\n",
    "    key_synonymns.write('%s\\t%s\\n'%(s,a))\n",
    "key_synonymns.close()\n",
    "\n",
    "\n",
    "table_to_tsv(agm_titers_df, 'agm_dengue')"
   ]
  },
  {
   "cell_type": "code",
   "execution_count": null,
   "metadata": {
    "collapsed": true
   },
   "outputs": [],
   "source": []
  }
 ],
 "metadata": {
  "kernelspec": {
   "display_name": "Python 2",
   "language": "python",
   "name": "python2"
  },
  "language_info": {
   "codemirror_mode": {
    "name": "ipython",
    "version": 2
   },
   "file_extension": ".py",
   "mimetype": "text/x-python",
   "name": "python",
   "nbconvert_exporter": "python",
   "pygments_lexer": "ipython2",
   "version": "2.7.10"
  }
 },
 "nbformat": 4,
 "nbformat_minor": 0
}
