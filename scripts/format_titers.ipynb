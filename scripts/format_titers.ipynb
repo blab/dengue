{
 "cells": [
  {
   "cell_type": "code",
   "execution_count": 1,
   "metadata": {
    "collapsed": false
   },
   "outputs": [
    {
     "data": {
      "text/plain": [
       "'\\nPurpose: Match Smith dataset strain names to vdb strain names. \\nSmith strains --> accessions --> vdb records (if already in db; otherwise write to tsv and upload to vdb)\\n'"
      ]
     },
     "execution_count": 1,
     "metadata": {},
     "output_type": "execute_result"
    }
   ],
   "source": [
    "import pandas as pd\n",
    "import numpy as np\n",
    "from Bio import SeqIO\n",
    "from collections import defaultdict\n",
    "\n",
    "'''\n",
    "Purpose: Match Smith dataset strain names to vdb strain names. \n",
    "Smith strains --> accessions --> vdb records (if already in db; otherwise write to tsv and upload to vdb)\n",
    "'''"
   ]
  },
  {
   "cell_type": "code",
   "execution_count": 2,
   "metadata": {
    "collapsed": false
   },
   "outputs": [],
   "source": [
    "agm_titers_df = pd.read_csv('/Users/Sidney/nextstrain/dengue/data/smith2015/agm_1month_titers.csv', index_col=0, comment='#')\n",
    "agm_titers_df.dropna(how='all', inplace=True)\n",
    "smith_key_df = pd.read_csv('/Users/Sidney/nextstrain/dengue/data/smith2015/Fig1A-key-for-tree-names-virus-names.txt', header=0, sep='\\t',index_col=0)\n",
    "smith_strain_acc = { s['fullname'] : s['genbank'] for i,s in smith_key_df.iterrows()}\n",
    "smith_strain_acc['DEN1_Cambodia_2003_GenBankGQ868619'] = 'GQ868619'\n",
    "smith_strain_acc['DEN1_Burma_2005_61117'] = 'KT452791'\n",
    "smith_strain_acc['DEN2_Vietnam_2003_DF_670']='KT452797'\n",
    "smith_strain_acc['DEN3_Burma_2008_80931'] = 'KT452792'\n",
    "smith_strain_acc['DEN1_Bolivia_2010_FSB_3363'] = 'KT382187'\n",
    "smith_strain_acc['DEN4_Burma_2008_81087'] = 'KT452793'\n",
    "smith_strain_acc['DENV2/VIETNAM/AC212/2003'] = 'KT452796'\n",
    "smith_strain_acc['DENV3/Fiji/1992-29472'] = 'L11422'\n",
    "smith_strain_acc['DEN3_Fiji_1992__']='L11422'\n",
    "smith_strain_acc['DEN2_Senegal_2003_Sendak_HD_0674']='EF105384'\n",
    "smith_strain_acc['DENV2/Tonga/1974-Tonga-74']='AY744147'\n",
    "smith_strain_acc['DENV3/Fiji/1992-29472'] = 'L11422'\n",
    "smith_strain_acc['DENV2/Senegal/1970/Sendak_H D_0674'] = smith_strain_acc['DENV2/Senegal/1970/Sendak_H']\n",
    "\n",
    "smith_sequences = { s.description : s for s in SeqIO.parse('/Users/Sidney/nextstrain/dengue/data/smith2015/Fig1A-aligned-nucleotide-sequences.FASTA', 'fasta')}\n",
    "vdb_acc_strains = { s.description.split('|')[1] : s.description.split('|')[0].split('.')[0] for s in SeqIO.parse('/Users/Sidney/nextstrain/fauna/data/dengue.fasta', 'fasta')}"
   ]
  },
  {
   "cell_type": "code",
   "execution_count": 3,
   "metadata": {
    "collapsed": true
   },
   "outputs": [],
   "source": [
    "def pull_virus_smithmetadata(strain):\n",
    "    serotype, country, yearstrain = strain.split('/', 2)\n",
    "    yearstrain = yearstrain.replace('/', '-')\n",
    "    year = yearstrain.split('-')[0]\n",
    "    strain = ''.join(yearstrain.split('-')[1:]).split(' ')[0]\n",
    "    return serotype, country, strain, year\n",
    "\n",
    "def pull_sera_smithmetadata(strain):\n",
    "    serotype, country, year, strain = strain.split('_', 3)\n",
    "    serotype = 'DENV'+serotype[-1]\n",
    "    return serotype, country, strain, year\n",
    "\n",
    "def fix_smith_strain(strain, type='virus'):\n",
    "    '''\n",
    "    Make new strain names like\n",
    "    DENV1234/country/ID/year\n",
    "    '''\n",
    "    \n",
    "    if type == 'virus':\n",
    "        sero, country, strain_id, year = pull_virus_smithmetadata(strain) # Pull metadata from pre-processed annotations\n",
    "    else:\n",
    "        sero, country, strain_id, year = pull_sera_smithmetadata(strain)\n",
    "    strain = '%s/%s/%s/%s'%(sero, country, strain_id, year)\n",
    "    strain = strain.replace('-', '').replace('_', '').upper().strip()\n",
    "    return strain"
   ]
  },
  {
   "cell_type": "code",
   "execution_count": 4,
   "metadata": {
    "collapsed": false
   },
   "outputs": [],
   "source": [
    "# Difficult to match from Smith virus strains -> Smith sera strains -> acc. \n",
    "# So, make everything into a canonical name first.\n",
    "\n",
    "for s in smith_strain_acc.keys():\n",
    "    try:\n",
    "        smith_strain_acc[fix_smith_strain(s)] = smith_strain_acc[s] \n",
    "    except:\n",
    "        smith_strain_acc[fix_smith_strain(s, type='sera')] = smith_strain_acc[s] \n",
    "        \n",
    "for s in smith_sequences.keys():    \n",
    "    try:\n",
    "        smith_sequences[fix_smith_strain(s)] = smith_sequences[s]\n",
    "    except:\n",
    "        smith_strain_acc[fix_smith_strain(s, type='sera')] = smith_strain_acc[s] "
   ]
  },
  {
   "cell_type": "code",
   "execution_count": 23,
   "metadata": {
    "collapsed": true
   },
   "outputs": [],
   "source": [
    "def convert_smith_vdb_strains(smith_strains, type='virus'):\n",
    "    smith_vdb_strains = {}\n",
    "    not_in_key = []\n",
    "    not_in_vdb = []\n",
    "    \n",
    "    def try_acc(attempt): \n",
    "        if attempt in smith_strain_acc: # Do we have an accession for this strain name?\n",
    "            return smith_strain_acc[attempt]\n",
    "        else:\n",
    "            return None\n",
    "        \n",
    "    def try_vdb(acc, smith, fixed): # Is the accession in vdb?\n",
    "        if acc in vdb_acc_strains:\n",
    "            smith_vdb_strains[smith] = vdb_acc_strains[acc]\n",
    "        else:\n",
    "            not_in_vdb.append(smith)\n",
    "            smith_vdb_strains[smith] = fixed\n",
    "\n",
    "    for smith_strain in smith_strains:\n",
    "        fixed_smith_strain = fix_smith_strain(smith_strain, type=type) # Try both the original and canonicalized name\n",
    "        \n",
    "        for name in [smith_strain, fixed_smith_strain]:\n",
    "            acc = try_acc(name) # Can we find an accession for this strain?\n",
    "            if acc:\n",
    "                try_vdb(acc, smith_strain, fixed_smith_strain) # If we have an accession, is it in the vdb?\n",
    "                break\n",
    "            else:\n",
    "                continue\n",
    "    \n",
    "        if smith_strain not in smith_vdb_strains: # didn't find it in the key? keep track and raise warning.\n",
    "            not_in_key.append((smith_strain, fixed_smith_strain))\n",
    "    \n",
    "    if not_in_key != [] and type == 'virus':\n",
    "        print 'These %s strain names not found in key:\\n'%type, sorted(not_in_key)\n",
    "    return smith_vdb_strains, not_in_key, not_in_vdb\n",
    "\n",
    "def match_virus_sera(smith_vdb_virus_strains, smith_vdb_sera_strains, sera_not_in_key):\n",
    "    serocountryyear_strain = defaultdict(list) # { concatenated serotypeCountryYear: [list of all strains with this combo]}\n",
    "    \n",
    "    for s in smith_vdb_virus_strains.values():\n",
    "        fields = s.split('/')\n",
    "        serocountryyear = fields[0]+fields[1]+fields[3]\n",
    "        serocountryyear = serocountryyear.strip()\n",
    "        serocountryyear_strain[serocountryyear].append(s)\n",
    "    serocountryyear_strain = dict(serocountryyear_strain) # disable default dict behavior\n",
    "    for k,v in serocountryyear_strain.items():\n",
    "        if len(v) == 1:\n",
    "            serocountryyear_strain[k] = v[0] # single strain meets criteria? great, no chance of mixups here.\n",
    "        else:\n",
    "            del serocountryyear_strain[k] # otherwise, don't use this as a proxy.\n",
    "    \n",
    "    for s in sera_not_in_key:\n",
    "        s, fixed_s = s\n",
    "        fields = fixed_s.split('/')\n",
    "        serocountryyear = fields[0]+fields[1]+fields[3]\n",
    "        serocountryyear = serocountryyear.strip()\n",
    "        try:\n",
    "            smith_vdb_sera_strains[s] = serocountryyear_strain[serocountryyear] # try to match to previous \n",
    "        except:\n",
    "            continue\n",
    "            \n",
    "    sera_not_in_key = [ s for s in sera_not_in_key if s[0] not in smith_vdb_sera_strains ] # remove the ones we found matches to\n",
    "    if sera_not_in_key != []:\n",
    "        print 'still no match for these sera strains:\\n', sorted(sera_not_in_key) # warn and output still unmatched strains\n",
    "        print '\\n\\nserocountryyear keys:\\n', sorted(serocountryyear_strain.keys())\n",
    "    return smith_vdb_sera_strains, sera_not_in_key"
   ]
  },
  {
   "cell_type": "code",
   "execution_count": 24,
   "metadata": {
    "collapsed": true
   },
   "outputs": [],
   "source": [
    "def format_smith_upload(smith_strain_list):\n",
    "    missing_records = []\n",
    "    for s in smith_strain_list:\n",
    "        row = {}\n",
    "        NA_fields = ['Species', 'Isolate Name', 'Georegion', 'Author', 'Sampling City', 'Pubmed ID']\n",
    "        for n in NA_fields:\n",
    "            row[n] = None\n",
    "        if '/' in s:\n",
    "            serotype, country, strain, year = pull_virus_smithmetadata(s)\n",
    "        else:\n",
    "            serotype, country, strain, year = pull_sera_smithmetadata(s)\n",
    "        row['Accession'] = smith_strain_acc[s]\n",
    "        row['Name'] = fix_smith_strain(s)\n",
    "        row['Start'] = 935\n",
    "        row['Stop'] = 2413\n",
    "        row['Segment'] = 'E'\n",
    "        row['Organism'] = 'dengue virus '+serotype[-1]\n",
    "        row['Country'] = country\n",
    "        row['Sampling Year'] = year\n",
    "        row['Species'] = 'dengue virus'\n",
    "        try:\n",
    "            row['Sequence'] = str(smith_sequences[s].seq)\n",
    "        except:\n",
    "            print 'sequence not found for %s'%s\n",
    "            print sorted(smith_sequences.keys())\n",
    "        missing_records.append(row)\n",
    "#     pd.DataFrame(missing_vdb_viruses).to_csv('smith_viruses.tsv', sep='\\t')"
   ]
  },
  {
   "cell_type": "code",
   "execution_count": null,
   "metadata": {
    "collapsed": true
   },
   "outputs": [],
   "source": [
    "# Parse virus strain names\n",
    "smith_vdb_virus_strains, missing_key_viruses, missing_vdb_viruses = convert_smith_vdb_strains(agm_titers_df.index.values) \n",
    "\n",
    "# Parse sera strain names\n",
    "smith_vdb_sera_strains, missing_key_sera, missing_vdb_sera = convert_smith_vdb_strains(agm_titers_df.columns.values, type='sera')\n",
    "# Try and match uncaptured sera names to parsed virus names\n",
    "smith_vdb_sera_strains, missing_key_sera = match_virus_sera(smith_vdb_virus_strains, smith_vdb_sera_strains, missing_key_sera)\n",
    "\n",
    "# print 'These viruses were not found in vdb.\\nTo upload, run `fauna$ python vdb/dengue_upload --fname smith_viruses.tsv --ftype tsv -v dengue -db vdb`\\n', not_in_vdb\n",
    "# format_smith_upload(missing_vdb_viruses, missing_vdb_sera)"
   ]
  },
  {
   "cell_type": "code",
   "execution_count": 39,
   "metadata": {
    "collapsed": false
   },
   "outputs": [],
   "source": [
    "agm_titers_df.rename(index = smith_vdb_virus_strains, columns = smith_vdb_sera_strains, inplace=True)\n",
    "\n",
    "########## NOTE FOR TOMORROW: CHECK THAT THE CANONICAL NAMES FORMULATED FOR VIRUSES AND SERA ARE IDENTICAL \n",
    "# (just make a dictionary of acc --> vdb strain name. why didn't I do this before....?)\n",
    "# Also: deal with finding overlaps of not in vdb strains between sera and viruses via accession. \n",
    "\n",
    "# df --> line list"
   ]
  },
  {
   "cell_type": "code",
   "execution_count": null,
   "metadata": {
    "collapsed": false
   },
   "outputs": [],
   "source": []
  },
  {
   "cell_type": "code",
   "execution_count": null,
   "metadata": {
    "collapsed": true
   },
   "outputs": [],
   "source": []
  }
 ],
 "metadata": {
  "kernelspec": {
   "display_name": "Python 2",
   "language": "python",
   "name": "python2"
  },
  "language_info": {
   "codemirror_mode": {
    "name": "ipython",
    "version": 2
   },
   "file_extension": ".py",
   "mimetype": "text/x-python",
   "name": "python",
   "nbconvert_exporter": "python",
   "pygments_lexer": "ipython2",
   "version": "2.7.10"
  }
 },
 "nbformat": 4,
 "nbformat_minor": 0
}
