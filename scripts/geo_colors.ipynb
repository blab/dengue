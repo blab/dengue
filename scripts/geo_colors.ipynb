{
 "cells": [
  {
   "cell_type": "code",
   "execution_count": 14,
   "metadata": {
    "collapsed": false
   },
   "outputs": [],
   "source": [
    "from Bio import SeqIO\n",
    "import matplotlib.pyplot as plt\n",
    "from pylab import *\n",
    "import pandas as pd\n",
    "from collections import defaultdict\n",
    "%matplotlib inline\n",
    "import numpy as np"
   ]
  },
  {
   "cell_type": "code",
   "execution_count": 15,
   "metadata": {
    "collapsed": false
   },
   "outputs": [
    {
     "name": "stdout",
     "output_type": "stream",
     "text": [
      "set(['?', 'nauruisland'])\n"
     ]
    }
   ],
   "source": [
    "# Have lat-long coordinates for these locations\n",
    "known_locations = set(pd.read_csv('../source-data/geo_lat_long.tsv', sep='\\t')['location'].values)\n",
    "\n",
    "# Unique (region, country) pairs in the dengue data\n",
    "dengue_locations = set(\n",
    "                    tuple(s.description.split('|')[-4:-2]) \n",
    "                    for s in \n",
    "                    SeqIO.parse(open('../data/dengue.fasta', 'r'), 'fasta')\n",
    "                    )\n",
    "\n",
    "grouped_locations = defaultdict(set)\n",
    "for region, country in dengue_locations:\n",
    "    grouped_locations[region].add(country)\n",
    "\n",
    "dengue_countries = set( i[1] for i in dengue_locations )\n",
    "\n",
    "missing_coordinates = dengue_countries.difference(known_locations)\n",
    "print missing_coordinates"
   ]
  },
  {
   "cell_type": "code",
   "execution_count": 20,
   "metadata": {
    "collapsed": false
   },
   "outputs": [],
   "source": [
    "def preview_cmap(cmap):\n",
    "    gradient = np.linspace(0, 1, 256)\n",
    "    gradient = np.vstack((gradient, gradient))\n",
    "    fig, ax = plt.subplots()\n",
    "    ax.imshow(gradient, aspect='auto', cmap=cmap)\n",
    "    ax.set_axis_off()\n",
    "    plt.show()\n",
    "    \n",
    "def interpolate_colors(old_cmap, new_order):\n",
    "    old_colors = [ i[1] for i in old_cmap ]    # Old hex codes\n",
    "    \n",
    "    # Discrete RGB color map of the right length\n",
    "    new_cmap = matplotlib.colors.LinearSegmentedColormap.from_list('colors', old_colors, N=len(new_order)) \n",
    "    preview_cmap(new_cmap)\n",
    "    \n",
    "    new_cmap_hex = [ str(matplotlib.colors.rgb2hex(new_cmap(i)[:3])) # Convert the RGB to hex (leave off alpha)\n",
    "                    for i in range(new_cmap.N) ] \n",
    "    \n",
    "    return map(list, zip(new_order, new_cmap_hex)) # Zip hex codes with object order, make into a nested list"
   ]
  },
  {
   "cell_type": "code",
   "execution_count": 19,
   "metadata": {
    "collapsed": false
   },
   "outputs": [
    {
     "name": "stdout",
     "output_type": "stream",
     "text": [
      "set(['west_asia', 'africa', '?', 'south_asia'])\n"
     ]
    },
    {
     "data": {
      "image/png": "[encoded data removed]",
      "text/plain": [
       "<matplotlib.figure.Figure at 0x115274ad0>"
      ]
     },
     "metadata": {},
     "output_type": "display_data"
    },
    {
     "name": "stdout",
     "output_type": "stream",
     "text": [
      "[['southeast_asia', '#462eb9'], ['south_asia', '#4147c7'], ['japan_korea', '#4160cd'], ['china', '#4478cb'], ['west_asia', '#4b8dc2'], ['europe', '#559db2'], ['oceania', '#60a99e'], ['south_america', '#87ad7b'], ['north_america', '#e0a33b']]\n"
     ]
    }
   ],
   "source": [
    "zika_region_cmap = [\n",
    "    [\"southeast_asia\",     \"#462EB9\"],\n",
    "    [\"oceania\",            \"#3F4FCC\"],\n",
    "    [\"china\",              \"#4271CE\"],\n",
    "    [\"japan_korea\",        \"#4B8DC2\"],\n",
    "    [\"europe\",             \"#58A2AC\"],\n",
    "    [\"south_america\",      \"#69B091\"],\n",
    "    [\"north_america\",      \"#E0A33B\"]]\n",
    "\n",
    "missing_dengue_regions = set(grouped_locations.keys()).difference(set(i[0] for i in zika_region_cmap))\n",
    "print missing_dengue_regions\n",
    "\n",
    "dengue_regions = [\"southeast_asia\", \n",
    "                  'south_asia',\n",
    "                  \"japan_korea\", \n",
    "                  \"china\", \n",
    "                  'west_asia',\n",
    "                  \"europe\",\n",
    "                  \"oceania\", \n",
    "                  \"south_america\", \n",
    "                  \"north_america\"]\n",
    "\n",
    "print interpolate_colors(zika_region_cmap, dengue_regions)"
   ]
  },
  {
   "cell_type": "code",
   "execution_count": 21,
   "metadata": {
    "collapsed": true
   },
   "outputs": [],
   "source": [
    "# Old World: \"#462EB9\", \"#403DC5\", \"#3F4FCC\", \"#3F60D0\", \"#4271CE\", \"#4580CA\", \"#4B8DC2\", \"#5199B8\", \"#58A2AC\"\n",
    "zika_old_world = [\n",
    "    [\"thailand\",           \"#462EB9\"],\n",
    "    [\"singapore\",          \"#403DC5\"],\n",
    "    [\"french_polynesia\",   \"#3F4FCC\"],\n",
    "    [\"american_samoa\",\t   \"#3F60D0\"],\n",
    "    [\"tonga\",\t           \"#4271CE\"],\n",
    "    [\"china\",\t\t\t   \"#4580CA\"],\n",
    "    [\"japan\",\t\t\t   \"#4B8DC2\"],\n",
    "    [\"italy\",\t\t\t   \"#5199B8\"]]\n",
    "# South America: \"#60AA9F\", \"#69B091\", \"#73B584\", \"#7DB877\", \"#89BB6B\", \"#95BD60\", \"#A2BE57\", \"#AFBD4F\"\n",
    "zika_south_america = [\n",
    "    [\"brazil\",  \t\t   \"#60AA9F\"],\n",
    "    [\"ecuador\",  \t\t   \"#7DB877\"],\n",
    "    [\"colombia\",  \t\t   \"#89BB6B\"],\n",
    "    [\"french_guiana\",  \t   \"#95BD60\"],\n",
    "    [\"suriname\",  \t\t   \"#A2BE57\"],\n",
    "    [\"venezuela\",  \t\t   \"#AFBD4F\"]]\n",
    "\n",
    "# Central and North America: \"#BBBC49\", \"#C6B944\", \"#D0B440\", \"#D9AD3D\", \"#E0A33B\", \"#E49838\", \"#E68835\", \"#E67732\", \"#E4632E\", \"#E04E2A\", \"#DE3926\"\n",
    "zika_central_north_america = [\n",
    "    [\"panama\",             \"#BBBC49\"],\n",
    "    [\"honduras\",           \"#C6B944\"],\n",
    "    [\"guatemala\",  \t\t   \"#D0B440\"],\n",
    "    [\"mexico\",             \"#D9AD3D\"],\n",
    "    [\"martinique\",  \t   \"#E0A33B\"],\n",
    "    [\"guadeloupe\",         \"#E49838\"],\n",
    "    [\"usvi\",               \"#E68835\"],\n",
    "    [\"puerto_rico\",  \t   \"#E67732\"],\n",
    "    [\"jamaica\",            \"#E4632E\"],\n",
    "    [\"dominican_republic\", \"#E4632E\"],\n",
    "    [\"haiti\",  \t\t\t   \"#E04E2A\"],\n",
    "    [\"usa\",                \"#DE3926\"]]"
   ]
  },
  {
   "cell_type": "code",
   "execution_count": 22,
   "metadata": {
    "collapsed": false
   },
   "outputs": [
    {
     "name": "stdout",
     "output_type": "stream",
     "text": [
      "['europe', 'oceania', 'south_america', 'africa', 'southeast_asia', 'china', 'south_asia', 'japan_korea', 'west_asia', 'north_america', '?']\n"
     ]
    }
   ],
   "source": [
    "print grouped_locations.keys()"
   ]
  },
  {
   "cell_type": "code",
   "execution_count": null,
   "metadata": {
    "collapsed": true
   },
   "outputs": [],
   "source": []
  }
 ],
 "metadata": {
  "kernelspec": {
   "display_name": "Python 2",
   "language": "python",
   "name": "python2"
  },
  "language_info": {
   "codemirror_mode": {
    "name": "ipython",
    "version": 2
   },
   "file_extension": ".py",
   "mimetype": "text/x-python",
   "name": "python",
   "nbconvert_exporter": "python",
   "pygments_lexer": "ipython2",
   "version": "2.7.10"
  }
 },
 "nbformat": 4,
 "nbformat_minor": 0
}
