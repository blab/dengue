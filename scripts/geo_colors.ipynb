{
 "cells": [
  {
   "cell_type": "code",
   "execution_count": 1,
   "metadata": {
    "collapsed": false
   },
   "outputs": [],
   "source": [
    "from Bio import SeqIO\n",
    "import matplotlib.pyplot as plt\n",
    "from pylab import *\n",
    "import pandas as pd\n",
    "from collections import defaultdict\n",
    "%matplotlib inline\n",
    "import numpy as np\n",
    "from pprint import pprint"
   ]
  },
  {
   "cell_type": "code",
   "execution_count": 9,
   "metadata": {
    "collapsed": false
   },
   "outputs": [
    {
     "name": "stdout",
     "output_type": "stream",
     "text": [
      "set(['?', 'nauruisland'])\n"
     ]
    }
   ],
   "source": [
    "# Have lat-long coordinates for these locations\n",
    "known_locations = set(pd.read_csv('/Users/Sidney/nextstrain/fauna/source-data/geo_lat_long.tsv', sep='\\t')['location'].values)\n",
    "\n",
    "# Unique (region, country) pairs in the dengue data\n",
    "dengue_locations = set(\n",
    "                    tuple(s.description.split('|')[-4:-2]) \n",
    "                    for s in \n",
    "                    SeqIO.parse(open('/Users/Sidney/nextstrain/fauna/data/dengue.fasta', 'r'), 'fasta')\n",
    "                    )\n",
    "\n",
    "grouped_locations = defaultdict(set)\n",
    "for region, country in dengue_locations:\n",
    "    grouped_locations[region].add(country)\n",
    "\n",
    "dengue_countries = set( i[1] for i in dengue_locations )\n",
    "\n",
    "missing_coordinates = dengue_countries.difference(known_locations)\n",
    "print missing_coordinates"
   ]
  },
  {
   "cell_type": "code",
   "execution_count": 21,
   "metadata": {
    "collapsed": false
   },
   "outputs": [],
   "source": [
    "def preview_cmap(cmap):\n",
    "    gradient = np.linspace(0, 1, 256)\n",
    "    gradient = np.vstack((gradient, gradient))\n",
    "    fig, ax = plt.subplots()\n",
    "    ax.imshow(gradient, aspect='auto', cmap=cmap)\n",
    "    ax.set_axis_off()\n",
    "    plt.show()\n",
    "    \n",
    "def interpolate_colors(old_cmap, new_order):\n",
    "    old_colors = [ i[1] for i in old_cmap ]    # Old hex codes\n",
    "    \n",
    "    # Discrete RGB color map of the right length\n",
    "    new_cmap = matplotlib.colors.LinearSegmentedColormap.from_list('colors', old_colors, N=len(new_order)) \n",
    "    preview_cmap(new_cmap)\n",
    "    \n",
    "    new_cmap_hex = [ str(matplotlib.colors.rgb2hex(new_cmap(i)[:3])) # Convert the RGB to hex (leave off alpha)\n",
    "                    for i in range(new_cmap.N) ] \n",
    "    \n",
    "    return map(list, zip(new_order, new_cmap_hex)) # Zip hex codes with object order, make into a nested list"
   ]
  },
  {
   "cell_type": "code",
   "execution_count": 22,
   "metadata": {
    "collapsed": false
   },
   "outputs": [
    {
     "name": "stdout",
     "output_type": "stream",
     "text": [
      "set(['?'])\n"
     ]
    }
   ],
   "source": [
    "flu_region_cmap = [\n",
    "    [\"africa\",          \"#5097BA\"],\n",
    "    [\"south_america\",   \"#60AA9E\"],\n",
    "    [\"west_asia\",       \"#75B681\"],\n",
    "    [\"oceania\",         \"#8EBC66\"],\n",
    "    [\"europe\",          \"#AABD52\"],\n",
    "    [\"japan_korea\",     \"#C4B945\"],\n",
    "    [\"north_america\",   \"#D9AD3D\"],\n",
    "    [\"southeast_asia\",  \"#E59637\"],\n",
    "    [\"south_asia\",      \"#E67030\"],\n",
    "    [\"china\",           \"#DF4327\"]\n",
    "];\n",
    "\n",
    "missing_dengue_regions = set(grouped_locations.keys()).difference(set(i[0] for i in flu_region_cmap))\n",
    "print missing_dengue_regions\n",
    "\n",
    "dengue_regions = [\"southeast_asia\", \n",
    "                  \"oceania\", \n",
    "                  'south_asia',\n",
    "                  \"japan_korea\", \n",
    "                  \"china\", \n",
    "                  'west_asia',\n",
    "                  \"europe\",\n",
    "                  \"south_america\", \n",
    "                  \"north_america\"]\n",
    "\n",
    "# print interpolate_colors(zika_region_cmap, dengue_regions)"
   ]
  },
  {
   "cell_type": "code",
   "execution_count": 23,
   "metadata": {
    "collapsed": false
   },
   "outputs": [
    {
     "name": "stdout",
     "output_type": "stream",
     "text": [
      "{'?': ['eritrea', '?', 'nauruisland'],\n",
      " 'africa': ['seychelles',\n",
      "            'angola',\n",
      "            'guinea',\n",
      "            'burkina_faso',\n",
      "            'djibouti',\n",
      "            'senegal',\n",
      "            'mozambique',\n",
      "            'nigeria',\n",
      "            'cote_d_ivoire',\n",
      "            'comoros'],\n",
      " 'china': ['taiwan'],\n",
      " 'europe': ['germany', 'spain', 'france'],\n",
      " 'japan_korea': ['south_korea'],\n",
      " 'north_america': ['belize',\n",
      "                   'cuba',\n",
      "                   'antigua_and_barbuda',\n",
      "                   'el_salvador',\n",
      "                   'saint_lucia',\n",
      "                   'saint_kitts',\n",
      "                   'dominica',\n",
      "                   'grenada',\n",
      "                   'anguilla',\n",
      "                   'nicaragua',\n",
      "                   'barbados'],\n",
      " 'oceania': ['new_caledonia',\n",
      "             'australia',\n",
      "             'guam',\n",
      "             'micronesia',\n",
      "             'cook_islands',\n",
      "             'wallis_and_futuna',\n",
      "             'papua_new_guinea',\n",
      "             'nauru',\n",
      "             'fiji'],\n",
      " 'south_america': ['chile',\n",
      "                   'trinidad_and_tobago',\n",
      "                   'peru',\n",
      "                   'guyana',\n",
      "                   'paraguay',\n",
      "                   'argentina',\n",
      "                   'bolivia'],\n",
      " 'south_asia': ['sri_lanka', 'india', 'bangladesh'],\n",
      " 'southeast_asia': ['brunei',\n",
      "                    'east_timor',\n",
      "                    'myanmar',\n",
      "                    'philippines',\n",
      "                    'indonesia',\n",
      "                    'cambodia',\n",
      "                    'malaysia',\n",
      "                    'vietnam'],\n",
      " 'west_asia': ['pakistan', 'saudi_arabia']}\n"
     ]
    }
   ],
   "source": [
    "# Old World: \"#462EB9\", \"#403DC5\", \"#3F4FCC\", \"#3F60D0\", \"#4271CE\", \"#4580CA\", \"#4B8DC2\", \"#5199B8\", \"#58A2AC\"\n",
    "zika_old_world = [\n",
    "    [\"thailand\",           \"#462EB9\"],\n",
    "    [\"singapore\",          \"#403DC5\"],\n",
    "    [\"french_polynesia\",   \"#3F4FCC\"],\n",
    "    [\"american_samoa\",\t   \"#3F60D0\"],\n",
    "    [\"tonga\",\t           \"#4271CE\"],\n",
    "    [\"china\",\t\t\t   \"#4580CA\"],\n",
    "    [\"japan\",\t\t\t   \"#4B8DC2\"],\n",
    "    [\"italy\",\t\t\t   \"#5199B8\"]]\n",
    "# South America: \"#60AA9F\", \"#69B091\", \"#73B584\", \"#7DB877\", \"#89BB6B\", \"#95BD60\", \"#A2BE57\", \"#AFBD4F\"\n",
    "zika_south_america = [\n",
    "    [\"brazil\",  \t\t   \"#60AA9F\"],\n",
    "    [\"ecuador\",  \t\t   \"#7DB877\"],\n",
    "    [\"colombia\",  \t\t   \"#89BB6B\"],\n",
    "    [\"french_guiana\",  \t   \"#95BD60\"],\n",
    "    [\"suriname\",  \t\t   \"#A2BE57\"],\n",
    "    [\"venezuela\",  \t\t   \"#AFBD4F\"]]\n",
    "\n",
    "# Central and North America: \"#BBBC49\", \"#C6B944\", \"#D0B440\", \"#D9AD3D\", \"#E0A33B\", \"#E49838\", \"#E68835\", \"#E67732\", \"#E4632E\", \"#E04E2A\", \"#DE3926\"\n",
    "zika_central_north_america = [\n",
    "    [\"panama\",             \"#BBBC49\"],\n",
    "    [\"honduras\",           \"#C6B944\"],\n",
    "    [\"guatemala\",  \t\t   \"#D0B440\"],\n",
    "    [\"mexico\",             \"#D9AD3D\"],\n",
    "    [\"martinique\",  \t   \"#E0A33B\"],\n",
    "    [\"guadeloupe\",         \"#E49838\"],\n",
    "    [\"usvi\",               \"#E68835\"],\n",
    "    [\"puerto_rico\",  \t   \"#E67732\"],\n",
    "    [\"jamaica\",            \"#E4632E\"],\n",
    "    [\"dominican_republic\", \"#E4632E\"],\n",
    "    [\"haiti\",  \t\t\t   \"#E04E2A\"],\n",
    "    [\"usa\",                \"#DE3926\"]]\n",
    "\n",
    "zika_countries = []\n",
    "for c in [zika_old_world, zika_south_america, zika_central_north_america]:\n",
    "    zika_countries += [ i[0] for i in c ]\n",
    "\n",
    "missing_dengue_countries = { region: [c for c in countries if c not in zika_countries ] \n",
    "                            for region, countries in grouped_locations.items() }\n",
    "pprint(missing_dengue_countries)"
   ]
  },
  {
   "cell_type": "raw",
   "metadata": {
    "collapsed": true
   },
   "source": []
  }
 ],
 "metadata": {
  "kernelspec": {
   "display_name": "Python 2",
   "language": "python",
   "name": "python2"
  },
  "language_info": {
   "codemirror_mode": {
    "name": "ipython",
    "version": 2
   },
   "file_extension": ".py",
   "mimetype": "text/x-python",
   "name": "python",
   "nbconvert_exporter": "python",
   "pygments_lexer": "ipython2",
   "version": "2.7.10"
  }
 },
 "nbformat": 4,
 "nbformat_minor": 0
}
